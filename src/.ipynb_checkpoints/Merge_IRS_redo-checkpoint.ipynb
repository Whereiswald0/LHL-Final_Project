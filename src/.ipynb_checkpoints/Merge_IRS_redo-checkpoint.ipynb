{
 "cells": [
  {
   "cell_type": "code",
   "execution_count": null,
   "id": "deb4dcb5-165e-49c4-a435-2f22f56ed32e",
   "metadata": {
    "tags": []
   },
   "outputs": [],
   "source": [
    "import numpy as np\n",
    "import pandas as pd\n",
    "from modules import *\n",
    "import os"
   ]
  },
  {
   "cell_type": "code",
   "execution_count": null,
   "id": "cc828d0b-e642-4fc9-8fcc-eee63313580b",
   "metadata": {},
   "outputs": [],
   "source": [
    "# Establish file paths for IRS data and the formatted vote totals for house races (See various State .py files)\n",
    "irs_folder_path = '../data/irs_data/'\n",
    "house_data_path = '../data/formatted_house_totals/'\n",
    "\n",
    "# Using the OS library, create lists of all files\n",
    "# There folders must be kept tidy, or incorrect data will be read\n",
    "irs_files = [file for file in os.listdir(irs_folder_path) if os.path.isfile(os.path.join(irs_folder_path, file))]\n",
    "house_data_files = [file for file in os.listdir(house_data_path) if os.path.isfile(os.path.join(house_data_path, file))]"
   ]
  },
  {
   "cell_type": "code",
   "execution_count": null,
   "id": "325864d8-7a8e-4c55-bb7b-a27da11740d6",
   "metadata": {},
   "outputs": [
    {
     "name": "stdout",
     "output_type": "stream",
     "text": [
      "Processing and merging IRS and Election data per year\n",
      "data written to '../data/house_fec_irs_joined/'\n"
     ]
    }
   ],
   "source": [
    "# This block formats and merges the state election data with the IRS data from that election year\n",
    "# In the current analysis, these files are not used, but this code block is retained as future analysis may make use of this to track corresponding changes in vote-totals and tax information\n",
    "# With larger datasets this may become computationally expensive (since the same process is run below with differently-formatted IRS data)\n",
    "# In this case, the block below should be commented out\n",
    "\n",
    "print(\"Processing and merging IRS and Election data per year\")\n",
    "for i in house_data_files:\n",
    "    state = i[0:2] #first two letters of the filename, corresponding to the state abbv.\n",
    "    year = i[5:7] #two digit year \n",
    "    \n",
    "    # Import house file\n",
    "    house = pd.read_csv(f'{house_data_path}{i}')\n",
    "    \n",
    "    # Import IRS file corresponding to the year obtained from the filename of the house file\n",
    "    # See 'IRS_Processing' .py file for how these are created\n",
    "    irs = pd.read_csv(f'{irs_folder_path}irs_count_20{year}_f.csv')\n",
    "    \n",
    "    # Get IRS data only for the relevant state (this is done to ensure that states with identicle county names do not have their data mixed)\n",
    "    irs_state = irs.loc[irs['STATE']==state]\n",
    "    irs_county = irs_state['COUNTYNAME'].tolist()\n",
    "    irs_county = [i for i in remove_keyword(irs_county,'county')] # format to match the House data\n",
    "    \n",
    "    #These two counties are misnamed in the IRS data\n",
    "    irs_misnamed = {'de witt':'dewitt','jo daviess':'jodaviess'}\n",
    "    # This '.get's (haha) the correct county names\n",
    "    cor_counties = [irs_misnamed.get(item, item) for item in irs_county]\n",
    "    \n",
    "    irs_copy = irs_state.copy() #avoid setting a value on a copy of a slice\n",
    "    irs_copy['COUNTYNAME'] = cor_counties\n",
    "\n",
    "    irs_merge = house.merge(irs_copy, left_on='County', right_on='COUNTYNAME')\n",
    "    \n",
    "    # Drop columns for no-longer useful data,\n",
    "    # In this case we don't need county names twice\n",
    "    irs_export = irs_merge.drop('COUNTYNAME',axis=1)\n",
    "    #Folder to store these new dataframes in\n",
    "    new_folder_path = '../data/house_fec_irs_joined/'\n",
    "    \n",
    "    # Create the directory if it doesn't exist\n",
    "    os.makedirs(new_folder_path, exist_ok=True)\n",
    "    \n",
    "    # Save the DataFrames as CSV files\n",
    "    csv_filename_f = f'{i[:-4]}_irs.csv'\n",
    "    irs_export.to_csv(os.path.join(new_folder_path, csv_filename_f), index=False) #the 'final' formatted files, with election and IRS data combined\n",
    "    \n",
    "print(\"data written to '../data/house_fec_irs_joined/'\")"
   ]
  },
  {
   "cell_type": "code",
   "execution_count": null,
   "id": "08494263-9e1e-4a0a-b854-9d424e6adc58",
   "metadata": {
    "tags": []
   },
   "outputs": [
    {
     "name": "stdout",
     "output_type": "stream",
     "text": [
      "Processing IRS data, calculating differnce from inter-election year, merging delta-IRS data and Election data\n",
      "data written to '../data/house_fec_irs_joined/'\n"
     ]
    }
   ],
   "source": [
    "# This block formats and merges the state election data with the IRS data from that election year LESS the IRS data from the previous year\n",
    "print(\"Processing IRS data, calculating differnce from inter-election year, merging delta-IRS data and Election data\")\n",
    "for i in house_data_files:\n",
    "    state = i[0:2] #first two letters of the filename, corresponding to the state abbv.\n",
    "    year = i[-6:-4] #two digit year \n",
    "    \n",
    "    # Import house file\n",
    "    house = pd.read_csv(f'{house_data_path}{i}')\n",
    "    \n",
    "    # Import IRS file corresponding to the year obtained from the filename of the house file\n",
    "    irs = pd.read_csv(f'{irs_folder_path}irs_count_20{year}_f_d.csv')\n",
    "    \n",
    "    # Get IRS data only for the relevant state (this is done to ensure that states with identicle county names do not have their data mixed)\n",
    "    irs_state = irs.loc[irs['STATE']==state]\n",
    "    irs_county = irs_state['COUNTYNAME'].tolist()\n",
    "    irs_county = [i for i in remove_keyword(irs_county,'county')] # format to match the House data\n",
    "\n",
    "        \n",
    "    #These two counties are misnamed in the IRS data\n",
    "    irs_misnamed = {'de witt':'dewitt','jo daviess':'jodaviess'}\n",
    "    cor_counties = [irs_misnamed.get(item, item) for item in irs_county]\n",
    "    \n",
    "    irs_copy = irs_state.copy() #avoid setting a value on a copy of a slice\n",
    "    irs_copy['COUNTYNAME'] = cor_counties\n",
    "\n",
    "    irs_merge = house.merge(irs_copy, left_on='County', right_on='COUNTYNAME')\n",
    "    \n",
    "    # Drop columns for no-longer useful data,\n",
    "    # In this case we don't need county names twice\n",
    "    irs_export = irs_merge.drop('COUNTYNAME', axis=1)\n",
    "    #Folder to store these new dataframes in\n",
    "    new_folder_path = '../data/house_fec_irs_joined/'\n",
    "    \n",
    "    # Create the directory if it doesn't exist\n",
    "    os.makedirs(new_folder_path, exist_ok=True)\n",
    "    \n",
    "    # Save the DataFrames as CSV files\n",
    "    csv_filename_f = f'{i[:-4]}_irs_d.csv'\n",
    "    irs_export.to_csv(os.path.join(new_folder_path, csv_filename_f), index=False) #the 'final' formatted files, with election and IRS data combined\n",
    "    \n",
    "print(\"data written to '../data/house_fec_irs_joined/'\")"
   ]
  },
  {
   "cell_type": "code",
   "execution_count": null,
   "id": "361078a3-ea84-4b9d-a8c4-2dec67b284a7",
   "metadata": {},
   "outputs": [],
   "source": []
  },
  {
   "cell_type": "code",
   "execution_count": null,
   "id": "52049d0f-5bc8-4882-85c7-4343b7280ce8",
   "metadata": {},
   "outputs": [],
   "source": []
  },
  {
   "cell_type": "code",
   "execution_count": null,
   "id": "fd4e234e-49c3-48b2-b7bf-aa8979f54c80",
   "metadata": {},
   "outputs": [],
   "source": []
  },
  {
   "cell_type": "code",
   "execution_count": null,
   "id": "3910f7cf-05d9-4785-ad63-794503b7940d",
   "metadata": {},
   "outputs": [],
   "source": []
  },
  {
   "cell_type": "code",
   "execution_count": null,
   "id": "4655c07d-8145-4569-a6af-4cc4c7a24226",
   "metadata": {},
   "outputs": [],
   "source": []
  },
  {
   "cell_type": "code",
   "execution_count": null,
   "id": "b5042b45-c1e9-4d65-8f9b-d4a113322e70",
   "metadata": {},
   "outputs": [],
   "source": []
  },
  {
   "cell_type": "code",
   "execution_count": null,
   "id": "edd8d28b-ed4d-44f2-9afd-6630c837f7ea",
   "metadata": {},
   "outputs": [],
   "source": []
  },
  {
   "cell_type": "code",
   "execution_count": null,
   "id": "ba902fd9-785a-481c-9f84-9a6d4fa88b52",
   "metadata": {},
   "outputs": [],
   "source": []
  }
 ],
 "metadata": {
  "kernelspec": {
   "display_name": "Python 3 (ipykernel)",
   "language": "python",
   "name": "python3"
  },
  "language_info": {
   "codemirror_mode": {
    "name": "ipython",
    "version": 3
   },
   "file_extension": ".py",
   "mimetype": "text/x-python",
   "name": "python",
   "nbconvert_exporter": "python",
   "pygments_lexer": "ipython3",
   "version": "3.11.5"
  }
 },
 "nbformat": 4,
 "nbformat_minor": 5
}
