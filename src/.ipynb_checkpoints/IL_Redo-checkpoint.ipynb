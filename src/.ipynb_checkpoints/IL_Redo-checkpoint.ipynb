{
 "cells": [
  {
   "cell_type": "code",
   "execution_count": 1,
   "id": "aa53a543-7b85-4c3c-8957-d4b95aa354fd",
   "metadata": {
    "tags": []
   },
   "outputs": [],
   "source": [
    "import numpy as np\n",
    "import pandas as pd\n",
    "from modules import *\n",
    "\n",
    "import os #Used when reading/writing csv files programatically"
   ]
  },
  {
   "cell_type": "code",
   "execution_count": 2,
   "id": "23dfbc89-ece6-445b-8875-2c7275c10107",
   "metadata": {
    "tags": []
   },
   "outputs": [],
   "source": [
    "fec_folder_path = '../data/FEC/'\n",
    "\n",
    "fec_files = [file for file in os.listdir(fec_folder_path) if os.path.isfile(os.path.join(fec_folder_path, file))]"
   ]
  },
  {
   "cell_type": "code",
   "execution_count": 3,
   "id": "db31aa4d-9320-4f25-a369-ef1cb8750bdd",
   "metadata": {
    "tags": []
   },
   "outputs": [],
   "source": [
    "# Empty list to hold FEC files\n",
    "FEC_files = []\n",
    "\n",
    "for i in fec_files: # Call item in the file list\n",
    "    \n",
    "    # Read each file from the FEC file list\n",
    "    file = pd.read_csv(fr'{fec_folder_path}{i}', index_col=0)\n",
    "    \n",
    "    \n",
    "    # Generate a name for each dataframe based on the filename without the file extension\n",
    "    name = f'{i}' \n",
    "    name = name[:-4] \n",
    "    \n",
    "    # Assign the dataframe to the variable name\n",
    "    globals()[name] = file # from the documentation: 'the globals() function is a built-in function that returns a dictionary representing the current global symbol table' only half understand this, but it works (#programming)\n",
    "    \n",
    "    # Append both to the empty list\n",
    "    FEC_files.append(file)"
   ]
  },
  {
   "cell_type": "code",
   "execution_count": 4,
   "id": "4b4e33e6-46aa-4359-9193-90d1244192ea",
   "metadata": {
    "tags": []
   },
   "outputs": [],
   "source": [
    "elec_folder_path = '../data/raw_elec_totals'\n",
    "\n",
    "IL_files = [file for file in os.listdir(elec_folder_path) if os.path.isfile(os.path.join(elec_folder_path, file)) and file.startswith('IL')]"
   ]
  },
  {
   "cell_type": "code",
   "execution_count": 12,
   "id": "504dba05-c2ce-4650-a51f-2733aa14c5ad",
   "metadata": {
    "tags": []
   },
   "outputs": [],
   "source": [
    "# Create empty lists to hold dataframes and their names\n",
    "formatted_IL = []\n",
    "IL_names = []"
   ]
  },
  {
   "cell_type": "code",
   "execution_count": 13,
   "id": "4f9cf317-1a16-47a8-af3e-2b36e8093062",
   "metadata": {
    "tags": []
   },
   "outputs": [
    {
     "name": "stderr",
     "output_type": "stream",
     "text": [
      "C:\\Users\\joshu\\anaconda3\\Lib\\site-packages\\openpyxl\\worksheet\\header_footer.py:48: UserWarning: Cannot parse header or footer so it will be ignored\n",
      "  warn(\"\"\"Cannot parse header or footer so it will be ignored\"\"\")\n",
      "C:\\Users\\joshu\\anaconda3\\Lib\\site-packages\\openpyxl\\worksheet\\header_footer.py:48: UserWarning: Cannot parse header or footer so it will be ignored\n",
      "  warn(\"\"\"Cannot parse header or footer so it will be ignored\"\"\")\n",
      "C:\\Users\\joshu\\anaconda3\\Lib\\site-packages\\openpyxl\\worksheet\\header_footer.py:48: UserWarning: Cannot parse header or footer so it will be ignored\n",
      "  warn(\"\"\"Cannot parse header or footer so it will be ignored\"\"\")\n",
      "C:\\Users\\joshu\\anaconda3\\Lib\\site-packages\\openpyxl\\worksheet\\header_footer.py:48: UserWarning: Cannot parse header or footer so it will be ignored\n",
      "  warn(\"\"\"Cannot parse header or footer so it will be ignored\"\"\")\n"
     ]
    }
   ],
   "source": [
    "for i in IL_files: # Call item in the file list\n",
    "    file = pd.read_excel(f'{elec_folder_path}/{i}', sheet_name='TotalsByCounty')\n",
    "    \n",
    "    # Get only data for congressional races\n",
    "    file = file[file['OfficeName'].str.contains('congress', case=False, na=False)]\n",
    "    \n",
    "    \n",
    "    # Apply IL formatting function\n",
    "    formatted = format_il(file)\n",
    "\n",
    "    \n",
    "    \n",
    "    # Generate a name for each dataframe based on the filename without the file extension\n",
    "    name = f'{i}' \n",
    "    name = name[:-5]+'_f' \n",
    "    \n",
    "    # Assign the dataframe to the variable name\n",
    "    globals()[name] = formatted # from the documentation: 'the globals() function is a built-in function that returns a dictionary representing the current global symbol table' only half understand this, but it works (#programming)\n",
    "    \n",
    "    # Append both to the empty list creating a list of names and corresponding dataframes\n",
    "    formatted_IL.append(formatted)\n",
    "    IL_names.append(name)\n"
   ]
  },
  {
   "cell_type": "code",
   "execution_count": 14,
   "id": "0f7aea57-ff3e-4de7-933e-223b8a0abe53",
   "metadata": {
    "tags": []
   },
   "outputs": [],
   "source": [
    "# Create zipped list of formatted State Election data, FEC list of candidates and parties, and the filenames found in raw_elec data\n",
    "zipped_IL_FEC = zip(formatted_IL, FEC_files, IL_names)"
   ]
  },
  {
   "cell_type": "code",
   "execution_count": 16,
   "id": "cc27ac66-ddbc-4fbd-b434-79c6dd894d87",
   "metadata": {
    "tags": []
   },
   "outputs": [],
   "source": [
    "# Further process and transform election data, grouping vote totals by party and incumbancy\n",
    "# Allows analysis on these two metrics\n",
    "for i, j, k in zipped_IL_FEC:\n",
    "    \n",
    "    # Joins FEC and State data for each year, produces list of counties as well\n",
    "    # If an error is generated here, there is likely a mismatch between the counties in these files\n",
    "    formatted_IL_FEC, counties = state_join_FEC(i,j)\n",
    "    transformed_data = state_trans(formatted_IL_FEC, counties)\n",
    "    \n",
    "    # Writes the transformed data to a .csv file whose name references the original filename\n",
    "    transformed_data.to_csv(fr\"../data/formatted_house_totals/{k[:7]}.csv\", index=False)\n",
    "    \n",
    "\n"
   ]
  },
  {
   "cell_type": "code",
   "execution_count": 18,
   "id": "e8a2ad58-6b13-4f85-a902-9a5ca018a632",
   "metadata": {
    "tags": []
   },
   "outputs": [
    {
     "ename": "TypeError",
     "evalue": "'zip' object is not subscriptable",
     "output_type": "error",
     "traceback": [
      "\u001b[1;31m---------------------------------------------------------------------------\u001b[0m",
      "\u001b[1;31mTypeError\u001b[0m                                 Traceback (most recent call last)",
      "Cell \u001b[1;32mIn[18], line 1\u001b[0m\n\u001b[1;32m----> 1\u001b[0m zipped_IL_FEC[\u001b[38;5;241m0\u001b[39m]\n",
      "\u001b[1;31mTypeError\u001b[0m: 'zip' object is not subscriptable"
     ]
    }
   ],
   "source": [
    "zipped_IL_FEC[0]"
   ]
  },
  {
   "cell_type": "code",
   "execution_count": 19,
   "id": "0b46c0ef-6309-405a-be1a-c5e81ec5a189",
   "metadata": {
    "tags": []
   },
   "outputs": [
    {
     "data": {
      "text/plain": [
       "[]"
      ]
     },
     "execution_count": 19,
     "metadata": {},
     "output_type": "execute_result"
    }
   ],
   "source": [
    "FEC_files"
   ]
  }
 ],
 "metadata": {
  "kernelspec": {
   "display_name": "Python 3 (ipykernel)",
   "language": "python",
   "name": "python3"
  },
  "language_info": {
   "codemirror_mode": {
    "name": "ipython",
    "version": 3
   },
   "file_extension": ".py",
   "mimetype": "text/x-python",
   "name": "python",
   "nbconvert_exporter": "python",
   "pygments_lexer": "ipython3",
   "version": "3.11.5"
  }
 },
 "nbformat": 4,
 "nbformat_minor": 5
}
