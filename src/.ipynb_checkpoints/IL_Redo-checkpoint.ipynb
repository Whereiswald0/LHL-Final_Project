{
 "cells": [
  {
   "cell_type": "code",
   "execution_count": 1,
   "id": "54f17f9d-2a57-44ec-bc09-1cc6bbf0a785",
   "metadata": {
    "tags": []
   },
   "outputs": [],
   "source": [
    "import numpy as np\n",
    "import pandas as pd\n",
    "from modules import *"
   ]
  },
  {
   "cell_type": "code",
   "execution_count": 2,
   "id": "4ea8c1d7-4ea3-4a7b-999c-74d3ec6556b3",
   "metadata": {
    "tags": []
   },
   "outputs": [],
   "source": [
    "import os #Used when reading/writing csv files programatically"
   ]
  },
  {
   "cell_type": "code",
   "execution_count": 3,
   "id": "8ec69811-aa21-4c1d-999d-851eeb229b63",
   "metadata": {
    "tags": []
   },
   "outputs": [],
   "source": [
    "fed_folder_path = '../data/FEC/'\n",
    "\n",
    "fec_files = [file for file in os.listdir(fed_folder_path) if os.path.isfile(os.path.join(fed_folder_path, file))]"
   ]
  },
  {
   "cell_type": "code",
   "execution_count": 4,
   "id": "9ebdc25e-8847-4a2a-b5ee-40198f05a0c1",
   "metadata": {
    "tags": []
   },
   "outputs": [],
   "source": [
    "\n",
    "# Empty list to hold FEC files\n",
    "FEC_files = []\n",
    "\n",
    "for i in fec_files: # Call item in the file list\n",
    "    \n",
    "    # Read each file from the FEC file list\n",
    "    file = pd.read_csv(fr'{fed_folder_path}{i}', index_col=0)\n",
    "    \n",
    "    \n",
    "    # Generate a name for each dataframe based on the filename without the file extension\n",
    "    name = f'{i}' \n",
    "    name = name[:-4] \n",
    "    \n",
    "    # Assign the dataframe to the variable name\n",
    "    globals()[name] = file # from the documentation: 'the globals() function is a built-in function that returns a dictionary representing the current global symbol table' only half understand this, but it works (#programming)\n",
    "    \n",
    "    # Append both to the empty list\n",
    "    FEC_files.append(file)\n",
    "    "
   ]
  },
  {
   "cell_type": "code",
   "execution_count": 5,
   "id": "870447b1-6e10-44ab-94d1-f29c257d4dd1",
   "metadata": {
    "tags": []
   },
   "outputs": [],
   "source": [
    "elec_folder_path = '../data/raw_elec_totals'\n",
    "\n",
    "IL_files = [file for file in os.listdir(elec_folder_path) if os.path.isfile(os.path.join(elec_folder_path, file)) and file.startswith('IL')]"
   ]
  },
  {
   "cell_type": "code",
   "execution_count": null,
   "id": "c249c8f8-ed49-4843-810c-a0e574a53fb7",
   "metadata": {},
   "outputs": [],
   "source": [
    "pd.read_excel(il_2014_path, sheet_name='TotalsByCounty')"
   ]
  },
  {
   "cell_type": "code",
   "execution_count": null,
   "id": "71a9a8e4-3567-4106-bd7b-40d3659ab9da",
   "metadata": {},
   "outputs": [],
   "source": [
    "for i in IL_files: # Call item in the file list\n",
    "    file = pd.read_excel(f'{elec_folder_path}/{i}', sheet_name='TotalsByCounty')\n",
    "    \n",
    "    # Get only data for congressional races\n",
    "    file = file[file['OfficeName'].str.contains('congress', case=False, na=False)]\n",
    "    \n",
    "    \n",
    "    # Apply IL formatting function\n",
    "    formatted = format_il(file)\n",
    "    \n",
    "    # Lambda function to apply the Ohio formatting function\n",
    "    formated = format_OH(file)\n",
    "    \n",
    "    # Generate a name for each dataframe based on the filename without the file extension\n",
    "    name = f'{i}' \n",
    "    name = name[:-5]+'_f' \n",
    "    \n",
    "    # Assign the dataframe to the variable name\n",
    "    globals()[name] = formated # from the documentation: 'the globals() function is a built-in function that returns a dictionary representing the current global symbol table' only half understand this, but it works (#programming)\n",
    "    \n",
    "    # Append both to the empty list creating a list of names and corresponding dataframes\n",
    "    formatted_OH.append(formated)\n",
    "    OH_names.append(name)"
   ]
  }
 ],
 "metadata": {
  "kernelspec": {
   "display_name": "Python 3 (ipykernel)",
   "language": "python",
   "name": "python3"
  },
  "language_info": {
   "codemirror_mode": {
    "name": "ipython",
    "version": 3
   },
   "file_extension": ".py",
   "mimetype": "text/x-python",
   "name": "python",
   "nbconvert_exporter": "python",
   "pygments_lexer": "ipython3",
   "version": "3.11.5"
  }
 },
 "nbformat": 4,
 "nbformat_minor": 5
}
