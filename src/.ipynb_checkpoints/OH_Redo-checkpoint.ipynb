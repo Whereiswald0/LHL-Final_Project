{
 "cells": [
  {
   "cell_type": "code",
   "execution_count": null,
   "id": "7ded8474-0d25-4781-815e-894cc574a071",
   "metadata": {
    "tags": []
   },
   "outputs": [],
   "source": [
    "import numpy as np\n",
    "import pandas as pd\n",
    "from modules import *"
   ]
  },
  {
   "cell_type": "code",
   "execution_count": null,
   "id": "87e313cf-c316-4b47-8322-de117f85cca0",
   "metadata": {
    "tags": []
   },
   "outputs": [],
   "source": [
    "import os #Used when reading/writing csv files programatically"
   ]
  },
  {
   "cell_type": "code",
   "execution_count": null,
   "id": "4b2a9269-4189-4042-b9e4-b131cc4f1282",
   "metadata": {
    "tags": []
   },
   "outputs": [],
   "source": [
    "fed_folder_path = '../data/FEC/'\n",
    "\n",
    "fec_files = [file for file in os.listdir(fed_folder_path) if os.path.isfile(os.path.join(fed_folder_path, file))]"
   ]
  },
  {
   "cell_type": "code",
   "execution_count": null,
   "id": "2d154bf6-d04a-43d3-9487-db85abd59a00",
   "metadata": {
    "tags": []
   },
   "outputs": [],
   "source": [
    "\n",
    "# Empty list to hold FEC files\n",
    "FEC_files = []\n",
    "\n",
    "for i in fec_files: # Call item in the file list\n",
    "    \n",
    "    # Read each file from the FEC file list\n",
    "    file = pd.read_csv(fr'{fed_folder_path}{i}', index_col=0)\n",
    "    \n",
    "    \n",
    "    # Generate a name for each dataframe based on the filename without the file extension\n",
    "    name = f'{i}' \n",
    "    name = name[:-4] \n",
    "    \n",
    "    # Assign the dataframe to the variable name\n",
    "    globals()[name] = file # from the documentation: 'the globals() function is a built-in function that returns a dictionary representing the current global symbol table' only half understand this, but it works (#programming)\n",
    "    \n",
    "    # Append both to the empty list\n",
    "    FEC_files.append(file)\n",
    "    "
   ]
  },
  {
   "cell_type": "code",
   "execution_count": null,
   "id": "e9d17171-881c-4194-9341-05428f7ea3f3",
   "metadata": {
    "tags": []
   },
   "outputs": [],
   "source": [
    "elec_folder_path = '../data/raw_elec_totals'\n",
    "\n",
    "OH_files = [file for file in os.listdir(elec_folder_path) if os.path.isfile(os.path.join(elec_folder_path, file)) and file.startswith('OH')]"
   ]
  },
  {
   "cell_type": "code",
   "execution_count": null,
   "id": "2175d78b-1370-4407-8c47-44fff2068f78",
   "metadata": {
    "tags": []
   },
   "outputs": [],
   "source": [
    "#create empty list to hold OH formatted dataframes\n",
    "formatted_OH = [] \n",
    "OH_names = []"
   ]
  },
  {
   "cell_type": "code",
   "execution_count": null,
   "id": "e932968f-7b0c-4546-9a94-c079c39a10f2",
   "metadata": {},
   "outputs": [],
   "source": [
    "for i in OH_files: # Call item in the file list\n",
    "    file = pd.read_excel(f'{elec_folder_path}/{i}', sheet_name='U.S. Congress', header=1) #minor pre-processing was required due to inconsistencies in OH SoS formatting\n",
    "    \n",
    "    # Apply the Ohio formatting function\n",
    "    formated = format_OH(file)\n",
    "    \n",
    "    # Generate a name for each dataframe based on the filename without the file extension\n",
    "    name = f'{i}' \n",
    "    name = name[:-6]+'_f' \n",
    "    \n",
    "    # Assign the dataframe to the variable name\n",
    "    globals()[name] = formated # from the documentation: 'the globals() function is a built-in function that returns a dictionary representing the current global symbol table' only half understand this, but it works (#programming)\n",
    "    \n",
    "    # Append both to the empty list creating a list of names and corresponding dataframes\n",
    "    formatted_OH.append(formated)\n",
    "    OH_names.append(name)"
   ]
  },
  {
   "cell_type": "code",
   "execution_count": null,
   "id": "79396768-a60b-40fb-8364-622b4416b8ef",
   "metadata": {},
   "outputs": [],
   "source": [
    "# Create zipped list of formatted State Election data, FEC list of candidates and parties, and the filenames found in raw_elec data\n",
    "zipped_OH_FEC = zip(formatted_OH, FEC_files, OH_names)"
   ]
  },
  {
   "cell_type": "code",
   "execution_count": null,
   "id": "106e423a-e9dc-429c-a3e4-3f36540c52c5",
   "metadata": {},
   "outputs": [],
   "source": [
    "# Further process and transform election data, grouping vote totals by party and incumbancy\n",
    "# Allows analysis on these two metrics\n",
    "for i, j, k in zipped_OH_FEC:\n",
    "    \n",
    "    # Joins FEC and State data for each year, produces list of counties as well\n",
    "    # If an error is generated here, there is likely a mismatch between the counties in these files\n",
    "    formatted_OH_FEC, counties = state_join_FEC(i,j)\n",
    "    transformed_data = state_trans(formatted_OH_FEC, counties)\n",
    "    \n",
    "    # Writes the transformed data to a .csv file whose name references the original filename\n",
    "    transformed_data.to_csv(fr\"../data/formatted_house_totals/{k[:7]}.csv\", index=False)\n",
    "    "
   ]
  },
  {
   "cell_type": "code",
   "execution_count": null,
   "id": "b3477843-2229-4cdf-bda2-3f15f11c6783",
   "metadata": {
    "tags": []
   },
   "outputs": [],
   "source": [
    "# # Get Ohio data taken from OH SoS page\n",
    "# ohio_2012_path = '../data/raw_elec_totals/ohio 2012precinct.xlsx'\n",
    "# excel_2012 = pd.ExcelFile(ohio_2012_path)\n",
    "# sheet_names_2012 = excel_2012.sheet_names\n",
    "\n",
    "# ohio_2014_path = '../data/raw_elec_totals/ohio 2014precinct.xlsx'\n",
    "# excel_2014 = pd.ExcelFile(ohio_2014_path)\n",
    "# sheet_names_2014 = excel_2014.sheet_names\n",
    "\n",
    "# ohio_2016_path = '../data/raw_elec_totals/ohio 2016precinct.xlsx'\n",
    "# excel_2016 = pd.ExcelFile(ohio_2016_path)\n",
    "# sheet_names_2016 = excel_2016.sheet_names\n",
    "\n",
    "# ohio_2018_path = '../data/raw_elec_totals/ohio 2018precinct.xlsx'\n",
    "# excel_2018 = pd.ExcelFile(ohio_2018_path)\n",
    "# sheet_names_2018 = excel_2018.sheet_names\n",
    "\n",
    "# ohio_2020_path = '../data/raw_elec_totals/ohio 2020precinct.xlsx'\n",
    "# excel_2020 = pd.ExcelFile(ohio_2020_path)\n",
    "# sheet_names_2020 = excel_2020.sheet_names"
   ]
  },
  {
   "cell_type": "code",
   "execution_count": 6,
   "id": "c725a447-78ef-4461-aed7-aeedc7ae2ba9",
   "metadata": {
    "tags": []
   },
   "outputs": [],
   "source": [
    "sheet_names = ['cong_OH_'+ str(i) for i in range(2012,2021) if i%2 == 0] #this was SLIGHTLY less of a headache than writing out the individual names"
   ]
  },
  {
   "cell_type": "code",
   "execution_count": 7,
   "id": "6b1a7a73-6360-49f2-af94-a2e15214041a",
   "metadata": {
    "tags": []
   },
   "outputs": [
    {
     "name": "stdout",
     "output_type": "stream",
     "text": [
      "cong_OH_2012\n",
      "cong_OH_2014\n",
      "cong_OH_2016\n",
      "cong_OH_2018\n",
      "cong_OH_2020\n"
     ]
    }
   ],
   "source": [
    "for i in sheet_names:\n",
    "    print(i)"
   ]
  },
  {
   "cell_type": "code",
   "execution_count": 8,
   "id": "d9822e7a-70d6-48cd-8673-cd38fdfb3b75",
   "metadata": {
    "tags": []
   },
   "outputs": [
    {
     "data": {
      "text/plain": [
       "'cong_OH_2012'"
      ]
     },
     "execution_count": 8,
     "metadata": {},
     "output_type": "execute_result"
    }
   ],
   "source": [
    "sheet_names[0]"
   ]
  },
  {
   "cell_type": "code",
   "execution_count": 9,
   "id": "a1e4f1b8-0693-4dd4-a2d7-5258b7132be8",
   "metadata": {
    "tags": []
   },
   "outputs": [],
   "source": [
    "# #Will do pre-processing to aid in automating this\n",
    "\n",
    "# cong_OH_2012 = pd.read_excel(ohio_2012_path, sheet_name='U.S. Congress', header=1)\n",
    "# cong_OH_2014 = pd.read_excel(ohio_2014_path, sheet_name='U.S. Congress', header=1)\n",
    "# cong_OH_2016 = pd.read_excel(ohio_2016_path, sheet_name='U.S. Congress', header=1)\n",
    "# cong_OH_2018 = pd.read_excel(ohio_2018_path, sheet_name='U.S. Congress', header=1)\n",
    "# cong_OH_2020 = pd.read_excel(ohio_2020_path, sheet_name='U.S. Congress', header=1)"
   ]
  },
  {
   "cell_type": "code",
   "execution_count": 11,
   "id": "bfd1b82d-1570-4341-a90c-f5379245c39e",
   "metadata": {
    "tags": []
   },
   "outputs": [
    {
     "data": {
      "text/plain": [
       "['OH_2012precinct.xlsx',\n",
       " 'OH_2014precinct.xlsx',\n",
       " 'OH_2016precinct.xlsx',\n",
       " 'OH_2018precinct.xlsx',\n",
       " 'OH_2020precinct.xlsx']"
      ]
     },
     "execution_count": 11,
     "metadata": {},
     "output_type": "execute_result"
    }
   ],
   "source": [
    "OH_files"
   ]
  },
  {
   "cell_type": "code",
   "execution_count": null,
   "id": "c2c942a9-ce42-4602-b22f-8eae9b40cd95",
   "metadata": {
    "tags": []
   },
   "outputs": [],
   "source": [
    "# data1 = format_OH(data1)\n",
    "# data2 = format_OH(data2)\n",
    "# data3 = format_OH(data3)\n",
    "# data4 = format_OH(data4)\n",
    "# data5 = format_OH(data5)"
   ]
  },
  {
   "cell_type": "code",
   "execution_count": null,
   "id": "2963f1b2-28fe-4bbd-b30f-68112bac2683",
   "metadata": {
    "tags": []
   },
   "outputs": [],
   "source": [
    "# fec_2020 = pd.read_csv(r'data\\FEC\\candidates_2020.csv', index_col=0)\n",
    "# fec_2018 = pd.read_csv(r'data\\FEC\\candidates_2018.csv', index_col=0)\n",
    "# fec_2016 = pd.read_csv(r'data\\FEC\\candidates_2016.csv', index_col=0)\n",
    "# fec_2014 = pd.read_csv(r'data\\FEC\\candidates_2014.csv', index_col=0)\n",
    "# fec_2012 = pd.read_csv(r'data\\FEC\\candidates_2012.csv', index_col=0)"
   ]
  },
  {
   "cell_type": "code",
   "execution_count": null,
   "id": "7c56d5f2-8f66-4406-9e49-f12b493f543f",
   "metadata": {
    "tags": []
   },
   "outputs": [],
   "source": [
    "# OH_2012_f, county_2012 = OH_join_FEC2(data1, fec_2012)\n",
    "# OH_2014_f, county_2012 = OH_join_FEC2(data2, fec_2014)\n",
    "# OH_2016_f, county_2012 = OH_join_FEC2(data3, fec_2016)\n",
    "# OH_2018_f, county_2012 = OH_join_FEC2(data4, fec_2018)\n",
    "# OH_2020_f, county_2012 = OH_join_FEC2(data5, fec_2020)"
   ]
  },
  {
   "cell_type": "code",
   "execution_count": 22,
   "id": "00899a47-d115-4e8b-9685-9b508dca50ff",
   "metadata": {
    "tags": []
   },
   "outputs": [
    {
     "data": {
      "text/html": [
       "<div>\n",
       "<style scoped>\n",
       "    .dataframe tbody tr th:only-of-type {\n",
       "        vertical-align: middle;\n",
       "    }\n",
       "\n",
       "    .dataframe tbody tr th {\n",
       "        vertical-align: top;\n",
       "    }\n",
       "\n",
       "    .dataframe thead th {\n",
       "        text-align: right;\n",
       "    }\n",
       "</style>\n",
       "<table border=\"1\" class=\"dataframe\">\n",
       "  <thead>\n",
       "    <tr style=\"text-align: right;\">\n",
       "      <th></th>\n",
       "      <th>STATE ABBREVIATION</th>\n",
       "      <th>D</th>\n",
       "      <th>CANDIDATE NAME (First)</th>\n",
       "      <th>CANDIDATE NAME (Last)</th>\n",
       "      <th>CANDIDATE NAME(f)</th>\n",
       "      <th>CANDIDATE NAME</th>\n",
       "      <th>PARTY</th>\n",
       "      <th>(I)</th>\n",
       "      <th>GENERAL VOTES</th>\n",
       "    </tr>\n",
       "  </thead>\n",
       "  <tbody>\n",
       "    <tr>\n",
       "      <th>0</th>\n",
       "      <td>AL</td>\n",
       "      <td>01</td>\n",
       "      <td>Jo</td>\n",
       "      <td>Bonner</td>\n",
       "      <td>jo bonner</td>\n",
       "      <td>Bonner, Jo</td>\n",
       "      <td>R</td>\n",
       "      <td>1</td>\n",
       "      <td>196374</td>\n",
       "    </tr>\n",
       "    <tr>\n",
       "      <th>1</th>\n",
       "      <td>AL</td>\n",
       "      <td>02</td>\n",
       "      <td>Martha</td>\n",
       "      <td>Roby</td>\n",
       "      <td>martha roby</td>\n",
       "      <td>Roby, Martha</td>\n",
       "      <td>R</td>\n",
       "      <td>1</td>\n",
       "      <td>180591</td>\n",
       "    </tr>\n",
       "    <tr>\n",
       "      <th>2</th>\n",
       "      <td>AL</td>\n",
       "      <td>02</td>\n",
       "      <td>Therese</td>\n",
       "      <td>Ford</td>\n",
       "      <td>therese ford</td>\n",
       "      <td>Ford, Therese</td>\n",
       "      <td>D</td>\n",
       "      <td>0</td>\n",
       "      <td>103092</td>\n",
       "    </tr>\n",
       "    <tr>\n",
       "      <th>3</th>\n",
       "      <td>AL</td>\n",
       "      <td>03</td>\n",
       "      <td>Mike</td>\n",
       "      <td>Rogers</td>\n",
       "      <td>mike rogers</td>\n",
       "      <td>Rogers, Mike</td>\n",
       "      <td>R</td>\n",
       "      <td>1</td>\n",
       "      <td>175306</td>\n",
       "    </tr>\n",
       "    <tr>\n",
       "      <th>4</th>\n",
       "      <td>AL</td>\n",
       "      <td>03</td>\n",
       "      <td>John Andrew</td>\n",
       "      <td>Harris</td>\n",
       "      <td>john harris</td>\n",
       "      <td>Harris, John Andrew</td>\n",
       "      <td>D</td>\n",
       "      <td>0</td>\n",
       "      <td>98141</td>\n",
       "    </tr>\n",
       "    <tr>\n",
       "      <th>...</th>\n",
       "      <td>...</td>\n",
       "      <td>...</td>\n",
       "      <td>...</td>\n",
       "      <td>...</td>\n",
       "      <td>...</td>\n",
       "      <td>...</td>\n",
       "      <td>...</td>\n",
       "      <td>...</td>\n",
       "      <td>...</td>\n",
       "    </tr>\n",
       "    <tr>\n",
       "      <th>1532</th>\n",
       "      <td>WY</td>\n",
       "      <td>00</td>\n",
       "      <td>Daniel Clyde</td>\n",
       "      <td>Cummings</td>\n",
       "      <td>daniel cummings</td>\n",
       "      <td>Cummings, Daniel Clyde</td>\n",
       "      <td>OTHER</td>\n",
       "      <td>0</td>\n",
       "      <td>4963</td>\n",
       "    </tr>\n",
       "    <tr>\n",
       "      <th>1533</th>\n",
       "      <td>WY</td>\n",
       "      <td>00</td>\n",
       "      <td>Don</td>\n",
       "      <td>Wills</td>\n",
       "      <td>don wills</td>\n",
       "      <td>Wills, Don</td>\n",
       "      <td>OTHER</td>\n",
       "      <td>0</td>\n",
       "      <td>3775</td>\n",
       "    </tr>\n",
       "    <tr>\n",
       "      <th>1534</th>\n",
       "      <td>WY</td>\n",
       "      <td>S</td>\n",
       "      <td>John</td>\n",
       "      <td>Barrasso</td>\n",
       "      <td>john barrasso</td>\n",
       "      <td>Barrasso, John</td>\n",
       "      <td>R</td>\n",
       "      <td>1</td>\n",
       "      <td>185250</td>\n",
       "    </tr>\n",
       "    <tr>\n",
       "      <th>1535</th>\n",
       "      <td>WY</td>\n",
       "      <td>S</td>\n",
       "      <td>Tim</td>\n",
       "      <td>Chesnut</td>\n",
       "      <td>tim chesnut</td>\n",
       "      <td>Chesnut, Tim</td>\n",
       "      <td>D</td>\n",
       "      <td>0</td>\n",
       "      <td>53019</td>\n",
       "    </tr>\n",
       "    <tr>\n",
       "      <th>1536</th>\n",
       "      <td>WY</td>\n",
       "      <td>S</td>\n",
       "      <td>Joel</td>\n",
       "      <td>Otto</td>\n",
       "      <td>joel otto</td>\n",
       "      <td>Otto, Joel</td>\n",
       "      <td>OTHER</td>\n",
       "      <td>0</td>\n",
       "      <td>6176</td>\n",
       "    </tr>\n",
       "  </tbody>\n",
       "</table>\n",
       "<p>1537 rows × 9 columns</p>\n",
       "</div>"
      ],
      "text/plain": [
       "     STATE ABBREVIATION   D CANDIDATE NAME (First) CANDIDATE NAME (Last)  \\\n",
       "0                    AL  01                     Jo                Bonner   \n",
       "1                    AL  02                 Martha                  Roby   \n",
       "2                    AL  02                Therese                  Ford   \n",
       "3                    AL  03                   Mike                Rogers   \n",
       "4                    AL  03            John Andrew                Harris   \n",
       "...                 ...  ..                    ...                   ...   \n",
       "1532                 WY  00           Daniel Clyde              Cummings   \n",
       "1533                 WY  00                    Don                 Wills   \n",
       "1534                 WY   S                   John              Barrasso   \n",
       "1535                 WY   S                    Tim               Chesnut   \n",
       "1536                 WY   S                   Joel                  Otto   \n",
       "\n",
       "     CANDIDATE NAME(f)          CANDIDATE NAME  PARTY  (I) GENERAL VOTES   \n",
       "0            jo bonner              Bonner, Jo      R    1         196374  \n",
       "1          martha roby            Roby, Martha      R    1         180591  \n",
       "2         therese ford           Ford, Therese      D    0         103092  \n",
       "3          mike rogers            Rogers, Mike      R    1         175306  \n",
       "4          john harris     Harris, John Andrew      D    0          98141  \n",
       "...                ...                     ...    ...  ...            ...  \n",
       "1532   daniel cummings  Cummings, Daniel Clyde  OTHER    0           4963  \n",
       "1533         don wills              Wills, Don  OTHER    0           3775  \n",
       "1534     john barrasso          Barrasso, John      R    1         185250  \n",
       "1535       tim chesnut            Chesnut, Tim      D    0          53019  \n",
       "1536         joel otto              Otto, Joel  OTHER    0           6176  \n",
       "\n",
       "[1537 rows x 9 columns]"
      ]
     },
     "execution_count": 22,
     "metadata": {},
     "output_type": "execute_result"
    }
   ],
   "source": [
    "FEC_files[0]"
   ]
  },
  {
   "cell_type": "code",
   "execution_count": 26,
   "id": "f7aa8c5a-77e9-4b7c-8f2e-0fb931904b41",
   "metadata": {
    "tags": []
   },
   "outputs": [
    {
     "data": {
      "text/plain": [
       "['OH_2012precinct_f',\n",
       " 'OH_2014precinct_f',\n",
       " 'OH_2016precinct_f',\n",
       " 'OH_2018precinct_f',\n",
       " 'OH_2020precinct_f']"
      ]
     },
     "execution_count": 26,
     "metadata": {},
     "output_type": "execute_result"
    }
   ],
   "source": [
    "OH_names"
   ]
  },
  {
   "cell_type": "code",
   "execution_count": 21,
   "id": "fde1ef38-69d2-4619-b9d8-51df8cf3082e",
   "metadata": {
    "tags": []
   },
   "outputs": [
    {
     "data": {
      "text/html": [
       "<div>\n",
       "<style scoped>\n",
       "    .dataframe tbody tr th:only-of-type {\n",
       "        vertical-align: middle;\n",
       "    }\n",
       "\n",
       "    .dataframe tbody tr th {\n",
       "        vertical-align: top;\n",
       "    }\n",
       "\n",
       "    .dataframe thead th {\n",
       "        text-align: right;\n",
       "    }\n",
       "</style>\n",
       "<table border=\"1\" class=\"dataframe\">\n",
       "  <thead>\n",
       "    <tr style=\"text-align: right;\">\n",
       "      <th></th>\n",
       "      <th>County</th>\n",
       "      <th>Sherrod Brown</th>\n",
       "      <th>Josh Mandel</th>\n",
       "      <th>Jim Berns</th>\n",
       "      <th>Steve Chabot</th>\n",
       "      <th>Jeff Sinnard</th>\n",
       "      <th>Rich Stevenson</th>\n",
       "      <th>William Smith</th>\n",
       "      <th>Brad Wenstrup</th>\n",
       "      <th>Joyce Beatty</th>\n",
       "      <th>...</th>\n",
       "      <th>David Joyce</th>\n",
       "      <th>David Macko</th>\n",
       "      <th>Elaine Mastromatteo</th>\n",
       "      <th>Erick Robinson</th>\n",
       "      <th>Steven Winfield</th>\n",
       "      <th>Aaron Zurbrugg</th>\n",
       "      <th>Pat Lang</th>\n",
       "      <th>Steve Stivers</th>\n",
       "      <th>Jim Renacci</th>\n",
       "      <th>Betty Sutton</th>\n",
       "    </tr>\n",
       "  </thead>\n",
       "  <tbody>\n",
       "    <tr>\n",
       "      <th>0</th>\n",
       "      <td>Adams</td>\n",
       "      <td>3924.0</td>\n",
       "      <td>6410.0</td>\n",
       "      <td>0.0</td>\n",
       "      <td>0.0</td>\n",
       "      <td>0.0</td>\n",
       "      <td>0.0</td>\n",
       "      <td>3900.0</td>\n",
       "      <td>6598.0</td>\n",
       "      <td>0.0</td>\n",
       "      <td>...</td>\n",
       "      <td>0.0</td>\n",
       "      <td>0.0</td>\n",
       "      <td>0.0</td>\n",
       "      <td>0</td>\n",
       "      <td>0</td>\n",
       "      <td>0</td>\n",
       "      <td>0.0</td>\n",
       "      <td>0.0</td>\n",
       "      <td>0.0</td>\n",
       "      <td>0.0</td>\n",
       "    </tr>\n",
       "    <tr>\n",
       "      <th>1</th>\n",
       "      <td>Allen</td>\n",
       "      <td>17456.0</td>\n",
       "      <td>28817.0</td>\n",
       "      <td>0.0</td>\n",
       "      <td>0.0</td>\n",
       "      <td>0.0</td>\n",
       "      <td>0.0</td>\n",
       "      <td>0.0</td>\n",
       "      <td>0.0</td>\n",
       "      <td>0.0</td>\n",
       "      <td>...</td>\n",
       "      <td>0.0</td>\n",
       "      <td>0.0</td>\n",
       "      <td>0.0</td>\n",
       "      <td>0</td>\n",
       "      <td>0</td>\n",
       "      <td>0</td>\n",
       "      <td>0.0</td>\n",
       "      <td>0.0</td>\n",
       "      <td>0.0</td>\n",
       "      <td>0.0</td>\n",
       "    </tr>\n",
       "    <tr>\n",
       "      <th>2</th>\n",
       "      <td>Ashland</td>\n",
       "      <td>8006.0</td>\n",
       "      <td>14260.0</td>\n",
       "      <td>0.0</td>\n",
       "      <td>0.0</td>\n",
       "      <td>0.0</td>\n",
       "      <td>0.0</td>\n",
       "      <td>0.0</td>\n",
       "      <td>0.0</td>\n",
       "      <td>0.0</td>\n",
       "      <td>...</td>\n",
       "      <td>0.0</td>\n",
       "      <td>0.0</td>\n",
       "      <td>0.0</td>\n",
       "      <td>0</td>\n",
       "      <td>0</td>\n",
       "      <td>0</td>\n",
       "      <td>0.0</td>\n",
       "      <td>0.0</td>\n",
       "      <td>0.0</td>\n",
       "      <td>0.0</td>\n",
       "    </tr>\n",
       "    <tr>\n",
       "      <th>3</th>\n",
       "      <td>Ashtabula</td>\n",
       "      <td>21973.0</td>\n",
       "      <td>17780.0</td>\n",
       "      <td>0.0</td>\n",
       "      <td>0.0</td>\n",
       "      <td>0.0</td>\n",
       "      <td>0.0</td>\n",
       "      <td>0.0</td>\n",
       "      <td>0.0</td>\n",
       "      <td>0.0</td>\n",
       "      <td>...</td>\n",
       "      <td>17706.0</td>\n",
       "      <td>1781.0</td>\n",
       "      <td>1752.0</td>\n",
       "      <td>0</td>\n",
       "      <td>0</td>\n",
       "      <td>0</td>\n",
       "      <td>0.0</td>\n",
       "      <td>0.0</td>\n",
       "      <td>0.0</td>\n",
       "      <td>0.0</td>\n",
       "    </tr>\n",
       "    <tr>\n",
       "      <th>4</th>\n",
       "      <td>Athens</td>\n",
       "      <td>17662.0</td>\n",
       "      <td>8066.0</td>\n",
       "      <td>0.0</td>\n",
       "      <td>0.0</td>\n",
       "      <td>0.0</td>\n",
       "      <td>0.0</td>\n",
       "      <td>0.0</td>\n",
       "      <td>0.0</td>\n",
       "      <td>0.0</td>\n",
       "      <td>...</td>\n",
       "      <td>0.0</td>\n",
       "      <td>0.0</td>\n",
       "      <td>0.0</td>\n",
       "      <td>0</td>\n",
       "      <td>0</td>\n",
       "      <td>0</td>\n",
       "      <td>16900.0</td>\n",
       "      <td>7285.0</td>\n",
       "      <td>0.0</td>\n",
       "      <td>0.0</td>\n",
       "    </tr>\n",
       "    <tr>\n",
       "      <th>...</th>\n",
       "      <td>...</td>\n",
       "      <td>...</td>\n",
       "      <td>...</td>\n",
       "      <td>...</td>\n",
       "      <td>...</td>\n",
       "      <td>...</td>\n",
       "      <td>...</td>\n",
       "      <td>...</td>\n",
       "      <td>...</td>\n",
       "      <td>...</td>\n",
       "      <td>...</td>\n",
       "      <td>...</td>\n",
       "      <td>...</td>\n",
       "      <td>...</td>\n",
       "      <td>...</td>\n",
       "      <td>...</td>\n",
       "      <td>...</td>\n",
       "      <td>...</td>\n",
       "      <td>...</td>\n",
       "      <td>...</td>\n",
       "      <td>...</td>\n",
       "    </tr>\n",
       "    <tr>\n",
       "      <th>83</th>\n",
       "      <td>Washington</td>\n",
       "      <td>11464.0</td>\n",
       "      <td>15904.0</td>\n",
       "      <td>0.0</td>\n",
       "      <td>0.0</td>\n",
       "      <td>0.0</td>\n",
       "      <td>0.0</td>\n",
       "      <td>0.0</td>\n",
       "      <td>0.0</td>\n",
       "      <td>0.0</td>\n",
       "      <td>...</td>\n",
       "      <td>0.0</td>\n",
       "      <td>0.0</td>\n",
       "      <td>0.0</td>\n",
       "      <td>0</td>\n",
       "      <td>0</td>\n",
       "      <td>0</td>\n",
       "      <td>0.0</td>\n",
       "      <td>0.0</td>\n",
       "      <td>0.0</td>\n",
       "      <td>0.0</td>\n",
       "    </tr>\n",
       "    <tr>\n",
       "      <th>84</th>\n",
       "      <td>Wayne</td>\n",
       "      <td>19072.0</td>\n",
       "      <td>28138.0</td>\n",
       "      <td>0.0</td>\n",
       "      <td>0.0</td>\n",
       "      <td>0.0</td>\n",
       "      <td>0.0</td>\n",
       "      <td>0.0</td>\n",
       "      <td>0.0</td>\n",
       "      <td>0.0</td>\n",
       "      <td>...</td>\n",
       "      <td>0.0</td>\n",
       "      <td>0.0</td>\n",
       "      <td>0.0</td>\n",
       "      <td>0</td>\n",
       "      <td>0</td>\n",
       "      <td>0</td>\n",
       "      <td>0.0</td>\n",
       "      <td>0.0</td>\n",
       "      <td>29676.0</td>\n",
       "      <td>19881.0</td>\n",
       "    </tr>\n",
       "    <tr>\n",
       "      <th>85</th>\n",
       "      <td>Williams</td>\n",
       "      <td>6640.0</td>\n",
       "      <td>9294.0</td>\n",
       "      <td>0.0</td>\n",
       "      <td>0.0</td>\n",
       "      <td>0.0</td>\n",
       "      <td>0.0</td>\n",
       "      <td>0.0</td>\n",
       "      <td>0.0</td>\n",
       "      <td>0.0</td>\n",
       "      <td>...</td>\n",
       "      <td>0.0</td>\n",
       "      <td>0.0</td>\n",
       "      <td>0.0</td>\n",
       "      <td>0</td>\n",
       "      <td>0</td>\n",
       "      <td>0</td>\n",
       "      <td>0.0</td>\n",
       "      <td>0.0</td>\n",
       "      <td>0.0</td>\n",
       "      <td>0.0</td>\n",
       "    </tr>\n",
       "    <tr>\n",
       "      <th>86</th>\n",
       "      <td>Wood</td>\n",
       "      <td>31633.0</td>\n",
       "      <td>27905.0</td>\n",
       "      <td>0.0</td>\n",
       "      <td>0.0</td>\n",
       "      <td>0.0</td>\n",
       "      <td>0.0</td>\n",
       "      <td>0.0</td>\n",
       "      <td>0.0</td>\n",
       "      <td>0.0</td>\n",
       "      <td>...</td>\n",
       "      <td>0.0</td>\n",
       "      <td>0.0</td>\n",
       "      <td>0.0</td>\n",
       "      <td>0</td>\n",
       "      <td>0</td>\n",
       "      <td>0</td>\n",
       "      <td>0.0</td>\n",
       "      <td>0.0</td>\n",
       "      <td>0.0</td>\n",
       "      <td>0.0</td>\n",
       "    </tr>\n",
       "    <tr>\n",
       "      <th>87</th>\n",
       "      <td>Wyandot</td>\n",
       "      <td>3728.0</td>\n",
       "      <td>6074.0</td>\n",
       "      <td>0.0</td>\n",
       "      <td>0.0</td>\n",
       "      <td>0.0</td>\n",
       "      <td>0.0</td>\n",
       "      <td>0.0</td>\n",
       "      <td>0.0</td>\n",
       "      <td>0.0</td>\n",
       "      <td>...</td>\n",
       "      <td>0.0</td>\n",
       "      <td>0.0</td>\n",
       "      <td>0.0</td>\n",
       "      <td>0</td>\n",
       "      <td>0</td>\n",
       "      <td>0</td>\n",
       "      <td>0.0</td>\n",
       "      <td>0.0</td>\n",
       "      <td>0.0</td>\n",
       "      <td>0.0</td>\n",
       "    </tr>\n",
       "  </tbody>\n",
       "</table>\n",
       "<p>88 rows × 48 columns</p>\n",
       "</div>"
      ],
      "text/plain": [
       "        County  Sherrod Brown  Josh Mandel  Jim Berns  Steve Chabot  \\\n",
       "0        Adams         3924.0       6410.0        0.0           0.0   \n",
       "1        Allen        17456.0      28817.0        0.0           0.0   \n",
       "2      Ashland         8006.0      14260.0        0.0           0.0   \n",
       "3    Ashtabula        21973.0      17780.0        0.0           0.0   \n",
       "4       Athens        17662.0       8066.0        0.0           0.0   \n",
       "..         ...            ...          ...        ...           ...   \n",
       "83  Washington        11464.0      15904.0        0.0           0.0   \n",
       "84       Wayne        19072.0      28138.0        0.0           0.0   \n",
       "85    Williams         6640.0       9294.0        0.0           0.0   \n",
       "86        Wood        31633.0      27905.0        0.0           0.0   \n",
       "87     Wyandot         3728.0       6074.0        0.0           0.0   \n",
       "\n",
       "    Jeff Sinnard  Rich Stevenson  William Smith  Brad Wenstrup  Joyce Beatty  \\\n",
       "0            0.0             0.0         3900.0         6598.0           0.0   \n",
       "1            0.0             0.0            0.0            0.0           0.0   \n",
       "2            0.0             0.0            0.0            0.0           0.0   \n",
       "3            0.0             0.0            0.0            0.0           0.0   \n",
       "4            0.0             0.0            0.0            0.0           0.0   \n",
       "..           ...             ...            ...            ...           ...   \n",
       "83           0.0             0.0            0.0            0.0           0.0   \n",
       "84           0.0             0.0            0.0            0.0           0.0   \n",
       "85           0.0             0.0            0.0            0.0           0.0   \n",
       "86           0.0             0.0            0.0            0.0           0.0   \n",
       "87           0.0             0.0            0.0            0.0           0.0   \n",
       "\n",
       "    ...  David Joyce  David Macko  Elaine Mastromatteo  Erick Robinson  \\\n",
       "0   ...          0.0          0.0                  0.0               0   \n",
       "1   ...          0.0          0.0                  0.0               0   \n",
       "2   ...          0.0          0.0                  0.0               0   \n",
       "3   ...      17706.0       1781.0               1752.0               0   \n",
       "4   ...          0.0          0.0                  0.0               0   \n",
       "..  ...          ...          ...                  ...             ...   \n",
       "83  ...          0.0          0.0                  0.0               0   \n",
       "84  ...          0.0          0.0                  0.0               0   \n",
       "85  ...          0.0          0.0                  0.0               0   \n",
       "86  ...          0.0          0.0                  0.0               0   \n",
       "87  ...          0.0          0.0                  0.0               0   \n",
       "\n",
       "    Steven Winfield  Aaron Zurbrugg  Pat Lang  Steve Stivers  Jim Renacci  \\\n",
       "0                 0               0       0.0            0.0          0.0   \n",
       "1                 0               0       0.0            0.0          0.0   \n",
       "2                 0               0       0.0            0.0          0.0   \n",
       "3                 0               0       0.0            0.0          0.0   \n",
       "4                 0               0   16900.0         7285.0          0.0   \n",
       "..              ...             ...       ...            ...          ...   \n",
       "83                0               0       0.0            0.0          0.0   \n",
       "84                0               0       0.0            0.0      29676.0   \n",
       "85                0               0       0.0            0.0          0.0   \n",
       "86                0               0       0.0            0.0          0.0   \n",
       "87                0               0       0.0            0.0          0.0   \n",
       "\n",
       "    Betty Sutton  \n",
       "0            0.0  \n",
       "1            0.0  \n",
       "2            0.0  \n",
       "3            0.0  \n",
       "4            0.0  \n",
       "..           ...  \n",
       "83           0.0  \n",
       "84       19881.0  \n",
       "85           0.0  \n",
       "86           0.0  \n",
       "87           0.0  \n",
       "\n",
       "[88 rows x 48 columns]"
      ]
     },
     "execution_count": 21,
     "metadata": {},
     "output_type": "execute_result"
    }
   ],
   "source": [
    "formatted_OH[0]"
   ]
  },
  {
   "cell_type": "code",
   "execution_count": null,
   "id": "2d7cf75b-deda-4ab5-90e7-3daf68dfea6e",
   "metadata": {
    "tags": []
   },
   "outputs": [],
   "source": [
    "list(zipped_OH_FEC)[0][1]"
   ]
  },
  {
   "cell_type": "code",
   "execution_count": 18,
   "id": "04d54e6a-14d3-4083-ba91-65f39049813f",
   "metadata": {
    "tags": []
   },
   "outputs": [
    {
     "data": {
      "text/plain": [
       "'OH_2012p'"
      ]
     },
     "execution_count": 18,
     "metadata": {},
     "output_type": "execute_result"
    }
   ],
   "source": [
    "OH_names[0][:8]"
   ]
  },
  {
   "cell_type": "code",
   "execution_count": null,
   "id": "2ac52468-f43e-4123-9f25-356800d3beaa",
   "metadata": {
    "tags": []
   },
   "outputs": [],
   "source": [
    "OH_2012_f, county_2012 = state_join_FEC(data1, fec_2012)\n",
    "OH_2014_f, county_2012 = state_join_FEC(data2, fec_2014)\n",
    "OH_2016_f, county_2012 = state_join_FEC(data3, fec_2016)\n",
    "OH_2018_f, county_2012 = state_join_FEC(data4, fec_2018)\n",
    "OH_2020_f, county_2012 = state_join_FEC(data5, fec_2020)"
   ]
  },
  {
   "cell_type": "code",
   "execution_count": null,
   "id": "961ebb5b-2580-480e-b6dc-712b485b1aec",
   "metadata": {
    "tags": []
   },
   "outputs": [],
   "source": [
    "# OH_12, county1 = OH_join_FEC(data1, fec_2012)"
   ]
  },
  {
   "cell_type": "code",
   "execution_count": null,
   "id": "cc5d792f-3f70-4387-bfe3-0ad34c1d5b6f",
   "metadata": {
    "tags": []
   },
   "outputs": [],
   "source": [
    "OH_2012_t = state_trans(OH_2012_f,county_2012)\n",
    "OH_2014_t = state_trans(OH_2014_f,county_2012)\n",
    "OH_2016_t = state_trans(OH_2016_f,county_2012)\n",
    "OH_2018_t = state_trans(OH_2018_f,county_2012)\n",
    "OH_2020_t = state_trans(OH_2020_f,county_2012)"
   ]
  },
  {
   "cell_type": "code",
   "execution_count": null,
   "id": "76f6b722-22fd-4780-822e-e970d62d7b8e",
   "metadata": {},
   "outputs": [],
   "source": [
    "\n",
    "OH_2012_t.to_csv(r'data\\formatted_house_totals\\OH_House_12.csv', index=False)\n",
    "OH_2014_t.to_csv(r'data\\formatted_house_totals\\OH_House_14.csv', index=False)\n",
    "OH_2016_t.to_csv(r'data\\formatted_house_totals\\OH_House_16.csv', index=False)\n",
    "OH_2018_t.to_csv(r'data\\formatted_house_totals\\OH_House_18.csv', index=False)\n",
    "OH_2020_t.to_csv(r'data\\formatted_house_totals\\OH_House_20.csv', index=False)"
   ]
  }
 ],
 "metadata": {
  "kernelspec": {
   "display_name": "Python 3 (ipykernel)",
   "language": "python",
   "name": "python3"
  },
  "language_info": {
   "codemirror_mode": {
    "name": "ipython",
    "version": 3
   },
   "file_extension": ".py",
   "mimetype": "text/x-python",
   "name": "python",
   "nbconvert_exporter": "python",
   "pygments_lexer": "ipython3",
   "version": "3.11.5"
  }
 },
 "nbformat": 4,
 "nbformat_minor": 5
}
