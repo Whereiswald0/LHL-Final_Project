{
 "cells": [
  {
   "cell_type": "code",
   "execution_count": 1,
   "id": "a3c2d885-5d28-423d-b4c6-9f84ec2c8c07",
   "metadata": {
    "tags": []
   },
   "outputs": [],
   "source": [
    "import numpy as np\n",
    "import pandas as pd\n",
    "from modules import *\n",
    "\n",
    "import os #Used when reading/writing csv files programatically"
   ]
  },
  {
   "cell_type": "code",
   "execution_count": 2,
   "id": "d7a387a0-06de-4ae0-b496-97dbdc7d290b",
   "metadata": {
    "tags": []
   },
   "outputs": [],
   "source": [
    "fec_folder_path = '../data/FEC/'\n",
    "\n",
    "fec_files = [file for file in os.listdir(fec_folder_path) if os.path.isfile(os.path.join(fec_folder_path, file))]"
   ]
  },
  {
   "cell_type": "code",
   "execution_count": 3,
   "id": "f25b899a-f14b-45d3-9fcf-80727c5dec1b",
   "metadata": {
    "tags": []
   },
   "outputs": [],
   "source": [
    "# Empty list to hold FEC files\n",
    "FEC_files = []\n",
    "\n",
    "for i in fec_files: # Call item in the file list\n",
    "    \n",
    "    # Read each file from the FEC file list\n",
    "    file = pd.read_csv(fr'{fec_folder_path}{i}', index_col=0)\n",
    "    \n",
    "    \n",
    "    # Generate a name for each dataframe based on the filename without the file extension\n",
    "    name = f'{i}' \n",
    "    name = name[:-4] \n",
    "    \n",
    "    # Assign the dataframe to the variable name\n",
    "    globals()[name] = file # from the documentation: 'the globals() function is a built-in function that returns a dictionary representing the current global symbol table' only half understand this, but it works (#programming)\n",
    "    \n",
    "    # Append both to the empty list\n",
    "    FEC_files.append(file)"
   ]
  },
  {
   "cell_type": "code",
   "execution_count": 4,
   "id": "d3ba3955-3f96-44e6-ace0-c1ba2d87588f",
   "metadata": {
    "tags": []
   },
   "outputs": [
    {
     "data": {
      "text/html": [
       "<div>\n",
       "<style scoped>\n",
       "    .dataframe tbody tr th:only-of-type {\n",
       "        vertical-align: middle;\n",
       "    }\n",
       "\n",
       "    .dataframe tbody tr th {\n",
       "        vertical-align: top;\n",
       "    }\n",
       "\n",
       "    .dataframe thead th {\n",
       "        text-align: right;\n",
       "    }\n",
       "</style>\n",
       "<table border=\"1\" class=\"dataframe\">\n",
       "  <thead>\n",
       "    <tr style=\"text-align: right;\">\n",
       "      <th></th>\n",
       "      <th>D</th>\n",
       "      <th>CANDIDATE NAME (First)</th>\n",
       "      <th>CANDIDATE NAME (Last)</th>\n",
       "      <th>CANDIDATE NAME(f)</th>\n",
       "      <th>CANDIDATE NAME</th>\n",
       "      <th>PARTY</th>\n",
       "      <th>(I)</th>\n",
       "      <th>GENERAL VOTES</th>\n",
       "    </tr>\n",
       "    <tr>\n",
       "      <th>STATE ABBREVIATION</th>\n",
       "      <th></th>\n",
       "      <th></th>\n",
       "      <th></th>\n",
       "      <th></th>\n",
       "      <th></th>\n",
       "      <th></th>\n",
       "      <th></th>\n",
       "      <th></th>\n",
       "    </tr>\n",
       "  </thead>\n",
       "  <tbody>\n",
       "    <tr>\n",
       "      <th>AL</th>\n",
       "      <td>01</td>\n",
       "      <td>Jo</td>\n",
       "      <td>Bonner</td>\n",
       "      <td>jo bonner</td>\n",
       "      <td>Bonner, Jo</td>\n",
       "      <td>R</td>\n",
       "      <td>1</td>\n",
       "      <td>196374</td>\n",
       "    </tr>\n",
       "    <tr>\n",
       "      <th>AL</th>\n",
       "      <td>02</td>\n",
       "      <td>Martha</td>\n",
       "      <td>Roby</td>\n",
       "      <td>martha roby</td>\n",
       "      <td>Roby, Martha</td>\n",
       "      <td>R</td>\n",
       "      <td>1</td>\n",
       "      <td>180591</td>\n",
       "    </tr>\n",
       "    <tr>\n",
       "      <th>AL</th>\n",
       "      <td>02</td>\n",
       "      <td>Therese</td>\n",
       "      <td>Ford</td>\n",
       "      <td>therese ford</td>\n",
       "      <td>Ford, Therese</td>\n",
       "      <td>D</td>\n",
       "      <td>0</td>\n",
       "      <td>103092</td>\n",
       "    </tr>\n",
       "    <tr>\n",
       "      <th>AL</th>\n",
       "      <td>03</td>\n",
       "      <td>Mike</td>\n",
       "      <td>Rogers</td>\n",
       "      <td>mike rogers</td>\n",
       "      <td>Rogers, Mike</td>\n",
       "      <td>R</td>\n",
       "      <td>1</td>\n",
       "      <td>175306</td>\n",
       "    </tr>\n",
       "    <tr>\n",
       "      <th>AL</th>\n",
       "      <td>03</td>\n",
       "      <td>John Andrew</td>\n",
       "      <td>Harris</td>\n",
       "      <td>john harris</td>\n",
       "      <td>Harris, John Andrew</td>\n",
       "      <td>D</td>\n",
       "      <td>0</td>\n",
       "      <td>98141</td>\n",
       "    </tr>\n",
       "    <tr>\n",
       "      <th>...</th>\n",
       "      <td>...</td>\n",
       "      <td>...</td>\n",
       "      <td>...</td>\n",
       "      <td>...</td>\n",
       "      <td>...</td>\n",
       "      <td>...</td>\n",
       "      <td>...</td>\n",
       "      <td>...</td>\n",
       "    </tr>\n",
       "    <tr>\n",
       "      <th>WY</th>\n",
       "      <td>00</td>\n",
       "      <td>Daniel Clyde</td>\n",
       "      <td>Cummings</td>\n",
       "      <td>daniel cummings</td>\n",
       "      <td>Cummings, Daniel Clyde</td>\n",
       "      <td>OTHER</td>\n",
       "      <td>0</td>\n",
       "      <td>4963</td>\n",
       "    </tr>\n",
       "    <tr>\n",
       "      <th>WY</th>\n",
       "      <td>00</td>\n",
       "      <td>Don</td>\n",
       "      <td>Wills</td>\n",
       "      <td>don wills</td>\n",
       "      <td>Wills, Don</td>\n",
       "      <td>OTHER</td>\n",
       "      <td>0</td>\n",
       "      <td>3775</td>\n",
       "    </tr>\n",
       "    <tr>\n",
       "      <th>WY</th>\n",
       "      <td>S</td>\n",
       "      <td>John</td>\n",
       "      <td>Barrasso</td>\n",
       "      <td>john barrasso</td>\n",
       "      <td>Barrasso, John</td>\n",
       "      <td>R</td>\n",
       "      <td>1</td>\n",
       "      <td>185250</td>\n",
       "    </tr>\n",
       "    <tr>\n",
       "      <th>WY</th>\n",
       "      <td>S</td>\n",
       "      <td>Tim</td>\n",
       "      <td>Chesnut</td>\n",
       "      <td>tim chesnut</td>\n",
       "      <td>Chesnut, Tim</td>\n",
       "      <td>D</td>\n",
       "      <td>0</td>\n",
       "      <td>53019</td>\n",
       "    </tr>\n",
       "    <tr>\n",
       "      <th>WY</th>\n",
       "      <td>S</td>\n",
       "      <td>Joel</td>\n",
       "      <td>Otto</td>\n",
       "      <td>joel otto</td>\n",
       "      <td>Otto, Joel</td>\n",
       "      <td>OTHER</td>\n",
       "      <td>0</td>\n",
       "      <td>6176</td>\n",
       "    </tr>\n",
       "  </tbody>\n",
       "</table>\n",
       "<p>1537 rows × 8 columns</p>\n",
       "</div>"
      ],
      "text/plain": [
       "                     D CANDIDATE NAME (First) CANDIDATE NAME (Last)  \\\n",
       "STATE ABBREVIATION                                                    \n",
       "AL                  01                     Jo                Bonner   \n",
       "AL                  02                 Martha                  Roby   \n",
       "AL                  02                Therese                  Ford   \n",
       "AL                  03                   Mike                Rogers   \n",
       "AL                  03            John Andrew                Harris   \n",
       "...                 ..                    ...                   ...   \n",
       "WY                  00           Daniel Clyde              Cummings   \n",
       "WY                  00                    Don                 Wills   \n",
       "WY                   S                   John              Barrasso   \n",
       "WY                   S                    Tim               Chesnut   \n",
       "WY                   S                   Joel                  Otto   \n",
       "\n",
       "                   CANDIDATE NAME(f)          CANDIDATE NAME  PARTY  (I)  \\\n",
       "STATE ABBREVIATION                                                         \n",
       "AL                         jo bonner              Bonner, Jo      R    1   \n",
       "AL                       martha roby            Roby, Martha      R    1   \n",
       "AL                      therese ford           Ford, Therese      D    0   \n",
       "AL                       mike rogers            Rogers, Mike      R    1   \n",
       "AL                       john harris     Harris, John Andrew      D    0   \n",
       "...                              ...                     ...    ...  ...   \n",
       "WY                   daniel cummings  Cummings, Daniel Clyde  OTHER    0   \n",
       "WY                         don wills              Wills, Don  OTHER    0   \n",
       "WY                     john barrasso          Barrasso, John      R    1   \n",
       "WY                       tim chesnut            Chesnut, Tim      D    0   \n",
       "WY                         joel otto              Otto, Joel  OTHER    0   \n",
       "\n",
       "                   GENERAL VOTES   \n",
       "STATE ABBREVIATION                 \n",
       "AL                         196374  \n",
       "AL                         180591  \n",
       "AL                         103092  \n",
       "AL                         175306  \n",
       "AL                          98141  \n",
       "...                           ...  \n",
       "WY                           4963  \n",
       "WY                           3775  \n",
       "WY                         185250  \n",
       "WY                          53019  \n",
       "WY                           6176  \n",
       "\n",
       "[1537 rows x 8 columns]"
      ]
     },
     "execution_count": 4,
     "metadata": {},
     "output_type": "execute_result"
    }
   ],
   "source": [
    "FEC_files[0]"
   ]
  },
  {
   "cell_type": "code",
   "execution_count": 5,
   "id": "2d14f497-e385-45a4-9082-1f913fd60892",
   "metadata": {
    "tags": []
   },
   "outputs": [],
   "source": [
    "elec_folder_path = '../data/raw_elec_totals'\n",
    "\n",
    "PA_files = [file for file in os.listdir(elec_folder_path) if os.path.isfile(os.path.join(elec_folder_path, file)) and file.startswith('PA')]"
   ]
  },
  {
   "cell_type": "code",
   "execution_count": 6,
   "id": "1f123b0e-9a0f-4ec2-865f-cc275f68cb1d",
   "metadata": {
    "tags": []
   },
   "outputs": [],
   "source": [
    "def candidate_firstname(data,delimiter=' '):\n",
    "    \"\"\"\n",
    "    This function will get the first name where candidate names are stored 'LastName, First Name middlename/title'\n",
    "    \"\"\"\n",
    "    data_split = [cand.split(delimiter) for cand in data]\n",
    "    cand_name = [name[1] for name in data_split]\n",
    "    cand_name = [name.strip() for name in cand_name]\n",
    "    return cand_name"
   ]
  },
  {
   "cell_type": "code",
   "execution_count": 7,
   "id": "2a9f98be-35ef-417b-bfd8-ca8733b796c5",
   "metadata": {
    "tags": []
   },
   "outputs": [],
   "source": [
    "def format_PA(data):\n",
    "    \"\"\"\n",
    "    This function is built to format election data \n",
    "    as recorded by the Pennsylvania Department of State\n",
    "    the PA DoS elections website allows you to generate data for individual elections years \n",
    "    \"\"\"\n",
    "    \n",
    "    # Format names using 'trim party' function to remove middle names and titles, then concatinate so name matches FEC data\n",
    "    data['CanLastName'] = trim_party(data['Candidate Name'],',') #removes middle names\n",
    "    data['CanFirstName'] = candidate_firstname(data['Candidate Name'], ' ') #removes titles appended to last names\n",
    "    data['Candidate Name(f)'] = data['CanFirstName']+' '+data['CanLastName']\n",
    "    #format names as lower-case\n",
    "    data['Candidate Name(f)'] = data['Candidate Name(f)'].astype(str).str.lower()\n",
    "\n",
    "    # Create list of candidates\n",
    "    cand_list = data['Candidate Name(f)'].unique()\n",
    "\n",
    "    #reduce candidate list to just names, if any name-final punctuation remains after removing titles\n",
    "    cand_list = [''.join(char for char in i if char.isalpha() or char.isspace()) for i in cand_list] \n",
    "\n",
    "    # Since all races appear in a single sheet\n",
    "    # Create tables for each candidate\n",
    "    cand_tables = {}\n",
    "    for i in cand_list:\n",
    "        candidate_df = data[data['Candidate Name(f)'] == i][['County Name', 'Votes']]\n",
    "        candidate_df = candidate_df.groupby('County Name').sum().reset_index()\n",
    "        cand_tables[i] = candidate_df\n",
    "\n",
    "    # Merge tables\n",
    "    merged_df = cand_tables[cand_list[0]]\n",
    "    for i in cand_list[1:]:\n",
    "        merged_df = pd.merge(merged_df, cand_tables[i], on='County Name', how='outer', suffixes=('_' + i, ''))\n",
    "\n",
    "    # Rename columns\n",
    "    merged_df.columns = ['County Name'] + list(cand_list)\n",
    "\n",
    "    # If candidate received zero votes, fill NaN\n",
    "    merged_df = merged_df.fillna(0)\n",
    "    return merged_df"
   ]
  },
  {
   "cell_type": "code",
   "execution_count": 8,
   "id": "672be396-c0c8-45a6-a64f-c19b83f2633c",
   "metadata": {
    "tags": []
   },
   "outputs": [],
   "source": [
    "# Create empty lists to hold dataframes and their names\n",
    "formatted_PA = []\n",
    "PA_names = []"
   ]
  },
  {
   "cell_type": "code",
   "execution_count": 9,
   "id": "b2dc45ff-1907-4b62-ac9d-2f8660c58ba9",
   "metadata": {
    "tags": []
   },
   "outputs": [],
   "source": [
    "for i in PA_files: # Call item in the file list\n",
    "    file = pd.read_excel(f'{elec_folder_path}/{i}', sheet_name='Official')\n",
    "    \n",
    "    # Get only data for congressional races\n",
    "    file = file[file['Office Name'].str.contains('congress', case=False, na=False)]\n",
    "    \n",
    "    \n",
    "    # Apply PA formatting function\n",
    "    formatted = format_PA(file)\n",
    "\n",
    "    \n",
    "    \n",
    "    # Generate a name for each dataframe based on the filename without the file extension\n",
    "    name = f'{i}' \n",
    "    name = name[:-5]+'_f' \n",
    "    \n",
    "    # Assign the dataframe to the variable name\n",
    "    # globals()[name] = formatted # from the documentation: 'the globals() function is a built-in function that returns a dictionary representing the current global symbol table' only half understand this, but it works (#programming)\n",
    "    \n",
    "    # Append both to the empty list creating a list of names and corresponding dataframes\n",
    "    formatted_PA.append(formatted)\n",
    "    PA_names.append(name)\n"
   ]
  },
  {
   "cell_type": "code",
   "execution_count": 10,
   "id": "1dc882f0-4c2e-4f5c-a7ba-f24d9540b90e",
   "metadata": {
    "tags": []
   },
   "outputs": [],
   "source": [
    "\n",
    "# Create zipped list of formatted State Election data, FEC list of candidates and parties, and the filenames found in raw_elec data\n",
    "zipped_PA_FEC = zip(formatted_PA, FEC_files, PA_names)"
   ]
  },
  {
   "cell_type": "code",
   "execution_count": 11,
   "id": "18e703a3-500f-42c4-bea5-390f27950ba2",
   "metadata": {
    "tags": []
   },
   "outputs": [],
   "source": [
    "# Further process and transform election data, grouping vote totals by party and incumbancy\n",
    "# Allows analysis on these two metrics\n",
    "for i, j, k in zipped_PA_FEC:\n",
    "    \n",
    "    # Joins FEC and State data for each year, produces list of counties as well\n",
    "    # If an error is generated here, there is likely a mismatch between the counties in these files\n",
    "    formatted_PA_FEC, counties = state_join_FEC(i,j)\n",
    "    transformed_data = state_trans(formatted_PA_FEC, counties)\n",
    "    \n",
    "    # Writes the transformed data to a .csv file whose name references the original filename\n",
    "    transformed_data.to_csv(fr\"../data/formatted_house_totals/{k[:7]}.csv\", index=False)"
   ]
  },
  {
   "cell_type": "code",
   "execution_count": null,
   "id": "3919f934-6e87-45a0-a6e1-af318fde0580",
   "metadata": {
    "tags": []
   },
   "outputs": [],
   "source": [
    "PA_names"
   ]
  },
  {
   "cell_type": "code",
   "execution_count": null,
   "id": "6cf16635-d188-4942-b6e2-42aa51cb5c6a",
   "metadata": {
    "tags": []
   },
   "outputs": [],
   "source": [
    "FEC_files[0]"
   ]
  },
  {
   "cell_type": "code",
   "execution_count": null,
   "id": "0fd6d3ac-26af-4dd3-8c38-b7c06c811c47",
   "metadata": {
    "tags": []
   },
   "outputs": [],
   "source": [
    "formatted_PA[0].info()"
   ]
  },
  {
   "cell_type": "code",
   "execution_count": null,
   "id": "9cae70be-2c20-4e57-a366-44f0d9f11a8d",
   "metadata": {
    "tags": []
   },
   "outputs": [],
   "source": [
    "PA_2012_FEC_joined, counties = state_join_FEC(formatted_PA[0],FEC_files[0])"
   ]
  },
  {
   "cell_type": "code",
   "execution_count": null,
   "id": "a8411e27-4c03-4aed-9ab4-693e266c03a2",
   "metadata": {
    "tags": []
   },
   "outputs": [],
   "source": [
    "PA_2012_FEC_joined"
   ]
  },
  {
   "cell_type": "code",
   "execution_count": null,
   "id": "c21a77c5-e6e2-497a-afc4-8f80811d8e00",
   "metadata": {
    "tags": []
   },
   "outputs": [],
   "source": [
    "transformed_data = state_trans(PA_2012_FEC_joined, counties)"
   ]
  },
  {
   "cell_type": "code",
   "execution_count": null,
   "id": "c7d45a81-3192-4cac-8e81-675f3469bc9b",
   "metadata": {
    "tags": []
   },
   "outputs": [],
   "source": [
    "formatted_PA[0]"
   ]
  },
  {
   "cell_type": "code",
   "execution_count": null,
   "id": "bf5a1700-0c5d-4968-b714-a037836dbe6e",
   "metadata": {
    "tags": []
   },
   "outputs": [],
   "source": [
    "data = formatted_PA[0]"
   ]
  },
  {
   "cell_type": "code",
   "execution_count": null,
   "id": "3d442278-f34a-49cd-9735-d175c5a8db28",
   "metadata": {
    "tags": []
   },
   "outputs": [],
   "source": [
    "county_col = data.columns[0]\n",
    "\n",
    "#county names will be reinserted later for the merger with IRS data\n",
    "counties = data[county_col].tolist()\n",
    "counties = [i.lower() for i in counties]\n",
    "data_t = data.drop(county_col, axis=1).copy()\n"
   ]
  },
  {
   "cell_type": "code",
   "execution_count": null,
   "id": "2783d1e7-3499-4458-b2ba-e53557adcc84",
   "metadata": {
    "tags": []
   },
   "outputs": [],
   "source": [
    "data_t"
   ]
  },
  {
   "cell_type": "code",
   "execution_count": null,
   "id": "a21352e3-411a-4fd8-9552-224df82d8886",
   "metadata": {
    "tags": []
   },
   "outputs": [],
   "source": [
    "\n",
    "# Transpose the dataframe so that our columns are the county vote totals and candidates are rows\n",
    "# This is done to aid the transformation and grouping of candidates by party\n",
    "data_t=data_t.transpose()\n",
    "cand_list = list(data_t.index)\n"
   ]
  },
  {
   "cell_type": "code",
   "execution_count": null,
   "id": "90bec417-7fec-4e0b-b285-ecc2cd6765fa",
   "metadata": {
    "tags": []
   },
   "outputs": [],
   "source": [
    "data_t"
   ]
  },
  {
   "cell_type": "code",
   "execution_count": null,
   "id": "1375573f-8227-4c0b-b765-7f4bc5858035",
   "metadata": {},
   "outputs": [],
   "source": [
    "\n",
    "# Render candidate names in lowercase to match FEC data\n",
    "# cand_list = [i.lower() for i in cand_list]\n",
    "data_t.index = cand_list\n",
    "\n",
    "# Merge FEC data, associating each candidate with their party and incumbancy\n",
    "data_t = pd.merge(data_t, fec_data, left_index=True, right_on='CANDIDATE NAME(f)').reset_index(drop=True)\n",
    "\n",
    "# return dataframe of candidates and list of counties\n",
    "return data_t, counties"
   ]
  },
  {
   "cell_type": "code",
   "execution_count": null,
   "id": "1a29f233-f90f-4dbd-b851-a6988c4c28d3",
   "metadata": {},
   "outputs": [],
   "source": [
    "formatted_PA_FEC, counties = state_join_FEC(i,j)"
   ]
  },
  {
   "cell_type": "code",
   "execution_count": null,
   "id": "091537df-825d-4bcf-93ea-b725d5bd785f",
   "metadata": {},
   "outputs": [],
   "source": [
    "\n",
    "transformed_data = state_trans(formatted_PA_FEC, counties)"
   ]
  },
  {
   "cell_type": "code",
   "execution_count": null,
   "id": "ad580a7c-dbd6-4b83-95fb-f6618a3ac544",
   "metadata": {
    "tags": []
   },
   "outputs": [],
   "source": [
    "formatted_PA_FEC"
   ]
  },
  {
   "cell_type": "code",
   "execution_count": null,
   "id": "34371101-e0d7-482d-b0dd-454aa2449a29",
   "metadata": {},
   "outputs": [],
   "source": []
  },
  {
   "cell_type": "code",
   "execution_count": null,
   "id": "5050ac7f-7052-4f8d-a1d8-ab89397ae5a4",
   "metadata": {
    "tags": []
   },
   "outputs": [],
   "source": [
    "formatted_PA[0]['County Name'].nunique()"
   ]
  },
  {
   "cell_type": "code",
   "execution_count": null,
   "id": "0d241e85-2aa6-476e-ac43-e45b9208163d",
   "metadata": {
    "tags": []
   },
   "outputs": [],
   "source": [
    "formatted_PA[1]['County Name'].nunique()"
   ]
  },
  {
   "cell_type": "code",
   "execution_count": null,
   "id": "5fdc1526-1992-4307-a555-7a89c5c819d0",
   "metadata": {
    "tags": []
   },
   "outputs": [],
   "source": [
    "formatted_PA[2]['County Name'].nunique()"
   ]
  },
  {
   "cell_type": "code",
   "execution_count": null,
   "id": "feeb4973-e8f8-46c8-834d-70562bf15981",
   "metadata": {
    "tags": []
   },
   "outputs": [],
   "source": [
    "formatted_PA[3]['County Name'].nunique()"
   ]
  },
  {
   "cell_type": "code",
   "execution_count": null,
   "id": "9e41021f-5fa8-44d7-9ba4-813c386beb12",
   "metadata": {
    "tags": []
   },
   "outputs": [],
   "source": [
    "formatted_PA[4]['County Name'].nunique()"
   ]
  },
  {
   "cell_type": "code",
   "execution_count": null,
   "id": "e4f6d38a-409c-4afd-bdcb-760ee5ab1788",
   "metadata": {
    "tags": []
   },
   "outputs": [],
   "source": [
    "data_split = formatted_PA[2]['Candidate Name'].split(',')"
   ]
  },
  {
   "cell_type": "code",
   "execution_count": null,
   "id": "e2a5ba7c-9484-43e8-ae6e-10d38f02c2b0",
   "metadata": {},
   "outputs": [],
   "source": [
    "# formal_il ALMOST works, need to split candidate names at comma and then again at space"
   ]
  },
  {
   "cell_type": "code",
   "execution_count": null,
   "id": "fa975b08-d559-42d4-a1e7-29950e7c9875",
   "metadata": {
    "tags": []
   },
   "outputs": [],
   "source": [
    "df = format_PA(formatted_PA[4])"
   ]
  },
  {
   "cell_type": "code",
   "execution_count": null,
   "id": "bfcd4d2f-36b0-4851-978a-dc8052916df0",
   "metadata": {
    "tags": []
   },
   "outputs": [],
   "source": [
    "df"
   ]
  },
  {
   "cell_type": "code",
   "execution_count": null,
   "id": "2d67a3c5-68a1-418e-bc95-472f47935554",
   "metadata": {},
   "outputs": [],
   "source": []
  }
 ],
 "metadata": {
  "kernelspec": {
   "display_name": "Python 3 (ipykernel)",
   "language": "python",
   "name": "python3"
  },
  "language_info": {
   "codemirror_mode": {
    "name": "ipython",
    "version": 3
   },
   "file_extension": ".py",
   "mimetype": "text/x-python",
   "name": "python",
   "nbconvert_exporter": "python",
   "pygments_lexer": "ipython3",
   "version": "3.11.5"
  }
 },
 "nbformat": 4,
 "nbformat_minor": 5
}
