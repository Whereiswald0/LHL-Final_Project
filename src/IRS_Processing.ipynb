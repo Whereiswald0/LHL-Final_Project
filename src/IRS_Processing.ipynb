{
 "cells": [
  {
   "cell_type": "code",
   "execution_count": null,
   "id": "bdcc1595-60e2-4696-8ce5-99d7ea5f2630",
   "metadata": {},
   "outputs": [],
   "source": [
    "import numpy as np\n",
    "import pandas as pd\n",
    "from modules import * #contains functions used in common with processing election and IRS data\n",
    "\n",
    "import os #Used when reading/writing csv files programatically"
   ]
  },
  {
   "cell_type": "code",
   "execution_count": null,
   "id": "5678e3b5-1bf3-4564-b856-435f2f818708",
   "metadata": {},
   "outputs": [
    {
     "name": "stdout",
     "output_type": "stream",
     "text": [
      "Reading IRS data\n"
     ]
    }
   ],
   "source": [
    "# Read IRS data\n",
    "print(\"Reading IRS data\")\n",
    "\n",
    "irs_raw_folder_path = '../data/irs_data/raw' \n",
    "irs_folder_path = '../data/irs_data/'\n",
    "\n",
    "irs_raw_files = [file for file in os.listdir(irs_raw_folder_path ) if os.path.isfile(os.path.join(irs_raw_folder_path , file))]"
   ]
  },
  {
   "cell_type": "code",
   "execution_count": null,
   "id": "6ee0ae2f-47f7-47c5-a549-591d2552f619",
   "metadata": {},
   "outputs": [],
   "source": [
    "# reverse the order, so the newest data is at the front of this list \n",
    "# No real need for this, but it helps with thinking about the values we're examining\n",
    "# We want growth to be positive and loss to be negative to keep with the common understanding\n",
    "irs_raw_files = irs_raw_files[::-1]"
   ]
  },
  {
   "cell_type": "code",
   "execution_count": null,
   "id": "dd59f6ce-cc3c-4962-9893-05f2219d9a01",
   "metadata": {},
   "outputs": [],
   "source": [
    "# Create empty list to hold tuples of filenames|dataframes\n",
    "processed_irs_files = []"
   ]
  },
  {
   "cell_type": "code",
   "execution_count": null,
   "id": "b5b3c183-fa93-423c-83f8-2cd2aebca880",
   "metadata": {},
   "outputs": [
    {
     "name": "stdout",
     "output_type": "stream",
     "text": [
      "Formatting raw IRS data\n"
     ]
    }
   ],
   "source": [
    "print(\"Formatting raw IRS data\")\n",
    "for i in irs_raw_files:\n",
    "    file = pd.read_csv(f'{irs_raw_folder_path}/{i}', encoding='latin-1') #irs formatting requires this encoding\n",
    "    file = file.drop(['STATEFIPS','AGI_STUB','COUNTYFIPS'],axis=1).reset_index(drop=True) # not used for the current analysis, but raw files are presevered for future use.\n",
    "    \n",
    "    # Lambda function to data_copygenerate a boolian mask filtering 'COUNTYNAME' values with a single word # from the documentation: 'the globals() function is a built-in function that returns a dictionary representing the current global symbol table' only half understand this, but it works (#programming)\n",
    "    \n",
    "    # Append both to the empty list\n",
    "    processed_irs_files.append((name, data_copy)), \n",
    "    # removing all single name counties (should be agg. state data)\n",
    "    filter_counties = lambda row: len(row['COUNTYNAME'].split()) >=2\n",
    "    data_counties = file[file.apply(filter_counties, axis=1)]\n",
    "    lower_countynames = [i.lower() for i in data_counties['COUNTYNAME']]\n",
    "    data_copy = data_counties.copy()\n",
    "    data_copy['COUNTYNAME'] = lower_countynames\n",
    "    \n",
    "    # Generate a name for each dataframe based on the filename without the file extension\n",
    "    name = f'{i}' \n",
    "    name = name[:-4]+'_f' \n",
    "    \n",
    "    # Assign the dataframe to the variable name\n",
    "    # globals()[name] = "
   ]
  },
  {
   "cell_type": "code",
   "execution_count": null,
   "id": "f57fa2f5-1a89-4cdb-8ccb-35f027c5a7ca",
   "metadata": {},
   "outputs": [
    {
     "name": "stdout",
     "output_type": "stream",
     "text": [
      "Processing IRS data, Writing IRS data to /irs_data\n"
     ]
    }
   ],
   "source": [
    "print(\"Processing IRS data, Writing IRS data to /irs_data\")\n",
    "for i in range(0, len(processed_irs_files), 2): # Call every-other item in the processed files list\n",
    "    \n",
    "    # Since these are from a list of tuples, we assign the dataframes to these variables, to be passed as arguments \n",
    "    arg1 = processed_irs_files[i][1] \n",
    "    arg2 = processed_irs_files[i + 1][1] if i + 1 < len(processed_irs_files) else None #if there is an odd number, it should throw an error, IMPLIMENT LATER\n",
    "\n",
    "    # get the formatted irs file names for each year\n",
    "    name = f'{processed_irs_files[i][0]}'\n",
    "    \n",
    "    # Run the function to subtract one year's data from the previous year's data\n",
    "    prev_year_change(arg1, arg2) \n",
    "    df_diff = prev_year_change(arg1, arg2) # Placeholder variable\n",
    "    new_df = f'{processed_irs_files[i][0]}_d' # Name of new variable\n",
    "    \n",
    "    # Create the directory if it doesn't exist\n",
    "    os.makedirs(irs_folder_path, exist_ok=True)\n",
    "    \n",
    "    # Save the DataFrames as CSV files\n",
    "    csv_filename_f = f'{name}.csv'\n",
    "    csv_filename_d = f'{new_df}.csv'\n",
    "    arg1.to_csv(os.path.join(irs_folder_path, csv_filename_f), index=False) #the 'original' formatted files\n",
    "    df_diff.to_csv(os.path.join(irs_folder_path, csv_filename_d), index=False) #the file processed by the prev_year_change function"
   ]
  },
  {
   "cell_type": "code",
   "execution_count": null,
   "id": "7ede45fb-3e3b-4e92-8f50-60767ea2718b",
   "metadata": {},
   "outputs": [],
   "source": []
  },
  {
   "cell_type": "code",
   "execution_count": null,
   "id": "b981fdf0-b11b-487c-8408-8cb48b7ab1b0",
   "metadata": {},
   "outputs": [],
   "source": []
  },
  {
   "cell_type": "code",
   "execution_count": null,
   "id": "87b338ad-eae7-497a-ba39-28239dd40db9",
   "metadata": {},
   "outputs": [],
   "source": []
  },
  {
   "cell_type": "code",
   "execution_count": null,
   "id": "65eea5b8-8d18-4605-9a65-ea8a17e52b69",
   "metadata": {},
   "outputs": [],
   "source": []
  },
  {
   "cell_type": "code",
   "execution_count": null,
   "id": "1ecd79f7-81b0-485c-97c5-b6168c1fdbc6",
   "metadata": {},
   "outputs": [],
   "source": []
  }
 ],
 "metadata": {
  "kernelspec": {
   "display_name": "Python 3 (ipykernel)",
   "language": "python",
   "name": "python3"
  },
  "language_info": {
   "codemirror_mode": {
    "name": "ipython",
    "version": 3
   },
   "file_extension": ".py",
   "mimetype": "text/x-python",
   "name": "python",
   "nbconvert_exporter": "python",
   "pygments_lexer": "ipython3",
   "version": "3.11.5"
  }
 },
 "nbformat": 4,
 "nbformat_minor": 5
}
