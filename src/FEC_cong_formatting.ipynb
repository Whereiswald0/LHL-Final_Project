{
 "cells": [
  {
   "cell_type": "code",
   "execution_count": 1,
   "id": "92999a6f-ef86-45bc-ba7f-ab03787b65dd",
   "metadata": {
    "tags": []
   },
   "outputs": [],
   "source": [
    "import numpy as np\n",
    "import pandas as pd\n",
    "from modules import *\n",
    "import os"
   ]
  },
  {
   "cell_type": "code",
   "execution_count": 2,
   "id": "1bd7fc03-3109-4a25-adff-9a7abfbfeb05",
   "metadata": {
    "tags": []
   },
   "outputs": [],
   "source": [
    "fec_raw_folder_path = '../data/FEC/raw'\n",
    "\n",
    "fec_raw_files = [file for file in os.listdir(fec_raw_folder_path) if os.path.isfile(os.path.join(fec_raw_folder_path, file))]"
   ]
  },
  {
   "cell_type": "code",
   "execution_count": 4,
   "id": "f837d250-c4c3-4963-80ca-553842fa33c5",
   "metadata": {
    "tags": []
   },
   "outputs": [],
   "source": [
    "# Empty list to hold FEC files\n",
    "FEC_files = []\n",
    "\n",
    "print(\"Processing FEC files\")\n",
    "for i in fec_raw_files: \n",
    "    data = pd.read_excel(f\"{fec_raw_folder_path}/{i}\", sheet_name=f\"20{i[6:8]} US House Results by State\", header=0)\n",
    "    simple_FEC_data = FEC_simplifier(data)\n",
    "    # Generate a name for each dataframe based on the filename without the file extension\n",
    "    name = f'{i[:9]}'\n",
    "    simple_FEC_data.to_csv(fr\"../data/FEC/{name}.csv\", index=False)\n",
    "print(\"Processed FEC files in '../data/FEC'\")"
   ]
  },
  {
   "cell_type": "code",
   "execution_count": null,
   "id": "82beecfe-0ea7-49b6-9f19-859721aecc35",
   "metadata": {},
   "outputs": [],
   "source": []
  }
 ],
 "metadata": {
  "kernelspec": {
   "display_name": "Python 3 (ipykernel)",
   "language": "python",
   "name": "python3"
  },
  "language_info": {
   "codemirror_mode": {
    "name": "ipython",
    "version": 3
   },
   "file_extension": ".py",
   "mimetype": "text/x-python",
   "name": "python",
   "nbconvert_exporter": "python",
   "pygments_lexer": "ipython3",
   "version": "3.11.5"
  }
 },
 "nbformat": 4,
 "nbformat_minor": 5
}
