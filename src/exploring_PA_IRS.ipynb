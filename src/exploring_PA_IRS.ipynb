{
 "cells": [
  {
   "cell_type": "code",
   "execution_count": 1,
   "id": "5ecb18bf-9621-4cd6-9e5c-dfeb2b6302c1",
   "metadata": {
    "tags": []
   },
   "outputs": [],
   "source": [
    "# Libraries for loading in data and building features\n",
    "import numpy as np\n",
    "import pandas as pd\n",
    "# from docx import Document\n",
    "from modules import * #contains functions used in common with processing election and IRS data\n",
    "import os"
   ]
  },
  {
   "cell_type": "code",
   "execution_count": 2,
   "id": "53837881-70dc-4433-b468-66e725759d75",
   "metadata": {
    "tags": []
   },
   "outputs": [],
   "source": [
    "# Establish file paths for IRS data and the formatted vote totals for house races (See various State .py files)\n",
    "irs_folder_path = '../data/irs_data/'\n",
    "house_data_path = '../data/formatted_house_totals/'\n",
    "\n",
    "# Using the OS library, create lists of all files\n",
    "# There folders must be kept tidy, or incorrect data will be read\n",
    "irs_files = [file for file in os.listdir(irs_folder_path) if os.path.isfile(os.path.join(irs_folder_path, file))]\n",
    "PA_house_files = [file for file in os.listdir(house_data_path) if os.path.isfile(os.path.join(house_data_path, file)) and file.startswith('PA')]\n"
   ]
  },
  {
   "cell_type": "code",
   "execution_count": 3,
   "id": "1ae01366-83d8-4ba5-bd4a-01f2ff3e8557",
   "metadata": {
    "tags": []
   },
   "outputs": [],
   "source": [
    "PA_house = []"
   ]
  },
  {
   "cell_type": "code",
   "execution_count": 4,
   "id": "ed2e281f-fc34-4549-97ed-4ec1949afd04",
   "metadata": {
    "tags": []
   },
   "outputs": [],
   "source": [
    "irs_data = []"
   ]
  },
  {
   "cell_type": "code",
   "execution_count": 5,
   "id": "423b4a77-0823-41a8-a144-13dfc2dc53a0",
   "metadata": {
    "tags": []
   },
   "outputs": [],
   "source": [
    "PA_irs_list = []"
   ]
  },
  {
   "cell_type": "code",
   "execution_count": 6,
   "id": "02dedb96-0ba0-4eed-9bab-6d2eddebc7f6",
   "metadata": {
    "tags": []
   },
   "outputs": [],
   "source": [
    "for i in PA_house_files:\n",
    "    state = i[0:2] #first two letters of the filename, corresponding to the state abbv.\n",
    "    year = i[5:7] #two digit year \n",
    "    \n",
    "    # Import house file\n",
    "    house = pd.read_csv(f'{house_data_path}{i}')\n",
    "    \n",
    "    # Import IRS file corresponding to the year obtained from the filename of the house file\n",
    "    # See 'IRS_Processing' .py file for how these are created\n",
    "    irs = pd.read_csv(f'{irs_folder_path}irs_count_20{year}_f.csv')\n",
    "    \n",
    "    # Get IRS data only for the relevant state (this is done to ensure that states with identicle county names do not have their data mixed)\n",
    "    irs_state = irs.loc[irs['STATE']==state]\n",
    "    irs_county = irs_state['COUNTYNAME'].tolist()\n",
    "    irs_county = [i for i in remove_keyword(irs_county,'county')] # format to match the House data\n",
    "    \n",
    "    #These two counties are misnamed in the IRS data\n",
    "    irs_misnamed = {'de witt':'dewitt','jo daviess':'jodaviess'}\n",
    "    # This '.get's (haha) the correct county names\n",
    "    cor_counties = [irs_misnamed.get(item, item) for item in irs_county]\n",
    "    \n",
    "    irs_copy = irs_state.copy() #avoid setting a value on a copy of a slice\n",
    "    irs_copy['COUNTYNAME'] = cor_counties\n",
    "\n",
    "    irs_merge = house.merge(irs_copy, left_on='County', right_on='COUNTYNAME')\n",
    "    \n",
    "    name = f\"{state}_{year}_irs\"\n",
    "    \n",
    "    PA_house.append(house)\n",
    "    \n",
    "    irs_data.append(irs_state)\n",
    "    \n",
    "    PA_irs_list.append((name, irs_merge))"
   ]
  },
  {
   "cell_type": "code",
   "execution_count": null,
   "id": "bdc55346-9cdf-4e10-8190-22e00036b821",
   "metadata": {
    "tags": []
   },
   "outputs": [],
   "source": [
    "PA_irs_list[1][1]"
   ]
  },
  {
   "cell_type": "code",
   "execution_count": null,
   "id": "059c8af5-5aba-474b-a3b6-905e8743766c",
   "metadata": {
    "tags": []
   },
   "outputs": [],
   "source": [
    "PA_house[0]"
   ]
  },
  {
   "cell_type": "code",
   "execution_count": null,
   "id": "863100f9-7b4f-4c43-aeec-6c1caf2bb700",
   "metadata": {
    "tags": []
   },
   "outputs": [],
   "source": [
    "PA_counties_2012"
   ]
  },
  {
   "cell_type": "code",
   "execution_count": 41,
   "id": "b0723594-c2e9-4371-b4c6-acff3fb1ca6b",
   "metadata": {
    "tags": []
   },
   "outputs": [],
   "source": [
    "PA_counties_2012 = PA_house[0]['County'].tolist()"
   ]
  },
  {
   "cell_type": "code",
   "execution_count": 42,
   "id": "f79d378f-7fa8-469b-b936-efecae9b9654",
   "metadata": {
    "tags": []
   },
   "outputs": [],
   "source": [
    "misnamed_counties = []"
   ]
  },
  {
   "cell_type": "code",
   "execution_count": 43,
   "id": "4a8a8db6-d11f-4824-af1f-e8d5af2d7408",
   "metadata": {
    "tags": []
   },
   "outputs": [],
   "source": [
    "misnamed_counties_irs = []"
   ]
  },
  {
   "cell_type": "code",
   "execution_count": 44,
   "id": "3ef2aec5-72f6-4fc9-876e-b1f938a5f74f",
   "metadata": {
    "tags": []
   },
   "outputs": [],
   "source": [
    "PA_counties_2012 = PA_house[0]['County'].tolist()\n",
    "\n",
    "for i in PA_house:\n",
    "    counties = i['County'].tolist()\n",
    "    for c in counties:\n",
    "        if c not in PA_counties_2012:\n",
    "            misnamed_counties.append(c)\n",
    "    if len (misnamed_counties) > 0:\n",
    "        print(misnamed_counties)"
   ]
  },
  {
   "cell_type": "code",
   "execution_count": 45,
   "id": "61ffcf33-499e-4575-899e-ca0bbb2d2b5c",
   "metadata": {
    "tags": []
   },
   "outputs": [],
   "source": [
    "for i in irs_data:\n",
    "    counties = i['COUNTYNAME']\n",
    "    \n",
    "    irs_county = [i for i in remove_keyword(counties,'county')]\n",
    "    irs_county = [i for i in remove_keyword(irs_county,'count')]\n",
    "    irs_county = [i for i in remove_keyword(irs_county,'cou')]\n",
    "    for county in irs_county:\n",
    "        if county not in PA_counties_2012:\n",
    "            misnamed_counties_irs.append(county)"
   ]
  },
  {
   "cell_type": "code",
   "execution_count": null,
   "id": "efd23f36-f865-4bc7-992f-bc7c4d0f4e9a",
   "metadata": {},
   "outputs": [],
   "source": [
    "from functools import reduce\n",
    "\n",
    "# Assuming PA_house is a list of dataframes\n",
    "PA_counties_2012 = PA_house[0]['County'].tolist()\n",
    "\n",
    "misnamed_counties = reduce(\n",
    "    lambda acc, df: acc + list(filter(lambda c: c not in PA_counties_2012, df['County'].tolist())),\n",
    "    PA_house,\n",
    "    []\n",
    ")\n",
    "\n",
    "if len(misnamed_counties) > 0:\n",
    "    print(misnamed_counties)\n"
   ]
  },
  {
   "cell_type": "code",
   "execution_count": 46,
   "id": "e11b89f0-4ec3-4416-9239-d11c4b214d01",
   "metadata": {
    "tags": []
   },
   "outputs": [
    {
     "data": {
      "text/plain": [
       "[]"
      ]
     },
     "execution_count": 46,
     "metadata": {},
     "output_type": "execute_result"
    }
   ],
   "source": [
    "misnamed_counties"
   ]
  },
  {
   "cell_type": "code",
   "execution_count": 47,
   "id": "50fb408e-97e2-4a08-b9af-374019d8f540",
   "metadata": {
    "tags": []
   },
   "outputs": [
    {
     "data": {
      "text/plain": [
       "[]"
      ]
     },
     "execution_count": 47,
     "metadata": {},
     "output_type": "execute_result"
    }
   ],
   "source": [
    "misnamed_counties_irs"
   ]
  },
  {
   "cell_type": "code",
   "execution_count": null,
   "id": "6a0ba9aa-5e35-47d3-9b57-a88757e35ed1",
   "metadata": {},
   "outputs": [],
   "source": []
  }
 ],
 "metadata": {
  "kernelspec": {
   "display_name": "Python 3 (ipykernel)",
   "language": "python",
   "name": "python3"
  },
  "language_info": {
   "codemirror_mode": {
    "name": "ipython",
    "version": 3
   },
   "file_extension": ".py",
   "mimetype": "text/x-python",
   "name": "python",
   "nbconvert_exporter": "python",
   "pygments_lexer": "ipython3",
   "version": "3.11.5"
  }
 },
 "nbformat": 4,
 "nbformat_minor": 5
}
