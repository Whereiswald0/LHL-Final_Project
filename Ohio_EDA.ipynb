{
 "cells": [
  {
   "cell_type": "code",
   "execution_count": 4,
   "id": "16bc24d7-3c4a-48e9-b43c-be242bc2db7b",
   "metadata": {
    "tags": []
   },
   "outputs": [],
   "source": [
    "import numpy as np\n",
    "import pandas as pd\n",
    "from src.modules import *\n",
    "import os"
   ]
  },
  {
   "cell_type": "code",
   "execution_count": 6,
   "id": "0c9d23db-dd8e-4970-84e1-1cc5ebbfcfef",
   "metadata": {},
   "outputs": [],
   "source": [
    "elec_folder_path = 'data/raw_elec_totals'\n",
    "\n",
    "OH_files = [file for file in os.listdir(elec_folder_path) if os.path.isfile(os.path.join(elec_folder_path, file)) and file.startswith('OH')]\n",
    "\n",
    "#create empty list to hold OH formatted dataframes\n",
    "formatted_OH = [] \n",
    "OH_names = []"
   ]
  },
  {
   "cell_type": "code",
   "execution_count": null,
   "id": "aa758f71-46b6-495e-9efa-661495961fd7",
   "metadata": {},
   "outputs": [],
   "source": [
    "#Create an empty list to hold filenames and dataframes\n",
    "\n",
    "OH_files = [file for file in os.listdir(elec_folder_path) if os.path.isfile(os.path.join(elec_folder_path, file)) and file.startswith('OH')]\n"
   ]
  },
  {
   "cell_type": "code",
   "execution_count": 12,
   "id": "4d87c97f-d4e3-4fd5-b168-a32aac1cd1de",
   "metadata": {
    "tags": []
   },
   "outputs": [
    {
     "name": "stdout",
     "output_type": "stream",
     "text": [
      "['Contents', 'Master', 'President', 'U.S. Congress', 'General Assembly', 'Judicial']\n",
      "['U.S. Congress']\n",
      "['Contents', 'Master', 'President', 'U.S. Congress', 'General Assembly', 'State Board of Education', 'Judicial']\n",
      "['Contents', 'Master', 'Statewide Offices', 'U.S. Congress', 'Gen Assembly', 'State Board of Education', 'Judicial']\n",
      "['Contents', 'Master', 'President and Vice President', 'U.S. Congress', 'Ohio General Assembly', 'State Board of Education', 'Judicial']\n"
     ]
    }
   ],
   "source": [
    "for i in OH_files:\n",
    "    file = pd.ExcelFile(f'{elec_folder_path}/{i}')\n",
    "    print(file.sheet_names)"
   ]
  },
  {
   "cell_type": "code",
   "execution_count": 8,
   "id": "9cca7481-04e1-4b57-bd1e-0b97aa2e10aa",
   "metadata": {
    "tags": []
   },
   "outputs": [],
   "source": [
    "OH_data = []\n",
    "\n",
    "for i in OH_files:\n",
    "    file = pd.read_excel(f'{elec_folder_path}/{i}', sheet_name='U.S. Congress', header=1)\n",
    "    \n",
    "    # Generate a name for each dataframe based on the filename without the file extension\n",
    "    name = f'{i}' \n",
    "    name = name[:-4]+'_f' \n",
    "    \n",
    "    \n",
    "    \n",
    "    # Append both to the empty list\n",
    "    OH_data.append((name, file))\n"
   ]
  },
  {
   "cell_type": "code",
   "execution_count": 17,
   "id": "a98637b7-2b28-4b56-9b40-fd165314831a",
   "metadata": {
    "tags": []
   },
   "outputs": [
    {
     "name": "stdout",
     "output_type": "stream",
     "text": [
      "OH_2012precinct._f has a shape of (9232, 56)\n",
      "Index(['County Name', 'Precinct Name', 'Precinct Code', 'Region Name',\n",
      "       'Media Market', 'Registered Voters', 'Total Voters',\n",
      "       'Turnout Percentage', 'Sherrod Brown (D)', 'Josh Mandel (R)',\n",
      "       'Scott Rupert', 'Jim Berns (L)', 'Steve Chabot (R)', 'Jeff Sinnard (D)',\n",
      "       'Rich Stevenson (G)', 'William Smith (D)', 'Brad Wenstrup (R)',\n",
      "       'Joyce Beatty (D)', 'Jeff Brown (WI)*', 'Richard Ehrbar (L)',\n",
      "       'Bob Fitrakis (G)', 'Chris Long (R)', 'Jim Jordan (R)',\n",
      "       'Chris Kalla (L)', 'Jim Slone (D)', 'Eric Eberly (L)', 'Bob Latta (R)',\n",
      "       'Angela Zimmann (D)', 'Bill Johnson (R)', 'Charlie Wilson (D)',\n",
      "       'Bob Gibbs (R)', 'Joyce Healy-Abrams (D)', 'John Boehner (R)',\n",
      "       'James Condit (WI)*', 'Marcy Kaptur (D)', 'Sean Stipe (L)',\n",
      "       'Samuel Wurzelbacher (R)', 'David Harlow (L)', 'Sharen Neuhardt (D)',\n",
      "       'Mike Turner (R)', 'Marcia Fudge (D)', 'Jim Reese (D)',\n",
      "       'Pat Tiberi (R)', 'Marisha Agana (R)', 'Tim Ryan (D)',\n",
      "       'Dale Blanchard (D)', 'David Joyce (R)', 'David Macko (L)',\n",
      "       'Elaine Mastromatteo (G)', 'Erick Robinson (WI)*',\n",
      "       'Steven Winfield (WI)*', 'Aaron Zurbrugg (WI)*', 'Pat Lang (D)',\n",
      "       'Steve Stivers (R)', 'Jim Renacci (R)', 'Betty Sutton (D)'],\n",
      "      dtype='object')\n",
      "OH_2014precinct._f has a shape of (9159, 902)\n",
      "Index(['County', 'Precinct Code', 'Precinct Name', 'Region', 'Media Market',\n",
      "       'Registered Voters', 'Total Voters', 'Edward FitzGerald (D)',\n",
      "       'John Kasich (R)', 'Anita Rios (G)',\n",
      "       ...\n",
      "       'Anthony Kendell (R)', 'Patricia A. Myers (R)', 'Donnie Barrera (R)',\n",
      "       'Lawrence A. Dordea (R)', 'George T. Maier (D)',\n",
      "       'Rachael S. Gilroy (R)', 'Angela S. McQuillen (R)', 'Pam Ferrell (D)',\n",
      "       'James N. Bahnsen (R)', 'Char Lee (R)'],\n",
      "      dtype='object', length=902)\n",
      "OH_2016precinct._f has a shape of (8889, 58)\n",
      "Index(['County Name', 'Precinct Name', 'Precinct Code', 'Region Name',\n",
      "       'Media Market', 'Registered Voters', 'Total Voters',\n",
      "       'Turnout Percentage', 'Tom Connors', 'Joseph R. DeMare (G)',\n",
      "       'Rob Portman (R)', 'Scott Rupert', 'James Stahl (WI)*',\n",
      "       'Ted Strickland (D)', 'Steve Chabot (R)', 'Sholom D. Keller (WI)*',\n",
      "       'Kiumars G. Kiani (WI)*', 'Michele Young (D)', 'Janet Everhard (WI)*',\n",
      "       'William R. Smith (D)', 'Brad Wenstrup (R)', 'John Adams (R)',\n",
      "       'Joyce Beatty (D)', 'Janet Garrett (D)', 'Jim Jordan (R)',\n",
      "       'Bob Latta (R)', 'James Neu Jr. (D)', 'Bill Johnson (R)',\n",
      "       'Michael L. Lorentz (D)', 'Bob Gibbs (R)', 'Dan Phillip',\n",
      "       'Roy Rich (D)', 'Warren Davidson (R)', 'Steven Fought (D)',\n",
      "       'Derrick James Hendricks (G)', 'Marcy Kaptur (D)',\n",
      "       'Donald P. Larson (R)', 'George Skalsky (WI)*', 'David A. Harlow (WI)*',\n",
      "       'Robert Klepinger (D)', 'Tom McMasters', 'Mike Turner (R)',\n",
      "       'Marcia L. Fudge (D)', 'Beverly A. Goldstein (R)', 'Ed Albertson (D)',\n",
      "       'John J. Baumeister (WI)*', 'Joe Manchik (G)', 'Pat Tiberi (R)',\n",
      "       'Calvin Hill Sr. (WI)*', 'Richard A. Morckel (R)', 'Tim Ryan (D)',\n",
      "       'Andrew Jarvi (WI)*', 'David P. Joyce (R)', 'Michael Wager (D)',\n",
      "       'Steve Stivers (R)', 'Scott Wharton (D)', 'Keith Mundy (D)',\n",
      "       'Jim Renacci (R)'],\n",
      "      dtype='object')\n",
      "OH_2018precinct._f has a shape of (8906, 55)\n",
      "Index(['County Name', 'Precinct Name', 'Precinct Code', 'Region Name',\n",
      "       'Media Market', 'Registered Voters', 'Total Voters',\n",
      "       'Turnout Percentage', 'Sherrod Brown (D)', 'Stephen Faris (WI)*',\n",
      "       'Jim Renacci (R)', 'Steve Chabot (R)', 'Kiumars Kiani (WI)*',\n",
      "       'Dirk Kubala (L)', 'Aftab Pureval (D)', 'David Baker (WI)*',\n",
      "       'James J. Condit Jr (G)', 'Jill Schiller (D)', 'Brad Wenstrup (R)',\n",
      "       'Joyce Beatty (D)', 'Jim Burgess (R)', 'Millie Milam (WI)*',\n",
      "       'Janet Garrett (D)', 'Jim Jordan (R)', 'J. Michael Galbraith (D)',\n",
      "       'Don Kissick (L)', 'Bob Latta (R)', 'Bill Johnson (R)',\n",
      "       'Shawna Roberts (D)', 'Bob Gibbs (R)', 'Ken Harbaugh (D)',\n",
      "       'Warren Davidson (R)', 'Vanessa Enoch (D)', 'Marcy Kaptur (D)',\n",
      "       'Steven W. Kraus (R)', 'McKenzie Levindofske (WI)*',\n",
      "       'Theresa A. Gasper (D)', 'David A. Harlow (L)', 'Mike Turner (R)',\n",
      "       'James Jerome Bell (WI)*', 'Marcia L. Fudge (D)',\n",
      "       'Beverly A. Goldstein (R)', 'Troy Balderson (R)', 'Marc Fagin (WI)*',\n",
      "       'Joe Manchik (G)', 'Danny O'Connor (D)', 'Chris DePizzo (R)',\n",
      "       'Tim Ryan (D)', 'David P. Joyce (R)', 'Betsy Rader (D)',\n",
      "       'Johnathan Miller (L)', 'Rick Neal (D)', 'Steve Stivers (R)',\n",
      "       'Anthony Gonzalez (R)', 'Susan Moran Palmer (D)'],\n",
      "      dtype='object')\n",
      "OH_2020precinct._f has a shape of (8935, 52)\n",
      "Index(['County Name', 'Precinct Name', 'Precinct Code', 'Region Name',\n",
      "       'Media Market', 'Registered Voters', 'Ballots Counted',\n",
      "       'Official Voter Turnout', 'Steve Chabot (R)', 'Kevin David Kahn (L)',\n",
      "       'Kiumars Kiani (WI)*', 'Kate Schroder (D)', 'Jaime M. Castle (D)',\n",
      "       'James J. Condit Jr (WI)*', 'Brad Wenstrup (R)', 'Joyce Beatty (D)',\n",
      "       'Angela Davis (WI)*', 'Nicholas D. Moss (WI)*',\n",
      "       'Mark F. Richardson (R)', 'Shannon M. Freshour (D)', 'Jim Jordan (R)',\n",
      "       'Steve Perkins (L)', 'Bob Latta (R)', 'Nick Rubando (D)',\n",
      "       'Bill Johnson (R)', 'Shawna Roberts (D)', 'Bob Gibbs (R)',\n",
      "       'Brandon Lape (L)', 'Quentin Potter (D)', 'Warren Davidson (R)',\n",
      "       'Vanessa Enoch (D)', 'Isaac Reed (WI)*', 'Marcy Kaptur (D)',\n",
      "       'McKenzie Levindofske (WI)*', 'Rob Weber (R)', 'Desiree Tims (D)',\n",
      "       'Mike Turner (R)', 'Marcia L. Fudge (D)', 'Laverne Gore (R)',\n",
      "       'Troy Balderson (R)', 'Alaina Shearer (D)', 'John S. Stewart (L)',\n",
      "       'Michael Fricke (L)', 'Christina M. Hagan (R)', 'Tim Ryan (D)',\n",
      "       'David P. Joyce (R)', 'Hillary O'Connor Mueri (D)',\n",
      "       'Shane Hoffman (WI)*', 'Joel Newby (D)', 'Steve Stivers (R)',\n",
      "       'Aaron Paul Godfrey (D)', 'Anthony Gonzalez (R)'],\n",
      "      dtype='object')\n"
     ]
    }
   ],
   "source": [
    "for i in OH_data:\n",
    "    print(f\"{i[0]} has a shape of {i[1].shape}\")\n",
    "    print(i[1].columns)"
   ]
  },
  {
   "cell_type": "code",
   "execution_count": 1,
   "id": "968a3967-232e-4743-9a31-4f6b026273d0",
   "metadata": {},
   "outputs": [],
   "source": [
    "# The Ohio data appears to be formatted with rows for each county and precinct, and columns for each Candidate (amongst other columns of data)\n",
    "# While the Candidates here are identified with the party initial, in the interest of consistency we should format them to only have the candidate names\n",
    "# since we will be getting the party IDs from the FEC data\n",
    "\n",
    "## The final format will also have to match the IRS data, meaning that we will need to retain the orientation of the data (rows for each county)\n",
    "\n",
    "# Our goals for formatting this data will be - \n",
    "## Build a dataframe with columns for each Candidate containing:\n",
    "\n",
    "### Vote totals broken down by county\n",
    "\n",
    "### Party ID for that Candidate\n",
    "\n",
    "### A binary marker for Incumbant/Challenger\n",
    "#### These last two will provide the keys to merging candidate vote totals, since our depended variables in the initially-proposed analysis will be 'Vote Total for Incumbents' and 'Vote Total for Challengers'\n",
    "#### Tagging candidates by Party ID will allow future analysis to examine effects of party popularity on the IRS and vote-total data\n",
    "\n",
    "## The list of columns should be reduced to:\n",
    "\n",
    "### County names\n",
    "#### This will be the Primary Key for merging the IRS data\n",
    "#### These counties should be formatted in all lowercase to match the IRS data and to avoid any inconsistencies with naming conventions year-to-year\n",
    "\n",
    "### Canddidate names\n",
    "#### Each candidate should have their name formatted to match the FEC data, the simplest of which is "
   ]
  },
  {
   "cell_type": "code",
   "execution_count": null,
   "id": "34a3a65e-b259-4329-a61a-0f355edcd8ec",
   "metadata": {},
   "outputs": [],
   "source": [
    "def format_OH(data):\n",
    "    \"\"\"\n",
    "    This function is build to prepare election data from the Ohio Sec. of State \n",
    "    \"\"\"\n",
    "    \n",
    "    col_dic = {'County Name':'County'} #column names to reformat\n",
    "    bad_counties = ['Total','Percentage'] #rows with totals rather than county data\n",
    "    \n",
    "    #remove general information about the election, we only want the details about each canddidate, OH marks candidates by party or * if write-in\n",
    "    candidates = [i for i in data.columns if i.endswith(')') or i.endswith('*')] #gets list of candidates\n",
    "    data = data.rename(columns=col_dic) \n",
    "    \n",
    "    #Add the renamed 'County' column (always 1st column) to our list of candidates\n",
    "    candidates.insert(0, data.columns[0])\n",
    "    \n",
    "    #use defined \"bad terms\" to remove unneeded information from the table\n",
    "    data = data[~data['County'].isin(bad_counties)].copy()\n",
    "    \n",
    "    #future cases may want to split the flow here, to evauluate other races than House races\n",
    "    data_copy = data[candidates].copy()\n",
    "    \n",
    "     #apply trim_party to get just candidate names w/o party designation\n",
    "    data_copy.columns = trim_party(data_copy.columns)\n",
    "    \n",
    "    #ensure all column names will be compatable with the FEC data for future mergers\n",
    "    ###\n",
    "    ### NOTE - this step will be complicated for states that have candidates with the same first and last name running - edge cases, but must be accounted for in the future\n",
    "    ###\n",
    "    data_copy.columns = remove_middle_name(list(data_copy.columns))\n",
    "    #OH reports by precinct, we only need data by 'County'\n",
    "    data_copy = data_copy.groupby('County').sum().reset_index()\n",
    "    return data_copy"
   ]
  }
 ],
 "metadata": {
  "kernelspec": {
   "display_name": "Python 3 (ipykernel)",
   "language": "python",
   "name": "python3"
  },
  "language_info": {
   "codemirror_mode": {
    "name": "ipython",
    "version": 3
   },
   "file_extension": ".py",
   "mimetype": "text/x-python",
   "name": "python",
   "nbconvert_exporter": "python",
   "pygments_lexer": "ipython3",
   "version": "3.11.5"
  }
 },
 "nbformat": 4,
 "nbformat_minor": 5
}
