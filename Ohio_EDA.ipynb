{
 "cells": [
  {
   "cell_type": "code",
   "execution_count": 1,
   "id": "16bc24d7-3c4a-48e9-b43c-be242bc2db7b",
   "metadata": {
    "tags": []
   },
   "outputs": [],
   "source": [
    "import numpy as np\n",
    "import pandas as pd\n",
    "from src.modules import *\n",
    "import os"
   ]
  },
  {
   "cell_type": "code",
   "execution_count": 2,
   "id": "0c9d23db-dd8e-4970-84e1-1cc5ebbfcfef",
   "metadata": {},
   "outputs": [],
   "source": [
    "# All raw election data is stored in the same folder, ordered by the State abbreviation.\n",
    "\n",
    "elec_folder_path = 'data/raw_elec_totals'\n",
    "\n",
    "OH_files = [file for file in os.listdir(elec_folder_path) if os.path.isfile(os.path.join(elec_folder_path, file)) and file.startswith('OH')]\n",
    "\n",
    "#create empty list to hold OH formatted dataframes\n",
    "formatted_OH = [] \n",
    "OH_names = []"
   ]
  },
  {
   "cell_type": "code",
   "execution_count": 3,
   "id": "4d87c97f-d4e3-4fd5-b168-a32aac1cd1de",
   "metadata": {
    "tags": []
   },
   "outputs": [
    {
     "name": "stdout",
     "output_type": "stream",
     "text": [
      "['Contents', 'Master', 'President', 'U.S. Congress', 'General Assembly', 'Judicial']\n",
      "['U.S. Congress']\n",
      "['Contents', 'Master', 'President', 'U.S. Congress', 'General Assembly', 'State Board of Education', 'Judicial']\n",
      "['Contents', 'Master', 'Statewide Offices', 'U.S. Congress', 'Gen Assembly', 'State Board of Education', 'Judicial']\n",
      "['Contents', 'Master', 'President and Vice President', 'U.S. Congress', 'Ohio General Assembly', 'State Board of Education', 'Judicial']\n"
     ]
    }
   ],
   "source": [
    "# Get a list of sheetnames in the OH data files\n",
    "for i in OH_files:\n",
    "    file = pd.ExcelFile(f'{elec_folder_path}/{i}')\n",
    "    print(file.sheet_names)"
   ]
  },
  {
   "cell_type": "code",
   "execution_count": 4,
   "id": "9cca7481-04e1-4b57-bd1e-0b97aa2e10aa",
   "metadata": {
    "tags": []
   },
   "outputs": [],
   "source": [
    "OH_data = []\n",
    "\n",
    "for i in OH_files:\n",
    "    file = pd.read_excel(f'{elec_folder_path}/{i}', sheet_name='U.S. Congress', header=1)\n",
    "    \n",
    "    # Generate a name for each dataframe based on the filename without the file extension\n",
    "    name = f'{i}' \n",
    "    name = name[:-4]+'_f' \n",
    "    \n",
    "    \n",
    "    \n",
    "    # Append both to the empty list\n",
    "    OH_data.append((name, file))\n"
   ]
  },
  {
   "cell_type": "code",
   "execution_count": 5,
   "id": "a98637b7-2b28-4b56-9b40-fd165314831a",
   "metadata": {
    "tags": []
   },
   "outputs": [
    {
     "name": "stdout",
     "output_type": "stream",
     "text": [
      "OH_2012precinct._f has a shape of (9232, 56)\n",
      "Index(['County Name', 'Precinct Name', 'Precinct Code', 'Region Name',\n",
      "       'Media Market', 'Registered Voters', 'Total Voters',\n",
      "       'Turnout Percentage', 'Sherrod Brown (D)', 'Josh Mandel (R)',\n",
      "       'Scott Rupert', 'Jim Berns (L)', 'Steve Chabot (R)', 'Jeff Sinnard (D)',\n",
      "       'Rich Stevenson (G)', 'William Smith (D)', 'Brad Wenstrup (R)',\n",
      "       'Joyce Beatty (D)', 'Jeff Brown (WI)*', 'Richard Ehrbar (L)',\n",
      "       'Bob Fitrakis (G)', 'Chris Long (R)', 'Jim Jordan (R)',\n",
      "       'Chris Kalla (L)', 'Jim Slone (D)', 'Eric Eberly (L)', 'Bob Latta (R)',\n",
      "       'Angela Zimmann (D)', 'Bill Johnson (R)', 'Charlie Wilson (D)',\n",
      "       'Bob Gibbs (R)', 'Joyce Healy-Abrams (D)', 'John Boehner (R)',\n",
      "       'James Condit (WI)*', 'Marcy Kaptur (D)', 'Sean Stipe (L)',\n",
      "       'Samuel Wurzelbacher (R)', 'David Harlow (L)', 'Sharen Neuhardt (D)',\n",
      "       'Mike Turner (R)', 'Marcia Fudge (D)', 'Jim Reese (D)',\n",
      "       'Pat Tiberi (R)', 'Marisha Agana (R)', 'Tim Ryan (D)',\n",
      "       'Dale Blanchard (D)', 'David Joyce (R)', 'David Macko (L)',\n",
      "       'Elaine Mastromatteo (G)', 'Erick Robinson (WI)*',\n",
      "       'Steven Winfield (WI)*', 'Aaron Zurbrugg (WI)*', 'Pat Lang (D)',\n",
      "       'Steve Stivers (R)', 'Jim Renacci (R)', 'Betty Sutton (D)'],\n",
      "      dtype='object')\n",
      "OH_2014precinct._f has a shape of (9159, 902)\n",
      "Index(['County', 'Precinct Code', 'Precinct Name', 'Region', 'Media Market',\n",
      "       'Registered Voters', 'Total Voters', 'Edward FitzGerald (D)',\n",
      "       'John Kasich (R)', 'Anita Rios (G)',\n",
      "       ...\n",
      "       'Anthony Kendell (R)', 'Patricia A. Myers (R)', 'Donnie Barrera (R)',\n",
      "       'Lawrence A. Dordea (R)', 'George T. Maier (D)',\n",
      "       'Rachael S. Gilroy (R)', 'Angela S. McQuillen (R)', 'Pam Ferrell (D)',\n",
      "       'James N. Bahnsen (R)', 'Char Lee (R)'],\n",
      "      dtype='object', length=902)\n",
      "OH_2016precinct._f has a shape of (8889, 58)\n",
      "Index(['County Name', 'Precinct Name', 'Precinct Code', 'Region Name',\n",
      "       'Media Market', 'Registered Voters', 'Total Voters',\n",
      "       'Turnout Percentage', 'Tom Connors', 'Joseph R. DeMare (G)',\n",
      "       'Rob Portman (R)', 'Scott Rupert', 'James Stahl (WI)*',\n",
      "       'Ted Strickland (D)', 'Steve Chabot (R)', 'Sholom D. Keller (WI)*',\n",
      "       'Kiumars G. Kiani (WI)*', 'Michele Young (D)', 'Janet Everhard (WI)*',\n",
      "       'William R. Smith (D)', 'Brad Wenstrup (R)', 'John Adams (R)',\n",
      "       'Joyce Beatty (D)', 'Janet Garrett (D)', 'Jim Jordan (R)',\n",
      "       'Bob Latta (R)', 'James Neu Jr. (D)', 'Bill Johnson (R)',\n",
      "       'Michael L. Lorentz (D)', 'Bob Gibbs (R)', 'Dan Phillip',\n",
      "       'Roy Rich (D)', 'Warren Davidson (R)', 'Steven Fought (D)',\n",
      "       'Derrick James Hendricks (G)', 'Marcy Kaptur (D)',\n",
      "       'Donald P. Larson (R)', 'George Skalsky (WI)*', 'David A. Harlow (WI)*',\n",
      "       'Robert Klepinger (D)', 'Tom McMasters', 'Mike Turner (R)',\n",
      "       'Marcia L. Fudge (D)', 'Beverly A. Goldstein (R)', 'Ed Albertson (D)',\n",
      "       'John J. Baumeister (WI)*', 'Joe Manchik (G)', 'Pat Tiberi (R)',\n",
      "       'Calvin Hill Sr. (WI)*', 'Richard A. Morckel (R)', 'Tim Ryan (D)',\n",
      "       'Andrew Jarvi (WI)*', 'David P. Joyce (R)', 'Michael Wager (D)',\n",
      "       'Steve Stivers (R)', 'Scott Wharton (D)', 'Keith Mundy (D)',\n",
      "       'Jim Renacci (R)'],\n",
      "      dtype='object')\n",
      "OH_2018precinct._f has a shape of (8906, 55)\n",
      "Index(['County Name', 'Precinct Name', 'Precinct Code', 'Region Name',\n",
      "       'Media Market', 'Registered Voters', 'Total Voters',\n",
      "       'Turnout Percentage', 'Sherrod Brown (D)', 'Stephen Faris (WI)*',\n",
      "       'Jim Renacci (R)', 'Steve Chabot (R)', 'Kiumars Kiani (WI)*',\n",
      "       'Dirk Kubala (L)', 'Aftab Pureval (D)', 'David Baker (WI)*',\n",
      "       'James J. Condit Jr (G)', 'Jill Schiller (D)', 'Brad Wenstrup (R)',\n",
      "       'Joyce Beatty (D)', 'Jim Burgess (R)', 'Millie Milam (WI)*',\n",
      "       'Janet Garrett (D)', 'Jim Jordan (R)', 'J. Michael Galbraith (D)',\n",
      "       'Don Kissick (L)', 'Bob Latta (R)', 'Bill Johnson (R)',\n",
      "       'Shawna Roberts (D)', 'Bob Gibbs (R)', 'Ken Harbaugh (D)',\n",
      "       'Warren Davidson (R)', 'Vanessa Enoch (D)', 'Marcy Kaptur (D)',\n",
      "       'Steven W. Kraus (R)', 'McKenzie Levindofske (WI)*',\n",
      "       'Theresa A. Gasper (D)', 'David A. Harlow (L)', 'Mike Turner (R)',\n",
      "       'James Jerome Bell (WI)*', 'Marcia L. Fudge (D)',\n",
      "       'Beverly A. Goldstein (R)', 'Troy Balderson (R)', 'Marc Fagin (WI)*',\n",
      "       'Joe Manchik (G)', 'Danny O'Connor (D)', 'Chris DePizzo (R)',\n",
      "       'Tim Ryan (D)', 'David P. Joyce (R)', 'Betsy Rader (D)',\n",
      "       'Johnathan Miller (L)', 'Rick Neal (D)', 'Steve Stivers (R)',\n",
      "       'Anthony Gonzalez (R)', 'Susan Moran Palmer (D)'],\n",
      "      dtype='object')\n",
      "OH_2020precinct._f has a shape of (8935, 52)\n",
      "Index(['County Name', 'Precinct Name', 'Precinct Code', 'Region Name',\n",
      "       'Media Market', 'Registered Voters', 'Ballots Counted',\n",
      "       'Official Voter Turnout', 'Steve Chabot (R)', 'Kevin David Kahn (L)',\n",
      "       'Kiumars Kiani (WI)*', 'Kate Schroder (D)', 'Jaime M. Castle (D)',\n",
      "       'James J. Condit Jr (WI)*', 'Brad Wenstrup (R)', 'Joyce Beatty (D)',\n",
      "       'Angela Davis (WI)*', 'Nicholas D. Moss (WI)*',\n",
      "       'Mark F. Richardson (R)', 'Shannon M. Freshour (D)', 'Jim Jordan (R)',\n",
      "       'Steve Perkins (L)', 'Bob Latta (R)', 'Nick Rubando (D)',\n",
      "       'Bill Johnson (R)', 'Shawna Roberts (D)', 'Bob Gibbs (R)',\n",
      "       'Brandon Lape (L)', 'Quentin Potter (D)', 'Warren Davidson (R)',\n",
      "       'Vanessa Enoch (D)', 'Isaac Reed (WI)*', 'Marcy Kaptur (D)',\n",
      "       'McKenzie Levindofske (WI)*', 'Rob Weber (R)', 'Desiree Tims (D)',\n",
      "       'Mike Turner (R)', 'Marcia L. Fudge (D)', 'Laverne Gore (R)',\n",
      "       'Troy Balderson (R)', 'Alaina Shearer (D)', 'John S. Stewart (L)',\n",
      "       'Michael Fricke (L)', 'Christina M. Hagan (R)', 'Tim Ryan (D)',\n",
      "       'David P. Joyce (R)', 'Hillary O'Connor Mueri (D)',\n",
      "       'Shane Hoffman (WI)*', 'Joel Newby (D)', 'Steve Stivers (R)',\n",
      "       'Aaron Paul Godfrey (D)', 'Anthony Gonzalez (R)'],\n",
      "      dtype='object')\n"
     ]
    }
   ],
   "source": [
    "for i in OH_data:\n",
    "    print(f\"{i[0]} has a shape of {i[1].shape}\")\n",
    "    print(i[1].columns)"
   ]
  },
  {
   "cell_type": "code",
   "execution_count": 6,
   "id": "968a3967-232e-4743-9a31-4f6b026273d0",
   "metadata": {},
   "outputs": [],
   "source": [
    "# The Ohio data appears to be formatted with rows for each county and precinct, and columns for each Candidate (amongst other columns of data)\n",
    "# While the Candidates here are identified with the party initial, in the interest of consistency we should format them to only have the candidate names\n",
    "# since we will be getting the party IDs from the FEC data\n",
    "\n",
    "## The final format will also have to match the IRS data, meaning that we will need to retain the orientation of the data (rows for each county)\n",
    "\n",
    "# Our goals for formatting this data will be - \n",
    "## Build a dataframe with columns for each Candidate containing:\n",
    "\n",
    "### Vote totals broken down by county\n",
    "\n",
    "### Party ID for that Candidate\n",
    "\n",
    "### A binary marker for Incumbant/Challenger\n",
    "#### These last two will provide the keys to merging candidate vote totals, since our depended variables in the initially-proposed analysis will be 'Vote Total for Incumbents' and 'Vote Total for Challengers'\n",
    "#### Tagging candidates by Party ID will allow future analysis to examine effects of party popularity on the IRS and vote-total data\n",
    "\n",
    "## The list of columns should be reduced to:\n",
    "\n",
    "### County names\n",
    "#### This will be the Primary Key for merging the IRS data\n",
    "#### These counties should be formatted in all lowercase to match the IRS data and to avoid any inconsistencies with naming conventions year-to-year\n",
    "\n",
    "### Canddidate names\n",
    "#### Each candidate should have their name formatted to match the FEC data while avoiding differences in formatting between States ('Lastname, Firstname' vs 'Firstname M. Lastname' vs. 'Firstname Middlename Lastname' vs. '(Title) Firsname Lastname(, Jr.)', etc etc) and year-to-year\n",
    "#### Anticipated diffrerences include name suffixes (\"Jr., Sr.\") and titles (\"Dr.\") which are inculded inconsistently across the datasets\n",
    "#### The formatting initially agreed on is 'Firstname Lastname' to balance legibility, consistency, and ease\n",
    "##### EXPECTED ISSUES: It is conceivable that candidates will have the same first and last names within a given year\n",
    "##### Because we are transforming the data for each State in each year before joining, replacing Candidate names with Party ID and Incumbancy means that data is unlikely to become polluted by merging vote totals for candidates with the same simplified name.\n",
    "##### None the less, future analysis may benefit from developing more rigorous methods of ensuring this pollution cannot occur"
   ]
  },
  {
   "cell_type": "code",
   "execution_count": 7,
   "id": "782aa83c-25d0-4e6e-bf42-c0fa2815d4b8",
   "metadata": {
    "tags": []
   },
   "outputs": [
    {
     "name": "stdout",
     "output_type": "stream",
     "text": [
      "OH_2012precinct._f has 90 unique counties\n",
      "OH_2014precinct._f has 89 unique counties\n",
      "OH_2016precinct._f has 90 unique counties\n",
      "OH_2018precinct._f has 90 unique counties\n",
      "OH_2020precinct._f has 90 unique counties\n"
     ]
    }
   ],
   "source": [
    "# Before proceeding with general formatting, we will check the health of the data, esp. with regards to the consistency of county names\n",
    "for year, i in OH_data:\n",
    "    county_col = [col for col in i.columns if col.startswith('County')]\n",
    "    print(f\"{year} has {i[county_col[0]].nunique()} unique counties\")"
   ]
  },
  {
   "cell_type": "code",
   "execution_count": 8,
   "id": "8c8e477e-499e-4c24-b681-2b5c396a8c90",
   "metadata": {},
   "outputs": [],
   "source": [
    "# We know (internet) that Ohio has 88 counties, so we expect any additional entries in the 'Coutny' data field to be aggregate totals or something similar"
   ]
  },
  {
   "cell_type": "code",
   "execution_count": 9,
   "id": "cbcd951b-a721-4f57-a8da-b8cf9de2f3be",
   "metadata": {
    "tags": []
   },
   "outputs": [
    {
     "name": "stdout",
     "output_type": "stream",
     "text": [
      "['Adams', 'Allen', 'Ashland', 'Ashtabula', 'Athens', 'Auglaize', 'Belmont', 'Brown', 'Butler', 'Carroll', 'Champaign', 'Clark', 'Clermont', 'Clinton', 'Columbiana', 'Coshocton', 'Crawford', 'Cuyahoga', 'Darke', 'Defiance', 'Delaware', 'Erie', 'Fairfield', 'Fayette', 'Franklin', 'Fulton', 'Gallia', 'Geauga', 'Greene', 'Guernsey', 'Hamilton', 'Hancock', 'Hardin', 'Harrison', 'Henry', 'Highland', 'Hocking', 'Holmes', 'Huron', 'Jackson', 'Jefferson', 'Knox', 'Lake', 'Lawrence', 'Licking', 'Logan', 'Lorain', 'Lucas', 'Madison', 'Mahoning', 'Marion', 'Medina', 'Meigs', 'Mercer', 'Miami', 'Monroe', 'Montgomery', 'Morgan', 'Morrow', 'Muskingum', 'Noble', 'Ottawa', 'Paulding', 'Perry', 'Pickaway', 'Pike', 'Portage', 'Preble', 'Putnam', 'Richland', 'Ross', 'Sandusky', 'Scioto', 'Seneca', 'Shelby', 'Stark', 'Summit', 'Total', 'Trumbull', 'Tuscarawas', 'Union', 'Van Wert', 'Vinton', 'Warren', 'Washington', 'Wayne', 'Williams', 'Wood', 'Wyandot']\n",
      "89\n"
     ]
    }
   ],
   "source": [
    "# # Similar to our examination of the IRS data, we will build a list of County Names common to all years and quickly examine it for the expected aggregate fields\n",
    "common_counties = set(OH_data[0][1]['County Name'].tolist())\n",
    "\n",
    "for year, i in OH_data[1:]:\n",
    "    county_col = [col for col in i.columns if col.startswith('County')]  # Get the name of the column containing county names\n",
    "    common_counties = common_counties.intersection(set(i[county_col[0]].tolist()))\n",
    "common_counties = list(common_counties)\n",
    "common_counties.sort()\n",
    "print(common_counties)\n",
    "print(len(common_counties))"
   ]
  },
  {
   "cell_type": "code",
   "execution_count": 10,
   "id": "a0b69df3-0c76-446f-b18e-fd278587750c",
   "metadata": {},
   "outputs": [],
   "source": [
    "# The total length of '89' for this confirms (at least superficially) that we have all of the counties, plus an extra common to all datasets\n",
    "# As expected, we easily spot a 'Total' in there\n",
    "# To find the other +1 contained only in the 2012 and 2016-2020 data, we'll drop 'Total' and print all strings not found in the 2014 data\n"
   ]
  },
  {
   "cell_type": "code",
   "execution_count": 11,
   "id": "f940d6d9-5369-4498-8d8b-27732f7933a9",
   "metadata": {},
   "outputs": [],
   "source": [
    "# Now is also a good time to mention that our data here is split by precinct, with each county having multiple precincts:"
   ]
  },
  {
   "cell_type": "code",
   "execution_count": 12,
   "id": "1323a754-cc1f-4ea5-ad5f-1834ab8a6c16",
   "metadata": {
    "tags": []
   },
   "outputs": [
    {
     "name": "stdout",
     "output_type": "stream",
     "text": [
      "0                  NaN\n",
      "1                  NaN\n",
      "2     0101 BRATTON TWP\n",
      "3     0201 CEDAR MILLS\n",
      "4            0301 LYNX\n",
      "5    0401 LOCUST GROVE\n",
      "6       0601 GREEN TWP\n",
      "7    0501 ROME VILLAGE\n",
      "8     0701 CHURN CREEK\n",
      "9         0801 WAMSLEY\n",
      "Name: Precinct Name, dtype: object\n",
      "0                      NaN\n",
      "1         BRATTON TOWNSHIP\n",
      "2          BRUSH CREEK TWP\n",
      "3           GREEN TOWNSHIP\n",
      "4            JEFFERSON TWP\n",
      "5            LIBERTY NORTH\n",
      "6            LIBERTY SOUTH\n",
      "7             LOCUST GROVE\n",
      "8    MANCHESTER UNITED TWP\n",
      "9           MEIGS TOWNSHIP\n",
      "Name: Precinct Name, dtype: object\n",
      "0                           NaN\n",
      "1                           NaN\n",
      "2              BRATTON TOWNSHIP\n",
      "3          BRUSH CREEK TOWNSHIP\n",
      "4                  LOCUST GROVE\n",
      "5                GREEN TOWNSHIP\n",
      "6            JEFFERSON TOWNSHIP\n",
      "7                 LIBERTY SOUTH\n",
      "8    MANCHESTER UNITED TOWNSHIP\n",
      "9                MEIGS TOWNSHIP\n",
      "Name: Precinct Name, dtype: object\n",
      "0                           NaN\n",
      "1                           NaN\n",
      "2              BRATTON TOWNSHIP\n",
      "3          BRUSH CREEK TOWNSHIP\n",
      "4                  LOCUST GROVE\n",
      "5                GREEN TOWNSHIP\n",
      "6            JEFFERSON TOWNSHIP\n",
      "7              LIBERTY TOWNSHIP\n",
      "8    MANCHESTER UNITED TOWNSHIP\n",
      "9                MEIGS TOWNSHIP\n",
      "Name: Precinct Name, dtype: object\n",
      "0                           NaN\n",
      "1                           NaN\n",
      "2              BRATTON TOWNSHIP\n",
      "3          BRUSH CREEK TOWNSHIP\n",
      "4                  LOCUST GROVE\n",
      "5                GREEN TOWNSHIP\n",
      "6            JEFFERSON TOWNSHIP\n",
      "7              LIBERTY TOWNSHIP\n",
      "8    MANCHESTER UNITED TOWNSHIP\n",
      "9                MEIGS TOWNSHIP\n",
      "Name: Precinct Name, dtype: object\n"
     ]
    }
   ],
   "source": [
    "for year, i in OH_data:\n",
    "    print(i['Precinct Name'].head(10))"
   ]
  },
  {
   "cell_type": "code",
   "execution_count": 13,
   "id": "15202b93-43dc-4729-93fb-848b6ecc79f6",
   "metadata": {},
   "outputs": [],
   "source": [
    "# So for the final dataframe we will just need to group the vote-totals by County"
   ]
  },
  {
   "cell_type": "code",
   "execution_count": 14,
   "id": "93cecd83-81df-4856-94a0-d55e15a0b31f",
   "metadata": {
    "tags": []
   },
   "outputs": [
    {
     "name": "stdout",
     "output_type": "stream",
     "text": [
      "Percentage\n",
      "Percentage\n",
      "Percentage\n",
      "Percentage\n"
     ]
    }
   ],
   "source": [
    "base_data = OH_data[1][1]['County'].tolist()\n",
    "\n",
    "sample_datasets = OH_data[:1] + OH_data[2:]\n",
    "for year, i in sample_datasets:\n",
    "    current_counties = i['County Name'].tolist()\n",
    "    for county in current_counties:\n",
    "        if county not in base_data:\n",
    "            print(county)"
   ]
  },
  {
   "cell_type": "code",
   "execution_count": 15,
   "id": "f4ac6229-9a1b-4ff8-ae2f-b874cd6d110c",
   "metadata": {
    "tags": []
   },
   "outputs": [],
   "source": [
    "# We'll need to drop rows with 'Total' and 'Percentage' as the County name to be left with only data for the 88 counties in Ohio\n",
    "# But this should be verified with the IRS data to ensure that there are no differences in formatting or spelling errors"
   ]
  },
  {
   "cell_type": "code",
   "execution_count": 16,
   "id": "d98107c1-b5df-4ec5-8f5c-b69920d1188a",
   "metadata": {},
   "outputs": [],
   "source": [
    "# To format the candidate names in the Ohio data, we will build a general purpose function to trim the party identifier, which in the OH data is bracketed by '()' or '()*' \n",
    "# We can also use this fact to pull all candidate names from the columns by creating a list of column names filtering those ending in ')' or '*'"
   ]
  },
  {
   "cell_type": "code",
   "execution_count": 31,
   "id": "713fb1c8-fc26-4fee-adbd-58fcd648c5fb",
   "metadata": {},
   "outputs": [],
   "source": [
    "def trim_party(data,delimiter='('):\n",
    "    \"\"\"\n",
    "    this function will remove party designations for candidate names with the format used by the OH SoS, unless a different delimiter is called\n",
    "    can also be used to split and return just first names from first name columns with middle names \n",
    "    \"\"\"\n",
    "    data_split = [cand.split(delimiter) for cand in data]\n",
    "    cand_name = [cand[0] for cand in data_split]\n",
    "    cand_name = [cand.strip() for cand in cand_name]\n",
    "    return cand_name"
   ]
  },
  {
   "cell_type": "code",
   "execution_count": null,
   "id": "3bde5168-0bb9-4671-8463-e8721bcf7ad3",
   "metadata": {},
   "outputs": [],
   "source": [
    "# A cursory look at the candidate names also reveals that some have their middle initial.\n",
    "# We will use a function to remove this, creating a candidate name containing only the first and last words after striping any other titles or markers"
   ]
  },
  {
   "cell_type": "code",
   "execution_count": null,
   "id": "3eb12965-4210-4637-b885-5269039dab4d",
   "metadata": {},
   "outputs": [],
   "source": [
    "def remove_middle_name(data):\n",
    "    \"\"\"this will return the start and end of a split item,\n",
    "    built to remove middle names and titles from full name columns \"\"\"\n",
    "    no_middle = []\n",
    "    for i in data:\n",
    "        if len(i.split()) > 1:\n",
    "            if i.split()[-1][-1] == '.': #will call the line below, skipping any titles appended to last names ending in '.'\n",
    "                no_middle.append(i.split()[0] + ' ' + i.split()[-2])\n",
    "            elif i.split()[-1].lower() == 'jr': #evauluating on .lower() ensures any changes in case between datasets will be ignored\n",
    "                no_middle.append(i.split()[0] + ' ' + i.split()[-2])\n",
    "            elif i.split()[-1].lower() == 'sr':\n",
    "                no_middle.append(i.split()[0] + ' ' + i.split()[-2])\n",
    "            else:\n",
    "                no_middle.append(i.split()[0] + ' ' + i.split()[-1]) #default format is assumned to be 'Firstname Lastname'\n",
    "        else:\n",
    "            no_middle.append(i) #accounts for items without spaces, expected to be 'County' when applied to the assumed datasets.\n",
    "    return no_middle\n"
   ]
  },
  {
   "cell_type": "code",
   "execution_count": 28,
   "id": "34a3a65e-b259-4329-a61a-0f355edcd8ec",
   "metadata": {},
   "outputs": [],
   "source": [
    "def format_OH(data):\n",
    "    \"\"\"\n",
    "    This function is build to prepare election data from the Ohio Sec. of State \n",
    "    \"\"\"\n",
    "    \n",
    "    col_dic = {'County Name':'County'} #column names to reformat, ensuring that the column containing County name data is always the same\n",
    "    bad_counties = ['Total','Percentage'] #rows with aggregate rather than county data\n",
    "    \n",
    "    #remove general information about the election, we only want the details about each canddidate, OH marks candidates by party or * if write-in\n",
    "    candidates = [i for i in data.columns if i.endswith(')') or i.endswith('*')] #gets list of candidates\n",
    "    data = data.rename(columns=col_dic) \n",
    "    \n",
    "    #Add the renamed 'County' column (always 1st column) to our list of candidates\n",
    "    candidates.insert(0, data.columns[0])\n",
    "    \n",
    "    #use defined \"bad terms\" to remove unneeded information from the table\n",
    "    data = data[~data['County'].isin(bad_counties)].copy()\n",
    "    \n",
    "    #future cases may want to split the flow here, to evauluate other races than House races\n",
    "    data_copy = data[candidates].copy()\n",
    "    \n",
    "     #apply trim_party to get just candidate names w/o party designation\n",
    "    data_copy.columns = trim_party(data_copy.columns)\n",
    "    \n",
    "    #ensure all column names will be compatable with the FEC data for future mergers\n",
    "    ###\n",
    "    ### NOTE - this step will be complicated for states that have candidates with the same first and last name running - edge cases, but must be accounted for in the future\n",
    "    ###\n",
    "    data_copy.columns = remove_middle_name(list(data_copy.columns))\n",
    "    #OH reports by precinct, we only need data by 'County'\n",
    "    data_copy = data_copy.groupby('County').sum().reset_index()\n",
    "    return data_copy"
   ]
  },
  {
   "cell_type": "code",
   "execution_count": null,
   "id": "f094c4f4-4bf7-4698-8536-a362c3a6d538",
   "metadata": {},
   "outputs": [],
   "source": []
  }
 ],
 "metadata": {
  "kernelspec": {
   "display_name": "Python 3 (ipykernel)",
   "language": "python",
   "name": "python3"
  },
  "language_info": {
   "codemirror_mode": {
    "name": "ipython",
    "version": 3
   },
   "file_extension": ".py",
   "mimetype": "text/x-python",
   "name": "python",
   "nbconvert_exporter": "python",
   "pygments_lexer": "ipython3",
   "version": "3.11.5"
  }
 },
 "nbformat": 4,
 "nbformat_minor": 5
}
