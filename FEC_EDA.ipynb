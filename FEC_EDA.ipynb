{
 "cells": [
  {
   "cell_type": "code",
   "execution_count": 1,
   "id": "139e17b3-de06-4678-99f4-ccc725d67b0a",
   "metadata": {
    "tags": []
   },
   "outputs": [],
   "source": [
    "import numpy as np\n",
    "import pandas as pd\n",
    "from src.modules import *\n",
    "import os "
   ]
  },
  {
   "cell_type": "code",
   "execution_count": 2,
   "id": "b2f27a49-a844-4e86-aaba-8266494868e2",
   "metadata": {},
   "outputs": [],
   "source": [
    "# Why would we be using a third dataset to group our election data by party?\n",
    "# Rather than attempting to account for every possible abbr. and spelling of US political parties across all 50 States, \n",
    "# using a single database and joining it on the Candidate names (which are less likely to show variance between the State and Federal data) \n",
    "\n",
    "# Including the FEC data will also allow the incumbancy status to be included, giving another dimension to examine the impact of the IRS data on turnout"
   ]
  },
  {
   "cell_type": "code",
   "execution_count": 3,
   "id": "3892ee76-a48e-4a89-a21c-4845f8db8079",
   "metadata": {
    "tags": []
   },
   "outputs": [],
   "source": [
    "fec_raw_folder_path = 'data/FEC/raw'\n",
    "\n",
    "fec_raw_files = [file for file in os.listdir(fec_raw_folder_path) if os.path.isfile(os.path.join(fec_raw_folder_path, file))]"
   ]
  },
  {
   "cell_type": "code",
   "execution_count": 4,
   "id": "bfcc1fc7-1b8d-4ca4-beb4-eed8b84ad277",
   "metadata": {
    "tags": []
   },
   "outputs": [
    {
     "data": {
      "text/plain": [
       "['FEC_2012.xls',\n",
       " 'FEC_2014.xls',\n",
       " 'FEC_2016.xlsx',\n",
       " 'FEC_2018.xlsx',\n",
       " 'FEC_2020.xlsx']"
      ]
     },
     "execution_count": 4,
     "metadata": {},
     "output_type": "execute_result"
    }
   ],
   "source": [
    "fec_raw_files"
   ]
  },
  {
   "cell_type": "code",
   "execution_count": 5,
   "id": "f32eebff-016b-477c-a86c-c6b26feb277d",
   "metadata": {
    "tags": []
   },
   "outputs": [
    {
     "name": "stdout",
     "output_type": "stream",
     "text": [
      "FEC_2012.xls\n",
      "['Publication Information', 'Table 5. P&G VotesCastforCong', 'Table 6. Senate by Party', 'Table 7. House by Party', '2012 US House Results by State', 'CT, UT, OR Party Conventions', '2012 Party Labels', '2012 Primary Dates']\n",
      "FEC_2014.xls\n",
      "['Publication Information', 'Table 1. GE Votes Cast', 'Table 2. GE Votes Cast by Party', 'Table 3. P&G VotesCastforCong', 'Table 4. Senate by Party', 'Table 5. House by Party', '2014 US Senate Results by State', '2014 US House Results by State', 'CT, IA, UT Party Conventions', '2014 Party Labels', '2014 Primary Dates']\n",
      "FEC_2016.xlsx\n",
      "['Publication Information', 'Table 1. 2016 Pres Popular Vote', 'Table 2. Electoral &  Pop Vote', 'Table 3. GEVotes for Pres, H, S', 'Table 4. GE Votes Cast by Party', 'Table 5. P&G VotesCastforCong', 'Table 6. Senate by Party', 'Table 7. House by Party', '2016 Pres General Results', '2016 Pres Primary Results', '2016 Pres Primary Party Summary', '2016 US Senate Results by State', '2016 US House Results by State', '2016 Party Labels', '2016 Primary Dates', 'Appendix A', 'Appendix B', 'Appendix C']\n",
      "FEC_2018.xlsx\n",
      "['Publication Information', 'Table 1. GE Votes Cast', 'Table 2. GE Votes Cast by Party', 'Table 3. P&G VotesCastforCong', 'Table 4. Senate by Party', 'Table 5. House by Party', '2018 US Senate Results by State', '2018 US House Results by State', '2019 NC 09 New Election', '2018 Party Labels', '2018 Primary Dates']\n",
      "FEC_2020.xlsx\n",
      "['1. 2020 Publication Information', '2. Table 1 Pres Popular Vote', '3. Table 2 Electoral & Pop Vote', '4. Table 3 GEVotefor Pres, H, S', '5. Table 4 GE VotesCastbyParty', '6. Table 5 P&GVotesCastforCong', '7. Table 6 Senate by Party', '8. Table 7 House by Party', '9. 2020 Pres General Results', '10. 2020 Pres Primary Results', '11.  Pres Primary Party Summary', '12. US Senate Results by State', '2020 US House Results by State', '14. 2020 Party Labels', '15. 2020 Primary Dates', '16. Appendix 1A', '17. Appendix 1B', '18. Appendix 1C', '19. Special Elections 2019-2021']\n"
     ]
    }
   ],
   "source": [
    "\n",
    "# Get a list of sheetnames in the FEC data files\n",
    "for i in fec_raw_files:\n",
    "    file = pd.ExcelFile(f'{fec_raw_folder_path}/{i}')\n",
    "    print(i)\n",
    "    print(file.sheet_names)"
   ]
  },
  {
   "cell_type": "code",
   "execution_count": 6,
   "id": "e891f3de-e582-4921-aa53-c1336148865c",
   "metadata": {},
   "outputs": [],
   "source": [
    "# It looks like the table for the house data changes the sheet name per year, but in a predictable way. "
   ]
  },
  {
   "cell_type": "code",
   "execution_count": null,
   "id": "18e893a5-901e-44bc-90b9-768c556467f3",
   "metadata": {},
   "outputs": [],
   "source": []
  },
  {
   "cell_type": "code",
   "execution_count": 7,
   "id": "05062f56-9f94-460c-9331-2bfd7dbfbb50",
   "metadata": {
    "tags": []
   },
   "outputs": [],
   "source": [
    "fec_data = []\n",
    "for i in fec_raw_files: \n",
    "    data = pd.read_excel(f\"{fec_raw_folder_path}/{i}\", sheet_name=f\"20{i[6:8]} US House Results by State\", header=0)\n",
    "    name = i.split('.')[0]\n",
    "    fec_data.append((name,data))"
   ]
  },
  {
   "cell_type": "code",
   "execution_count": 8,
   "id": "e9aea8ac-afbc-43a6-b800-fd3a9faf2cc7",
   "metadata": {
    "tags": []
   },
   "outputs": [
    {
     "name": "stdout",
     "output_type": "stream",
     "text": [
      "FEC_2012\n",
      "Index([                                      1,\n",
      "                          'STATE ABBREVIATION',\n",
      "                                       'STATE',\n",
      "                                           'D',\n",
      "                                     'FEC ID#',\n",
      "                                         '(I)',\n",
      "                      'CANDIDATE NAME (First)',\n",
      "                       'CANDIDATE NAME (Last)',\n",
      "                              'CANDIDATE NAME',\n",
      "                                 'TOTAL VOTES',\n",
      "                                       'PARTY',\n",
      "                               'PRIMARY VOTES',\n",
      "                                   'PRIMARY %',\n",
      "                                'RUNOFF VOTES',\n",
      "                                    'RUNOFF %',\n",
      "                              'GENERAL VOTES ',\n",
      "                                   'GENERAL %',\n",
      "               'GE RUNOFF ELECTION VOTES (LA)',\n",
      "                   'GE RUNOFF ELECTION % (LA)',\n",
      "       'COMBINED GE PARTY TOTALS (CT, NY, SC)',\n",
      "                     'COMBINED % (CT, NY, SC)',\n",
      "                         'GE WINNER INDICATOR',\n",
      "                                   'FOOTNOTES'],\n",
      "      dtype='object')\n",
      "FEC_2014\n",
      "Index([                                      1,\n",
      "                          'STATE ABBREVIATION',\n",
      "                                       'STATE',\n",
      "                                           'D',\n",
      "                                     'FEC ID#',\n",
      "                                         '(I)',\n",
      "                      'CANDIDATE NAME (First)',\n",
      "                       'CANDIDATE NAME (Last)',\n",
      "                              'CANDIDATE NAME',\n",
      "                                 'TOTAL VOTES',\n",
      "                                       'PARTY',\n",
      "                               'PRIMARY VOTES',\n",
      "                                   'PRIMARY %',\n",
      "                                'RUNOFF VOTES',\n",
      "                                    'RUNOFF %',\n",
      "                              'GENERAL VOTES ',\n",
      "                                   'GENERAL %',\n",
      "               'GE RUNOFF ELECTION VOTES (LA)',\n",
      "                   'GE RUNOFF ELECTION % (LA)',\n",
      "       'COMBINED GE PARTY TOTALS (CT, NY, SC)',\n",
      "                     'COMBINED % (CT, NY, SC)',\n",
      "                         'GE WINNER INDICATOR',\n",
      "                                   'FOOTNOTES'],\n",
      "      dtype='object')\n",
      "FEC_2016\n",
      "Index([                                      1,\n",
      "                          'STATE ABBREVIATION',\n",
      "                                       'STATE',\n",
      "                                           'D',\n",
      "                                     'FEC ID#',\n",
      "                                         '(I)',\n",
      "                      'CANDIDATE NAME (First)',\n",
      "                       'CANDIDATE NAME (Last)',\n",
      "                              'CANDIDATE NAME',\n",
      "                                 'TOTAL VOTES',\n",
      "                                       'PARTY',\n",
      "                               'PRIMARY VOTES',\n",
      "                                   'PRIMARY %',\n",
      "                                'RUNOFF VOTES',\n",
      "                                    'RUNOFF %',\n",
      "                              'GENERAL VOTES ',\n",
      "                                   'GENERAL %',\n",
      "               'GE RUNOFF ELECTION VOTES (LA)',\n",
      "                   'GE RUNOFF ELECTION % (LA)',\n",
      "       'COMBINED GE PARTY TOTALS (CT, NY, SC)',\n",
      "                     'COMBINED % (CT, NY, SC)',\n",
      "                         'GE WINNER INDICATOR',\n",
      "                                   'FOOTNOTES'],\n",
      "      dtype='object')\n",
      "FEC_2018\n",
      "Index([                                     1,\n",
      "                         'STATE ABBREVIATION',\n",
      "                                      'STATE',\n",
      "                                   'DISTRICT',\n",
      "                                    'FEC ID#',\n",
      "                                        '(I)',\n",
      "                     'CANDIDATE NAME (First)',\n",
      "                      'CANDIDATE NAME (Last)',\n",
      "                             'CANDIDATE NAME',\n",
      "                                'TOTAL VOTES',\n",
      "                                      'PARTY',\n",
      "                              'PRIMARY VOTES',\n",
      "                                  'PRIMARY %',\n",
      "                               'RUNOFF VOTES',\n",
      "                                   'RUNOFF %',\n",
      "                             'GENERAL VOTES ',\n",
      "                                  'GENERAL %',\n",
      "       'GE RUNOFF ELECTION VOTES (MS Senate)',\n",
      "           'GE RUNOFF ELECTION % (MS Senate)',\n",
      "          'COMBINED GE PARTY TOTALS (CT, NY)',\n",
      "                        'COMBINED % (CT, NY)',\n",
      "                        'GE WINNER INDICATOR',\n",
      "                                  'FOOTNOTES'],\n",
      "      dtype='object')\n",
      "FEC_2020\n",
      "Index([                                      1,\n",
      "                          'STATE ABBREVIATION',\n",
      "                                       'STATE',\n",
      "                                    'DISTRICT',\n",
      "                                      'FEC ID',\n",
      "                     '(I) Incumbent Indicator',\n",
      "                      'CANDIDATE NAME (First)',\n",
      "                       'CANDIDATE NAME (Last)',\n",
      "                              'CANDIDATE NAME',\n",
      "                                 'TOTAL VOTES',\n",
      "                                       'PARTY',\n",
      "                               'PRIMARY VOTES',\n",
      "                                   'PRIMARY %',\n",
      "                                'RUNOFF VOTES',\n",
      "                                    'RUNOFF %',\n",
      "                              'GENERAL VOTES ',\n",
      "                                   'GENERAL %',\n",
      "       'GE RUNOFF ELECTION VOTES (GA, GU, LA)',\n",
      "           'GE RUNOFF ELECTION % (GA, GU, LA)',\n",
      "           'COMBINED GE PARTY TOTALS (CT, NY)',\n",
      "                         'COMBINED % (CT, NY)',\n",
      "                         'PE WINNER INDICATOR',\n",
      "                         'GE WINNER INDICATOR',\n",
      "                                   'FOOTNOTES'],\n",
      "      dtype='object')\n"
     ]
    }
   ],
   "source": [
    "for year, i in fec_data:\n",
    "    print(year)\n",
    "    print(i.columns)"
   ]
  },
  {
   "cell_type": "code",
   "execution_count": 9,
   "id": "6b413bc3-eecd-45e3-b2c0-34126106661e",
   "metadata": {},
   "outputs": [],
   "source": [
    "# Let's do a  cursory check of the party ids present in the FEC data"
   ]
  },
  {
   "cell_type": "code",
   "execution_count": 10,
   "id": "0be19b53-e8c4-43b1-aaae-6040feb27bce",
   "metadata": {
    "tags": []
   },
   "outputs": [
    {
     "name": "stdout",
     "output_type": "stream",
     "text": [
      "[nan 'R' 'W' 'D' 'LIB' 'NAF' 'CON' 'IND' 'NPA' 'W(LIB)/LIB' 'W(D)'\n",
      " 'W(AE)/AE' 'AE' 'W(GRE)/GRE' 'GRE' 'W(R)' 'NOP' 'PAF' 'W(R)/R' 'W(PAF)'\n",
      " 'W(LIB)' 'AIP' 'UN' 'AMC' 'D*' 'WF' 'R*' 'PC' 'IP' 'IDE' 'DCG' 'W(DCG)'\n",
      " 'W(IND)' 'N' 'D/W' 'NP' 'SWP' 'IFM' 'NON' 'IFL' 'W(GR)' 'GR' 'W(D)/D'\n",
      " 'UST' 'W(R)/W' 'NLP' 'DFL' 'IDP' 'GRT' 'MOP' 'REF' 'N(R)' 'N(D)' 'IAP'\n",
      " 'CC' 'TPA' 'CCC' 'LMP' 'BFJ' 'NS' 'NOT' 'NSF' 'OAI' 'IR' 'PAC' 'RAP'\n",
      " 'UIS' 'AA' 'CHA' 'OCG' 'TVH' 'JSI' 'TIC' 'AF' 'RFI' 'SUS' 'RN'\n",
      " 'D/WF Combined Parties' 'R/CRV/IDP Combined Parties' 'CRV'\n",
      " 'R/CRV/IDP/TRP Combined Parties' 'R/TRP' 'D/WF/IDP Combined Parties'\n",
      " 'R/CRV/TRP Combined Parties' 'D/IDP/WF Combined Parties'\n",
      " 'R/TRP Combined Parties' 'TRP' 'R/CRV/LIB Combined Parties' 'CRV/LIB'\n",
      " 'R/CRV Combined Parties' 'WTP' 'R/IDP Combined Parties' 'CSP' 'R  ' 'D  '\n",
      " 'DNL' 'W(DNL)' 'W(CON)' 'W(GRE)' 'D/WF' 'LIB/PG/PRO' 'PG/PRO' 'D/PRO/WF'\n",
      " 'R/CON' 'PG' 'BFC' 'NPP' 'PPD' 'PRI' 'PPT' 'MUS' 'PPR' 'UJP' 'LU' 'VKS'\n",
      " 'W(PRO)' 'PRO' 'D/IND' 'USM' 'PEP' 'IGR' 'NNP' 'GOP' 'EWP' 'FDR' 'PIN'\n",
      " 'MTP' 'W(AE)' 'IDA' 'COU']\n",
      "['R' 'D' 'W' nan 'IND' 'LIB' 'W(LIB)/LIB' 'W(AE)/AE' 'AE' 'JP' 'NOP'\n",
      " 'W(NOP)' 'W(AIP)' 'GRE' 'PAF' 'W(R)' 'W(LIB)' 'W(PAF)/PAF' 'W(D)' 'UN'\n",
      " 'AMC' 'WF' 'IP' 'PC' 'DCG' 'W(DCG)' 'NPA' 'LBF' 'N' 'R/W' 'NNE' 'R\\xa0'\n",
      " 'D/W' 'UST' 'NLP' 'DFL' 'IDP' 'REF' 'CON' 'N(D)' 'N(R)' 'N(LIB)' 'IAP'\n",
      " 'WDB' 'SBP' 'CN' 'OP' 'DRP' 'W(R)/R' 'ALP' 'FA' 'PAC' 'WU' 'TN' 'SI'\n",
      " 'BBH' 'FV' 'LMP' 'TVH' 'SC' 'Combined Parties:' 'CRV' 'R/TRP' 'D '\n",
      " 'CRV/LIB' 'AFC' 'FEP' 'MSC' 'DNL' 'W(DNL)' 'D/WF*' 'R/CON*' 'PRO/PG'\n",
      " 'R/CON*/IP*' 'PG' 'NAF' 'D/PRO/WF*' 'LBR' 'LBU' 'W(LBU)' 'ENI' 'W(PRO)'\n",
      " 'PRO' 'IGR' 'GOP' 'NUP' 'WWP' 'CIT' 'HRP' 'W(CON)' 'W(R)/W']\n",
      "[nan 'R' 'W' 'D' 'LIB' 'NAF' 'IND' 'W(GRE)/GRE' 'GRE' 'W(LIB)' 'W(GRE)'\n",
      " 'W(D)' 'NOP' 'W(R)/R' 'PAF' 'W(NOP)' 'LIB  ' 'WF' 'IP' 'R/W' 'DCG'\n",
      " 'W(DCG)' 'W(R)' 'LBF' 'NPA' 'R   ' 'R  ' 'W(IP)' 'N' 'CON' 'NNE' 'R\\xa0'\n",
      " 'D\\xa0' 'OTH' 'W(IND)' 'U' 'UST' 'W(D)/D' 'NLP' 'WC' 'W ' 'DFL' 'IDP'\n",
      " 'LMN' 'REF' 'VPA' 'NPY' 'IAP' 'WDB' 'AO' 'MGW' 'RNN' 'PIP' 'FPR' 'EG'\n",
      " 'WUA' 'NSA' 'WOP' 'NBP' 'FI' 'LMP' 'TED' 'WTP' 'CRV' 'WEP' 'R/TRP' 'BLM'\n",
      " 'HBP' 'SID' 'TGP' 'PCC' 'UPJ' 'DNL' 'W(DNL)' 'D/IP' 'R/IP' 'IP/R' 'PRO'\n",
      " 'D/PRO/WF/IP' 'R/CON' 'PG' 'W(D)/W' 'NPP' 'W(NPP)' 'PPD' 'W(PPD)' 'PRI'\n",
      " 'PPT' 'AM' 'UN' 'D/R' 'LBU' 'W(PRO)' 'INP' 'WRN' 'TC' 'W(WG)' 'WG'\n",
      " 'W(CON)']\n",
      "[nan 'R' 'D' 'W' 'D(UND)' 'D(N)' 'IND' 'W(LIB)' 'LIB' 'W(D)' 'GRE'\n",
      " 'W(GRE)/GRE' 'NOP' 'AIP' 'W(R)' 'W(NOP)' 'W(AIP)' 'W(R)/R' 'PAF' 'UN'\n",
      " 'WF' 'IP' 'DCG' 'W(DCG)' 'NPA' 'N' 'CON' 'LMN' 'R\\xa0' 'D\\xa0' 'U' 'UST'\n",
      " 'WC' 'DFL' 'IDP' 'REF' 'W(GRE)' 'IAP' 'NPY' 'WDB' 'YVH' 'TFT' 'CBB' 'OTH'\n",
      " 'ETB' 'CTC' 'TIC' 'THE' 'FRA' 'NWF' 'CFC' 'NGU' 'HIC' 'CRV' 'WEP' 'R/TRP'\n",
      " 'IDP/WEP/WF' 'W(REF)' 'W(CRV)/CRV' 'W(CRV)' 'W(WEP)/WEP' 'W(WEP)' 'FDN'\n",
      " 'DNL' 'W(DNL)' 'D/IP' 'W(IP)' 'LIB/PG' 'D/WF' 'IP/PG/PRO' 'D/IP/PRO/WF'\n",
      " 'R/CON' 'PG' 'AM' 'UUP' 'LBU' 'W(PRO)' 'PRO' 'MGP' 'TPP' 'GOP' 'TR' 'ICP'\n",
      " 'NMP' 'IPP' 'MTP' 'W(WG)' 'WG' 'W(CON)' 'W(R)/W' 'W(D)/W']\n",
      "[nan 'R' 'D' 'W' 'N(D)/D' 'W(R)' 'W(D)' 'LIB' 'NOP' 'GRE' 'AIP' 'W(NOP)'\n",
      " 'PAF' 'UPC' 'AVP' 'UN' 'WF' 'R*' 'D*' 'IP' 'D/IP' 'IDE' 'W(LIB)' 'IND'\n",
      " 'DCG' 'W(DCG)' 'NPA' 'N' 'AAP' 'AMS' 'CON' 'POP' 'HES' 'CTA' 'UST' 'WC'\n",
      " 'DFL' 'GLC' 'LMN' 'W(GRE)' 'IAP' 'JMH' 'FTP' 'ICC' 'MCH' 'CSP' 'AV'\n",
      " 'W(R)/R' 'VFC' 'NSF' 'BYL' 'TVH' 'CRV' 'IDP' 'SAM' 'SVC' 'D/SAM' 'ECL'\n",
      " 'DNL' 'W(DNL)' 'W(D)/D' 'W(LIB)/LIB' 'D/WF' 'PG' 'D/IP/WF' 'NPP' 'PPD'\n",
      " 'MVC' 'PD' 'PRI' 'ALL' 'UUP' 'COM' 'PRO' 'W(PRO)' 'GOP' 'TRR' 'EWP'\n",
      " 'W(CON)']\n"
     ]
    }
   ],
   "source": [
    "for year, i in fec_data:\n",
    "    print(i['PARTY'].unique())"
   ]
  },
  {
   "cell_type": "code",
   "execution_count": 11,
   "id": "7a467c7c-eb05-4469-912c-7cf68b37903d",
   "metadata": {},
   "outputs": [],
   "source": [
    "# There are two cases where the details of party ids will be slightly more complicated  \n",
    "## Write-in candidates that win office\n",
    "### This has happened only a handful of times, but we should always be concerned with potential outliers!\n",
    "\n",
    "## States where candidates can be nominated by multiple parties (referred to as 'Electoral Fusion' or 'Fusion voting')\n",
    "### Connecticut and New York both fall under this category\n",
    "\n",
    "## States where the main natoinal parties run under a different name\n",
    "### Minnesota has the DFL (Democratic–Farmer–Labor Party), an affiliate of the national Democratic party with four house members as of 2024"
   ]
  },
  {
   "cell_type": "code",
   "execution_count": 12,
   "id": "5ea58c19-1617-43c4-bdd0-273540386ab6",
   "metadata": {
    "tags": []
   },
   "outputs": [
    {
     "name": "stdout",
     "output_type": "stream",
     "text": [
      "[nan 'DFL' 'R' 'W' 'IDP' 'GRT' 'MOP']\n",
      "['DFL' 'R' 'W' nan 'IDP' 'GRE']\n",
      "[nan 'DFL' 'R' 'W' 'IDP' 'LMN']\n",
      "['R' 'DFL' 'W' nan 'LMN' 'IDP']\n",
      "['R' 'DFL' 'GLC' 'W' nan 'LMN']\n"
     ]
    }
   ],
   "source": [
    "for year, i in fec_data:\n",
    "    print(i.loc[i['STATE ABBREVIATION']=='MN']['PARTY'].unique())"
   ]
  },
  {
   "cell_type": "code",
   "execution_count": 13,
   "id": "bec48096-ba46-49ad-891c-8e1b08992a76",
   "metadata": {},
   "outputs": [],
   "source": [
    "# Since our first level of analysis with be primarily concerned with incumbancy rather than party ID, we can simplify this a bit more hastily than we woud prefer, but future analysis should endevor to complete this transformation to a two-party map more rigorously"
   ]
  },
  {
   "cell_type": "code",
   "execution_count": 14,
   "id": "5e624bdc-8ef6-457d-8199-27d27d4a737f",
   "metadata": {},
   "outputs": [],
   "source": [
    "def two_party(data):\n",
    "    \"\"\"this will reduce the parties to D for Democrat, R for Republican or 'Other' for any 3rd parties\n",
    "    There is a joke here somewhere about 'tm is is how the political system actually works'\"\"\"\n",
    "    if data['PARTY'] in ['R', 'D']:\n",
    "        return data['PARTY']\n",
    "    elif data['PARTY'] == 'DFL':\n",
    "        return \"D\"\n",
    "    else:\n",
    "        return \"OTHER\"\n",
    "    "
   ]
  },
  {
   "cell_type": "code",
   "execution_count": 15,
   "id": "e6d5a0fb-41d1-4efd-afcb-1131753e7023",
   "metadata": {},
   "outputs": [],
   "source": [
    "# Let's examine the names format\n",
    "\n",
    "# Notes beforehand:\n",
    "## Because we well be working on a State-by-State and year-by-year basis, we can be slightly more flexible about how rigorously we ensure that duplicate names for candidates are dealt with cleanly\n",
    "\n",
    "## Still, using the FEC data as a general check for duplicate names within a particular state and for a particular year is the easiest check, so after formatting we will perform just such a test."
   ]
  },
  {
   "cell_type": "code",
   "execution_count": 16,
   "id": "d6083217-cf91-4433-894a-bfbc9446c3b1",
   "metadata": {
    "tags": []
   },
   "outputs": [
    {
     "name": "stdout",
     "output_type": "stream",
     "text": [
      "     CANDIDATE NAME (First) CANDIDATE NAME (Last)   CANDIDATE NAME\n",
      "0                       NaN                   NaN       DISTRICT 1\n",
      "1                        Jo                Bonner       Bonner, Jo\n",
      "2                      Dean                 Young      Young, Dean\n",
      "3                      Pete                 Riehm      Riehm, Pete\n",
      "4                     Peter              Gounares  Gounares, Peter\n",
      "...                     ...                   ...              ...\n",
      "4927                    NaN                   NaN              NaN\n",
      "4928                   Joel                  Otto       Otto, Joel\n",
      "4929                    NaN             Scattered        Scattered\n",
      "4930                    NaN                   NaN              NaN\n",
      "4931                    NaN                   NaN              NaN\n",
      "\n",
      "[4932 rows x 3 columns]\n",
      "     CANDIDATE NAME (First) CANDIDATE NAME (Last)          CANDIDATE NAME\n",
      "0                   Bradley                 Byrne          Byrne, Bradley\n",
      "1                 Burton R.               LeFlore      LeFlore, Burton R.\n",
      "2                       NaN                   NaN               Scattered\n",
      "3                       NaN                   NaN                     NaN\n",
      "4                       NaN                   NaN                     NaN\n",
      "...                     ...                   ...                     ...\n",
      "3705           Daniel Clyde              Cummings  Cummings, Daniel Clyde\n",
      "3706                    NaN             Scattered               Scattered\n",
      "3707                    NaN                   NaN                     NaN\n",
      "3708                    NaN                   NaN                     NaN\n",
      "3709                    NaN                   NaN                     NaN\n",
      "\n",
      "[3710 rows x 3 columns]\n",
      "     CANDIDATE NAME (First) CANDIDATE NAME (Last)  CANDIDATE NAME\n",
      "0                       NaN                   NaN             NaN\n",
      "1                       NaN                   NaN             NaN\n",
      "2                   Bradley                 Byrne  Byrne, Bradley\n",
      "3                      Dean                 Young     Young, Dean\n",
      "4                       NaN                   NaN             NaN\n",
      "...                     ...                   ...             ...\n",
      "4126                    NaN             Scattered       Scattered\n",
      "4127                    NaN                   NaN             NaN\n",
      "4128                    NaN             Scattered       Scattered\n",
      "4129                    NaN                   NaN             NaN\n",
      "4130                    NaN                   NaN             NaN\n",
      "\n",
      "[4131 rows x 3 columns]\n",
      "     CANDIDATE NAME (First) CANDIDATE NAME (Last)            CANDIDATE NAME\n",
      "0                       NaN                   NaN                       NaN\n",
      "1                   Bradley                 Byrne            Byrne, Bradley\n",
      "2               Robert, Jr.               Kennedy      Kennedy, Robert, Jr.\n",
      "3             Lizzetta Hill             McConnell  McConnell, Lizzetta Hill\n",
      "4                       NaN                   NaN                       NaN\n",
      "...                     ...                   ...                       ...\n",
      "4681           Daniel Clyde              Cummings    Cummings, Daniel Clyde\n",
      "4682                    NaN             Scattered                 Scattered\n",
      "4683                    NaN                   NaN                       NaN\n",
      "4684                    NaN                   NaN                       NaN\n",
      "4685                    NaN                   NaN                       NaN\n",
      "\n",
      "[4686 rows x 3 columns]\n",
      "     CANDIDATE NAME (First) CANDIDATE NAME (Last)     CANDIDATE NAME\n",
      "0                       NaN                   NaN                NaN\n",
      "1                     Jerry                  Carl        Carl, Jerry\n",
      "2                      Bill             Hightower    Hightower, Bill\n",
      "3                     Chris               Pringle     Pringle, Chris\n",
      "4                       Wes               Lambert       Lambert, Wes\n",
      "...                     ...                   ...                ...\n",
      "4037                Richard              Brubaker  Brubaker, Richard\n",
      "4038                   Jeff                Haggit       Haggit, Jeff\n",
      "4039                    NaN             Scattered          Scattered\n",
      "4040                    NaN                   NaN                NaN\n",
      "4041                    NaN                   NaN                NaN\n",
      "\n",
      "[4042 rows x 3 columns]\n"
     ]
    }
   ],
   "source": [
    "for year, i in fec_data:\n",
    "    print(i[['CANDIDATE NAME (First)','CANDIDATE NAME (Last)','CANDIDATE NAME']])"
   ]
  },
  {
   "cell_type": "code",
   "execution_count": 17,
   "id": "550ef2da-db31-406d-ba64-c32519ec88b5",
   "metadata": {},
   "outputs": [],
   "source": [
    "# A quick glance shows that we have first names, middle names and titles like 'jr.' in the 'CANDIDATE NAME (First)' column, and lastnames, NaNs and 'Scattered' in the 'CANDIDATE NAME (Last)' column\n",
    "\n",
    "# We can use the 'trim_party' function used on the Ohio data to remove the middle names (see src.modules for the full function) and then concatinate the 'CANDIDATE NAME (First)' and 'CANDIDATE NAME (Last)' to produce a standard name format\n",
    "\n",
    "# We will also perform several other formatting changes:\n",
    "## Reduce the number of columns to what is necessary to join with the State election data\n",
    "## apply the 'two_party' function to reduce the number of parties we will be grouping by\n",
    "## homogenize the formatting of the column names\n",
    "## transforming the incumbency marker to a binary"
   ]
  },
  {
   "cell_type": "code",
   "execution_count": 18,
   "id": "9419c46d-7dcf-40b5-8b9f-4da185134581",
   "metadata": {
    "tags": []
   },
   "outputs": [],
   "source": [
    "formatted_fec = []\n",
    "for year, i in fec_data:\n",
    "    # Rename columns to simple format across all years\n",
    "    new_col_dic = {'(I) Incumbent Indicator':'(I)','District':'D', 'DISTRICT':'D'}\n",
    "    # Drop all rows that received no votes in the general election, or do not have a first name\n",
    "    i = i.dropna(subset=['GENERAL VOTES ','CANDIDATE NAME (First)']) \n",
    "    i = i.reset_index(drop=True)\n",
    "    \n",
    "    # Current columns needed\n",
    "    keep_cols = ['STATE ABBREVIATION','D','CANDIDATE NAME (First)','CANDIDATE NAME (Last)','CANDIDATE NAME(f)','CANDIDATE NAME','PARTY','(I)','GENERAL VOTES ']\n",
    "    \n",
    "    # Apply new column names\n",
    "    i_copy = i.rename(columns=new_col_dic).copy()\n",
    "    if '(I) Incumbent Indicator' in i.columns:\n",
    "        i['(I)'] = i[['(I) Incumbent Indicator']]\n",
    "    else:\n",
    "        i = i.copy()\n",
    "    # Convert incumbancy to binary value\n",
    "    i_copy['(I)'] = i['(I)'].notna().astype(int)\n",
    "    \n",
    "    # Apply the two_party function (see modules.py)\n",
    "    i_copy['PARTY'] = i.apply(two_party,axis=1)\n",
    "    \n",
    "    # Use trim_party (see modules.py) to remove middle names or titles stored in FEC First Names column\n",
    "    i_copy['SIMPLE_FIRST'] = trim_party(i['CANDIDATE NAME (First)'],' ')\n",
    "    \n",
    "    # Create full name from first and last, transform to lower case to allow for easy comparison across datasets\n",
    "    i_copy['CANDIDATE NAME(f)'] = i_copy['SIMPLE_FIRST']+' '+i_copy['CANDIDATE NAME (Last)']\n",
    "    i_copy['CANDIDATE NAME(f)'] = i_copy['CANDIDATE NAME(f)'].astype(str).str.lower()\n",
    "    \n",
    "    # Remove all punctuation from candidate names\n",
    "    cand_names = i_copy['CANDIDATE NAME(f)']\n",
    "    cand_names = [''.join(char for char in i if char.isalpha() or char.isspace()) for i in cand_names]\n",
    "    i_copy['CANDIDATE NAME(f)'] = cand_names\n",
    "    \n",
    "    # Keep only relevant columns\n",
    "    i_copy = i_copy[keep_cols].copy()\n",
    "    formatted_fec.append((year,i_copy))"
   ]
  },
  {
   "cell_type": "code",
   "execution_count": 19,
   "id": "98bc93c4-6f0f-4cad-81e9-bea0b6a54b06",
   "metadata": {
    "tags": []
   },
   "outputs": [
    {
     "name": "stdout",
     "output_type": "stream",
     "text": [
      "FEC_2012\n",
      "Index(['STATE ABBREVIATION', 'D', 'CANDIDATE NAME (First)',\n",
      "       'CANDIDATE NAME (Last)', 'CANDIDATE NAME(f)', 'CANDIDATE NAME', 'PARTY',\n",
      "       '(I)', 'GENERAL VOTES '],\n",
      "      dtype='object')\n",
      "FEC_2014\n",
      "Index(['STATE ABBREVIATION', 'D', 'CANDIDATE NAME (First)',\n",
      "       'CANDIDATE NAME (Last)', 'CANDIDATE NAME(f)', 'CANDIDATE NAME', 'PARTY',\n",
      "       '(I)', 'GENERAL VOTES '],\n",
      "      dtype='object')\n",
      "FEC_2016\n",
      "Index(['STATE ABBREVIATION', 'D', 'CANDIDATE NAME (First)',\n",
      "       'CANDIDATE NAME (Last)', 'CANDIDATE NAME(f)', 'CANDIDATE NAME', 'PARTY',\n",
      "       '(I)', 'GENERAL VOTES '],\n",
      "      dtype='object')\n",
      "FEC_2018\n",
      "Index(['STATE ABBREVIATION', 'D', 'CANDIDATE NAME (First)',\n",
      "       'CANDIDATE NAME (Last)', 'CANDIDATE NAME(f)', 'CANDIDATE NAME', 'PARTY',\n",
      "       '(I)', 'GENERAL VOTES '],\n",
      "      dtype='object')\n",
      "FEC_2020\n",
      "Index(['STATE ABBREVIATION', 'D', 'CANDIDATE NAME (First)',\n",
      "       'CANDIDATE NAME (Last)', 'CANDIDATE NAME(f)', 'CANDIDATE NAME', 'PARTY',\n",
      "       '(I)', 'GENERAL VOTES '],\n",
      "      dtype='object')\n"
     ]
    }
   ],
   "source": [
    "for year, i in formatted_fec:\n",
    "    print(year)\n",
    "    print(i.columns)"
   ]
  },
  {
   "cell_type": "code",
   "execution_count": 20,
   "id": "729bbe1b-422a-4f46-96c7-cf95d30d807a",
   "metadata": {
    "tags": []
   },
   "outputs": [
    {
     "name": "stdout",
     "output_type": "stream",
     "text": [
      "56\n",
      "['AL', 'AK', 'AS', 'AZ', 'AR', 'CA', 'CO', 'CT', 'DE', 'DC', 'FL', 'GA', 'GU', 'HI', 'ID', 'IL', 'IN', 'IA', 'KS', 'KY', 'LA', 'ME', 'MD', 'MA', 'MI', 'MN', 'MS', 'MO', 'MT', 'NE', 'NV', 'NH', 'NJ', 'NM', 'NY', 'NC', 'ND', 'MP', 'OH', 'OK', 'OR', 'PA', 'PR', 'RI', 'SC', 'SD', 'TN', 'TX', 'UT', 'VT', 'VI', 'VA', 'WA', 'WV', 'WI', 'WY']\n",
      "55\n",
      "['AL', 'AK', 'AS', 'AZ', 'AR', 'CA', 'CO', 'CT', 'DE', 'DC', 'FL', 'GA', 'GU', 'HI', 'ID', 'IL', 'IN', 'IA', 'KS', 'KY', 'LA', 'ME', 'MD', 'MA', 'MI', 'MN', 'MS', 'MO', 'MT', 'NE', 'NV', 'NH', 'NJ', 'NM', 'NY', 'NC', 'ND', 'MP', 'OH', 'OK', 'OR', 'PA', 'RI', 'SC', 'SD', 'TN', 'TX', 'UT', 'VT', 'VI', 'VA', 'WA', 'WV', 'WI', 'WY']\n",
      "56\n",
      "['AL', 'AK', 'AS', 'AZ', 'AR', 'CA', 'CO', 'CT', 'DE', 'DC', 'FL', 'GA', 'GU', 'HI', 'ID', 'IL', 'IN', 'IA', 'KS', 'KY', 'LA', 'ME', 'MD', 'MA', 'MI', 'MN', 'MS', 'MO', 'MT', 'NE', 'NV', 'NH', 'NJ', 'NM', 'NY', 'NC', 'ND', 'MP', 'OH', 'OK', 'OR', 'PA', 'PR', 'RI', 'SC', 'SD', 'TN', 'TX', 'UT', 'VT', 'VA', 'VI', 'WA', 'WV', 'WI', 'WY']\n",
      "55\n",
      "['AL', 'AK', 'AS', 'AZ', 'AR', 'CA', 'CO', 'CT', 'DE', 'DC', 'FL', 'GA', 'GU', 'HI', 'ID', 'IL', 'IN', 'IA', 'KS', 'KY', 'LA', 'ME', 'MD', 'MA', 'MI', 'MN', 'MS', 'MO', 'MT', 'NE', 'NV', 'NH', 'NJ', 'NM', 'NY', 'NC', 'ND', 'MP', 'OH', 'OK', 'OR', 'PA', 'RI', 'SC', 'SD', 'TN', 'TX', 'UT', 'VT', 'VA', 'VI', 'WA', 'WV', 'WI', 'WY']\n",
      "56\n",
      "['AL', 'AK', 'AS', 'AZ', 'AR', 'CA', 'CO', 'CT', 'DE', 'DC', 'FL', 'GA', 'GU', 'HI', 'ID', 'IL', 'IN', 'IA', 'KS', 'KY', 'LA', 'ME', 'MD', 'MA', 'MI', 'MN', 'MS', 'MO', 'MT', 'NE', 'NV', 'NH', 'NJ', 'NM', 'NY', 'NC', 'ND', 'MP', 'OH', 'OK', 'OR', 'PA', 'PR', 'RI', 'SC', 'SD', 'TN', 'TX', 'UT', 'VT', 'VA', 'VI', 'WA', 'WV', 'WI', 'WY']\n"
     ]
    }
   ],
   "source": [
    "for year, i in formatted_fec:\n",
    "    states = [state for state in list(i['STATE ABBREVIATION'].unique())]\n",
    "    print(i['STATE ABBREVIATION'].nunique())\n",
    "    print(states)"
   ]
  },
  {
   "cell_type": "code",
   "execution_count": 21,
   "id": "62850f85-aa3a-4793-abe7-1ce0cf3002f2",
   "metadata": {},
   "outputs": [],
   "source": [
    "# Probably better to have too many than too few States.."
   ]
  },
  {
   "cell_type": "code",
   "execution_count": 22,
   "id": "fc446075-b32b-4e60-b5b2-528d0aaf8ef3",
   "metadata": {
    "tags": []
   },
   "outputs": [
    {
     "name": "stdout",
     "output_type": "stream",
     "text": [
      "CT in FEC_2012 has candidates with duplicate names\n",
      "KY in FEC_2012 has candidates with duplicate names\n",
      "MI in FEC_2012 has candidates with duplicate names\n",
      "NJ in FEC_2012 has candidates with duplicate names\n",
      "NY in FEC_2012 has candidates with duplicate names\n",
      "SC in FEC_2012 has candidates with duplicate names\n",
      "WA in FEC_2012 has candidates with duplicate names\n",
      "CT in FEC_2014 has candidates with duplicate names\n",
      "NJ in FEC_2014 has candidates with duplicate names\n",
      "NY in FEC_2014 has candidates with duplicate names\n",
      "NC in FEC_2014 has candidates with duplicate names\n",
      "SC in FEC_2014 has candidates with duplicate names\n",
      "VA in FEC_2014 has candidates with duplicate names\n",
      "CT in FEC_2016 has candidates with duplicate names\n",
      "HI in FEC_2016 has candidates with duplicate names\n",
      "KY in FEC_2016 has candidates with duplicate names\n",
      "NY in FEC_2016 has candidates with duplicate names\n",
      "PA in FEC_2016 has candidates with duplicate names\n",
      "RI in FEC_2016 has candidates with duplicate names\n",
      "SC in FEC_2016 has candidates with duplicate names\n",
      "WI in FEC_2016 has candidates with duplicate names\n",
      "CT in FEC_2018 has candidates with duplicate names\n",
      "MI in FEC_2018 has candidates with duplicate names\n",
      "NY in FEC_2018 has candidates with duplicate names\n",
      "PA in FEC_2018 has candidates with duplicate names\n",
      "RI in FEC_2018 has candidates with duplicate names\n",
      "CT in FEC_2020 has candidates with duplicate names\n",
      "NY in FEC_2020 has candidates with duplicate names\n"
     ]
    }
   ],
   "source": [
    "for year, i in formatted_fec:\n",
    "    states = [state for state in i['STATE ABBREVIATION'].unique()]\n",
    "    for state in states:\n",
    "        cand_list = i.loc[i['STATE ABBREVIATION'] == state]['CANDIDATE NAME(f)'].tolist()\n",
    "        if len(cand_list) > i.loc[i['STATE ABBREVIATION'] == state]['CANDIDATE NAME(f)'].unique().shape[0]:\n",
    "            print(f\"{state} in {year} has candidates with duplicate names\")\n",
    "            # print([item for item in set(cand_list) if cand_list.count(item) > 1])\n",
    "        # else:\n",
    "        #     print(f\"{state} in {year} has all unique candidates\")\n"
   ]
  },
  {
   "cell_type": "code",
   "execution_count": null,
   "id": "bcd8f1b7-2c02-471f-8064-41816dcd6ebf",
   "metadata": {},
   "outputs": [],
   "source": [
    "\n",
    "# Since we are processing states individually, we should keep this list in mind and make sure to be diligent when they do come up"
   ]
  },
  {
   "cell_type": "code",
   "execution_count": null,
   "id": "cf314165-0966-4387-b462-448e43c11c1e",
   "metadata": {},
   "outputs": [],
   "source": [
    "# We should also build a workflow now that incoporates the formatting choices we have made here.\n",
    "\n",
    "# Keeping in mind our principle of non-destructive processes, we will plan to do the minimial number of formatting choices when handling the FEC data at this stage\n",
    "\n",
    "# This will mean repeating other formatting choices when adding in the State data, \n",
    "##which will thus be more resource heavy each time we do so, than simply performining the alterations in a single step"
   ]
  },
  {
   "cell_type": "code",
   "execution_count": null,
   "id": "9d76c1e8-f971-4be3-a4f3-32c6b41d1989",
   "metadata": {
    "tags": []
   },
   "outputs": [],
   "source": [
    "# Empty list to hold FEC files\n",
    "fec_files = []\n",
    "\n",
    "# format FEC data\n",
    "print('Formatting FEC data')\n",
    "for year,i in fec_data: # Call item in the file list\n",
    "    \n",
    "    # Read each file from the FEC file list\n",
    "    file = pd.read_csv(fr'{fec_folder_path}{i}', index_col=0)\n",
    "    \n",
    "    \n",
    "    # Generate a name for each dataframe based on the filename without the file extension\n",
    "    name = f'{i}' \n",
    "    name = name[:-4] \n",
    "    \n",
    "    # Assign the dataframe to the variable name\n",
    "    globals()[name] = file # from the documentation: 'the globals() function is a built-in function that returns a dictionary representing the current global symbol table' only half understand this, but it works (#programming)\n",
    "    \n",
    "    # Append both to the empty list\n",
    "    fec_files.append(file)"
   ]
  },
  {
   "cell_type": "code",
   "execution_count": null,
   "id": "3919824c-a740-4033-9304-9233eb6e7681",
   "metadata": {
    "tags": []
   },
   "outputs": [],
   "source": [
    "for i in fec_files:\n",
    "    print(i.columns)"
   ]
  },
  {
   "cell_type": "code",
   "execution_count": null,
   "id": "91ca123f-98ad-44e7-90c5-5812651c6899",
   "metadata": {
    "tags": []
   },
   "outputs": [],
   "source": [
    "# How nice to have data that is consistent over the years examined!"
   ]
  },
  {
   "cell_type": "code",
   "execution_count": null,
   "id": "f58dc619-898a-4312-bec1-8f60ab6e70ae",
   "metadata": {},
   "outputs": [],
   "source": [
    "# In terms of the structure, remember that the shape of our final data for analysis will be:\n",
    "## rows of counties with\n",
    "### columns for each party\n",
    "### columns for each IRS datafield\n",
    "\n",
    "## we will need format the FEC data so that it can be used to replace the candidate names and allow the data to be grouped by party and incumbancy \n",
    "\n",
    "# A consistent formatting for candidate names must be used. "
   ]
  },
  {
   "cell_type": "code",
   "execution_count": null,
   "id": "ec5afd3d-b348-4257-8396-35e537958690",
   "metadata": {
    "tags": []
   },
   "outputs": [],
   "source": [
    "fec_files[0]['CANDIDATE NAME']"
   ]
  },
  {
   "cell_type": "code",
   "execution_count": null,
   "id": "b0d3f709-9eab-46b1-82dc-abc09caf117b",
   "metadata": {
    "tags": []
   },
   "outputs": [],
   "source": [
    "######\n",
    "# Potential pitfalls\n",
    "######\n",
    "## Candidates might have the same first and last names as other candidates\n",
    "## Absolute worst case, candidates with the same name might be running in the same race\n",
    "\n",
    "## Checks should be instituted to ensure this is not the case\n",
    "\n",
    "# Mitigating this issue: The data to be examined will be broken up and processed with the FEC data by year and by state\n",
    "# This siloing will help limit the chances of duplicate names for different candidates becoming an issue before we reduce the dimension of the data to include only incumbancy and party affiliation\n"
   ]
  },
  {
   "cell_type": "code",
   "execution_count": null,
   "id": "d404b520-8fc6-4c09-8831-af081f1d75d4",
   "metadata": {},
   "outputs": [],
   "source": [
    "# At this time, we can also consider another aspect of the data which will need to be handled - the presence of third party candidates\n",
    "## To reduce the dimensionality of our data, for this initial anaylsis, all third parties will be labeled as 'Other'\n",
    "## Future analysis may wish to look at this in more detail"
   ]
  },
  {
   "cell_type": "code",
   "execution_count": null,
   "id": "9c8328b9-d853-42ee-b7d1-0cc2fa27e379",
   "metadata": {
    "tags": []
   },
   "outputs": [],
   "source": [
    "for i in fec_files:\n",
    "    print(i['PARTY'].unique())"
   ]
  },
  {
   "cell_type": "code",
   "execution_count": null,
   "id": "da7b47b1-f9d5-4c17-9dff-ffa02e6d0af2",
   "metadata": {},
   "outputs": [],
   "source": [
    "def FEC_simplifier(i):\n",
    "    # Rename columns to simple format across all years\n",
    "    new_col_dic = {'(I) Incumbent Indicator':'(I)','District':'D', 'DISTRICT':'D'}\n",
    "    # Drop all rows that received no votes in the general election, or do not have a first name\n",
    "    i = i.dropna(subset=['GENERAL VOTES ','CANDIDATE NAME (First)']) \n",
    "    i = i.reset_index(drop=True)\n",
    "    \n",
    "    # Current columns needed\n",
    "    keep_cols = ['STATE ABBREVIATION','D','CANDIDATE NAME (First)','CANDIDATE NAME (Last)','CANDIDATE NAME(f)','CANDIDATE NAME','PARTY','(I)','GENERAL VOTES ']\n",
    "    \n",
    "    # Apply new column names\n",
    "    i_copy = i.rename(columns=new_col_dic).copy()\n",
    "    if '(I) Incumbent Indicator' in i.columns:\n",
    "        i['(I)'] = i[['(I) Incumbent Indicator']]\n",
    "    else:\n",
    "        i = i.copy()\n",
    "    # Convert incumbancy to binary value\n",
    "    i_copy['(I)'] = i['(I)'].notna().astype(int)\n",
    "    \n",
    "    # Apply the two_party function (see modules.py)\n",
    "    i_copy['PARTY'] = i.apply(two_party,axis=1)\n",
    "    \n",
    "    # Use trim_party (see modules.py) to remove middle names or titles stored in FEC First Names column\n",
    "    i_copy['SIMPLE_FIRST'] = trim_party(i['CANDIDATE NAME (First)'],' ')\n",
    "    \n",
    "    # Create full name from first and last, transform to lower case to allow for easy comparison across datasets\n",
    "    i_copy['CANDIDATE NAME(f)'] = i_copy['SIMPLE_FIRST']+' '+i_copy['CANDIDATE NAME (Last)']\n",
    "    i_copy['CANDIDATE NAME(f)'] = i_copy['CANDIDATE NAME(f)'].astype(str).str.lower()\n",
    "    \n",
    "    # Keep only relevant columns\n",
    "    i_copy = i_copy[keep_cols].copy()\n",
    "    i = i_copy\n",
    "    return i"
   ]
  }
 ],
 "metadata": {
  "kernelspec": {
   "display_name": "Python 3 (ipykernel)",
   "language": "python",
   "name": "python3"
  },
  "language_info": {
   "codemirror_mode": {
    "name": "ipython",
    "version": 3
   },
   "file_extension": ".py",
   "mimetype": "text/x-python",
   "name": "python",
   "nbconvert_exporter": "python",
   "pygments_lexer": "ipython3",
   "version": "3.11.5"
  }
 },
 "nbformat": 4,
 "nbformat_minor": 5
}
