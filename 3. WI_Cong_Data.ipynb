{
 "cells": [
  {
   "cell_type": "code",
   "execution_count": 1,
   "id": "15499dc8-2b45-4f17-b7ea-72b8b6db0edb",
   "metadata": {
    "tags": []
   },
   "outputs": [],
   "source": [
    "import numpy as np\n",
    "import pandas as pd\n",
    "from src.modules import *"
   ]
  },
  {
   "cell_type": "code",
   "execution_count": 2,
   "id": "7699be94-fbf6-4943-9f96-51f16af932cf",
   "metadata": {
    "tags": []
   },
   "outputs": [],
   "source": [
    "\n",
    "WI_12_sheets = ['Sheet3', 'Sheet4', 'Sheet5', 'Sheet6', 'Sheet7', 'Sheet8', 'Sheet9', 'Sheet10']\n",
    "WI_14_sheets = ['Sheet6', 'Sheet7', 'Sheet8', 'Sheet9', 'Sheet10', 'Sheet11', 'Sheet12', 'Sheet13']\n",
    "WI_16_sheets = ['Sheet2', 'Sheet3', 'Sheet4', 'Sheet5', 'Sheet6', 'Sheet7', 'Sheet8', 'Sheet9']\n",
    "WI_18_sheets = ['Sheet2', 'Sheet3', 'Sheet4', 'Sheet5', 'Sheet6', 'Sheet7', 'Sheet8', 'Sheet9']\n",
    "WI_20_sheets = ['Sheet2', 'Sheet3', 'Sheet4', 'Sheet5', 'Sheet6', 'Sheet7', 'Sheet8', 'Sheet9']"
   ]
  },
  {
   "cell_type": "code",
   "execution_count": 3,
   "id": "ee77d149-51bb-4498-a632-be766ca93925",
   "metadata": {
    "tags": []
   },
   "outputs": [],
   "source": [
    "sheet_list = [WI_12_sheets, WI_14_sheets, WI_16_sheets, WI_18_sheets, WI_20_sheets]\n"
   ]
  },
  {
   "cell_type": "code",
   "execution_count": 4,
   "id": "904c2d63-bc33-4610-be6e-bc532c257994",
   "metadata": {
    "tags": []
   },
   "outputs": [],
   "source": [
    "\n",
    "excel_path_WI_12 = r'data/raw_elec_totals/wi 2012county.xlsx'\n",
    "excel_path_WI_14 = r'data/raw_elec_totals/wi 2014county.xlsx'\n",
    "excel_path_WI_16 = r'data/raw_elec_totals/wi 2016county.xlsx'\n",
    "excel_path_WI_18 = r'data/raw_elec_totals/wi 2018county.xlsx'\n",
    "excel_path_WI_20 = r'data/raw_elec_totals/wi 2020county.xlsx'"
   ]
  },
  {
   "cell_type": "code",
   "execution_count": 5,
   "id": "ff6fa02f-468f-465a-b4f7-6319788e6290",
   "metadata": {
    "tags": []
   },
   "outputs": [],
   "source": [
    "excel_path_list = [excel_path_WI_12, excel_path_WI_14, excel_path_WI_16, excel_path_WI_18, excel_path_WI_20]\n"
   ]
  },
  {
   "cell_type": "code",
   "execution_count": 6,
   "id": "0103c677-31cf-46d8-83f3-7701a0ba39e3",
   "metadata": {
    "tags": []
   },
   "outputs": [],
   "source": [
    "# def get_WI_data(sheet_names,filepath):\n",
    "    \n",
    "#     \"\"\"\n",
    "    \n",
    "#     \"\"\"\n",
    "\n",
    "#     col_dic = {'Unnamed: 0':'County'} #column names to reformat\n",
    "#     # bad_counties = ['total','percentage'] #rows with totals rather than county data\n",
    "#     data = pd.DataFrame()\n",
    "\n",
    "#     for i in sheet_names:\n",
    "#         d = pd.read_excel(filepath, sheet_name=i, header=5)\n",
    "#         data = pd.concat([data, d], ignore_index=True)\n",
    "#     # # Due to source formatting, 'Counties' column will appear unnamed when first imported, rename to counties:\n",
    "#     data = data.rename(columns=col_dic) \n",
    "#     data = data.groupby('County').sum().reset_index()\n",
    "#     # lower_county  = [i.lower() for i in data['County'].tolist()]\n",
    "#     data['County'] = [i.lower() for i in data['County'].tolist()]\n",
    "#     data = data[~data['County'].str.contains('total')].copy()\n",
    "    \n",
    "#     return data"
   ]
  },
  {
   "cell_type": "code",
   "execution_count": 8,
   "id": "22a7db45-4baf-4446-97f8-242207028418",
   "metadata": {
    "tags": []
   },
   "outputs": [],
   "source": [
    "WI_12_house = get_WI_data(WI_12_sheets,excel_path_WI_12)\n",
    "WI_14_house = get_WI_data(WI_14_sheets,excel_path_WI_14)\n",
    "WI_16_house = get_WI_data(WI_16_sheets,excel_path_WI_16)\n",
    "WI_18_house = get_WI_data(WI_18_sheets,excel_path_WI_18)\n",
    "WI_20_house = get_WI_data(WI_20_sheets,excel_path_WI_20)"
   ]
  },
  {
   "cell_type": "code",
   "execution_count": null,
   "id": "24564012-a8ee-46d1-b15e-47ad1de9d4ed",
   "metadata": {
    "tags": []
   },
   "outputs": [],
   "source": [
    "# WI_12_house"
   ]
  },
  {
   "cell_type": "code",
   "execution_count": null,
   "id": "51638788-00e6-4fed-b778-44f41b9e9289",
   "metadata": {
    "tags": []
   },
   "outputs": [],
   "source": [
    "WI_18_house"
   ]
  },
  {
   "cell_type": "code",
   "execution_count": null,
   "id": "077a4ce2-30c0-45ad-8eb0-8a36575eb42d",
   "metadata": {
    "tags": []
   },
   "outputs": [],
   "source": [
    "# WI_12_house"
   ]
  },
  {
   "cell_type": "code",
   "execution_count": null,
   "id": "9b29d3bc-d825-40f2-901e-55e39a2382a2",
   "metadata": {},
   "outputs": [],
   "source": [
    "# cand_list = WI_12_house.columns.tolist()"
   ]
  },
  {
   "cell_type": "code",
   "execution_count": null,
   "id": "c0c994de-9e5d-446a-a266-28aebaf055bb",
   "metadata": {
    "tags": []
   },
   "outputs": [],
   "source": [
    "# cand_list"
   ]
  },
  {
   "cell_type": "code",
   "execution_count": null,
   "id": "5efd72ba-d345-44be-b3f5-1e1309601802",
   "metadata": {
    "tags": []
   },
   "outputs": [],
   "source": [
    "# data = WI_12_house"
   ]
  },
  {
   "cell_type": "code",
   "execution_count": null,
   "id": "dd3f61b7-300e-4a12-b145-bffb0dd6c06d",
   "metadata": {
    "tags": []
   },
   "outputs": [],
   "source": [
    "# def remove_middle_name2(data):\n",
    "#     \"\"\"this will return the start and end of a split item,\n",
    "#     built to remove middle names and titles from full name columns \"\"\"\n",
    "#     no_middle = []\n",
    "#     for i in data:\n",
    "#         if len(i.split()) > 1:\n",
    "#             if i.split()[-1][-1] == '.':\n",
    "#                 no_middle.append(i.split()[0] + ' ' + i.split()[-2])\n",
    "#             elif i.split()[-1].lower() == 'jr':\n",
    "#                 no_middle.append(i.split()[0] + ' ' + i.split()[-2])\n",
    "#             elif i.split()[-1].lower() == 'sr':\n",
    "#                 no_middle.append(i.split()[0] + ' ' + i.split()[-2])\n",
    "#             else:\n",
    "#                 no_middle.append(i.split()[0] + ' ' + i.split()[-1])\n",
    "#         else:\n",
    "#             no_middle.append(i)\n",
    "#     return no_middle\n"
   ]
  },
  {
   "cell_type": "code",
   "execution_count": null,
   "id": "727f24bd-1f22-4bad-bf21-b240ffc10bea",
   "metadata": {
    "tags": []
   },
   "outputs": [],
   "source": [
    "# def format_WI(data):\n",
    "#     drop_col = ['scattering','unnamed: 1', 'unnamed: 2'] #columns from original data to remove\n",
    "#     data_copy = data.copy()\n",
    "#     cols = data.columns.tolist()\n",
    "#     cols = [i.lower() for i in cols]\n",
    "    \n",
    "#     # Drop party/write-in lables and remove middle names\n",
    "#     cols = trim_party(cols)\n",
    "#     cols = remove_middle_name(cols)\n",
    "    \n",
    "#     # Keep only relevant columns\n",
    "#     data_copy.columns = cols\n",
    "#     data_copy = data_copy.drop(columns=drop_col)\n",
    "    \n",
    "#     return data_copy"
   ]
  },
  {
   "cell_type": "code",
   "execution_count": 9,
   "id": "e127bd57-8534-43f3-a2bd-cd418bbe0167",
   "metadata": {
    "tags": []
   },
   "outputs": [],
   "source": [
    "wi_house_12_f = format_WI(WI_12_house)\n",
    "wi_house_14_f = format_WI(WI_14_house)\n",
    "wi_house_16_f = format_WI(WI_16_house)\n",
    "wi_house_18_f = format_WI(WI_18_house)\n",
    "wi_house_20_f = format_WI(WI_20_house)"
   ]
  },
  {
   "cell_type": "code",
   "execution_count": 10,
   "id": "46b744a4-ea2e-48d2-ac4b-d2b7c894b256",
   "metadata": {
    "tags": []
   },
   "outputs": [],
   "source": [
    "fec_2020 = pd.read_csv(r'data\\FEC\\candidates_2020.csv', index_col=0)\n",
    "fec_2018 = pd.read_csv(r'data\\FEC\\candidates_2018.csv', index_col=0)\n",
    "fec_2016 = pd.read_csv(r'data\\FEC\\candidates_2016.csv', index_col=0)\n",
    "fec_2014 = pd.read_csv(r'data\\FEC\\candidates_2014.csv', index_col=0)\n",
    "fec_2012 = pd.read_csv(r'data\\FEC\\candidates_2012.csv', index_col=0)"
   ]
  },
  {
   "cell_type": "code",
   "execution_count": 11,
   "id": "bb44fea7-991e-490f-bca7-8d1d60fed52e",
   "metadata": {
    "tags": []
   },
   "outputs": [],
   "source": [
    "wi_house_12_fec, wi_counties = state_join_FEC(wi_house_12_f, fec_2012)\n",
    "wi_house_14_fec, wi_counties = state_join_FEC(wi_house_14_f, fec_2014)\n",
    "wi_house_16_fec, wi_counties = state_join_FEC(wi_house_16_f, fec_2016)\n",
    "wi_house_18_fec, wi_counties = state_join_FEC(wi_house_18_f, fec_2018)\n",
    "wi_house_20_fec, wi_counties = state_join_FEC(wi_house_20_f, fec_2020)"
   ]
  },
  {
   "cell_type": "code",
   "execution_count": null,
   "id": "12369b5c-59ef-4059-808c-36400d55c33c",
   "metadata": {
    "tags": []
   },
   "outputs": [],
   "source": [
    "# wi_house_12_fec"
   ]
  },
  {
   "cell_type": "code",
   "execution_count": null,
   "id": "19fde9bd-68e6-424a-9152-a758e9dc1604",
   "metadata": {
    "tags": []
   },
   "outputs": [],
   "source": [
    "# len(wi_counties)"
   ]
  },
  {
   "cell_type": "code",
   "execution_count": 12,
   "id": "bf73ac02-ce4b-41a9-ab73-2e74aaa717ac",
   "metadata": {
    "tags": []
   },
   "outputs": [],
   "source": [
    "WI_House_12_t = state_trans(wi_house_12_fec, wi_counties)\n",
    "WI_House_14_t = state_trans(wi_house_14_fec, wi_counties)\n",
    "WI_House_16_t = state_trans(wi_house_16_fec, wi_counties)\n",
    "WI_House_18_t = state_trans(wi_house_18_fec, wi_counties)\n",
    "WI_House_20_t = state_trans(wi_house_20_fec, wi_counties)"
   ]
  },
  {
   "cell_type": "code",
   "execution_count": null,
   "id": "08d14788-73ab-45fc-ac59-20f254a02598",
   "metadata": {
    "tags": []
   },
   "outputs": [],
   "source": [
    "# WI_House_12_t"
   ]
  },
  {
   "cell_type": "code",
   "execution_count": 13,
   "id": "b12cd194-6af8-43ee-81e5-740c953d835d",
   "metadata": {},
   "outputs": [],
   "source": [
    "\n",
    "# Save those as CSVs\n",
    "WI_House_12_t.to_csv(r'data\\formatted_house_totals\\WI_House_12.csv', index=False)\n",
    "WI_House_14_t.to_csv(r'data\\formatted_house_totals\\WI_House_14.csv', index=False)\n",
    "WI_House_16_t.to_csv(r'data\\formatted_house_totals\\WI_House_16.csv', index=False)\n",
    "WI_House_18_t.to_csv(r'data\\formatted_house_totals\\WI_House_18.csv', index=False)\n",
    "WI_House_20_t.to_csv(r'data\\formatted_house_totals\\WI_House_20.csv', index=False)"
   ]
  }
 ],
 "metadata": {
  "kernelspec": {
   "display_name": "Python 3 (ipykernel)",
   "language": "python",
   "name": "python3"
  },
  "language_info": {
   "codemirror_mode": {
    "name": "ipython",
    "version": 3
   },
   "file_extension": ".py",
   "mimetype": "text/x-python",
   "name": "python",
   "nbconvert_exporter": "python",
   "pygments_lexer": "ipython3",
   "version": "3.11.5"
  }
 },
 "nbformat": 4,
 "nbformat_minor": 5
}
