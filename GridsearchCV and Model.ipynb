{
 "cells": [
  {
   "cell_type": "code",
   "execution_count": 1,
   "id": "79fa2ae4-0e2b-46e1-9e15-c7b840b4a165",
   "metadata": {
    "tags": []
   },
   "outputs": [],
   "source": [
    "# Libraries for loading in data and building features\n",
    "import numpy as np\n",
    "import pandas as pd\n",
    "# from docx import Document\n",
    "from src.modules import * #contains functions used in common with processing election and IRS data\n",
    "import os"
   ]
  },
  {
   "cell_type": "code",
   "execution_count": 2,
   "id": "13b1fff3-00a9-4aac-8e62-39442a7a0fcb",
   "metadata": {
    "tags": []
   },
   "outputs": [],
   "source": [
    "\n",
    "### Libraries for  Gridsearch with Ridge and LASSO regression, as well as XGBoost and random forest modeling\n",
    "from sklearn.model_selection import train_test_split, GridSearchCV\n",
    "from sklearn.decomposition import PCA # There are a LOT of features, so using PCA to reduce them seems like a good idea\n",
    "from sklearn.preprocessing import MinMaxScaler, StandardScaler\n",
    "from sklearn.linear_model import Ridge, Lasso\n",
    "from xgboost import XGBRegressor\n",
    "from sklearn.ensemble import RandomForestRegressor\n",
    "from sklearn.metrics import mean_squared_error, r2_score #using MSE at first, remember to try other error metrics with future analysis"
   ]
  },
  {
   "cell_type": "code",
   "execution_count": 4,
   "id": "245f7097-1bfe-430a-9e4f-b24958545a1e",
   "metadata": {
    "tags": []
   },
   "outputs": [
    {
     "ename": "KeyError",
     "evalue": "'OTHER0'",
     "output_type": "error",
     "traceback": [
      "\u001b[1;31m---------------------------------------------------------------------------\u001b[0m",
      "\u001b[1;31mKeyError\u001b[0m                                  Traceback (most recent call last)",
      "File \u001b[1;32m~\\anaconda3\\Lib\\site-packages\\pandas\\core\\indexes\\base.py:3653\u001b[0m, in \u001b[0;36mIndex.get_loc\u001b[1;34m(self, key)\u001b[0m\n\u001b[0;32m   3652\u001b[0m \u001b[38;5;28;01mtry\u001b[39;00m:\n\u001b[1;32m-> 3653\u001b[0m     \u001b[38;5;28;01mreturn\u001b[39;00m \u001b[38;5;28mself\u001b[39m\u001b[38;5;241m.\u001b[39m_engine\u001b[38;5;241m.\u001b[39mget_loc(casted_key)\n\u001b[0;32m   3654\u001b[0m \u001b[38;5;28;01mexcept\u001b[39;00m \u001b[38;5;167;01mKeyError\u001b[39;00m \u001b[38;5;28;01mas\u001b[39;00m err:\n",
      "File \u001b[1;32m~\\anaconda3\\Lib\\site-packages\\pandas\\_libs\\index.pyx:147\u001b[0m, in \u001b[0;36mpandas._libs.index.IndexEngine.get_loc\u001b[1;34m()\u001b[0m\n",
      "File \u001b[1;32m~\\anaconda3\\Lib\\site-packages\\pandas\\_libs\\index.pyx:176\u001b[0m, in \u001b[0;36mpandas._libs.index.IndexEngine.get_loc\u001b[1;34m()\u001b[0m\n",
      "File \u001b[1;32mpandas\\_libs\\hashtable_class_helper.pxi:7080\u001b[0m, in \u001b[0;36mpandas._libs.hashtable.PyObjectHashTable.get_item\u001b[1;34m()\u001b[0m\n",
      "File \u001b[1;32mpandas\\_libs\\hashtable_class_helper.pxi:7088\u001b[0m, in \u001b[0;36mpandas._libs.hashtable.PyObjectHashTable.get_item\u001b[1;34m()\u001b[0m\n",
      "\u001b[1;31mKeyError\u001b[0m: 'OTHER0'",
      "\nThe above exception was the direct cause of the following exception:\n",
      "\u001b[1;31mKeyError\u001b[0m                                  Traceback (most recent call last)",
      "Cell \u001b[1;32mIn[4], line 11\u001b[0m\n\u001b[0;32m      7\u001b[0m house_IRS_diff[\u001b[38;5;124m'\u001b[39m\u001b[38;5;124mInc\u001b[39m\u001b[38;5;124m'\u001b[39m] \u001b[38;5;241m=\u001b[39m (house_IRS_diff[\u001b[38;5;124m'\u001b[39m\u001b[38;5;124mR1\u001b[39m\u001b[38;5;124m'\u001b[39m] \u001b[38;5;241m+\u001b[39m house_IRS_diff[\u001b[38;5;124m'\u001b[39m\u001b[38;5;124mD1\u001b[39m\u001b[38;5;124m'\u001b[39m]) \n\u001b[0;32m      8\u001b[0m \u001b[38;5;66;03m# if future data contains incumbants who are not Dem or Rep, INCLUDE THOSE\u001b[39;00m\n\u001b[0;32m      9\u001b[0m \n\u001b[0;32m     10\u001b[0m \u001b[38;5;66;03m# Combines votes for challengers regardless of party\u001b[39;00m\n\u001b[1;32m---> 11\u001b[0m house_IRS_diff[\u001b[38;5;124m'\u001b[39m\u001b[38;5;124mChallenger\u001b[39m\u001b[38;5;124m'\u001b[39m] \u001b[38;5;241m=\u001b[39m (house_IRS_diff[\u001b[38;5;124m'\u001b[39m\u001b[38;5;124mR0\u001b[39m\u001b[38;5;124m'\u001b[39m] \u001b[38;5;241m+\u001b[39m house_IRS_diff[\u001b[38;5;124m'\u001b[39m\u001b[38;5;124mD0\u001b[39m\u001b[38;5;124m'\u001b[39m] \u001b[38;5;241m+\u001b[39m house_IRS_diff[\u001b[38;5;124m'\u001b[39m\u001b[38;5;124mOTHER0\u001b[39m\u001b[38;5;124m'\u001b[39m])\n",
      "File \u001b[1;32m~\\anaconda3\\Lib\\site-packages\\pandas\\core\\frame.py:3761\u001b[0m, in \u001b[0;36mDataFrame.__getitem__\u001b[1;34m(self, key)\u001b[0m\n\u001b[0;32m   3759\u001b[0m \u001b[38;5;28;01mif\u001b[39;00m \u001b[38;5;28mself\u001b[39m\u001b[38;5;241m.\u001b[39mcolumns\u001b[38;5;241m.\u001b[39mnlevels \u001b[38;5;241m>\u001b[39m \u001b[38;5;241m1\u001b[39m:\n\u001b[0;32m   3760\u001b[0m     \u001b[38;5;28;01mreturn\u001b[39;00m \u001b[38;5;28mself\u001b[39m\u001b[38;5;241m.\u001b[39m_getitem_multilevel(key)\n\u001b[1;32m-> 3761\u001b[0m indexer \u001b[38;5;241m=\u001b[39m \u001b[38;5;28mself\u001b[39m\u001b[38;5;241m.\u001b[39mcolumns\u001b[38;5;241m.\u001b[39mget_loc(key)\n\u001b[0;32m   3762\u001b[0m \u001b[38;5;28;01mif\u001b[39;00m is_integer(indexer):\n\u001b[0;32m   3763\u001b[0m     indexer \u001b[38;5;241m=\u001b[39m [indexer]\n",
      "File \u001b[1;32m~\\anaconda3\\Lib\\site-packages\\pandas\\core\\indexes\\base.py:3655\u001b[0m, in \u001b[0;36mIndex.get_loc\u001b[1;34m(self, key)\u001b[0m\n\u001b[0;32m   3653\u001b[0m     \u001b[38;5;28;01mreturn\u001b[39;00m \u001b[38;5;28mself\u001b[39m\u001b[38;5;241m.\u001b[39m_engine\u001b[38;5;241m.\u001b[39mget_loc(casted_key)\n\u001b[0;32m   3654\u001b[0m \u001b[38;5;28;01mexcept\u001b[39;00m \u001b[38;5;167;01mKeyError\u001b[39;00m \u001b[38;5;28;01mas\u001b[39;00m err:\n\u001b[1;32m-> 3655\u001b[0m     \u001b[38;5;28;01mraise\u001b[39;00m \u001b[38;5;167;01mKeyError\u001b[39;00m(key) \u001b[38;5;28;01mfrom\u001b[39;00m \u001b[38;5;21;01merr\u001b[39;00m\n\u001b[0;32m   3656\u001b[0m \u001b[38;5;28;01mexcept\u001b[39;00m \u001b[38;5;167;01mTypeError\u001b[39;00m:\n\u001b[0;32m   3657\u001b[0m     \u001b[38;5;66;03m# If we have a listlike key, _check_indexing_error will raise\u001b[39;00m\n\u001b[0;32m   3658\u001b[0m     \u001b[38;5;66;03m#  InvalidIndexError. Otherwise we fall through and re-raise\u001b[39;00m\n\u001b[0;32m   3659\u001b[0m     \u001b[38;5;66;03m#  the TypeError.\u001b[39;00m\n\u001b[0;32m   3660\u001b[0m     \u001b[38;5;28mself\u001b[39m\u001b[38;5;241m.\u001b[39m_check_indexing_error(key)\n",
      "\u001b[1;31mKeyError\u001b[0m: 'OTHER0'"
     ]
    }
   ],
   "source": [
    "\n",
    "# Load data, this file is the np.log of the files created in 'merge_State_IRS_data.py', see 'transform_with_log' file for details\n",
    "house_IRS_diff = pd.read_csv('data/logarithm_of_joined_data/house_IRS_d_log.csv')\n",
    "\n",
    "### Create columns for incumbant voteshare and challenger voteshare\n",
    "\n",
    "# Combines votes for incumbant candidates regardless of party\n",
    "house_IRS_diff['Inc'] = (house_IRS_diff['R1'] + house_IRS_diff['D1']) \n",
    "# if future data contains incumbants who are not Dem or Rep, INCLUDE THOSE\n",
    "\n",
    "# Combines votes for challengers regardless of party\n",
    "house_IRS_diff['Challenger'] = (house_IRS_diff['R0'] + house_IRS_diff['D0'] + house_IRS_diff['OTHER0']) "
   ]
  },
  {
   "cell_type": "code",
   "execution_count": null,
   "id": "ac62bbb6-0901-4e22-8b4a-bd3296feb57f",
   "metadata": {
    "tags": []
   },
   "outputs": [],
   "source": [
    "house_IRS_diff.describe()"
   ]
  },
  {
   "cell_type": "code",
   "execution_count": null,
   "id": "97a822c4-3aa0-4702-af89-1c65657303b2",
   "metadata": {
    "tags": []
   },
   "outputs": [],
   "source": [
    "# Assign X and y\n",
    "X = house_IRS_diff.drop(['D0', 'D1', 'OTHER0', 'R0', 'R1','Inc','Challenger'],axis=1)\n",
    "### Our dependent variables for this model will just be 'Inc' and 'Challenger'\n",
    "y = house_IRS_diff[['Inc','Challenger']]\n",
    "\n",
    "# prepare scaler\n",
    "scaler_ss = StandardScaler()\n",
    "### Reminder - if StandardScaler() is used, consider re-running with Min-Max\n",
    "X_scaled = scaler_ss.fit_transform(X)\n",
    "\n",
    "# PCA to reduce the number of features\n",
    "pca = PCA(n_components=15)\n",
    "X_pca = pca.fit_transform(X_scaled)\n",
    "\n",
    "# Split into train and test sets  \n",
    "X_train, X_test, y_train, y_test = train_test_split(X_pca, y, test_size=0.2, random_state=12)\n"
   ]
  },
  {
   "cell_type": "code",
   "execution_count": null,
   "id": "41a33e77-716d-480e-8012-e34baf7918cb",
   "metadata": {
    "tags": []
   },
   "outputs": [],
   "source": [
    "# List Models and their respective hyperparameter grids \n",
    "### THESE will likely require more tuning\n",
    "models = {\n",
    "    'XGBoost': (XGBRegressor(), {'learning_rate': [0.1, 0.01, 0.001], 'n_estimators': [25, 50, 75, 150], 'max_depth': [3, 5, 7]}),\n",
    "    'Ridge': (Ridge(), {'alpha': [0.1, 1.0, 10.0, 25]}),\n",
    "    'Lasso': (Lasso(), {'alpha': [0.1, 1.0, 10.0, 25]}),\n",
    "    'RandomForest': (RandomForestRegressor(), {'n_estimators': [50, 100, 150], 'max_depth': [None, 10, 20], 'min_samples_split': [2, 5, 10], 'min_samples_leaf': [1, 2, 4]})\n",
    "}\n"
   ]
  },
  {
   "cell_type": "code",
   "execution_count": null,
   "id": "da5c8934-2030-4ff7-a8cb-20e82d6c119a",
   "metadata": {
    "tags": []
   },
   "outputs": [],
   "source": [
    "# Perform GridSearchCV for each model\n",
    "for model_name, (model, param_grid) in models.items():\n",
    "    grid_search = GridSearchCV(model, param_grid, cv=5, scoring='neg_mean_squared_error', n_jobs=-1)\n",
    "    grid_search.fit(X_train, y_train)\n",
    "\n",
    "    # Access best hyperparameters and model for each model\n",
    "    best_params = grid_search.best_params_\n",
    "    best_model = grid_search.best_estimator_\n",
    "\n",
    "    # Evaluate on the test set\n",
    "    y_pred = best_model.predict(X_test)\n",
    "    mse = mean_squared_error(y_test, y_pred)\n",
    "\n",
    "    print(f\"Best hyperparameters for {model_name}: {best_params}\")\n",
    "    print(f\"Best model for {model_name}: {best_model}\")\n",
    "    print(f\"Mean Squared Error on Test Set: {mse}\\n\")"
   ]
  },
  {
   "cell_type": "code",
   "execution_count": null,
   "id": "ff57b87e-a322-4ad9-a3f2-a7f63369a04b",
   "metadata": {
    "tags": []
   },
   "outputs": [],
   "source": [
    "### Re-run with min-max scaler\n",
    "\n",
    "# Assign X and y\n",
    "X = house_IRS_diff.drop(['D0', 'D1', 'OTHER0', 'R0', 'R1','Inc','Challenger'],axis=1)\n",
    "### Our dependent variables for this model will just be 'Inc' and 'Challenger'\n",
    "y = house_IRS_diff[['Inc','Challenger']]\n",
    "\n",
    "# prepare scaler\n",
    "scaler_MM = MinMaxScaler()\n",
    "### Reminder - if StandardScaler() is used, consider re-running with Min-Max\n",
    "X_scaled = scaler_MM.fit_transform(X)\n",
    "\n",
    "# PCA to reduce the number of features\n",
    "pca = PCA(n_components=15)\n",
    "X_pca = pca.fit_transform(X_scaled)\n",
    "\n",
    "# Split into train and test sets  \n",
    "X_train, X_test, y_train, y_test = train_test_split(X_pca, y, test_size=0.2, random_state=12)\n"
   ]
  },
  {
   "cell_type": "code",
   "execution_count": null,
   "id": "68f861e7-e329-409f-8780-99e9ec6ebbc8",
   "metadata": {
    "tags": []
   },
   "outputs": [],
   "source": [
    "# List Models and their respective hyperparameter grids \n",
    "### THESE will likely require more tuning\n",
    "models = {\n",
    "    'XGBoost': (XGBRegressor(), {'learning_rate': [0.1, 0.01, 0.001], 'n_estimators': [25, 50, 75, 150], 'max_depth': [3, 5, 7]}),\n",
    "    'Ridge': (Ridge(), {'alpha': [0.1, 1.0, 10.0, 25]}),\n",
    "    'Lasso': (Lasso(), {'alpha': [0.1, 1.0, 10.0, 25]}),\n",
    "    'RandomForest': (RandomForestRegressor(), {'n_estimators': [50, 100, 150], 'max_depth': [None, 10, 20], 'min_samples_split': [2, 5, 10], 'min_samples_leaf': [1, 2, 4]})\n",
    "}\n"
   ]
  },
  {
   "cell_type": "code",
   "execution_count": null,
   "id": "77d24dc6-b7fd-41d5-ae41-c6c72676cb70",
   "metadata": {
    "tags": []
   },
   "outputs": [],
   "source": [
    "# Perform GridSearchCV for each model\n",
    "for model_name, (model, param_grid) in models.items():\n",
    "    grid_search = GridSearchCV(model, param_grid, cv=5, scoring='neg_mean_squared_error', n_jobs=-1)\n",
    "    grid_search.fit(X_train, y_train)\n",
    "\n",
    "    # Access best hyperparameters and model for each model\n",
    "    best_params = grid_search.best_params_\n",
    "    best_model = grid_search.best_estimator_\n",
    "\n",
    "    # Evaluate on the test set\n",
    "    y_pred = best_model.predict(X_test)\n",
    "    mse = mean_squared_error(y_test, y_pred)\n",
    "\n",
    "    print(f\"Best hyperparameters for {model_name}: {best_params}\")\n",
    "    print(f\"Best model for {model_name}: {best_model}\")\n",
    "    print(f\"Mean Squared Error on Test Set: {mse}\\n\")"
   ]
  },
  {
   "cell_type": "code",
   "execution_count": null,
   "id": "dc9a2fa9-ef2c-4979-97db-ec3ffc7d20ac",
   "metadata": {
    "tags": []
   },
   "outputs": [],
   "source": [
    "# With min-max scaling, we get a slightly better performance from Random Forest, so let's use that model going forward:"
   ]
  },
  {
   "cell_type": "code",
   "execution_count": null,
   "id": "f9f8b198-cac5-4c3b-a6ba-a41927e75b98",
   "metadata": {},
   "outputs": [],
   "source": [
    "# Resetting all values:\n",
    "# prepare scaler\n",
    "scaler_MM = MinMaxScaler()\n",
    "X_scaled = scaler_MM.fit_transform(X)\n",
    "\n",
    "# PCA to reduce the number of features\n",
    "pca = PCA(n_components=15)\n",
    "X_pca = pca.fit_transform(X_scaled)\n",
    "\n",
    "# Split into train and test sets  \n",
    "X_train, X_test, y_train, y_test = train_test_split(X_pca, y_min, test_size=0.2, random_state=12)"
   ]
  },
  {
   "cell_type": "code",
   "execution_count": null,
   "id": "05042b9a-ffb1-44d4-9c9a-b3bdcc3743c1",
   "metadata": {},
   "outputs": [],
   "source": [
    "# Configure the model:\n",
    "best_model = RandomForestRegressor(max_depth = 20, min_samples_leaf = 4, min_samples_split = 10, n_estimators = 100, random_state=12)"
   ]
  }
 ],
 "metadata": {
  "kernelspec": {
   "display_name": "Python 3 (ipykernel)",
   "language": "python",
   "name": "python3"
  },
  "language_info": {
   "codemirror_mode": {
    "name": "ipython",
    "version": 3
   },
   "file_extension": ".py",
   "mimetype": "text/x-python",
   "name": "python",
   "nbconvert_exporter": "python",
   "pygments_lexer": "ipython3",
   "version": "3.11.5"
  }
 },
 "nbformat": 4,
 "nbformat_minor": 5
}
