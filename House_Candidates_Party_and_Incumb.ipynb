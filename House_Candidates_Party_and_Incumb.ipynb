{
 "cells": [
  {
   "cell_type": "code",
   "execution_count": null,
   "id": "b5bb24d5-cdd0-456b-80b6-cab8001f3e7a",
   "metadata": {
    "tags": []
   },
   "outputs": [],
   "source": [
    "import numpy as np\n",
    "import pandas as pd\n",
    "from src.modules import *"
   ]
  },
  {
   "cell_type": "code",
   "execution_count": null,
   "id": "f3960044-6ef0-4402-88e4-70ae78995779",
   "metadata": {
    "tags": []
   },
   "outputs": [],
   "source": [
    "results_2012_path = 'data/FEC/raw/FEC_2012_cong_results.xls'\n",
    "results_2012 = pd.ExcelFile(results_2012_path)\n",
    "sheet_names_2012 = results_2012.sheet_names\n",
    "for i in sheet_names_2012:\n",
    "    print(i)"
   ]
  },
  {
   "cell_type": "code",
   "execution_count": null,
   "id": "57dfae25-0108-457e-942d-504a7dfc651f",
   "metadata": {
    "tags": []
   },
   "outputs": [],
   "source": [
    "data_2012 = pd.read_excel(results_2012_path, sheet_name='2012 US House & Senate Results', header=0)"
   ]
  },
  {
   "cell_type": "code",
   "execution_count": null,
   "id": "c9ee9198-c27b-4b21-a30e-085f5c3af496",
   "metadata": {
    "tags": []
   },
   "outputs": [],
   "source": [
    "results_2014_path = 'data/FEC/raw/FEC_2014_cong_results.xls'\n",
    "results_2014 = pd.ExcelFile(results_2014_path)\n",
    "sheet_names_2014 = results_2014.sheet_names\n",
    "for i in sheet_names_2014:\n",
    "    print(i)"
   ]
  },
  {
   "cell_type": "code",
   "execution_count": null,
   "id": "8dce1955-b811-4237-a220-170747882dcd",
   "metadata": {
    "tags": []
   },
   "outputs": [],
   "source": [
    "data_2014 = pd.read_excel(results_2014_path, sheet_name='2014 US House Results by State', header=0)"
   ]
  },
  {
   "cell_type": "code",
   "execution_count": null,
   "id": "0258bdc3-a719-447b-a416-d7528f48a113",
   "metadata": {
    "tags": []
   },
   "outputs": [],
   "source": [
    "results_2016_path = 'data/FEC/raw/FEC_2016_cong_results.xlsx'\n",
    "results_2016 = pd.ExcelFile(results_2016_path)\n",
    "sheet_names_2016 = results_2016.sheet_names\n",
    "for i in sheet_names_2016:\n",
    "    print(i)"
   ]
  },
  {
   "cell_type": "code",
   "execution_count": null,
   "id": "4798839b-38f8-473f-baed-b8822c676f82",
   "metadata": {
    "tags": []
   },
   "outputs": [],
   "source": [
    "data_2016 = pd.read_excel(results_2016_path, sheet_name='2016 US House Results by State', header=0)"
   ]
  },
  {
   "cell_type": "code",
   "execution_count": null,
   "id": "38fb5cb3-b17c-4fb8-950a-b4934d834050",
   "metadata": {
    "tags": []
   },
   "outputs": [],
   "source": [
    "results_2018_path = 'data/FEC/raw/FEC_2018_cong_results.xlsx'\n",
    "results_2018 = pd.ExcelFile(results_2018_path)\n",
    "sheet_names_2018 = results_2018.sheet_names\n",
    "for i in sheet_names_2018:\n",
    "    print(i)"
   ]
  },
  {
   "cell_type": "code",
   "execution_count": null,
   "id": "1921cb71-5958-4569-a2ed-46d10a352fa1",
   "metadata": {
    "tags": []
   },
   "outputs": [],
   "source": [
    "data_2018 = pd.read_excel(results_2018_path, sheet_name='2018 US House Results by State', header=0)"
   ]
  },
  {
   "cell_type": "code",
   "execution_count": null,
   "id": "beb0a2d0-9f0b-45da-ac2b-e1d2d405f758",
   "metadata": {
    "tags": []
   },
   "outputs": [],
   "source": [
    "results_2020_path = 'data/FEC/raw/FEC_2020_cong_results.xlsx'\n",
    "results_2020 = pd.ExcelFile(results_2020_path)\n",
    "sheet_names_2020 = results_2020.sheet_names\n",
    "for i in sheet_names_2020:\n",
    "    print(i)"
   ]
  },
  {
   "cell_type": "code",
   "execution_count": null,
   "id": "6f7960fb-6ce3-4aac-97ac-1292702e7078",
   "metadata": {
    "tags": []
   },
   "outputs": [],
   "source": [
    "data_2020 = pd.read_excel(results_2020_path, sheet_name='13. US House Results by State', header=0)"
   ]
  },
  {
   "cell_type": "code",
   "execution_count": null,
   "id": "f7939001-f033-4a3e-9200-f54fb0a3fab1",
   "metadata": {
    "tags": []
   },
   "outputs": [],
   "source": [
    "FEC_data_list = [data_2012, data_2014, data_2016, data_2018, data_2020]"
   ]
  },
  {
   "cell_type": "code",
   "execution_count": null,
   "id": "3bb41ef8-7295-4e15-914f-3c7789a6f3fc",
   "metadata": {
    "tags": []
   },
   "outputs": [],
   "source": [
    "# for i in FEC_data_list:\n",
    "#     print(i.columns)"
   ]
  },
  {
   "cell_type": "code",
   "execution_count": null,
   "id": "a588c028-f68d-43b6-92ed-a523840aa276",
   "metadata": {
    "tags": []
   },
   "outputs": [],
   "source": [
    "# for i in FEC_data_list:\n",
    "#     i = i.dropna(subset=['GENERAL VOTES ','CANDIDATE NAME (First)']) #drop all rows that received no votes in the general election, or do not have a first name\n",
    "#     i = i.reset_index(drop=True)\n",
    "#     if '(I)' in i.columns and 'D' in i.columns:\n",
    "#         keep_cols = ['STATE ABBREVIATION','D','CANDIDATE NAME (First)','CANDIDATE NAME (Last)','CANDIDATE NAME','PARTY','(I)','GENERAL VOTES ']\n",
    "#         i_copy = i[keep_cols].copy()\n",
    "#         i_copy['(I)'] = i['(I)'].notna().astype(int)\n",
    "#         i_copy['PARTY'] = i.apply(two_party,axis=1)\n",
    "#         i_copy['SIMPLE_FIRST'] = trim_party(i['CANDIDATE NAME (First)'],' ')\n",
    "#         i_copy['CANDIDATE NAME(f)'] = i_copy['SIMPLE_FIRST']+' '+i_copy['CANDIDATE NAME (Last)']\n",
    "#         i = i_copy"
   ]
  },
  {
   "cell_type": "code",
   "execution_count": null,
   "id": "5c1faebc-3945-40f7-8909-2a0515fb1664",
   "metadata": {
    "tags": []
   },
   "outputs": [],
   "source": [
    "# def FEC_simplifier(i):\n",
    "#     new_col_dic = {'(I) Incumbent Indicator':'(I)','District':'D'}\n",
    "#     i = i.dropna(subset=['GENERAL VOTES ','CANDIDATE NAME (First)']) #drop all rows that received no votes in the general election, or do not have a first name\n",
    "#     i = i.reset_index(drop=True)\n",
    "#     i.rename(columns=new_col_dic)\n",
    "#     keep_cols = ['STATE ABBREVIATION','D','CANDIDATE NAME (First)','CANDIDATE NAME (Last)','CANDIDATE NAME','PARTY','(I)','GENERAL VOTES ']\n",
    "#     i_copy = i.copy()\n",
    "#     i_copy['(I)'] = i['(I)'].notna().astype(int)\n",
    "#     i_copy['PARTY'] = i.apply(two_party,axis=1)\n",
    "#     i_copy['SIMPLE_FIRST'] = trim_party(i['CANDIDATE NAME (First)'],' ')\n",
    "#     i_copy['CANDIDATE NAME(f)'] = i_copy['SIMPLE_FIRST']+' '+i_copy['CANDIDATE NAME (Last)']\n",
    "#     i_copy = i_copy[keep_cols].copy()\n",
    "#     i = i_copy\n",
    "#     return i"
   ]
  },
  {
   "cell_type": "code",
   "execution_count": null,
   "id": "1b43874b-ac2b-41aa-9aa5-86f86fce4a70",
   "metadata": {
    "tags": []
   },
   "outputs": [],
   "source": [
    "def FEC_simplifier(i):\n",
    "    new_col_dic = {'(I) Incumbent Indicator':'(I)','District':'D', 'DISTRICT':'D'}\n",
    "    i = i.dropna(subset=['GENERAL VOTES ','CANDIDATE NAME (First)']) #drop all rows that received no votes in the general election, or do not have a first name\n",
    "    i = i.reset_index(drop=True)\n",
    "    keep_cols = ['STATE ABBREVIATION','D','CANDIDATE NAME (First)','CANDIDATE NAME (Last)','CANDIDATE NAME(f)','CANDIDATE NAME','PARTY','(I)','GENERAL VOTES ']\n",
    "    i_copy = i.rename(columns=new_col_dic).copy()\n",
    "    if '(I) Incumbent Indicator' in i.columns:\n",
    "        i['(I)'] = i[['(I) Incumbent Indicator']]\n",
    "    else:\n",
    "        i = i.copy()\n",
    "    i_copy['(I)'] = i['(I)'].notna().astype(int)\n",
    "    i_copy['PARTY'] = i.apply(two_party,axis=1)\n",
    "    i_copy['SIMPLE_FIRST'] = trim_party(i['CANDIDATE NAME (First)'],' ')\n",
    "    i_copy['CANDIDATE NAME(f)'] = i_copy['SIMPLE_FIRST']+' '+i_copy['CANDIDATE NAME (Last)']\n",
    "    i_copy['CANDIDATE NAME(f)'] = i_copy['CANDIDATE NAME(f)'].astype(str).str.lower()\n",
    "    i_copy = i_copy[keep_cols].copy()\n",
    "    i = i_copy\n",
    "    return i"
   ]
  },
  {
   "cell_type": "code",
   "execution_count": null,
   "id": "b6df0f3d-0cd8-43ac-b0e2-e277e0e5758f",
   "metadata": {
    "tags": []
   },
   "outputs": [],
   "source": [
    "####WORKS@@\n",
    "\n",
    "# def FEC_simplifier(i):\n",
    "#     new_col_dic = {'(I) Incumbent Indicator':'(I)','District':'D', 'DISTRICT':'D'}\n",
    "#     i = i.dropna(subset=['GENERAL VOTES ','CANDIDATE NAME (First)']) #drop all rows that received no votes in the general election, or do not have a first name\n",
    "#     i = i.reset_index(drop=True)\n",
    "#     keep_cols = ['STATE ABBREVIATION','D','CANDIDATE NAME (First)','CANDIDATE NAME (Last)','CANDIDATE NAME(f)','CANDIDATE NAME','PARTY','(I)','GENERAL VOTES ']\n",
    "#     i_copy = i.rename(columns=new_col_dic).copy()\n",
    "#     if '(I) Incumbent Indicator' in i.columns:\n",
    "#         i['(I)'] = i[['(I) Incumbent Indicator']]\n",
    "#     else:\n",
    "#         i = i.copy()\n",
    "#     i_copy['(I)'] = i['(I)'].notna().astype(int)\n",
    "#     i_copy['PARTY'] = i.apply(two_party,axis=1)\n",
    "#     i_copy['SIMPLE_FIRST'] = trim_party(i['CANDIDATE NAME (First)'],' ')\n",
    "#     i_copy['CANDIDATE NAME(f)'] = i_copy['SIMPLE_FIRST']+' '+i_copy['CANDIDATE NAME (Last)']\n",
    "#     i_copy['CANDIDATE NAME(f)'] = i_copy['CANDIDATE NAME(f)'].astype(str).str.lower()\n",
    "#     i_copy = i_copy[keep_cols].copy()\n",
    "#     i = i_copy\n",
    "#     return i"
   ]
  },
  {
   "cell_type": "code",
   "execution_count": null,
   "id": "2a3088ef-e63d-4290-9853-5a87e78c0eb0",
   "metadata": {
    "tags": []
   },
   "outputs": [],
   "source": [
    "# for i in FEC_data_list:\n",
    "#     i = FEC_simplifier(i)"
   ]
  },
  {
   "cell_type": "code",
   "execution_count": null,
   "id": "b6961dda-f1d8-4ef2-9f9e-023bcc254a5b",
   "metadata": {
    "tags": []
   },
   "outputs": [],
   "source": [
    "simple_data_2012 = FEC_simplifier(data_2012)\n",
    "simple_data_2014 = FEC_simplifier(data_2014)\n",
    "simple_data_2016 = FEC_simplifier(data_2016)\n",
    "simple_data_2018 = FEC_simplifier(data_2018)\n",
    "simple_data_2020 = FEC_simplifier(data_2020)"
   ]
  },
  {
   "cell_type": "code",
   "execution_count": null,
   "id": "f3df5232-c59f-4ec8-9a27-411eddfd034a",
   "metadata": {
    "tags": []
   },
   "outputs": [],
   "source": [
    "# simple_data_2012 = FEC_simplifier(data_2012)"
   ]
  },
  {
   "cell_type": "code",
   "execution_count": null,
   "id": "6a80dcce-287b-415c-84fc-639b2c4d367f",
   "metadata": {
    "tags": []
   },
   "outputs": [],
   "source": [
    "# simple_data_2014 = FEC_simplifier(data_2014)"
   ]
  },
  {
   "cell_type": "code",
   "execution_count": null,
   "id": "bd46c0ae-55b7-4e9d-872f-d38d4f626b0c",
   "metadata": {
    "tags": []
   },
   "outputs": [],
   "source": [
    "# simple_data_2016 = FEC_simplifier(data_2016)"
   ]
  },
  {
   "cell_type": "code",
   "execution_count": null,
   "id": "c3124c71-d040-44c9-afb7-b616eabf3c22",
   "metadata": {
    "tags": []
   },
   "outputs": [],
   "source": [
    "# simple_data_2018 = FEC_simplifier(data_2018)"
   ]
  },
  {
   "cell_type": "code",
   "execution_count": null,
   "id": "04307055-01cc-4d15-bfbf-bbcd20f6c2f7",
   "metadata": {
    "tags": []
   },
   "outputs": [],
   "source": [
    "# simple_data_2020 = FEC_simplifier(data_2020)"
   ]
  },
  {
   "cell_type": "code",
   "execution_count": null,
   "id": "94cb982f-6c65-4d7b-b290-f3147a64b2f4",
   "metadata": {
    "tags": []
   },
   "outputs": [],
   "source": [
    "# # for i in FEC_data_list:\n",
    "#     i = FEC_simplifier(i)"
   ]
  },
  {
   "cell_type": "code",
   "execution_count": null,
   "id": "ebed07d8-cbcb-4607-88e0-4c1fa5d4260c",
   "metadata": {
    "tags": []
   },
   "outputs": [],
   "source": [
    "# data_copy.dropna(subset=['GENERAL '], inplace=True) #removes all candidates who did not record any (even '0') votes in the general election\n",
    "\n",
    "# data_copy.reset_index(drop=True, inplace=True) # data_copy.set_index('CANDIDATE NAME (Last, First)')\n",
    "\n",
    "# house_cand_2010 = data_copy.loc[(data_copy['DISTRICT']!='S')] #removes all Senate candidates\n",
    "\n",
    "# house_cand_2010.to_csv('house_cand_2010.csv') #save as a csv"
   ]
  },
  {
   "cell_type": "code",
   "execution_count": null,
   "id": "d8bf45ca-c49d-4050-93a0-7b42385fc0a5",
   "metadata": {
    "tags": []
   },
   "outputs": [],
   "source": [
    "# data_copy.reset_index(drop=True, inplace=True)\n",
    "# # data_copy.set_index('CANDIDATE NAME (Last, First)')"
   ]
  },
  {
   "cell_type": "code",
   "execution_count": null,
   "id": "5bb68ffb-4616-4c3e-a820-3b2a4283e84a",
   "metadata": {
    "tags": []
   },
   "outputs": [],
   "source": [
    "# def party_inc(data):\n",
    "#     parties = ['DEM', 'REP']\n",
    "    \n",
    "#     party_mask = data['PARTY'].isin(parties)\n",
    "    \n",
    "#     data['PARTY_INC'] = 'OTHER'+'_'+data['INCUMBENT INDICATOR (I)']\n",
    "    \n",
    "#     data.loc[party_mask, 'PARTY_INC'] = data.loc[party_mask, 'PARTY']+'_'+data.loc[party_mask, 'INCUMBENT INDICATOR (I)']\n",
    "    \n",
    "#     return data"
   ]
  },
  {
   "cell_type": "code",
   "execution_count": null,
   "id": "0a72dba0-7143-42db-94fb-f931d63a6785",
   "metadata": {
    "tags": []
   },
   "outputs": [],
   "source": [
    "def party_inc2(data):\n",
    "    if data['PARTY'] in ['REP', 'DEM']:\n",
    "        return f\"{data['PARTY']}_{data['INCUMBENT INDICATOR (I)']}\"\n",
    "    else:\n",
    "        return f\"OTHER_{data['INCUMBENT INDICATOR (I)']}\""
   ]
  },
  {
   "cell_type": "code",
   "execution_count": null,
   "id": "e14b69a4-fbde-4329-b09a-5e944e912f63",
   "metadata": {
    "tags": []
   },
   "outputs": [],
   "source": [
    "# house_cand_2010['PARTY_INC'] = house_cand_2010.apply(party_inc2, axis=1)"
   ]
  },
  {
   "cell_type": "code",
   "execution_count": null,
   "id": "72b3599c-f3d0-4c32-91fd-d95a4cf1df25",
   "metadata": {
    "tags": []
   },
   "outputs": [],
   "source": [
    "simple_data_2012.to_csv(r'data\\FEC\\candidates_2012.csv')\n",
    "simple_data_2014.to_csv(r'data\\FEC\\candidates_2014.csv')\n",
    "simple_data_2016.to_csv(r'data\\FEC\\candidates_2016.csv')\n",
    "simple_data_2018.to_csv(r'data\\FEC\\candidates_2018.csv')\n",
    "simple_data_2020.to_csv(r'data\\FEC\\candidates_2020.csv')"
   ]
  },
  {
   "cell_type": "code",
   "execution_count": null,
   "id": "1be86038-0ffa-4fba-bb85-a2b83a330c75",
   "metadata": {},
   "outputs": [],
   "source": [
    "simple_data_2020"
   ]
  },
  {
   "cell_type": "code",
   "execution_count": null,
   "id": "d2210209-9b6c-4634-8c05-f7428fe3ebe2",
   "metadata": {
    "tags": []
   },
   "outputs": [],
   "source": [
    "len(simple_data_2020.loc[simple_data_2020['STATE ABBREVIATION']=='OH']['CANDIDATE NAME (Last)'])"
   ]
  },
  {
   "cell_type": "code",
   "execution_count": null,
   "id": "57e61b3c-7e88-4099-9aa2-cd84de757430",
   "metadata": {},
   "outputs": [],
   "source": [
    "simple_data_2016 = pd.read_csv(r'data\\FEC\\candidates_2016.csv')"
   ]
  },
  {
   "cell_type": "code",
   "execution_count": null,
   "id": "6a3c4ade-1768-4911-8666-e03a983a0bc9",
   "metadata": {
    "tags": []
   },
   "outputs": [],
   "source": [
    "len(simple_data_2016.loc[(simple_data_2016['STATE ABBREVIATION']=='WI')]['CANDIDATE NAME(f)'].to_list())"
   ]
  },
  {
   "cell_type": "code",
   "execution_count": null,
   "id": "fc75c73b-b018-4334-8318-30f9f9d213d6",
   "metadata": {
    "tags": []
   },
   "outputs": [],
   "source": [
    "simple_data_2012 = pd.read_csv(r'data\\FEC\\candidates_2012.csv')"
   ]
  },
  {
   "cell_type": "code",
   "execution_count": null,
   "id": "3e7ecf51-fda4-4909-83a1-a87b0266737d",
   "metadata": {
    "tags": []
   },
   "outputs": [],
   "source": [
    "WI_2012 = simple_data_2012.loc[(simple_data_2012['STATE ABBREVIATION']=='WI')&(simple_data_2012['D']!='S')].reset_index(drop=True)"
   ]
  },
  {
   "cell_type": "code",
   "execution_count": null,
   "id": "b23b6b48-8409-4010-8ffb-48e9baa925ed",
   "metadata": {
    "tags": []
   },
   "outputs": [],
   "source": [
    "WI_2012"
   ]
  },
  {
   "cell_type": "code",
   "execution_count": null,
   "id": "8810e4a4-2237-4ab4-ae43-65c31697b09a",
   "metadata": {},
   "outputs": [],
   "source": []
  }
 ],
 "metadata": {
  "kernelspec": {
   "display_name": "Python 3 (ipykernel)",
   "language": "python",
   "name": "python3"
  },
  "language_info": {
   "codemirror_mode": {
    "name": "ipython",
    "version": 3
   },
   "file_extension": ".py",
   "mimetype": "text/x-python",
   "name": "python",
   "nbconvert_exporter": "python",
   "pygments_lexer": "ipython3",
   "version": "3.11.5"
  }
 },
 "nbformat": 4,
 "nbformat_minor": 5
}
