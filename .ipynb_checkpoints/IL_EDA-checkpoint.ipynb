{
 "cells": [
  {
   "cell_type": "code",
   "execution_count": 1,
   "id": "2c17a604-d3da-4d85-864c-b1c1765f6cea",
   "metadata": {
    "tags": []
   },
   "outputs": [],
   "source": [
    "import numpy as np\n",
    "import pandas as pd\n",
    "from src.modules import *\n",
    "import os"
   ]
  },
  {
   "cell_type": "code",
   "execution_count": 2,
   "id": "81fb1ad6-ee1a-4bde-9ef2-cb0c99e86999",
   "metadata": {
    "tags": []
   },
   "outputs": [],
   "source": [
    "elec_folder_path = 'data/raw_elec_totals'\n",
    "\n",
    "IL_files = [file for file in os.listdir(elec_folder_path) if os.path.isfile(os.path.join(elec_folder_path, file)) and file.startswith('IL')]\n"
   ]
  },
  {
   "cell_type": "code",
   "execution_count": 3,
   "id": "642e8b6f-502b-42e4-a170-a1a6eb96dc06",
   "metadata": {
    "tags": []
   },
   "outputs": [
    {
     "data": {
      "text/plain": [
       "['IL_2012_Gen.xlsx',\n",
       " 'IL_2014_Gen.xlsx',\n",
       " 'IL_2016_Gen.xlsx',\n",
       " 'IL_2018_Gen.xlsx',\n",
       " 'IL_2020_Gen.xlsx']"
      ]
     },
     "execution_count": 3,
     "metadata": {},
     "output_type": "execute_result"
    }
   ],
   "source": [
    "# Confirm the filetypes\n",
    "IL_files"
   ]
  },
  {
   "cell_type": "code",
   "execution_count": 4,
   "id": "d266a9c9-2590-42b3-a57b-bdfd6d21f77f",
   "metadata": {
    "tags": []
   },
   "outputs": [
    {
     "name": "stdout",
     "output_type": "stream",
     "text": [
      "['TotalsByCounty']\n",
      "['TotalsByCounty']\n",
      "['TotalsByCounty']\n",
      "['TotalsByCounty']\n",
      "['TotalsByCounty']\n"
     ]
    }
   ],
   "source": [
    "for i in IL_files:\n",
    "    file = pd.ExcelFile(f'{elec_folder_path}/{i}')\n",
    "    print(file.sheet_names)"
   ]
  },
  {
   "cell_type": "code",
   "execution_count": 5,
   "id": "f756bdc3-5c1f-446d-a606-0d562e477da1",
   "metadata": {
    "tags": []
   },
   "outputs": [
    {
     "name": "stderr",
     "output_type": "stream",
     "text": [
      "C:\\Users\\joshu\\anaconda3\\Lib\\site-packages\\openpyxl\\worksheet\\header_footer.py:48: UserWarning: Cannot parse header or footer so it will be ignored\n",
      "  warn(\"\"\"Cannot parse header or footer so it will be ignored\"\"\")\n",
      "C:\\Users\\joshu\\anaconda3\\Lib\\site-packages\\openpyxl\\worksheet\\header_footer.py:48: UserWarning: Cannot parse header or footer so it will be ignored\n",
      "  warn(\"\"\"Cannot parse header or footer so it will be ignored\"\"\")\n",
      "C:\\Users\\joshu\\anaconda3\\Lib\\site-packages\\openpyxl\\worksheet\\header_footer.py:48: UserWarning: Cannot parse header or footer so it will be ignored\n",
      "  warn(\"\"\"Cannot parse header or footer so it will be ignored\"\"\")\n",
      "C:\\Users\\joshu\\anaconda3\\Lib\\site-packages\\openpyxl\\worksheet\\header_footer.py:48: UserWarning: Cannot parse header or footer so it will be ignored\n",
      "  warn(\"\"\"Cannot parse header or footer so it will be ignored\"\"\")\n"
     ]
    }
   ],
   "source": [
    "IL_data = []\n",
    "\n",
    "for i in IL_files:\n",
    "    file = pd.read_excel(f'{elec_folder_path}/{i}', sheet_name='TotalsByCounty')\n",
    "    # file = pd.read_excel(f'{elec_folder_path}/{i}', sheet_name='TotalsByCounty',index_col=0)\n",
    "    # Generate a name for each dataframe based on the filename without the file extension\n",
    "    name = f'{i}' \n",
    "    name = name[:7]    \n",
    "    \n",
    "    \n",
    "    # Append both to the empty list\n",
    "    IL_data.append((name, file))\n"
   ]
  },
  {
   "cell_type": "code",
   "execution_count": 6,
   "id": "30cf2bca-40fd-4abe-a99e-2f64e8fb7ceb",
   "metadata": {
    "collapsed": true,
    "jupyter": {
     "outputs_hidden": true
    },
    "tags": []
   },
   "outputs": [
    {
     "name": "stdout",
     "output_type": "stream",
     "text": [
      "  Election                    OfficeName  VoteFor BallotGroup  OfficeSequence  \\\n",
      "0  GE 2012  PRESIDENT AND VICE PRESIDENT        1           A               1   \n",
      "1  GE 2012  PRESIDENT AND VICE PRESIDENT        1           A               1   \n",
      "2  GE 2012  PRESIDENT AND VICE PRESIDENT        1           A               1   \n",
      "3  GE 2012  PRESIDENT AND VICE PRESIDENT        1           A               1   \n",
      "4  GE 2012  PRESIDENT AND VICE PRESIDENT        1           A               1   \n",
      "\n",
      "   CandidateID CanFirstName CanLastName  CanAffilCommit     County  Votes  \\\n",
      "0        18584         JILL       STEIN             NaN      ADAMS    165   \n",
      "1        18584         JILL       STEIN             NaN  ALEXANDER     20   \n",
      "2        18584         JILL       STEIN             NaN       BOND     60   \n",
      "3        18584         JILL       STEIN             NaN      BOONE     98   \n",
      "4        18584         JILL       STEIN             NaN      BROWN     24   \n",
      "\n",
      "  PartyName PartyAbbrev  \n",
      "0     GREEN         GRN  \n",
      "1     GREEN         GRN  \n",
      "2     GREEN         GRN  \n",
      "3     GREEN         GRN  \n",
      "4     GREEN         GRN  \n",
      "Index(['Election', 'OfficeName', 'VoteFor', 'BallotGroup', 'OfficeSequence',\n",
      "       'CandidateID', 'CanFirstName', 'CanLastName', 'CanAffilCommit',\n",
      "       'County', 'Votes', 'PartyName', 'PartyAbbrev'],\n",
      "      dtype='object')\n",
      "IL_2012\n",
      "  Election   OfficeName BallotGroup  VoteFor  CandidateID  OfficeSequence  \\\n",
      "0  GE 2014  51ST SENATE           J        1        19443             151   \n",
      "1  GE 2014  51ST SENATE           J        1        19443             151   \n",
      "2  GE 2014  51ST SENATE           J        1        19443             151   \n",
      "3  GE 2014  51ST SENATE           J        1        19443             151   \n",
      "4  GE 2014  51ST SENATE           J        1        19443             151   \n",
      "\n",
      "  CanFirstName  CanAffilCommit CanLastName     County   PartyName  Votes  ID  \\\n",
      "0       CHAPIN             NaN        ROSE      PIATT  REPUBLICAN   6443   1   \n",
      "1       CHAPIN             NaN        ROSE  CHAMPAIGN  REPUBLICAN  15501   2   \n",
      "2       CHAPIN             NaN        ROSE      MACON  REPUBLICAN  16658   3   \n",
      "3       CHAPIN             NaN        ROSE   MOULTRIE  REPUBLICAN   4123   4   \n",
      "4       CHAPIN             NaN        ROSE    DOUGLAS  REPUBLICAN   5623   5   \n",
      "\n",
      "  PartyAbbrev  \n",
      "0         REP  \n",
      "1         REP  \n",
      "2         REP  \n",
      "3         REP  \n",
      "4         REP  \n",
      "Index(['Election', 'OfficeName', 'BallotGroup', 'VoteFor', 'CandidateID',\n",
      "       'OfficeSequence', 'CanFirstName', 'CanAffilCommit', 'CanLastName',\n",
      "       'County', 'PartyName', 'Votes', 'ID', 'PartyAbbrev'],\n",
      "      dtype='object')\n",
      "IL_2014\n",
      "  Election            OfficeName  VoteFor BallotGroup  OfficeSequence  \\\n",
      "0  GE 2016  100TH REPRESENTATIVE        1           J            2100   \n",
      "1  GE 2016  100TH REPRESENTATIVE        1           J            2100   \n",
      "2  GE 2016  100TH REPRESENTATIVE        1           J            2100   \n",
      "3  GE 2016  100TH REPRESENTATIVE        1           J            2100   \n",
      "4  GE 2016  100TH REPRESENTATIVE        1           J            2100   \n",
      "\n",
      "   CandidateID        CanFirstName  CanLastName  CanAffilCommit    County  \\\n",
      "0        22529  CHRISTOPHER \"C.D.\"  DAVIDSMEYER             NaN    JERSEY   \n",
      "1        22529  CHRISTOPHER \"C.D.\"  DAVIDSMEYER             NaN  SANGAMON   \n",
      "2        22529  CHRISTOPHER \"C.D.\"  DAVIDSMEYER             NaN    GREENE   \n",
      "3        22529  CHRISTOPHER \"C.D.\"  DAVIDSMEYER             NaN  MACOUPIN   \n",
      "4        22529  CHRISTOPHER \"C.D.\"  DAVIDSMEYER             NaN    MORGAN   \n",
      "\n",
      "   Votes   PartyName PartyAbbrev  \n",
      "0   8055  REPUBLICAN         REP  \n",
      "1    161  REPUBLICAN         REP  \n",
      "2   4726  REPUBLICAN         REP  \n",
      "3   2384  REPUBLICAN         REP  \n",
      "4  13050  REPUBLICAN         REP  \n",
      "Index(['Election', 'OfficeName', 'VoteFor', 'BallotGroup', 'OfficeSequence',\n",
      "       'CandidateID', 'CanFirstName', 'CanLastName', 'CanAffilCommit',\n",
      "       'County', 'Votes', 'PartyName', 'PartyAbbrev'],\n",
      "      dtype='object')\n",
      "IL_2016\n",
      "   ID Election                     OfficeName  VoteFor BallotGroup  \\\n",
      "0   1  GE 2018  COOK CIRCUIT - RETAIN LEEMING        1          RC   \n",
      "1   2  GE 2018  COOK CIRCUIT - RETAIN LEEMING        1          RC   \n",
      "2   3  GE 2018   COOK CIRCUIT - RETAIN HOWARD        1          RC   \n",
      "3   4  GE 2018   COOK CIRCUIT - RETAIN HOWARD        1          RC   \n",
      "4   5  GE 2018    COOK CIRCUIT - RETAIN MARAS        1          RC   \n",
      "\n",
      "   OfficeSequence  CandidateID CanFirstName    CanLastName  CanAffilCommit  \\\n",
      "0           30535        24706    PAMELA M.   LEEMING - NO             NaN   \n",
      "1           30535        24705    PAMELA M.  LEEMING - YES             NaN   \n",
      "2           30220        24766     CAROL M.    HOWARD - NO             NaN   \n",
      "3           30220        24765     CAROL M.   HOWARD - YES             NaN   \n",
      "4           30140        24710       MARCIA     MARAS - NO             NaN   \n",
      "\n",
      "  County    Votes PartyName PartyAbbrev  \n",
      "0   COOK   251820       NaN         NaN  \n",
      "1   COOK   985988       NaN         NaN  \n",
      "2   COOK   242929       NaN         NaN  \n",
      "3   COOK  1012750       NaN         NaN  \n",
      "4   COOK   253439       NaN         NaN  \n",
      "Index(['ID', 'Election', 'OfficeName', 'VoteFor', 'BallotGroup',\n",
      "       'OfficeSequence', 'CandidateID', 'CanFirstName', 'CanLastName',\n",
      "       'CanAffilCommit', 'County', 'Votes', 'PartyName', 'PartyAbbrev'],\n",
      "      dtype='object')\n",
      "IL_2018\n",
      "  Election                       OfficeName  VoteFor BallotGroup  \\\n",
      "0  GE 2020  8TH CIRCUIT - RETAIN ATTERBERRY        1          RC   \n",
      "1  GE 2020  8TH CIRCUIT - RETAIN ATTERBERRY        1          RC   \n",
      "2  GE 2020       8TH CIRCUIT - RETAIN BURCH        1          RC   \n",
      "3  GE 2020       8TH CIRCUIT - RETAIN BURCH        1          RC   \n",
      "4  GE 2020                    18TH CONGRESS        1           F   \n",
      "\n",
      "   OfficeSequence  CandidateID  CanFirstName       CanLastName CanAffilCommit  \\\n",
      "0             805        27108          MIKE   ATTERBERRY - NO            NaN   \n",
      "1             805        27107          MIKE  ATTERBERRY - YES            NaN   \n",
      "2             810        27110  CHARLES H.W.        BURCH - NO            NaN   \n",
      "3             810        27109  CHARLES H.W.       BURCH - YES            NaN   \n",
      "4              18        27038        GEORGE          PETRILLI            NaN   \n",
      "\n",
      "  County  Votes   PartyName PartyAbbrev  \n",
      "0  ADAMS   4347         NaN         NaN  \n",
      "1  ADAMS  25491         NaN         NaN  \n",
      "2  ADAMS   5071         NaN         NaN  \n",
      "3  ADAMS  24535         NaN         NaN  \n",
      "4  ADAMS   6986  DEMOCRATIC         DEM  \n",
      "Index(['Election', 'OfficeName', 'VoteFor', 'BallotGroup', 'OfficeSequence',\n",
      "       'CandidateID', 'CanFirstName', 'CanLastName', 'CanAffilCommit',\n",
      "       'County', 'Votes', 'PartyName', 'PartyAbbrev'],\n",
      "      dtype='object')\n",
      "IL_2020\n"
     ]
    }
   ],
   "source": [
    "for year, i in IL_data:\n",
    "    print(i.head())\n",
    "    print(i.columns)\n",
    "    print(year)"
   ]
  },
  {
   "cell_type": "code",
   "execution_count": 7,
   "id": "1d877d21-6e6a-46af-9ccd-79efec696ede",
   "metadata": {},
   "outputs": [],
   "source": [
    "# From this we can pick out the column names we will need to create a dataframe which will merge with the FEC and IRS data."
   ]
  },
  {
   "cell_type": "code",
   "execution_count": 8,
   "id": "afc340a9-9b4c-49f2-bb66-922168150945",
   "metadata": {
    "tags": []
   },
   "outputs": [],
   "source": [
    "# mostly what we expect, but with a few questions. \n",
    "## The 'CanFirstName' column can contain middle names/initials, the last name can contain markers such as '- NO' and '- YES' and, we might assume, others\n",
    "# Data for all offices are contained in this single sheet, making loading in the data a straighforward process\n"
   ]
  },
  {
   "cell_type": "code",
   "execution_count": 9,
   "id": "01a5f577-1e42-4569-948a-5e1f235543ab",
   "metadata": {
    "tags": []
   },
   "outputs": [],
   "source": [
    "# To start, let's create a dataframe containing just congressional data and further examine the names and counties\n",
    "\n",
    "# We will be looking to be sure the number of counties are correct and that candidates with the same name will be flagged\n",
    "\n",
    "# We will be looking to make sure we can properly exclude races we aren't interested in as well as making sure we understand the formatting of first and last names\n",
    "# And checking that the number of counties is correct (Illinois has 102)"
   ]
  },
  {
   "cell_type": "code",
   "execution_count": 10,
   "id": "bb7a392d-6ec2-47f3-9024-161781ea2cb5",
   "metadata": {
    "tags": []
   },
   "outputs": [],
   "source": [
    "#create empty list to hold IL formatted dataframes\n",
    "\n",
    "IL_cong = []\n",
    "\n",
    "for year, i in IL_data:\n",
    "    file = i[i['OfficeName'].str.contains('congress', case=False, na=False)][['County','OfficeName','CanFirstName','CanLastName','Votes']]\n",
    "    IL_cong.append((year,file))"
   ]
  },
  {
   "cell_type": "code",
   "execution_count": 15,
   "id": "1cf1df24-47d2-42ce-b6fc-a877821c0cfa",
   "metadata": {
    "tags": []
   },
   "outputs": [
    {
     "name": "stdout",
     "output_type": "stream",
     "text": [
      "IL_2012\n",
      "     County    OfficeName CanFirstName CanLastName   Votes\n",
      "1886   COOK  1ST CONGRESS    DONALD E.    PELOQUIN   52191\n",
      "1887   WILL  1ST CONGRESS    DONALD E.    PELOQUIN   31798\n",
      "1888   COOK  1ST CONGRESS     BOBBY L.        RUSH  224314\n",
      "1889   WILL  1ST CONGRESS     BOBBY L.        RUSH   12540\n",
      "1890   COOK  1ST CONGRESS         JOHN     HAWKINS       1\n",
      "IL_2014\n",
      "     County     OfficeName CanFirstName CanLastName  Votes\n",
      "194    LAKE  10TH CONGRESS       ROBERT        DOLD  74436\n",
      "195    COOK  10TH CONGRESS       ROBERT        DOLD  21556\n",
      "196    LAKE  10TH CONGRESS         BRAD   SCHNEIDER  69821\n",
      "197    COOK  10TH CONGRESS         BRAD   SCHNEIDER  21315\n",
      "256  DuPAGE  11TH CONGRESS      DARLENE      SENGER  33492\n",
      "IL_2016\n",
      "   County     OfficeName    CanFirstName CanLastName   Votes\n",
      "57   COOK  10TH CONGRESS          ROBERT        DOLD   31443\n",
      "58   LAKE  10TH CONGRESS          ROBERT        DOLD  104092\n",
      "59   LAKE  10TH CONGRESS  JOSEPH WILLIAM     KOPSICK      24\n",
      "60   COOK  10TH CONGRESS  JOSEPH WILLIAM     KOPSICK       2\n",
      "61   COOK  10TH CONGRESS            BRAD   SCHNEIDER   36180\n",
      "IL_2018\n",
      "    County     OfficeName CanFirstName CanLastName   Votes\n",
      "124   LAKE  10TH CONGRESS   DOUGLAS R.     BENNETT   63364\n",
      "125   COOK  10TH CONGRESS   DOUGLAS R.     BENNETT   18760\n",
      "126   LAKE  10TH CONGRESS         BRAD   SCHNEIDER  119048\n",
      "127   COOK  10TH CONGRESS         BRAD   SCHNEIDER   37492\n",
      "202   KANE  11TH CONGRESS         NICK      STELLA    7765\n",
      "IL_2020\n",
      "       County     OfficeName CanFirstName CanLastName  Votes\n",
      "4       ADAMS  18TH CONGRESS       GEORGE    PETRILLI   6986\n",
      "5       ADAMS  18TH CONGRESS        DARIN      LaHOOD  26133\n",
      "54  ALEXANDER  12TH CONGRESS         MIKE        BOST   1559\n",
      "55  ALEXANDER  12TH CONGRESS   RAYMOND C.       LENZI    966\n",
      "56       BOND  13TH CONGRESS       RODNEY       DAVIS   1636\n"
     ]
    }
   ],
   "source": [
    "for year,i in IL_cong:\n",
    "    print(year)\n",
    "    print(i.head()) "
   ]
  },
  {
   "cell_type": "code",
   "execution_count": 16,
   "id": "8ae3e68f-0ad4-46fc-8808-c3b81c33dc6c",
   "metadata": {
    "tags": []
   },
   "outputs": [],
   "source": [
    "# Looks good!"
   ]
  },
  {
   "cell_type": "code",
   "execution_count": 17,
   "id": "7d2f8eb6-deb5-414f-96d3-0651156f3fc8",
   "metadata": {
    "tags": []
   },
   "outputs": [
    {
     "name": "stdout",
     "output_type": "stream",
     "text": [
      "['1ST CONGRESS' '2ND CONGRESS' '3RD CONGRESS' '4TH CONGRESS'\n",
      " '5TH CONGRESS' '6TH CONGRESS' '7TH CONGRESS' '8TH CONGRESS'\n",
      " '9TH CONGRESS' '10TH CONGRESS' '11TH CONGRESS' '12TH CONGRESS'\n",
      " '13TH CONGRESS' '14TH CONGRESS' '15TH CONGRESS' '16TH CONGRESS'\n",
      " '17TH CONGRESS' '18TH CONGRESS']\n",
      "['10TH CONGRESS' '11TH CONGRESS' '12TH CONGRESS' '13TH CONGRESS'\n",
      " '14TH CONGRESS' '15TH CONGRESS' '16TH CONGRESS' '17TH CONGRESS'\n",
      " '18TH CONGRESS' '1ST CONGRESS' '2ND CONGRESS' '3RD CONGRESS'\n",
      " '4TH CONGRESS' '5TH CONGRESS' '6TH CONGRESS' '7TH CONGRESS'\n",
      " '8TH CONGRESS' '9TH CONGRESS']\n",
      "['10TH CONGRESS' '11TH CONGRESS' '12TH CONGRESS' '13TH CONGRESS'\n",
      " '14TH CONGRESS' '15TH CONGRESS' '16TH CONGRESS' '17TH CONGRESS'\n",
      " '18TH CONGRESS' '1ST CONGRESS' '2ND CONGRESS' '3RD CONGRESS'\n",
      " '4TH CONGRESS' '5TH CONGRESS' '6TH CONGRESS' '7TH CONGRESS'\n",
      " '8TH CONGRESS' '9TH CONGRESS']\n",
      "['10TH CONGRESS' '11TH CONGRESS' '12TH CONGRESS' '13TH CONGRESS'\n",
      " '14TH CONGRESS' '15TH CONGRESS' '16TH CONGRESS' '17TH CONGRESS'\n",
      " '18TH CONGRESS' '1ST CONGRESS' '2ND CONGRESS' '3RD CONGRESS'\n",
      " '4TH CONGRESS' '5TH CONGRESS' '6TH CONGRESS' '7TH CONGRESS'\n",
      " '8TH CONGRESS' '9TH CONGRESS']\n",
      "['18TH CONGRESS' '12TH CONGRESS' '13TH CONGRESS' '15TH CONGRESS'\n",
      " '16TH CONGRESS' '17TH CONGRESS' '8TH CONGRESS' '6TH CONGRESS'\n",
      " '7TH CONGRESS' '4TH CONGRESS' '5TH CONGRESS' '1ST CONGRESS'\n",
      " '2ND CONGRESS' '3RD CONGRESS' '9TH CONGRESS' '10TH CONGRESS'\n",
      " '11TH CONGRESS' '14TH CONGRESS']\n",
      "102\n",
      "102\n",
      "102\n",
      "102\n",
      "102\n"
     ]
    }
   ],
   "source": [
    "for year,i in IL_cong:\n",
    "    print (i['OfficeName'].unique())\n",
    "for year,i in IL_cong:\n",
    "    print (len(list(i['County'].unique())))"
   ]
  },
  {
   "cell_type": "code",
   "execution_count": 18,
   "id": "44a7de88-c326-4bf0-8fcf-6f059697c834",
   "metadata": {
    "tags": []
   },
   "outputs": [],
   "source": [
    "# As expected\n",
    "\n",
    "# Regarding the First and Last names, we can use the trim_party function built for the OH datasets to get just the first word, which appears to conform to the First and Last names without any initials or titles\n",
    "# We should remember to format these names so that they will be easily matched to the FEC data as well"
   ]
  },
  {
   "cell_type": "code",
   "execution_count": 19,
   "id": "4c7d12c0-8327-40d6-abb9-1974cf4715dc",
   "metadata": {
    "tags": []
   },
   "outputs": [],
   "source": [
    "IL_cong_f = []\n",
    "for year, data in IL_cong:\n",
    "    data['CanFirstName'] = trim_party(data['CanFirstName'],' ') #removes middle names\n",
    "    data['CanLastName'] = trim_party(data['CanLastName'], ' ') #removes titles appended to last names\n",
    "    data['Candidate Name(f)'] = data['CanFirstName']+' '+data['CanLastName']\n",
    "    #format names as lower-case\n",
    "    data['Candidate Name(f)'] = data['Candidate Name(f)'].astype(str).str.lower()\n",
    "    IL_cong_f.append(data)"
   ]
  },
  {
   "cell_type": "code",
   "execution_count": 20,
   "id": "4c9d64e3-3959-49eb-95ac-6431430af157",
   "metadata": {
    "collapsed": true,
    "jupyter": {
     "outputs_hidden": true
    },
    "tags": []
   },
   "outputs": [
    {
     "data": {
      "text/plain": [
       "[        County     OfficeName CanFirstName CanLastName   Votes  \\\n",
       " 1886      COOK   1ST CONGRESS       DONALD    PELOQUIN   52191   \n",
       " 1887      WILL   1ST CONGRESS       DONALD    PELOQUIN   31798   \n",
       " 1888      COOK   1ST CONGRESS        BOBBY        RUSH  224314   \n",
       " 1889      WILL   1ST CONGRESS        BOBBY        RUSH   12540   \n",
       " 1890      COOK   1ST CONGRESS         JOHN     HAWKINS       1   \n",
       " ...        ...            ...          ...         ...     ...   \n",
       " 2239  SCHUYLER  18TH CONGRESS        STEVE  WATERWORTH    1069   \n",
       " 2240     SCOTT  18TH CONGRESS        STEVE  WATERWORTH     617   \n",
       " 2241     STARK  18TH CONGRESS        STEVE  WATERWORTH     509   \n",
       " 2242  TAZEWELL  18TH CONGRESS        STEVE  WATERWORTH   10027   \n",
       " 2243  WOODFORD  18TH CONGRESS        STEVE  WATERWORTH    3602   \n",
       " \n",
       "      Candidate Name(f)  \n",
       " 1886   donald peloquin  \n",
       " 1887   donald peloquin  \n",
       " 1888        bobby rush  \n",
       " 1889        bobby rush  \n",
       " 1890      john hawkins  \n",
       " ...                ...  \n",
       " 2239  steve waterworth  \n",
       " 2240  steve waterworth  \n",
       " 2241  steve waterworth  \n",
       " 2242  steve waterworth  \n",
       " 2243  steve waterworth  \n",
       " \n",
       " [358 rows x 6 columns],\n",
       "        County     OfficeName CanFirstName CanLastName  Votes  \\\n",
       " 194      LAKE  10TH CONGRESS       ROBERT        DOLD  74436   \n",
       " 195      COOK  10TH CONGRESS       ROBERT        DOLD  21556   \n",
       " 196      LAKE  10TH CONGRESS         BRAD   SCHNEIDER  69821   \n",
       " 197      COOK  10TH CONGRESS         BRAD   SCHNEIDER  21315   \n",
       " 256    DuPAGE  11TH CONGRESS      DARLENE      SENGER  33492   \n",
       " ...       ...            ...          ...         ...    ...   \n",
       " 5629     WILL   2ND CONGRESS       MARCUS       LEWIS      1   \n",
       " 5655     COOK   9TH CONGRESS         PHIL     COLLINS     66   \n",
       " 5657     WILL  11TH CONGRESS     CONSTANT   VLAKANCIC      0   \n",
       " 5658  KENDALL  11TH CONGRESS     CONSTANT   VLAKANCIC      0   \n",
       " 5659     KANE  11TH CONGRESS     CONSTANT   VLAKANCIC      1   \n",
       " \n",
       "        Candidate Name(f)  \n",
       " 194          robert dold  \n",
       " 195          robert dold  \n",
       " 196       brad schneider  \n",
       " 197       brad schneider  \n",
       " 256       darlene senger  \n",
       " ...                  ...  \n",
       " 5629        marcus lewis  \n",
       " 5655        phil collins  \n",
       " 5657  constant vlakancic  \n",
       " 5658  constant vlakancic  \n",
       " 5659  constant vlakancic  \n",
       " \n",
       " [316 rows x 6 columns],\n",
       "      County     OfficeName CanFirstName     CanLastName   Votes  \\\n",
       " 57     COOK  10TH CONGRESS       ROBERT            DOLD   31443   \n",
       " 58     LAKE  10TH CONGRESS       ROBERT            DOLD  104092   \n",
       " 59     LAKE  10TH CONGRESS       JOSEPH         KOPSICK      24   \n",
       " 60     COOK  10TH CONGRESS       JOSEPH         KOPSICK       2   \n",
       " 61     COOK  10TH CONGRESS         BRAD       SCHNEIDER   36180   \n",
       " ...     ...            ...          ...             ...     ...   \n",
       " 1069   KANE   8TH CONGRESS         RAJA  KRISHNAMOORTHI   15781   \n",
       " 1153   COOK   9TH CONGRESS         JOAN         LASONDE  109550   \n",
       " 1154   COOK   9TH CONGRESS      SUSANNE          ATANUS      13   \n",
       " 1155   COOK   9TH CONGRESS        DAVID        WILLIAMS      79   \n",
       " 1156   COOK   9TH CONGRESS       JANICE      SCHAKOWSKY  217306   \n",
       " \n",
       "         Candidate Name(f)  \n",
       " 57            robert dold  \n",
       " 58            robert dold  \n",
       " 59         joseph kopsick  \n",
       " 60         joseph kopsick  \n",
       " 61         brad schneider  \n",
       " ...                   ...  \n",
       " 1069  raja krishnamoorthi  \n",
       " 1153         joan lasonde  \n",
       " 1154       susanne atanus  \n",
       " 1155       david williams  \n",
       " 1156    janice schakowsky  \n",
       " \n",
       " [292 rows x 6 columns],\n",
       "       County     OfficeName CanFirstName     CanLastName   Votes  \\\n",
       " 124     LAKE  10TH CONGRESS      DOUGLAS         BENNETT   63364   \n",
       " 125     COOK  10TH CONGRESS      DOUGLAS         BENNETT   18760   \n",
       " 126     LAKE  10TH CONGRESS         BRAD       SCHNEIDER  119048   \n",
       " 127     COOK  10TH CONGRESS         BRAD       SCHNEIDER   37492   \n",
       " 202     KANE  11TH CONGRESS         NICK          STELLA    7765   \n",
       " ...      ...            ...          ...             ...     ...   \n",
       " 1251    KANE   8TH CONGRESS         RAJA  KRISHNAMOORTHI   12714   \n",
       " 1252  DuPAGE   8TH CONGRESS         RAJA  KRISHNAMOORTHI   49006   \n",
       " 1253    COOK   8TH CONGRESS         RAJA  KRISHNAMOORTHI   68334   \n",
       " 1327    COOK   9TH CONGRESS         JOHN         ELLESON   76983   \n",
       " 1328    COOK   9TH CONGRESS       JANICE      SCHAKOWSKY  213368   \n",
       " \n",
       "         Candidate Name(f)  \n",
       " 124       douglas bennett  \n",
       " 125       douglas bennett  \n",
       " 126        brad schneider  \n",
       " 127        brad schneider  \n",
       " 202           nick stella  \n",
       " ...                   ...  \n",
       " 1251  raja krishnamoorthi  \n",
       " 1252  raja krishnamoorthi  \n",
       " 1253  raja krishnamoorthi  \n",
       " 1327         john elleson  \n",
       " 1328    janice schakowsky  \n",
       " \n",
       " [321 rows x 6 columns],\n",
       "          County     OfficeName CanFirstName CanLastName  Votes  \\\n",
       " 4         ADAMS  18TH CONGRESS       GEORGE    PETRILLI   6986   \n",
       " 5         ADAMS  18TH CONGRESS        DARIN      LaHOOD  26133   \n",
       " 54    ALEXANDER  12TH CONGRESS         MIKE        BOST   1559   \n",
       " 55    ALEXANDER  12TH CONGRESS      RAYMOND       LENZI    966   \n",
       " 56         BOND  13TH CONGRESS       RODNEY       DAVIS   1636   \n",
       " ...         ...            ...          ...         ...    ...   \n",
       " 4271  WINNEBAGO  16TH CONGRESS         DANI  BRZOZOWSKI  37774   \n",
       " 4272  WINNEBAGO  17TH CONGRESS        CHERI      BUSTOS  19325   \n",
       " 4273  WINNEBAGO  17TH CONGRESS       ESTHER        KING  10594   \n",
       " 4330   WOODFORD  18TH CONGRESS       GEORGE    PETRILLI   4711   \n",
       " 4331   WOODFORD  18TH CONGRESS        DARIN      LaHOOD  16249   \n",
       " \n",
       "      Candidate Name(f)  \n",
       " 4      george petrilli  \n",
       " 5         darin lahood  \n",
       " 54           mike bost  \n",
       " 55       raymond lenzi  \n",
       " 56        rodney davis  \n",
       " ...                ...  \n",
       " 4271   dani brzozowski  \n",
       " 4272      cheri bustos  \n",
       " 4273       esther king  \n",
       " 4330   george petrilli  \n",
       " 4331      darin lahood  \n",
       " \n",
       " [347 rows x 6 columns]]"
      ]
     },
     "execution_count": 20,
     "metadata": {},
     "output_type": "execute_result"
    }
   ],
   "source": [
    "IL_cong_f"
   ]
  },
  {
   "cell_type": "code",
   "execution_count": 21,
   "id": "7cc8dde0-a257-42eb-a9cc-b5e254b09e7e",
   "metadata": {
    "tags": []
   },
   "outputs": [],
   "source": [
    "\n",
    "# The plan for formatting this data:\n",
    "## Build a dataframe with columns for each Candidate containing:\n",
    "\n",
    "### Vote totals broken down by county\n",
    "\n",
    "### Party ID for that Candidate\n",
    "\n",
    "### A binary marker for Incumbant/Challenger\n",
    "#### These last two will provide the keys to merging candidate vote totals, since our depended variables in the initially-proposed analysis will be 'Vote Total for Incumbents' and 'Vote Total for Challengers'\n",
    "#### Tagging candidates by Party ID will allow future analysis to examine effects of party popularity on the IRS and vote-total data\n",
    "\n",
    "## The list of columns should be reduced to:\n",
    "\n",
    "### County names\n",
    "#### This will be the Primary Key for merging the IRS data\n",
    "#### These counties should be formatted in all lowercase to match the IRS data and to avoid any inconsistencies with naming conventions year-to-year\n",
    "\n",
    "### Canddidate names\n",
    "#### Each candidate should have their name formatted to match the FEC data while avoiding differences in formatting between States ('Lastname, Firstname' vs 'Firstname M. Lastname' vs. 'Firstname Middlename Lastname' vs. '(Title) Firsname Lastname(, Jr.)', etc etc) and year-to-year\n",
    "#### Anticipated diffrerences include name suffixes (\"Jr., Sr.\") and titles (\"Dr.\") which are inculded inconsistently across the datasets\n",
    "#### The formatting initially agreed on is 'Firstname Lastname' to balance legibility, consistency, and ease\n",
    "##### EXPECTED ISSUES: It is conceivable that candidates will have the same first and last names within a given year\n",
    "##### Because we are transforming the data for each State in each year before joining, replacing Candidate names with Party ID and Incumbancy means that data is unlikely to become polluted by merging vote totals for candidates with the same simplified name.\n",
    "##### None the less, future analysis may benefit from developing more rigorous methods of ensuring this pollution cannot occur"
   ]
  },
  {
   "cell_type": "code",
   "execution_count": 22,
   "id": "c33be016-9b0e-4e08-80d1-262d753a89e2",
   "metadata": {
    "tags": []
   },
   "outputs": [],
   "source": [
    "# The section of code above will give us all candidate names properly formatted for joining with the FEC data\n",
    "\n",
    "# From this we will get a list of all candidate names and create a table for each containing two columns: \n",
    "## County names\n",
    "## Vote totals for that candidate in each of those counties\n",
    "\n",
    "# We will then merge all of those tables using the 'County' columns, creating a single dataframe with a column containing the County name, and columns for each candidate containing their vote total in that county"
   ]
  },
  {
   "cell_type": "code",
   "execution_count": 23,
   "id": "924dfb04-5312-4c17-8f25-783dd59a2f0e",
   "metadata": {},
   "outputs": [],
   "source": [
    "# def format_il(data):\n",
    "#     \"\"\"\n",
    "#     This function is built to format election data \n",
    "#     as recorded by the Illinois State Board of Elections\n",
    "#     Illinois produces records for the election as a whole rather than for individual offices\n",
    "#     \"\"\"\n",
    "    \n",
    "#     # Remove formatting from County names to ensure any differences will not interfere with merging\n",
    "#     data['County'] = data['County'].astype(str).str.lower()\n",
    "    \n",
    "#     # Format names using 'trim party' function to remove middle names and titles, then concatinate so name matches FEC data\n",
    "#     data['CanFirstName'] = trim_party(data['CanFirstName'],' ') #removes middle names\n",
    "#     data['CanLastName'] = trim_party(data['CanLastName'], ' ') #removes titles appended to last names\n",
    "#     data['Candidate Name(f)'] = data['CanFirstName']+' '+data['CanLastName']\n",
    "#     #format names as lower-case\n",
    "#     data['Candidate Name(f)'] = data['Candidate Name(f)'].astype(str).str.lower()\n",
    "\n",
    "#     # Create list of candidates\n",
    "#     cand_list = data['Candidate Name(f)'].unique()\n",
    "\n",
    "#     #reduce candidate list to just names, if any name-final punctuation (',' or '.' expected) remains after removing titles\n",
    "#     cand_list = [''.join(char for char in i if char.isalpha() or char.isspace()) for i in cand_list]\n",
    "\n",
    "#     # Since all races appear in a single sheet\n",
    "#     # Create tables for each candidate\n",
    "#     cand_tables = {}\n",
    "#     for i in cand_list:\n",
    "#         candidate_df = data[data['Candidate Name(f)'] == i][['County', 'Votes']]\n",
    "#         cand_tables[i] = candidate_df\n",
    "\n",
    "#     # Merge tables\n",
    "#     merged_df = cand_tables[cand_list[0]] # the first dataframe is used as the base, all following dataframes will be added\n",
    "#     for i in cand_list[1:]:\n",
    "#         merged_df = pd.merge(merged_df, cand_tables[i], on='County', how='outer', suffixes=('_' + i, '')) # a full outer join is done so that every county will be added\n",
    "\n",
    "#     # Rename columns to match the candidates\n",
    "#     # The order is preserved by the sequence they had been merged in\n",
    "#     merged_df.columns = ['County'] + list(cand_list)\n",
    "\n",
    "#     # If candidate received zero votes, fill NaN\n",
    "#     merged_df = merged_df.fillna(0)\n",
    "#     return merged_df"
   ]
  },
  {
   "cell_type": "code",
   "execution_count": 45,
   "id": "a0c23f23-186f-46bd-9163-09618ad7a3e8",
   "metadata": {
    "tags": []
   },
   "outputs": [],
   "source": [
    "formatted_IL = []\n",
    "for year, i in IL_cong:    \n",
    "    # Remove formatting from County names to ensure any differences will not interfere with merging\n",
    "    i['County'] = i['County'].astype(str).str.lower()\n",
    "    \n",
    "    # Format names using 'trim party' function to remove middle names and titles, then concatinate so name matches FEC data\n",
    "    i['CanFirstName'] = trim_party(i['CanFirstName'],' ') #removes middle names\n",
    "    i['CanLastName'] = trim_party(i['CanLastName'], ' ') #removes titles appended to last names\n",
    "    i['Candidate Name(f)'] = i['CanFirstName']+' '+i['CanLastName']\n",
    "    #format names as lower-case\n",
    "    i['Candidate Name(f)'] = i['Candidate Name(f)'].astype(str).str.lower()\n",
    "\n",
    "    # Create list of candidates\n",
    "    cand_list = i['Candidate Name(f)'].unique()\n",
    "\n",
    "    #reduce candidate list to just names, if any name-final punctuation (',' or '.' expected) remains after removing titles\n",
    "    cand_list = [''.join(char for char in i if char.isalpha() or char.isspace()) for i in cand_list]\n",
    "\n",
    "    # Since all races appear in a single sheet\n",
    "    # Create tables for each candidate\n",
    "    cand_tables = {}\n",
    "    for cand in cand_list:\n",
    "        candidate_df = i[i['Candidate Name(f)'] == cand][['County', 'Votes']]\n",
    "        cand_tables[cand] = candidate_df\n",
    "\n",
    "    # Merge tables\n",
    "    merged_df = cand_tables[cand_list[0]] # the first dataframe is used as the base, all following dataframes will be added\n",
    "    for cand in cand_list[1:]:\n",
    "        merged_df = pd.merge(merged_df, cand_tables[cand], on='County', how='outer', suffixes=('_' + cand, '')) # a full outer join is done so that every county will be added\n",
    "\n",
    "    # Rename columns to match the candidates\n",
    "    # The order is preserved by the sequence they had been merged in\n",
    "    merged_df.columns = ['County'] + list(cand_list)\n",
    "\n",
    "    # If candidate received zero votes, fill NaN\n",
    "    merged_df = merged_df.fillna(0)\n",
    "    formatted_IL.append((year,merged_df))"
   ]
  },
  {
   "cell_type": "code",
   "execution_count": 29,
   "id": "f1112a30-8eb5-4c8b-90e2-e08c099fc391",
   "metadata": {
    "tags": []
   },
   "outputs": [],
   "source": [
    "# formatted_IL = []\n",
    "# for year, i in IL_cong:\n",
    "#     data = format_il(i)\n",
    "#     formatted_IL.append((year,data))\n",
    "    "
   ]
  },
  {
   "cell_type": "code",
   "execution_count": 30,
   "id": "41cc7e63-9686-4942-a4e8-0ed39c9162cb",
   "metadata": {
    "tags": []
   },
   "outputs": [
    {
     "name": "stdout",
     "output_type": "stream",
     "text": [
      "IL_2012 has a shape of (102, 54)\n",
      "IL_2014 has a shape of (102, 43)\n",
      "IL_2016 has a shape of (102, 44)\n",
      "IL_2018 has a shape of (102, 48)\n",
      "IL_2020 has a shape of (103, 51)\n"
     ]
    }
   ],
   "source": [
    "for year, i in formatted_IL:\n",
    "    print(f\"{year} has a shape of {i.shape}\")\n",
    "    # print(i[i['County']=='cook'].head())"
   ]
  },
  {
   "cell_type": "code",
   "execution_count": 31,
   "id": "a0dcef58-18a4-4cc3-a9eb-1f0d1ff97665",
   "metadata": {
    "tags": []
   },
   "outputs": [
    {
     "name": "stdout",
     "output_type": "stream",
     "text": [
      "['adams', 'alexander', 'bond', 'boone', 'brown', 'bureau', 'calhoun', 'carroll', 'cass', 'champaign', 'christian', 'clark', 'clay', 'clinton', 'coles', 'cook', 'crawford', 'cumberland', 'dekalb', 'dewitt', 'douglas', 'dupage', 'edgar', 'edwards', 'effingham', 'fayette', 'ford', 'franklin', 'fulton', 'gallatin', 'greene', 'grundy', 'hamilton', 'hancock', 'hardin', 'henderson', 'henry', 'iroquois', 'jackson', 'jasper', 'jefferson', 'jersey', 'jodaviess', 'johnson', 'kane', 'kankakee', 'kendall', 'knox', 'lake', 'lasalle', 'lawrence', 'lee', 'livingston', 'logan', 'macon', 'macoupin', 'madison', 'marion', 'marshall', 'mason', 'massac', 'mcdonough', 'mchenry', 'mclean', 'menard', 'mercer', 'monroe', 'montgomery', 'morgan', 'moultrie', 'ogle', 'peoria', 'perry', 'piatt', 'pike', 'pope', 'pulaski', 'putnam', 'randolph', 'richland', 'rock island', 'saline', 'sangamon', 'schuyler', 'scott', 'shelby', 'st. clair', 'stark', 'stephenson', 'tazewell', 'union', 'vermilion', 'wabash', 'warren', 'washington', 'wayne', 'white', 'whiteside', 'will', 'williamson', 'winnebago', 'woodford']\n",
      "['adams', 'alexander', 'bond', 'boone', 'brown', 'bureau', 'calhoun', 'carroll', 'cass', 'champaign', 'christian', 'clark', 'clay', 'clinton', 'coles', 'cook', 'cook', 'crawford', 'cumberland', 'dekalb', 'dewitt', 'douglas', 'dupage', 'edgar', 'edwards', 'effingham', 'fayette', 'ford', 'franklin', 'fulton', 'gallatin', 'greene', 'grundy', 'hamilton', 'hancock', 'hardin', 'henderson', 'henry', 'iroquois', 'jackson', 'jasper', 'jefferson', 'jersey', 'jodaviess', 'johnson', 'kane', 'kankakee', 'kendall', 'knox', 'lake', 'lasalle', 'lawrence', 'lee', 'livingston', 'logan', 'macon', 'macoupin', 'madison', 'marion', 'marshall', 'mason', 'massac', 'mcdonough', 'mchenry', 'mclean', 'menard', 'mercer', 'monroe', 'montgomery', 'morgan', 'moultrie', 'ogle', 'peoria', 'perry', 'piatt', 'pike', 'pope', 'pulaski', 'putnam', 'randolph', 'richland', 'rock island', 'saline', 'sangamon', 'schuyler', 'scott', 'shelby', 'st. clair', 'stark', 'stephenson', 'tazewell', 'union', 'vermilion', 'wabash', 'warren', 'washington', 'wayne', 'white', 'whiteside', 'will', 'williamson', 'winnebago', 'woodford']\n",
      "102\n",
      "103\n"
     ]
    }
   ],
   "source": [
    "IL_2020_counties_raw = IL_cong[4][1]['County'].unique().tolist()\n",
    "IL_2020_counties_raw.sort()\n",
    "print(IL_2020_counties_raw)\n",
    "IL_2020_counties_f = formatted_IL[4][1]['County'].tolist()\n",
    "IL_2020_counties_f.sort()\n",
    "print(IL_2020_counties_f)\n",
    "\n",
    "print(len(IL_2020_counties_raw))\n",
    "print(len(IL_2020_counties_f))"
   ]
  },
  {
   "cell_type": "code",
   "execution_count": 32,
   "id": "6640f28e-c410-4cec-a4b5-83591aca75c5",
   "metadata": {
    "tags": []
   },
   "outputs": [],
   "source": [
    "# Here we can see that the culprit is an extra 'cook' in the formatted 2020 data\n",
    "\n",
    "# We will begin trying to alter our format_il function to "
   ]
  },
  {
   "cell_type": "code",
   "execution_count": 33,
   "id": "0388c754-6747-4d39-bc78-6323e5016731",
   "metadata": {
    "tags": []
   },
   "outputs": [],
   "source": [
    "# def format_il_2(data):\n",
    "#     \"\"\"\n",
    "#     This function is built to format election data \n",
    "#     as recorded by the Illinois State Board of Elections\n",
    "#     Illinois produces records for the election as a whole rather than for individual offices\n",
    "#     \"\"\"\n",
    "    \n",
    "#     # Remove formatting from County names to ensure any differences will not interfere with merging\n",
    "#     data['County'] = data['County'].astype(str).str.strip().str.lower()\n",
    "    \n",
    "#     print(f\"Unique counties before processing: {len(data['County'].unique())}\")\n",
    "    \n",
    "#     # Format names using 'trim party' function to remove middle names and titles, then concatinate so name matches FEC data\n",
    "#     data['CanFirstName'] = trim_party(data['CanFirstName'],' ') #removes middle names\n",
    "#     data['CanLastName'] = trim_party(data['CanLastName'], ' ') #removes titles appended to last names\n",
    "#     data['Candidate Name(f)'] = data['CanFirstName']+' '+data['CanLastName']\n",
    "#     #format names as lower-case\n",
    "#     data['Candidate Name(f)'] = data['Candidate Name(f)'].astype(str).str.lower()\n",
    "\n",
    "#     # Create list of candidates\n",
    "#     cand_list = data['Candidate Name(f)'].unique()\n",
    "\n",
    "#     #reduce candidate list to just names, if any name-final punctuation (',' or '.' expected) remains after removing titles\n",
    "#     cand_list = [''.join(char for char in i if char.isalpha() or char.isspace()) for i in cand_list] \n",
    "\n",
    "#     # Since all races appear in a single sheet\n",
    "#     # Create tables for each candidate\n",
    "#     cand_tables = {}\n",
    "#     for i in cand_list:\n",
    "#         candidate_df = data[data['Candidate Name(f)'] == i][['County', 'Votes']]    \n",
    "#         # Print number of rows with 'County' == 'cook' for each candidate\n",
    "#         cook_rows = candidate_df[candidate_df['County'] == 'cook'].shape[0]\n",
    "#         if cook_rows>1:\n",
    "#             print(f\"{i} has {cook_rows} rows with 'County' == 'cook'\")\n",
    "#         cand_tables[i] = candidate_df\n",
    "\n",
    "#     # Print unique counties after processing\n",
    "#     print(f\"Unique counties after processing: {len(data['County'].unique())}\")\n",
    "    \n",
    "#     # Merge tables\n",
    "#     merged_df = cand_tables[cand_list[0]] # the first dataframe is used as the base, all following dataframes will be added\n",
    "#     for i in cand_list[1:]:\n",
    "#         merged_df = pd.merge(merged_df, cand_tables[i], on='County', how='outer', suffixes=('_' + i, '')) # a full outer join is done so that every county will be added\n",
    "\n",
    "#     # Rename columns to match the candidates\n",
    "#     # The order is preserved by the sequence they had been merged in\n",
    "#     merged_df.columns = ['County'] + list(cand_list)\n",
    "\n",
    "#     # If candidate received zero votes, fill NaN\n",
    "#     merged_df = merged_df.fillna(0)\n",
    "    \n",
    "#     # Check for duplicates after merging\n",
    "#     duplicates_after_merging = merged_df[merged_df.duplicated(subset='County', keep=False)]\n",
    "#     if not duplicates_after_merging.empty:\n",
    "#         print(\"Duplicated rows after merging:\")\n",
    "#         print(duplicates_after_merging)\n",
    "#         print(\"\\nLengths of 'County' strings:\")\n",
    "#         print(duplicates_after_merging['County'].apply(len))\n",
    "   \n",
    "#     return merged_df\n",
    "\n",
    "#     # If candidate received zero votes, fill NaN\n",
    "#     merged_df = merged_df.fillna(0)\n",
    "#     return merged_df"
   ]
  },
  {
   "cell_type": "code",
   "execution_count": 46,
   "id": "db368df9-5f1a-41e5-8b5f-0cf776343ffa",
   "metadata": {
    "tags": []
   },
   "outputs": [
    {
     "name": "stdout",
     "output_type": "stream",
     "text": [
      "richard mayers has multiple offices\n"
     ]
    },
    {
     "ename": "ValueError",
     "evalue": "Duplicate counties found for candidate          County     OfficeName CanFirstName CanLastName  Votes  \\\n4         adams  18TH CONGRESS       GEORGE    PETRILLI   6986   \n5         adams  18TH CONGRESS        DARIN      LaHOOD  26133   \n54    alexander  12TH CONGRESS         MIKE        BOST   1559   \n55    alexander  12TH CONGRESS      RAYMOND       LENZI    966   \n56         bond  13TH CONGRESS       RODNEY       DAVIS   1636   \n...         ...            ...          ...         ...    ...   \n4271  winnebago  16TH CONGRESS         DANI  BRZOZOWSKI  37774   \n4272  winnebago  17TH CONGRESS        CHERI      BUSTOS  19325   \n4273  winnebago  17TH CONGRESS       ESTHER        KING  10594   \n4330   woodford  18TH CONGRESS       GEORGE    PETRILLI   4711   \n4331   woodford  18TH CONGRESS        DARIN      LaHOOD  16249   \n\n     Candidate Name(f)  \n4      george petrilli  \n5         darin lahood  \n54           mike bost  \n55       raymond lenzi  \n56        rodney davis  \n...                ...  \n4271   dani brzozowski  \n4272      cheri bustos  \n4273       esther king  \n4330   george petrilli  \n4331      darin lahood  \n\n[347 rows x 6 columns]",
     "output_type": "error",
     "traceback": [
      "\u001b[1;31m---------------------------------------------------------------------------\u001b[0m",
      "\u001b[1;31mValueError\u001b[0m                                Traceback (most recent call last)",
      "Cell \u001b[1;32mIn[46], line 30\u001b[0m\n\u001b[0;32m     28\u001b[0m     \u001b[38;5;66;03m# Check for duplicated counties within each candidate_df\u001b[39;00m\n\u001b[0;32m     29\u001b[0m     \u001b[38;5;28;01mif\u001b[39;00m candidate_df[\u001b[38;5;124m'\u001b[39m\u001b[38;5;124mCounty\u001b[39m\u001b[38;5;124m'\u001b[39m]\u001b[38;5;241m.\u001b[39mduplicated()\u001b[38;5;241m.\u001b[39many():\n\u001b[1;32m---> 30\u001b[0m         \u001b[38;5;28;01mraise\u001b[39;00m \u001b[38;5;167;01mValueError\u001b[39;00m(\u001b[38;5;124mf\u001b[39m\u001b[38;5;124m\"\u001b[39m\u001b[38;5;124mDuplicate counties found for candidate \u001b[39m\u001b[38;5;132;01m{\u001b[39;00mi\u001b[38;5;132;01m}\u001b[39;00m\u001b[38;5;124m\"\u001b[39m)\n\u001b[0;32m     32\u001b[0m     cand_tables[cand] \u001b[38;5;241m=\u001b[39m candidate_df\n\u001b[0;32m     34\u001b[0m \u001b[38;5;66;03m# Merge tables\u001b[39;00m\n",
      "\u001b[1;31mValueError\u001b[0m: Duplicate counties found for candidate          County     OfficeName CanFirstName CanLastName  Votes  \\\n4         adams  18TH CONGRESS       GEORGE    PETRILLI   6986   \n5         adams  18TH CONGRESS        DARIN      LaHOOD  26133   \n54    alexander  12TH CONGRESS         MIKE        BOST   1559   \n55    alexander  12TH CONGRESS      RAYMOND       LENZI    966   \n56         bond  13TH CONGRESS       RODNEY       DAVIS   1636   \n...         ...            ...          ...         ...    ...   \n4271  winnebago  16TH CONGRESS         DANI  BRZOZOWSKI  37774   \n4272  winnebago  17TH CONGRESS        CHERI      BUSTOS  19325   \n4273  winnebago  17TH CONGRESS       ESTHER        KING  10594   \n4330   woodford  18TH CONGRESS       GEORGE    PETRILLI   4711   \n4331   woodford  18TH CONGRESS        DARIN      LaHOOD  16249   \n\n     Candidate Name(f)  \n4      george petrilli  \n5         darin lahood  \n54           mike bost  \n55       raymond lenzi  \n56        rodney davis  \n...                ...  \n4271   dani brzozowski  \n4272      cheri bustos  \n4273       esther king  \n4330   george petrilli  \n4331      darin lahood  \n\n[347 rows x 6 columns]"
     ]
    }
   ],
   "source": [
    "formatted_IL_2 = []\n",
    "for year, i in IL_cong:   \n",
    "    # Remove formatting from County names to ensure any differences will not interfere with merging\n",
    "    i['County'] = i['County'].astype(str).str.lower()\n",
    "    \n",
    "    # Format names using 'trim party' function to remove middle names and titles, then concatenate so name matches FEC data\n",
    "    i['CanFirstName'] = trim_party(i['CanFirstName'], ' ')  # removes middle names\n",
    "    i['CanLastName'] = trim_party(i['CanLastName'], ' ')  # removes titles appended to last names\n",
    "    i['Candidate Name(f)'] = i['CanFirstName'] + ' ' + i['CanLastName']\n",
    "    # format names as lower-case\n",
    "    i['Candidate Name(f)'] = i['Candidate Name(f)'].astype(str).str.lower()\n",
    "\n",
    "    # Create list of candidates\n",
    "    cand_list = i['Candidate Name(f)'].unique()\n",
    "\n",
    "    # Check for multiple offices for each candidate\n",
    "    for candidate in i['Candidate Name(f)'].unique():\n",
    "        offices_count = i[i['Candidate Name(f)'] == candidate]['OfficeName'].nunique()\n",
    "        if offices_count > 1:\n",
    "            print(f\"{candidate} has multiple offices\")\n",
    "\n",
    "    # Since all races appear in a single sheet\n",
    "    # Create tables for each candidate\n",
    "    cand_tables = {}\n",
    "    for cand in cand_list:\n",
    "        candidate_df = i[i['Candidate Name(f)'] == cand][['County', 'Votes']]\n",
    "        \n",
    "        # Check for duplicated counties within each candidate_df\n",
    "        if candidate_df['County'].duplicated().any():\n",
    "            raise ValueError(f\"Duplicate counties found for candidate {i}\")\n",
    "        \n",
    "        cand_tables[cand] = candidate_df\n",
    "\n",
    "    # Merge tables\n",
    "    merged_df = cand_tables[cand_list[0]]  # the first dataframe is used as the base, all following dataframes will be added\n",
    "    for cand in cand_list[1:]:\n",
    "        merged_df = pd.merge(merged_df, cand_tables[cand], on='County', how='outer', suffixes=('_' + cand, ''))  # a full outer join is done so that every county will be added\n",
    "\n",
    "    # Rename columns to match the candidates\n",
    "    # The order is preserved by the sequence they had been merged in\n",
    "    merged_df.columns = ['County'] + list(cand_list)\n",
    "\n",
    "    # If candidate received zero votes, fill NaN\n",
    "    merged_df = merged_df.fillna(0)\n",
    "    formatted_IL_2.append((year,merged_df))\n"
   ]
  },
  {
   "cell_type": "code",
   "execution_count": null,
   "id": "7037346a-14ab-4b8a-848c-5ce314145868",
   "metadata": {
    "tags": []
   },
   "outputs": [],
   "source": [
    "# fixed_IL = []\n",
    "# for year, i in IL_cong:\n",
    "#     data = format_il_2(i)\n",
    "#     fixed_IL.append((year,data))\n",
    "    "
   ]
  },
  {
   "cell_type": "code",
   "execution_count": 36,
   "id": "8357bbc6-768f-42af-b22b-7dd3c74e9d1d",
   "metadata": {},
   "outputs": [],
   "source": [
    "# FINALLY \n",
    "# because he appears twice as a congressional candidate, 'richard mayers' is producing the duplicate row resulting in 103 rows where 102 were expected in the 2020 data.\n",
    "# Checking ballotpedia: https://ballotpedia.org/Richard_Mayers\n",
    "# It appears he ran as a write in candidate for both the 6th and 7th districts, receiving zero votes but causing me a headache. "
   ]
  },
  {
   "cell_type": "code",
   "execution_count": 37,
   "id": "f2d0d1b5-4c6c-4e59-8f3e-2af2115a4c0c",
   "metadata": {},
   "outputs": [],
   "source": [
    "# Because he is receiving zero votes, the easiest way to eliminate the duplicate Richard is to drop rows with zero votes.\n",
    "# Since positive vote-totals are the only quantitative datapoint we value from this dataset, dropping zeros will have no effect on our final data."
   ]
  },
  {
   "cell_type": "code",
   "execution_count": null,
   "id": "0b02453a-7cab-4dd5-8c7f-c40c21a95e3d",
   "metadata": {
    "tags": []
   },
   "outputs": [],
   "source": [
    "def format_il_2(data):\n",
    "    \"\"\"\n",
    "    This function is built to format election data \n",
    "    as recorded by the Illinois State Board of Elections\n",
    "    Illinois produces records for the election as a whole rather than for individual offices\n",
    "    \"\"\"\n",
    "    \n",
    "    # Remove formatting from County names to ensure any differences will not interfere with merging\n",
    "    data['County'] = data['County'].astype(str).str.lower()\n",
    "    \n",
    "    # Format names using 'trim party' function to remove middle names and titles, then concatenate so name matches FEC data\n",
    "    data['CanFirstName'] = trim_party(data['CanFirstName'], ' ')  # removes middle names\n",
    "    data['CanLastName'] = trim_party(data['CanLastName'], ' ')  # removes titles appended to last names\n",
    "    data['Candidate Name(f)'] = data['CanFirstName'] + ' ' + data['CanLastName']\n",
    "    # format names as lower-case\n",
    "    data['Candidate Name(f)'] = data['Candidate Name(f)'].astype(str).str.lower().str.replace(r'[^\\w\\s]', '').str.replace(r'\\s*,\\s*$', '')\n",
    "\n",
    "    # Drop rows where candidates received zero votes\n",
    "    data = data[data['Votes']!=0]\n",
    "\n",
    "    # Create list of candidates\n",
    "    cand_list = data['Candidate Name(f)'].unique()\n",
    "\n",
    "    # Check for multiple offices for each candidate\n",
    "    for candidate in data['Candidate Name(f)'].unique():\n",
    "        offices_count = data[data['Candidate Name(f)'] == candidate]['OfficeName'].nunique()\n",
    "        if offices_count > 1:\n",
    "            print(f\"{candidate} has multiple offices\")\n",
    "\n",
    "    # Since all races appear in a single sheet\n",
    "    # Create tables for each candidate\n",
    "    cand_tables = {}\n",
    "    for i in cand_list:\n",
    "        candidate_df = data[data['Candidate Name(f)'] == i][['County', 'Votes']]\n",
    "        \n",
    "        # Check for duplicated counties within each candidate_df\n",
    "        # This would indicate that data was duplicated in the original list, to avoid that possibility this check will throw an error\n",
    "        if candidate_df['County'].duplicated().any():\n",
    "            raise ValueError(f\"Duplicate counties found for candidate {i}\")\n",
    "        \n",
    "        cand_tables[i] = candidate_df\n",
    "\n",
    "    # Merge tables\n",
    "    merged_df = cand_tables[cand_list[0]]  # the first dataframe is used as the base, all following dataframes will be joined\n",
    "    for i in cand_list[1:]:\n",
    "        merged_df = pd.merge(merged_df, cand_tables[i], on='County', how='outer', suffixes=('_' + i, ''))  # a full outer join is done so that every county will be added\n",
    "\n",
    "    # Rename columns to match the candidates\n",
    "    # The order is preserved by the sequence they had been merged in\n",
    "    merged_df.columns = ['County'] + list(cand_list)\n",
    "\n",
    "    # We still need to get rid of any name-final punctuation remaining after removing name suffixes, such as jr. and sr.\n",
    "    merged_cols = [''.join(char for char in i if char.isalpha() or char.isspace()) for i in list(merged_df.columns)]\n",
    "    merged_df.columns = merged_cols\n",
    "    \n",
    "    # If candidate received zero votes, fill NaN\n",
    "    merged_df = merged_df.fillna(0)\n",
    "    return merged_df\n"
   ]
  },
  {
   "cell_type": "code",
   "execution_count": 47,
   "id": "813bed3e-0f41-48e0-b409-67e8a7d25f07",
   "metadata": {
    "tags": []
   },
   "outputs": [],
   "source": [
    "fixed_IL = []\n",
    "for year, i in IL_cong:   \n",
    "    # Remove formatting from County names to ensure any differences will not interfere with merging\n",
    "    i['County'] = i['County'].astype(str).str.lower()\n",
    "    \n",
    "    # Format names using 'trim party' function to remove middle names and titles, then concatenate so name matches FEC data\n",
    "    i['CanFirstName'] = trim_party(i['CanFirstName'], ' ')  # removes middle names\n",
    "    i['CanLastName'] = trim_party(i['CanLastName'], ' ')  # removes titles appended to last names\n",
    "    i['Candidate Name(f)'] = i['CanFirstName'] + ' ' + i['CanLastName']\n",
    "    # format names as lower-case\n",
    "    i['Candidate Name(f)'] = i['Candidate Name(f)'].astype(str).str.lower()\n",
    "\n",
    "    # Drop rows where candidates received zero votes\n",
    "    i = i[i['Votes']!=0]\n",
    "    \n",
    "    # Create list of candidates\n",
    "    cand_list = i['Candidate Name(f)'].unique()\n",
    "\n",
    "    # Check for multiple offices for each candidate\n",
    "    for candidate in i['Candidate Name(f)'].unique():\n",
    "        offices_count = i[i['Candidate Name(f)'] == candidate]['OfficeName'].nunique()\n",
    "        if offices_count > 1:\n",
    "            print(f\"{candidate} has multiple offices\")\n",
    "\n",
    "    # Since all races appear in a single sheet\n",
    "    # Create tables for each candidate\n",
    "    cand_tables = {}\n",
    "    for cand in cand_list:\n",
    "        candidate_df = i[i['Candidate Name(f)'] == cand][['County', 'Votes']]\n",
    "        \n",
    "        # Check for duplicated counties within each candidate_df\n",
    "        if candidate_df['County'].duplicated().any():\n",
    "            raise ValueError(f\"Duplicate counties found for candidate {i}\")\n",
    "        \n",
    "        cand_tables[cand] = candidate_df\n",
    "\n",
    "    # Merge tables\n",
    "    merged_df = cand_tables[cand_list[0]]  # the first dataframe is used as the base, all following dataframes will be added\n",
    "    for cand in cand_list[1:]:\n",
    "        merged_df = pd.merge(merged_df, cand_tables[cand], on='County', how='outer', suffixes=('_' + cand, ''))  # a full outer join is done so that every county will be added\n",
    "\n",
    "    # Rename columns to match the candidates\n",
    "    # The order is preserved by the sequence they had been merged in\n",
    "    merged_df.columns = ['County'] + list(cand_list)\n",
    "\n",
    "    # We still need to get rid of any name-final punctuation remaining after removing name suffixes, such as jr. and sr.\n",
    "    merged_cols = [''.join(char for char in i if char.isalpha() or char.isspace()) for i in list(merged_df.columns)]\n",
    "    merged_df.columns = merged_cols\n",
    "    \n",
    "\n",
    "    # If candidate received zero votes, fill NaN\n",
    "    merged_df = merged_df.fillna(0)\n",
    "    fixed_IL.append((year,merged_df))\n"
   ]
  },
  {
   "cell_type": "code",
   "execution_count": 48,
   "id": "c0ba35bb-d7db-4b94-986f-792fb82b0efb",
   "metadata": {
    "tags": []
   },
   "outputs": [],
   "source": [
    "# fixed_IL = []\n",
    "# for year, i in IL_cong:\n",
    "#     data = format_il_2(i)\n",
    "#     fixed_IL.append((year,data))\n",
    "    "
   ]
  },
  {
   "cell_type": "code",
   "execution_count": 49,
   "id": "23b4330d-d28c-4710-9436-6daca80e4cb1",
   "metadata": {
    "tags": []
   },
   "outputs": [
    {
     "name": "stdout",
     "output_type": "stream",
     "text": [
      "Using 'format_il', IL_2012 has a shape of (102, 54)\n",
      "Using 'format_il', IL_2014 has a shape of (102, 43)\n",
      "Using 'format_il', IL_2016 has a shape of (102, 44)\n",
      "Using 'format_il', IL_2018 has a shape of (102, 48)\n",
      "Using 'format_il', IL_2020 has a shape of (103, 51)\n",
      "\n",
      "\n",
      "Using 'fixed_IL', IL_2012 has a shape of (102, 54)\n",
      "Using 'fixed_IL', IL_2014 has a shape of (102, 43)\n",
      "Using 'fixed_IL', IL_2016 has a shape of (102, 43)\n",
      "Using 'fixed_IL', IL_2018 has a shape of (102, 46)\n",
      "Using 'fixed_IL', IL_2020 has a shape of (102, 49)\n"
     ]
    }
   ],
   "source": [
    "# Let's check the shape of this version against the first attempt to see what our modifications have done\n",
    "\n",
    "for year, i in formatted_IL:\n",
    "    print(f\"Using 'format_il', {year} has a shape of {i.shape}\")\n",
    "print('\\n')\n",
    "for year, i in fixed_IL:\n",
    "    print(f\"Using 'fixed_IL', {year} has a shape of {i.shape}\")"
   ]
  },
  {
   "cell_type": "code",
   "execution_count": 72,
   "id": "44eae2af-ac39-45f4-ac72-69dbec2124fd",
   "metadata": {
    "tags": []
   },
   "outputs": [
    {
     "name": "stdout",
     "output_type": "stream",
     "text": [
      "IL_2016\n",
      "james reynolds ran for 495    2ND CONGRESS\n",
      "496    2ND CONGRESS\n",
      "497    2ND CONGRESS\n",
      "Name: OfficeName, dtype: object, \n",
      " and they received zero votes\n",
      "IL_2018\n",
      "mary vann-metcalf ran for 558    1ST CONGRESS\n",
      "Name: OfficeName, dtype: object, \n",
      " and they received zero votes\n",
      "IL_2018\n",
      "edmond kelly, ran for 1131    6TH CONGRESS\n",
      "Name: OfficeName, dtype: object, \n",
      " and they received zero votes\n",
      "IL_2020\n",
      "richard mayers ran for 679    7TH CONGRESS\n",
      "783    9TH CONGRESS\n",
      "Name: OfficeName, dtype: object, \n",
      " and they received zero votes\n",
      "IL_2020\n",
      "deirdre mccloskey ran for 680    7TH CONGRESS\n",
      "Name: OfficeName, dtype: object, \n",
      " and they received zero votes\n"
     ]
    }
   ],
   "source": [
    "# Let's check which rows in the original data contain zero votes and so would represent potential dropped candidates between the original format_il and the changes we made for format_il_2\n",
    "# To do so we'll be recreating the first part of format_il, but then asking it to return candidates whose sum of votes == 0\n",
    "for year, i in IL_cong:\n",
    "    # Format names using 'trim party' function to remove middle names and titles, then concatenate so name matches FEC data\n",
    "    i['CanFirstName'] = trim_party(i['CanFirstName'], ' ')  # removes middle names\n",
    "    i['CanLastName'] = trim_party(i['CanLastName'], ' ')  # removes titles appended to last names\n",
    "    i['Candidate Name(f)'] = i['CanFirstName'] + ' ' + i['CanLastName']\n",
    "    # format names as lower-case\n",
    "    i['Candidate Name(f)'] = i['Candidate Name(f)'].astype(str).str.lower().str.replace(r'[^\\w\\s]', '').str.replace(r'\\s*,\\s*$', '')\n",
    "\n",
    "    cand_list = i['Candidate Name(f)'].unique()\n",
    "    \n",
    "    cand_tables = {}\n",
    "    for cand in cand_list:\n",
    "        candidate_df = i[i['Candidate Name(f)'] == cand][['County', 'Votes']]\n",
    "        \n",
    "        cand_tables[cand] = candidate_df\n",
    "    \n",
    "    no_votes = []\n",
    "    for cand in cand_list:\n",
    "        if cand_tables[cand]['Votes'].sum() == 0:\n",
    "            print(year)\n",
    "            print(f\"{cand} ran for {i.loc[i['Candidate Name(f)']==cand]['OfficeName']}, \\n and they received zero votes\")\n"
   ]
  },
  {
   "cell_type": "code",
   "execution_count": 51,
   "id": "80287f52-ceea-436b-a3e2-f900d9b76d05",
   "metadata": {
    "tags": []
   },
   "outputs": [],
   "source": [
    "# Just what we were looking for!\n",
    "# Looking up these candidates in ballotpedia confirms these zeroes are expected:\n",
    "## 'james reynolds' does not appear as a candidate\n",
    "### Further searching produces an obituary dated March 2016\n",
    "### In any case, the incumbant democratic candidate does appear in the data\n",
    "\n",
    "## 'mary vann-metcalf' does not appear in ballotpedia at all\n",
    "## her name does turn up as an independent candidate for Governor who was removed from the ballot\n",
    "\n",
    "## 'edmond kelly' appears as a write-in candidate who received zero votes for the 6th district\n",
    "\n",
    "## 'richard mayers' appears as a write-in candidate in both the 7th and 9th districts  who received zero votes\n",
    "\n",
    "## 'deirdre mccloskey' appears as a write-in canddiate in the 7th district who also received no votes."
   ]
  },
  {
   "cell_type": "code",
   "execution_count": 52,
   "id": "2d9d904f-7195-4680-8714-8b9fa17fcb41",
   "metadata": {
    "tags": []
   },
   "outputs": [
    {
     "name": "stdout",
     "output_type": "stream",
     "text": [
      "IL_2012\n",
      "['jesse jackson', 'shontiyon horton']\n",
      "IL_2014\n",
      "[]\n",
      "IL_2016\n",
      "['james reynolds']\n",
      "IL_2018\n",
      "['jimmy tillman', 'mary vannmetcalf', 'edmond kelly']\n",
      "IL_2020\n",
      "['richard mayers', 'deirdre mccloskey']\n"
     ]
    }
   ],
   "source": [
    "# And let's make sure those dropped lines in the format_il_2 set do correspond to zero values in votes\n",
    "\n",
    "for year, i in formatted_IL:\n",
    "    print(year)\n",
    "    print(list(i.columns[i.eq(0).all()]))"
   ]
  },
  {
   "cell_type": "code",
   "execution_count": null,
   "id": "f05c52dd-7649-4aeb-8fae-dd5b81da776f",
   "metadata": {},
   "outputs": [],
   "source": [
    "# The keyerror here tells us to check more into mary vannmetcalf and edmond kelly to see why their vote totals are zero, while the candidate jimmy tillman did have vote totals in the corrected format_il function\n",
    "# We should see why his vote totals were zeroes in the original format_il function"
   ]
  },
  {
   "cell_type": "code",
   "execution_count": 77,
   "id": "4101d70f-4ce8-4296-bf45-c63a3a369927",
   "metadata": {
    "tags": []
   },
   "outputs": [
    {
     "name": "stdout",
     "output_type": "stream",
     "text": [
      "IL_2012\n",
      "        County     OfficeName CanFirstName CanLastName   Votes  \\\n",
      "1895      cook   2ND CONGRESS        JESSE    JACKSON,  168850   \n",
      "1896  kankakee   2ND CONGRESS        JESSE    JACKSON,   11828   \n",
      "1897      will   2ND CONGRESS        JESSE    JACKSON,    7625   \n",
      "1999   madison  12TH CONGRESS   SHON-TIYON      HORTON       2   \n",
      "\n",
      "      Candidate Name(f)  \n",
      "1895     jesse jackson,  \n",
      "1896     jesse jackson,  \n",
      "1897     jesse jackson,  \n",
      "1999  shon-tiyon horton  \n",
      "IL_2014\n",
      "Empty DataFrame\n",
      "Columns: [County, OfficeName, CanFirstName, CanLastName, Votes, Candidate Name(f)]\n",
      "Index: []\n",
      "IL_2016\n",
      "Empty DataFrame\n",
      "Columns: [County, OfficeName, CanFirstName, CanLastName, Votes, Candidate Name(f)]\n",
      "Index: []\n",
      "IL_2018\n",
      "Empty DataFrame\n",
      "Columns: [County, OfficeName, CanFirstName, CanLastName, Votes, Candidate Name(f)]\n",
      "Index: []\n",
      "IL_2020\n",
      "Empty DataFrame\n",
      "Columns: [County, OfficeName, CanFirstName, CanLastName, Votes, Candidate Name(f)]\n",
      "Index: []\n"
     ]
    }
   ],
   "source": [
    "for year,i in IL_cong:\n",
    "    jackson_df = i[i['CanLastName'].str.startswith(('JACKSON','HORTON'))]\n",
    "    print(year)\n",
    "    print(jackson_df)"
   ]
  },
  {
   "cell_type": "code",
   "execution_count": 78,
   "id": "1d6c04ec-eb14-4a31-86d3-8f43459822b1",
   "metadata": {
    "tags": []
   },
   "outputs": [],
   "source": [
    "# A stray comma is causing the issues the Jesse Jackson in 2012, while the '-' in Shon-Tiyon Horton' was causing a similar issue with their entry, both of which we'd resolved earlier by cleaning up the way we were processing names"
   ]
  },
  {
   "cell_type": "code",
   "execution_count": 79,
   "id": "b9b2da2d-9727-4318-969a-23877cbbbd3c",
   "metadata": {
    "tags": []
   },
   "outputs": [],
   "source": [
    "# So there we have it, the expected number of candidates were removed by dropping those with zero votes, and accounting for stray punctuation ensured all other candidates were included"
   ]
  },
  {
   "cell_type": "code",
   "execution_count": 58,
   "id": "bfc7ebe7-e5d5-4ade-998e-be5790253e14",
   "metadata": {
    "tags": []
   },
   "outputs": [
    {
     "name": "stdout",
     "output_type": "stream",
     "text": [
      "['County', 'donald peloquin', 'bobby rush', 'john hawkins', 'brian woodworth', 'jesse jackson', 'marcus lewis', 'anthony williams', 'richard grabowski', 'daniel lipinski', 'laura anderson', 'luis gutierrez', 'hector concepcion', 'ymelda viramontes', 'dan schmitt', 'mike quigley', 'nancy wade', 'peter roskam', 'leslie coolidge', 'danny davis', 'rita zak', 'john monaghan', 'phil collins', 'dennis richter', 'joe walsh', 'tammy duckworth', 'timothy wolfe', 'janice schakowsky', 'susanne atanus', 'hilaire shioura', 'robert dold', 'brad schneider', 'judy biggert', 'bill foster', 'chris michel', 'jason plummer', 'paula bradshaw', 'william enyart', 'shontiyon horton', 'david gill', 'rodney davis', 'john hartman', 'randy hultgren', 'dennis anderson', 'john shimkus', 'angela michael', 'adam kinzinger', 'wanda rohl', 'bobby schilling', 'cheri bustos', 'joe faber', 'eric reyes', 'aaron schock', 'steve waterworth']\n",
      "['County', 'robert dold', 'brad schneider', 'darlene senger', 'bill foster', 'mike bost', 'william enyart', 'paula bradshaw', 'rodney davis', 'ann callis', 'randall hultgren', 'dennis anderson', 'john shimkus', 'eric thorsland', 'adam kinzinger', 'randall olsen', 'bobby schilling', 'cheri bustos', 'aaron schock', 'darrel miller', 'jimmy tillman', 'bobby rush', 'eric wallace', 'robin kelly', 'sharon brannigan', 'daniel lipinski', 'hector concepcion', 'luis gutierrez', 'mike quigley', 'nancy wade', 'peter roskam', 'michael mason', 'robert bumpers', 'danny davis', 'larry kaifesh', 'tammy duckworth', 'susanne atanus', 'janice schakowsky', 'vince kolber', 'bill fawell', 'marcus lewis', 'phil collins', 'constant vlakancic']\n",
      "['County', 'robert dold', 'joseph kopsick', 'brad schneider', 'tonia khouri', 'bill foster', 'paula bradshaw', 'charles baricevic', 'michael bost', 'mark wicklund', 'rodney davis', 'jim walz', 'randall hultgren', 'john shimkus', 'john burchardt', 'adam kinzinger', 'patrick harlan', 'cheri bustos', 'junius rodriguez', 'don vance', 'darin lahood', 'august deuser', 'tabitha carson', 'bobby rush', 'john morrow', 'robin kelly', 'diane harris', 'daniel lipinski', 'luis gutierrez', 'rob sherman', 'vince kolber', 'michael krynski', 'mike quigley', 'amanda howland', 'peter roskam', 'jeffrey leef', 'danny davis', 'peter dicianni', 'raja krishnamoorthi', 'joan lasonde', 'susanne atanus', 'david williams', 'janice schakowsky']\n",
      "['County', 'douglas bennett', 'brad schneider', 'nick stella', 'bill foster', 'brendan kelly', 'mike bost', 'randy auxier', 'betsy londrigan', 'rodney davis', 'thomas kuna', 'randall hultgren', 'lauren underwood', 'kevin gaither', 'john shimkus', 'tim buckner', 'sara dady', 'adam kinzinger', 'john stassi', 'william fawell', 'cheri bustos', 'junius rodriguez', 'darin lahood', 'jimmy tillman', 'thomas rudbeck', 'bobby rush', 'david merkle', 'robin kelly', 'arthur jones', 'justin hanson', 'kenneth yerkes', 'daniel lipinski', 'richard mayers', 'mark lorch', 'jesus garcia', 'tom hanson', 'frank rowder', 'mike quigley', 'peter roskam', 'sean casten', 'craig cameron', 'danny davis', 'jitendra diganvker', 'raja krishnamoorthi', 'john elleson', 'janice schakowsky']\n",
      "['County', 'george petrilli', 'darin lahood', 'mike bost', 'raymond lenzi', 'rodney davis', 'betsy londrigan', 'mary miller', 'erika weaver', 'roy jones', 'dani brzozowski', 'adam kinzinger', 'esther king', 'cheri bustos', 'preston nelson', 'raja krishnamoorthi', 'sean casten', 'bill redpath', 'jeanne ives', 'craig cameron', 'tracy jennings', 'danny davis', 'jesus solorio', 'jesus garcia', 'tommy hanson', 'thomas wilda', 'frank rowder', 'mike quigley', 'philanise white', 'ruth pellegrini', 'bobby rush', 'theresa raborn', 'robin kelly', 'mike fricilone', 'marie newman', 'sargis sangari', 'janice schakowsky', 'brad schneider', 'valerie mukherjee', 'joseph kopsick', 'david rych', 'rick laib', 'bill foster', 'jim oberweis', 'lauren underwood', 'braden mccullough', 'jon harlson', 'general parker', 'joseph monack']\n"
     ]
    }
   ],
   "source": [
    "for year,i in fixed_IL:\n",
    "    print(i.columns.tolist())"
   ]
  },
  {
   "cell_type": "code",
   "execution_count": 63,
   "id": "48bedc73-54b2-43f2-93fc-d0fbf846c737",
   "metadata": {
    "tags": []
   },
   "outputs": [
    {
     "name": "stdout",
     "output_type": "stream",
     "text": [
      "Columns dropped in IL_2012 between 'format_il_2' and 'fixed_il': {'shon-tiyon horton', 'jesse jackson,'}\n",
      "Columns dropped in IL_2014 between 'format_il_2' and 'fixed_il': set()\n",
      "Columns dropped in IL_2016 between 'format_il_2' and 'fixed_il': {'james reynolds'}\n",
      "Columns with zero votes for james reynolds in IL_2016: Index(['County', 'robert dold', 'joseph kopsick', 'brad schneider',\n",
      "       'tonia khouri', 'bill foster', 'paula bradshaw', 'charles baricevic',\n",
      "       'michael bost', 'mark wicklund', 'rodney davis', 'jim walz',\n",
      "       'randall hultgren', 'john shimkus', 'john burchardt', 'adam kinzinger',\n",
      "       'patrick harlan', 'cheri bustos', 'junius rodriguez', 'don vance',\n",
      "       'darin lahood', 'august deuser', 'tabitha carson', 'bobby rush',\n",
      "       'john morrow', 'james reynolds', 'robin kelly', 'diane harris',\n",
      "       'daniel lipinski', 'luis gutierrez', 'rob sherman', 'vince kolber',\n",
      "       'michael krynski', 'mike quigley', 'amanda howland', 'peter roskam',\n",
      "       'jeffrey leef', 'danny davis', 'peter dicianni', 'raja krishnamoorthi',\n",
      "       'joan lasonde', 'susanne atanus', 'david williams',\n",
      "       'janice schakowsky'],\n",
      "      dtype='object')\n",
      "Columns dropped in IL_2018 between 'format_il_2' and 'fixed_il': {'jimmy tillman,', 'mary vann-metcalf', 'edmond kelly,'}\n",
      "Columns with zero votes for mary vann-metcalf in IL_2018: Index(['County', 'douglas bennett', 'brad schneider', 'nick stella',\n",
      "       'bill foster', 'brendan kelly', 'mike bost', 'randy auxier',\n",
      "       'betsy londrigan', 'rodney davis', 'thomas kuna', 'randall hultgren',\n",
      "       'lauren underwood', 'kevin gaither', 'john shimkus', 'tim buckner',\n",
      "       'sara dady', 'adam kinzinger', 'john stassi', 'william fawell',\n",
      "       'cheri bustos', 'junius rodriguez', 'darin lahood', 'jimmy tillman,',\n",
      "       'thomas rudbeck', 'mary vann-metcalf', 'bobby rush', 'david merkle',\n",
      "       'robin kelly', 'arthur jones', 'justin hanson', 'kenneth yerkes',\n",
      "       'daniel lipinski', 'richard mayers', 'mark lorch', 'jesus garcia',\n",
      "       'tom hanson', 'frank rowder', 'mike quigley', 'peter roskam',\n",
      "       'edmond kelly,', 'sean casten', 'craig cameron', 'danny davis',\n",
      "       'jitendra diganvker', 'raja krishnamoorthi', 'john elleson',\n",
      "       'janice schakowsky'],\n",
      "      dtype='object')\n",
      "Columns with zero votes for edmond kelly, in IL_2018: Index(['County', 'douglas bennett', 'brad schneider', 'nick stella',\n",
      "       'bill foster', 'brendan kelly', 'mike bost', 'randy auxier',\n",
      "       'betsy londrigan', 'rodney davis', 'thomas kuna', 'randall hultgren',\n",
      "       'lauren underwood', 'kevin gaither', 'john shimkus', 'tim buckner',\n",
      "       'sara dady', 'adam kinzinger', 'john stassi', 'william fawell',\n",
      "       'cheri bustos', 'junius rodriguez', 'darin lahood', 'jimmy tillman,',\n",
      "       'thomas rudbeck', 'mary vann-metcalf', 'bobby rush', 'david merkle',\n",
      "       'robin kelly', 'arthur jones', 'justin hanson', 'kenneth yerkes',\n",
      "       'daniel lipinski', 'richard mayers', 'mark lorch', 'jesus garcia',\n",
      "       'tom hanson', 'frank rowder', 'mike quigley', 'peter roskam',\n",
      "       'edmond kelly,', 'sean casten', 'craig cameron', 'danny davis',\n",
      "       'jitendra diganvker', 'raja krishnamoorthi', 'john elleson',\n",
      "       'janice schakowsky'],\n",
      "      dtype='object')\n"
     ]
    }
   ],
   "source": [
    "# Assuming formatted_IL_2 and fixed_IL contain tuples of (year, data)\n",
    "for (year1, data1), (year2, data2) in zip(formatted_IL_2, fixed_IL):\n",
    "    dropped_columns = set(data1.columns) - set(data2.columns)\n",
    "    \n",
    "    print(f\"Columns dropped in {year1} between 'format_il_2' and 'fixed_il': {dropped_columns}\")\n",
    "    \n",
    "    for column in data1.columns:\n",
    "        zero_vote_columns = data1[data1[column] == 0].columns\n",
    "        \n",
    "        # Check if all values in zero_vote_columns are zero\n",
    "        if all(data1[column] == 0):\n",
    "            print(f\"Columns with zero votes for {column} in {year1}: {zero_vote_columns}\")\n"
   ]
  },
  {
   "cell_type": "code",
   "execution_count": null,
   "id": "fd37e45f-2c79-4586-9adb-f64ae6e52cc1",
   "metadata": {
    "tags": []
   },
   "outputs": [],
   "source": [
    "# Before processing\n",
    "print(\"Unique counties in 2020 before processing:\", len(IL_cong[4][1]['County'].unique()))\n",
    "\n",
    "# Processing\n",
    "fixed_IL_2020 = fixed_IL[4][1]\n",
    "\n",
    "# After processing\n",
    "print(\"Unique counties in 2020 after processing:\", len(fixed_IL_2020['County'].unique()))\n"
   ]
  },
  {
   "cell_type": "code",
   "execution_count": null,
   "id": "c2881e60-9d30-48c3-93f0-360a31d33677",
   "metadata": {
    "tags": []
   },
   "outputs": [],
   "source": [
    "# Before processing\n",
    "print(\"Cook county in 2020 before processing:\")\n",
    "print(IL_cong[4][1][IL_cong[4][1]['County'] == 'cook'])\n",
    "\n",
    "# Processing\n",
    "fixed_IL_2020 = fixed_IL[4][1]\n",
    "\n",
    "# After processing\n",
    "print(\"Cook county in 2020 after processing:\")\n",
    "print(fixed_IL_2020[fixed_IL_2020['County'] == 'cook'])\n"
   ]
  },
  {
   "cell_type": "code",
   "execution_count": null,
   "id": "44106c98-07ac-4326-9878-42a4f2a7809d",
   "metadata": {
    "tags": []
   },
   "outputs": [],
   "source": [
    "IL_2020_counties_raw = IL_cong[4][1]['County'].unique().tolist()\n",
    "IL_2020_counties_raw.sort()\n",
    "print(IL_2020_counties_raw)\n",
    "IL_2020_counties_fixed = fixed_IL[4][1]['County'].tolist()\n",
    "IL_2020_counties_fixed.sort()\n",
    "print(IL_2020_counties_fixed)\n",
    "\n",
    "print(len(IL_2020_counties_raw))\n",
    "print(len(IL_2020_counties_fixed))"
   ]
  },
  {
   "cell_type": "code",
   "execution_count": null,
   "id": "8550e0c1-e995-40a0-be5f-79db20157955",
   "metadata": {
    "tags": []
   },
   "outputs": [],
   "source": [
    "# Print duplicated rows for 'Cook' county in the 2020 data\n",
    "cong_IL_2020 = IL_cong[4][1]\n",
    "fixed_IL_2020 = fixed_IL[4][1]\n",
    "print(\"Duplicated rows for 'Cook' county:\")\n",
    "print(fixed_IL_2020[fixed_IL_2020['County'] == 'cook'])\n",
    "print(cong_IL_2020[cong_IL_2020['County'] == 'cook'])"
   ]
  },
  {
   "cell_type": "code",
   "execution_count": null,
   "id": "e8ad09f8-1fec-4301-838f-a21143771d6e",
   "metadata": {
    "tags": []
   },
   "outputs": [],
   "source": [
    "# Print duplicated rows for 'Cook' county in the 2020 data\n",
    "raw_IL_2020 = IL_data[4][1]\n",
    "fixed_IL_2020 = fixed_IL[4][1]\n",
    "\n",
    "print(\"Duplicated rows for 'Cook' county:\")\n",
    "print(fixed_IL_2020[fixed_IL_2020['County'] == 'cook'])\n",
    "\n",
    "# Print raw data rows for 'Cook' county in the 2020 data meeting specific conditions\n",
    "print(\"Raw data rows for 'Cook' county and 'congress' office:\")\n",
    "print(raw_IL_2020[(raw_IL_2020['County'] == 'COOK') & raw_IL_2020['OfficeName'].str.contains('congress', case=False, na=False)])\n"
   ]
  },
  {
   "cell_type": "code",
   "execution_count": null,
   "id": "db997d2a-debd-4cb9-87e0-392135193c31",
   "metadata": {
    "tags": []
   },
   "outputs": [],
   "source": [
    "# Process data and print details for Cook county\n",
    "for year, i in IL_cong:\n",
    "    if year == 'IL_2020':\n",
    "        print(f\"Before processing - {year} - Unique counties: {len(i['County'].unique())}\")\n",
    "\n",
    "# Process the data\n",
    "formatted_IL = []\n",
    "for year, i in IL_cong:\n",
    "    data = format_il(i)\n",
    "    formatted_IL.append((year, data))\n",
    "    if year == 'IL_2020':\n",
    "        print(f\"After processing - {year} - Unique counties: {data.shape[0]}\")\n",
    "\n",
    "# Print details for Cook county after processing\n",
    "for year, data in formatted_IL:\n",
    "    if year == 'IL_2020':\n",
    "        print(f\"\\nDetails for {year} - Cook county:\")\n",
    "        print(data[data['County'] == 'cook'])\n"
   ]
  },
  {
   "cell_type": "code",
   "execution_count": null,
   "id": "cfb8696c-656a-42ca-9675-d390cd741790",
   "metadata": {},
   "outputs": [],
   "source": [
    "# Hacky way of removing extra 'cook' fromn county data:\n",
    "        candidate_df = candidate_df.groupby('County').sum().reset_index() # This line should not be necessary, but appears because without it a duplicate 'Cook' county appears in the 2020 data"
   ]
  },
  {
   "cell_type": "code",
   "execution_count": null,
   "id": "167ebcac-ddf5-46bd-af55-dbaca1635266",
   "metadata": {
    "tags": []
   },
   "outputs": [],
   "source": [
    "\n",
    "# # Similar to our examination of the IRS data, we will build a list of County Names common to all years and quickly examine it for the expected aggregate fields\n",
    "common_counties = set(formatted_IL[0][1]['County'].tolist())\n",
    "\n",
    "for year, i in formatted_IL[1:]:\n",
    "    county_col = [col for col in i.columns if col.startswith('County')]  # Get the name of the column containing county names\n",
    "    common_counties = common_counties.intersection(set(i[county_col[0]].tolist()))\n",
    "common_counties = list(common_counties)\n",
    "common_counties.sort()\n",
    "print(common_counties)\n",
    "print(len(common_counties))"
   ]
  },
  {
   "cell_type": "code",
   "execution_count": null,
   "id": "929ec409-1256-4898-b9a0-5f9cb3326354",
   "metadata": {
    "tags": []
   },
   "outputs": [],
   "source": [
    "# This looks good, we have 102 counties, as expected, common across all the dataframes\n",
    "\n",
    "# We will now pick out the extra county in the 2020 data"
   ]
  },
  {
   "cell_type": "code",
   "execution_count": null,
   "id": "ef5933b4-f266-40b8-a0d7-8bfe4a115142",
   "metadata": {
    "tags": []
   },
   "outputs": [],
   "source": [
    "base_data = formatted_IL[0][1]['County'].tolist()\n",
    "\n",
    "sample_datasets = formatted_IL[1:]\n",
    "for year, i in sample_datasets:\n",
    "    current_counties = i['County'].tolist()\n",
    "    print(year)\n",
    "    for county in current_counties:\n",
    "        if county not in base_data:\n",
    "            print(county)"
   ]
  },
  {
   "cell_type": "code",
   "execution_count": null,
   "id": "37858d92-99f5-4a01-a259-20129c34b486",
   "metadata": {},
   "outputs": [],
   "source": [
    "# Since this does not return any results, we know that the extra row in the 2020 data is due to a repeated 'County' string, rather than one that doesn't exist in the other dataframes\n",
    "\n",
    "# We will re-run this check on the unformatted data, which we should have done in the first place!"
   ]
  },
  {
   "cell_type": "code",
   "execution_count": null,
   "id": "f9e30896-f8ea-4be5-ae7a-e9a0f86c0e8c",
   "metadata": {
    "tags": []
   },
   "outputs": [],
   "source": [
    "for year, i in IL_cong:\n",
    "    print(f\"{year} has a {len(list(i['County'].unique()))}\")"
   ]
  },
  {
   "cell_type": "code",
   "execution_count": null,
   "id": "1b897bbf-c36c-4e9b-8127-49cbdbbb63ac",
   "metadata": {
    "tags": []
   },
   "outputs": [],
   "source": [
    "base_data = IL_cong[0][1]['County'].tolist()\n",
    "\n",
    "sample_datasets = IL_cong[1:]\n",
    "for year, i in sample_datasets:\n",
    "    current_counties = i['County'].tolist()\n",
    "    print(year)\n",
    "    for county in current_counties:\n",
    "        if county not in base_data:\n",
    "            print(county)"
   ]
  },
  {
   "cell_type": "code",
   "execution_count": null,
   "id": "f3c2da8a-78cc-4146-bc59-e4b3081a0662",
   "metadata": {
    "tags": []
   },
   "outputs": [],
   "source": [
    "extra_counties = set(formatted_IL[4][1]['County']) - set(formatted_IL[0][1]['County'])\n",
    "il_2020_c = formatted_IL[4][1]['County'].tolist()\n",
    "il_2012_c = formatted_IL[0][1]['County'].tolist()\n",
    "\n",
    "print(extra_counties)\n",
    "il_2020_c.sort()\n",
    "il_2012_c.sort()"
   ]
  },
  {
   "cell_type": "code",
   "execution_count": null,
   "id": "c6d97711-63ca-471f-8770-1dcd68cd240b",
   "metadata": {
    "tags": []
   },
   "outputs": [],
   "source": [
    "print(il_2020_c)\n",
    "print(il_2012_c)"
   ]
  },
  {
   "cell_type": "code",
   "execution_count": null,
   "id": "358d7c01-b6b9-4a47-9a81-7634e1cc056a",
   "metadata": {
    "tags": []
   },
   "outputs": [],
   "source": [
    "base_data = formatted_IL[0][1]['County'].tolist()\n",
    "sample_datasets = formatted_IL[1:]\n",
    "\n",
    "for year, i in sample_datasets:\n",
    "    current_counties = i['County'].tolist()\n",
    "    print(f\"Base Data Counties: {base_data}\")\n",
    "    print(f\"Current Data Counties: {current_counties}\")\n",
    "    for county in current_counties:\n",
    "        if county not in base_data:\n",
    "            print(f\"County not in base data: {county}\")"
   ]
  }
 ],
 "metadata": {
  "kernelspec": {
   "display_name": "Python 3 (ipykernel)",
   "language": "python",
   "name": "python3"
  },
  "language_info": {
   "codemirror_mode": {
    "name": "ipython",
    "version": 3
   },
   "file_extension": ".py",
   "mimetype": "text/x-python",
   "name": "python",
   "nbconvert_exporter": "python",
   "pygments_lexer": "ipython3",
   "version": "3.11.5"
  }
 },
 "nbformat": 4,
 "nbformat_minor": 5
}
