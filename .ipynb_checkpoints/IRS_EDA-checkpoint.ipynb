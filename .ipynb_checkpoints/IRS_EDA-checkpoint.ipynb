{
 "cells": [
  {
   "cell_type": "code",
   "execution_count": 1,
   "id": "c55301ba-001d-489c-a96a-897169c71c7e",
   "metadata": {
    "tags": []
   },
   "outputs": [],
   "source": [
    "import numpy as np\n",
    "import pandas as pd\n",
    "from src.modules import * #contains functions used in common with processing election and IRS data\n",
    "\n",
    "import os #Used when reading/writing csv files programatically"
   ]
  },
  {
   "cell_type": "markdown",
   "id": "82d2aced-4a60-4c50-aa40-1f7052506755",
   "metadata": {},
   "source": [
    "Read in each file in the raw IRS folder"
   ]
  },
  {
   "cell_type": "code",
   "execution_count": 2,
   "id": "8ef6cb62-e559-474c-8e40-27647345a557",
   "metadata": {
    "tags": []
   },
   "outputs": [],
   "source": [
    "irs_raw_folder_path = 'data/irs_data/raw' \n",
    "\n",
    "irs_raw_files = [file for file in os.listdir(irs_raw_folder_path ) if os.path.isfile(os.path.join(irs_raw_folder_path , file))]"
   ]
  },
  {
   "cell_type": "markdown",
   "id": "c5bd403d-161a-47a5-b7fc-3fb6461bc2ca",
   "metadata": {},
   "source": [
    "For each file, get a list of the file name and the dataframe, this will be useful for tracing any inconsistencies in the datasets so they can be evaluated and corrected either with python or, if a programatic approach isn't appropriate, in the csv"
   ]
  },
  {
   "cell_type": "code",
   "execution_count": 3,
   "id": "56a6048f-402d-489f-bccb-582fbf735015",
   "metadata": {},
   "outputs": [],
   "source": [
    "#Create an empty list to hold filenames and dataframes\n",
    "\n",
    "list_irs_files = []\n",
    "\n",
    "for i in irs_raw_files:\n",
    "    file = pd.read_csv(f'{irs_raw_folder_path}/{i}', encoding='latin-1') #the original; irs formatting requires this encoding, better to keep this in mind rather than reformatting each CSV file individually\n",
    "    \n",
    "    # Generate a name for each dataframe based on the filename without the file extension\n",
    "    name = f'{i}' \n",
    "    name = name[:-4]+'_f' \n",
    "    \n",
    "    # Assign the dataframe to the variable name\n",
    "    \n",
    "    # Append both to the empty list\n",
    "    list_irs_files.append((name, file))\n"
   ]
  },
  {
   "cell_type": "code",
   "execution_count": 4,
   "id": "c0aa0b0c-0e78-4353-bcbe-b47c81785355",
   "metadata": {
    "tags": []
   },
   "outputs": [
    {
     "name": "stdout",
     "output_type": "stream",
     "text": [
      "irs_count_2011_f has a shape of (3193, 74)\n",
      "irs_count_2012_f has a shape of (3193, 77)\n",
      "irs_count_2013_f has a shape of (3193, 115)\n",
      "irs_count_2014_f has a shape of (3192, 128)\n",
      "irs_count_2015_f has a shape of (3192, 132)\n",
      "irs_count_2016_f has a shape of (3192, 148)\n",
      "irs_count_2017_f has a shape of (3192, 154)\n",
      "irs_count_2018_f has a shape of (3192, 154)\n",
      "irs_count_2019_f has a shape of (3193, 153)\n",
      "irs_count_2020_f has a shape of (3193, 166)\n"
     ]
    }
   ],
   "source": [
    "# check the shape of our data, if the number of rows differ, we will need to investigate further\n",
    "for i in list_irs_files:\n",
    "    print(f\"{i[0]} has a shape of {i[1].shape}\")"
   ]
  },
  {
   "cell_type": "code",
   "execution_count": 5,
   "id": "50c60bb9-af59-491a-bf79-495abb95c662",
   "metadata": {},
   "outputs": [],
   "source": [
    "# differences in the number of columns is acceptable, but differences in the number of rows represents lost/gained counties, states, or some other geographic boundary"
   ]
  },
  {
   "cell_type": "code",
   "execution_count": 6,
   "id": "25fb7448-6ef8-4d61-abcf-34d4444201c7",
   "metadata": {
    "tags": []
   },
   "outputs": [],
   "source": [
    "# let's treat the most recent data as the baseline and see what differences there are in the States and Countynames, to locate aany missing or extra entries which will need addressing, esp. with regards for the differences in row counts\n",
    "\n",
    "# Extract unique pairs of 'STATE' and 'COUNTYNAME' from the first dataframe\n",
    "base_state_county_pairs = list_irs_files[0][1].groupby('STATE')['COUNTYNAME'].agg(list).to_dict()\n",
    "\n",
    "states = list(list_irs_files[0][1]['STATE'].unique())"
   ]
  },
  {
   "cell_type": "code",
   "execution_count": 7,
   "id": "b0939362-2d9c-4f0a-9a10-5efa9265aec4",
   "metadata": {
    "tags": []
   },
   "outputs": [
    {
     "name": "stdout",
     "output_type": "stream",
     "text": [
      "51\n"
     ]
    },
    {
     "data": {
      "text/plain": [
       "['AL',\n",
       " 'AK',\n",
       " 'AZ',\n",
       " 'AR',\n",
       " 'CA',\n",
       " 'CO',\n",
       " 'CT',\n",
       " 'DE',\n",
       " 'DC',\n",
       " 'FL',\n",
       " 'GA',\n",
       " 'HI',\n",
       " 'ID',\n",
       " 'IL',\n",
       " 'IN',\n",
       " 'IA',\n",
       " 'KS',\n",
       " 'KY',\n",
       " 'LA',\n",
       " 'ME',\n",
       " 'MD',\n",
       " 'MA',\n",
       " 'MI',\n",
       " 'MN',\n",
       " 'MS',\n",
       " 'MO',\n",
       " 'MT',\n",
       " 'NE',\n",
       " 'NV',\n",
       " 'NH',\n",
       " 'NJ',\n",
       " 'NM',\n",
       " 'NY',\n",
       " 'NC',\n",
       " 'ND',\n",
       " 'OH',\n",
       " 'OK',\n",
       " 'OR',\n",
       " 'PA',\n",
       " 'RI',\n",
       " 'SC',\n",
       " 'SD',\n",
       " 'TN',\n",
       " 'TX',\n",
       " 'UT',\n",
       " 'VT',\n",
       " 'VA',\n",
       " 'WA',\n",
       " 'WV',\n",
       " 'WI',\n",
       " 'WY']"
      ]
     },
     "execution_count": 7,
     "metadata": {},
     "output_type": "execute_result"
    }
   ],
   "source": [
    "print(len(states))\n",
    "states"
   ]
  },
  {
   "cell_type": "code",
   "execution_count": 8,
   "id": "bd14f275-4691-4fb9-b118-8d5930f47e3b",
   "metadata": {
    "tags": []
   },
   "outputs": [],
   "source": [
    "# This does produce a list of State abbr. plus 'DC' for the Dist. of Columbia"
   ]
  },
  {
   "cell_type": "code",
   "execution_count": 9,
   "id": "86769cd7-733f-4c25-bfb2-f56711c99d04",
   "metadata": {
    "tags": []
   },
   "outputs": [],
   "source": [
    "# First, let's see if any States have varying numbers of counties by creating lists of each county with a common state name and checking the length of those lists of counties"
   ]
  },
  {
   "cell_type": "code",
   "execution_count": 10,
   "id": "d5cfa8da-c9d8-4c2e-acbc-1026a4074a04",
   "metadata": {
    "tags": []
   },
   "outputs": [
    {
     "name": "stdout",
     "output_type": "stream",
     "text": [
      "There is a mismatch in irs_count_2014_f for the State VA\n",
      "['Virginia', 'Accomack County', 'Albemarle County', 'Alleghany County', 'Amelia County', 'Amherst County', 'Appomattox County', 'Arlington County', 'Augusta County', 'Bath County', 'Bedford County', 'Bland County', 'Botetourt County', 'Brunswick County', 'Buchanan County', 'Buckingham County', 'Campbell County', 'Caroline County', 'Carroll County', 'Charles City Count', 'Charlotte County', 'Chesterfield Count', 'Clarke County', 'Craig County', 'Culpeper County', 'Cumberland County', 'Dickenson County', 'Dinwiddie County', 'Essex County', 'Fairfax County', 'Fauquier County', 'Floyd County', 'Fluvanna County', 'Franklin County', 'Frederick County', 'Giles County', 'Gloucester County', 'Goochland County', 'Grayson County', 'Greene County', 'Greensville County', 'Halifax County', 'Hanover County', 'Henrico County', 'Henry County', 'Highland County', 'Isle of Wight Coun', 'James City County', 'King and Queen Cou', 'King George County', 'King William Count', 'Lancaster County', 'Lee County', 'Loudoun County', 'Louisa County', 'Lunenburg County', 'Madison County', 'Mathews County', 'Mecklenburg County', 'Middlesex County', 'Montgomery County', 'Nelson County', 'New Kent County', 'Northampton County', 'Northumberland Cou', 'Nottoway County', 'Orange County', 'Page County', 'Patrick County', 'Pittsylvania Count', 'Powhatan County', 'Prince Edward Coun', 'Prince George Coun', 'Prince William Cou', 'Pulaski County', 'Rappahannock Count', 'Richmond County', 'Roanoke County', 'Rockbridge County', 'Rockingham County', 'Russell County', 'Scott County', 'Shenandoah County', 'Smyth County', 'Southampton County', 'Spotsylvania Count', 'Stafford County', 'Surry County', 'Sussex County', 'Tazewell County', 'Warren County', 'Washington County', 'Westmoreland Count', 'Wise County', 'Wythe County', 'York County', 'Alexandria city', 'Bristol city', 'Buena Vista city', 'Charlottesville ci', 'Chesapeake city', 'Colonial Heights c', 'Covington city', 'Danville city', 'Emporia city', 'Fairfax city', 'Falls Church city', 'Franklin city', 'Fredericksburg cit', 'Galax city', 'Hampton city', 'Harrisonburg city', 'Hopewell city', 'Lexington city', 'Lynchburg city', 'Manassas city', 'Manassas Park city', 'Martinsville city', 'Newport News city', 'Norfolk city', 'Norton city', 'Petersburg city', 'Poquoson city', 'Portsmouth city', 'Radford city', 'Richmond city', 'Roanoke city', 'Salem city', 'Staunton city', 'Suffolk city', 'Virginia Beach cit', 'Waynesboro city', 'Williamsburg city', 'Winchester city']\n",
      "Charles City Count in irs_count_2014_f is not in base data\n",
      "Chesterfield Count in irs_count_2014_f is not in base data\n",
      "Isle of Wight Coun in irs_count_2014_f is not in base data\n",
      "King and Queen Cou in irs_count_2014_f is not in base data\n",
      "King William Count in irs_count_2014_f is not in base data\n",
      "Northumberland Cou in irs_count_2014_f is not in base data\n",
      "Pittsylvania Count in irs_count_2014_f is not in base data\n",
      "Prince Edward Coun in irs_count_2014_f is not in base data\n",
      "Prince George Coun in irs_count_2014_f is not in base data\n",
      "Prince William Cou in irs_count_2014_f is not in base data\n",
      "Rappahannock Count in irs_count_2014_f is not in base data\n",
      "Spotsylvania Count in irs_count_2014_f is not in base data\n",
      "Westmoreland Count in irs_count_2014_f is not in base data\n",
      "Charlottesville ci in irs_count_2014_f is not in base data\n",
      "Colonial Heights c in irs_count_2014_f is not in base data\n",
      "Fredericksburg cit in irs_count_2014_f is not in base data\n",
      "Virginia Beach cit in irs_count_2014_f is not in base data\n",
      "Charles City County is not in irs_count_2014_f\n",
      "Chesterfield County is not in irs_count_2014_f\n",
      "Isle of Wight County is not in irs_count_2014_f\n",
      "King and Queen County is not in irs_count_2014_f\n",
      "King William County is not in irs_count_2014_f\n",
      "Northumberland County is not in irs_count_2014_f\n",
      "Pittsylvania County is not in irs_count_2014_f\n",
      "Prince Edward County is not in irs_count_2014_f\n",
      "Prince George County is not in irs_count_2014_f\n",
      "Prince William County is not in irs_count_2014_f\n",
      "Rappahannock County is not in irs_count_2014_f\n",
      "Spotsylvania County is not in irs_count_2014_f\n",
      "Westmoreland County is not in irs_count_2014_f\n",
      "Bedford city is not in irs_count_2014_f\n",
      "Charlottesville city is not in irs_count_2014_f\n",
      "Colonial Heights city is not in irs_count_2014_f\n",
      "Fredericksburg city is not in irs_count_2014_f\n",
      "Virginia Beach city is not in irs_count_2014_f\n",
      "There is a mismatch in irs_count_2015_f for the State VA\n",
      "['Virginia', 'Accomack County', 'Albemarle County', 'Alleghany County', 'Amelia County', 'Amherst County', 'Appomattox County', 'Arlington County', 'Augusta County', 'Bath County', 'Bedford County', 'Bland County', 'Botetourt County', 'Brunswick County', 'Buchanan County', 'Buckingham County', 'Campbell County', 'Caroline County', 'Carroll County', 'Charles City County', 'Charlotte County', 'Chesterfield County', 'Clarke County', 'Craig County', 'Culpeper County', 'Cumberland County', 'Dickenson County', 'Dinwiddie County', 'Essex County', 'Fairfax County', 'Fauquier County', 'Floyd County', 'Fluvanna County', 'Franklin County', 'Frederick County', 'Giles County', 'Gloucester County', 'Goochland County', 'Grayson County', 'Greene County', 'Greensville County', 'Halifax County', 'Hanover County', 'Henrico County', 'Henry County', 'Highland County', 'Isle of Wight County', 'James City County', 'King and Queen Count', 'King George County', 'King William County', 'Lancaster County', 'Lee County', 'Loudoun County', 'Louisa County', 'Lunenburg County', 'Madison County', 'Mathews County', 'Mecklenburg County', 'Middlesex County', 'Montgomery County', 'Nelson County', 'New Kent County', 'Northampton County', 'Northumberland Count', 'Nottoway County', 'Orange County', 'Page County', 'Patrick County', 'Pittsylvania County', 'Powhatan County', 'Prince Edward County', 'Prince George County', 'Prince William Count', 'Pulaski County', 'Rappahannock County', 'Richmond County', 'Roanoke County', 'Rockbridge County', 'Rockingham County', 'Russell County', 'Scott County', 'Shenandoah County', 'Smyth County', 'Southampton County', 'Spotsylvania County', 'Stafford County', 'Surry County', 'Sussex County', 'Tazewell County', 'Warren County', 'Washington County', 'Westmoreland County', 'Wise County', 'Wythe County', 'York County', 'Alexandria city', 'Bristol city', 'Buena Vista city', 'Charlottesville city', 'Chesapeake city', 'Colonial Heights cit', 'Covington city', 'Danville city', 'Emporia city', 'Fairfax city', 'Falls Church city', 'Franklin city', 'Fredericksburg city', 'Galax city', 'Hampton city', 'Harrisonburg city', 'Hopewell city', 'Lexington city', 'Lynchburg city', 'Manassas city', 'Manassas Park city', 'Martinsville city', 'Newport News city', 'Norfolk city', 'Norton city', 'Petersburg city', 'Poquoson city', 'Portsmouth city', 'Radford city', 'Richmond city', 'Roanoke city', 'Salem city', 'Staunton city', 'Suffolk city', 'Virginia Beach city', 'Waynesboro city', 'Williamsburg city', 'Winchester city']\n",
      "King and Queen Count in irs_count_2015_f is not in base data\n",
      "Northumberland Count in irs_count_2015_f is not in base data\n",
      "Prince William Count in irs_count_2015_f is not in base data\n",
      "Colonial Heights cit in irs_count_2015_f is not in base data\n",
      "King and Queen County is not in irs_count_2015_f\n",
      "Northumberland County is not in irs_count_2015_f\n",
      "Prince William County is not in irs_count_2015_f\n",
      "Bedford city is not in irs_count_2015_f\n",
      "Colonial Heights city is not in irs_count_2015_f\n",
      "There is a mismatch in irs_count_2016_f for the State VA\n",
      "['Virginia', 'Accomack County', 'Albemarle County', 'Alleghany County', 'Amelia County', 'Amherst County', 'Appomattox County', 'Arlington County', 'Augusta County', 'Bath County', 'Bedford County', 'Bland County', 'Botetourt County', 'Brunswick County', 'Buchanan County', 'Buckingham County', 'Campbell County', 'Caroline County', 'Carroll County', 'Charles City County', 'Charlotte County', 'Chesterfield County', 'Clarke County', 'Craig County', 'Culpeper County', 'Cumberland County', 'Dickenson County', 'Dinwiddie County', 'Essex County', 'Fairfax County', 'Fauquier County', 'Floyd County', 'Fluvanna County', 'Franklin County', 'Frederick County', 'Giles County', 'Gloucester County', 'Goochland County', 'Grayson County', 'Greene County', 'Greensville County', 'Halifax County', 'Hanover County', 'Henrico County', 'Henry County', 'Highland County', 'Isle of Wight County', 'James City County', 'King and Queen Count', 'King George County', 'King William County', 'Lancaster County', 'Lee County', 'Loudoun County', 'Louisa County', 'Lunenburg County', 'Madison County', 'Mathews County', 'Mecklenburg County', 'Middlesex County', 'Montgomery County', 'Nelson County', 'New Kent County', 'Northampton County', 'Northumberland Count', 'Nottoway County', 'Orange County', 'Page County', 'Patrick County', 'Pittsylvania County', 'Powhatan County', 'Prince Edward County', 'Prince George County', 'Prince William Count', 'Pulaski County', 'Rappahannock County', 'Richmond County', 'Roanoke County', 'Rockbridge County', 'Rockingham County', 'Russell County', 'Scott County', 'Shenandoah County', 'Smyth County', 'Southampton County', 'Spotsylvania County', 'Stafford County', 'Surry County', 'Sussex County', 'Tazewell County', 'Warren County', 'Washington County', 'Westmoreland County', 'Wise County', 'Wythe County', 'York County', 'Alexandria city', 'Bristol city', 'Buena Vista city', 'Charlottesville city', 'Chesapeake city', 'Colonial Heights cit', 'Covington city', 'Danville city', 'Emporia city', 'Fairfax city', 'Falls Church city', 'Franklin city', 'Fredericksburg city', 'Galax city', 'Hampton city', 'Harrisonburg city', 'Hopewell city', 'Lexington city', 'Lynchburg city', 'Manassas city', 'Manassas Park city', 'Martinsville city', 'Newport News city', 'Norfolk city', 'Norton city', 'Petersburg city', 'Poquoson city', 'Portsmouth city', 'Radford city', 'Richmond city', 'Roanoke city', 'Salem city', 'Staunton city', 'Suffolk city', 'Virginia Beach city', 'Waynesboro city', 'Williamsburg city', 'Winchester city']\n",
      "King and Queen Count in irs_count_2016_f is not in base data\n",
      "Northumberland Count in irs_count_2016_f is not in base data\n",
      "Prince William Count in irs_count_2016_f is not in base data\n",
      "Colonial Heights cit in irs_count_2016_f is not in base data\n",
      "King and Queen County is not in irs_count_2016_f\n",
      "Northumberland County is not in irs_count_2016_f\n",
      "Prince William County is not in irs_count_2016_f\n",
      "Bedford city is not in irs_count_2016_f\n",
      "Colonial Heights city is not in irs_count_2016_f\n",
      "There is a mismatch in irs_count_2017_f for the State VA\n",
      "['Virginia', 'Accomack County', 'Albemarle County', 'Alleghany County', 'Amelia County', 'Amherst County', 'Appomattox County', 'Arlington County', 'Augusta County', 'Bath County', 'Bedford County', 'Bland County', 'Botetourt County', 'Brunswick County', 'Buchanan County', 'Buckingham County', 'Campbell County', 'Caroline County', 'Carroll County', 'Charles City County', 'Charlotte County', 'Chesterfield County', 'Clarke County', 'Craig County', 'Culpeper County', 'Cumberland County', 'Dickenson County', 'Dinwiddie County', 'Essex County', 'Fairfax County', 'Fauquier County', 'Floyd County', 'Fluvanna County', 'Franklin County', 'Frederick County', 'Giles County', 'Gloucester County', 'Goochland County', 'Grayson County', 'Greene County', 'Greensville County', 'Halifax County', 'Hanover County', 'Henrico County', 'Henry County', 'Highland County', 'Isle of Wight County', 'James City County', 'King and Queen Count', 'King George County', 'King William County', 'Lancaster County', 'Lee County', 'Loudoun County', 'Louisa County', 'Lunenburg County', 'Madison County', 'Mathews County', 'Mecklenburg County', 'Middlesex County', 'Montgomery County', 'Nelson County', 'New Kent County', 'Northampton County', 'Northumberland Count', 'Nottoway County', 'Orange County', 'Page County', 'Patrick County', 'Pittsylvania County', 'Powhatan County', 'Prince Edward County', 'Prince George County', 'Prince William Count', 'Pulaski County', 'Rappahannock County', 'Richmond County', 'Roanoke County', 'Rockbridge County', 'Rockingham County', 'Russell County', 'Scott County', 'Shenandoah County', 'Smyth County', 'Southampton County', 'Spotsylvania County', 'Stafford County', 'Surry County', 'Sussex County', 'Tazewell County', 'Warren County', 'Washington County', 'Westmoreland County', 'Wise County', 'Wythe County', 'York County', 'Alexandria city', 'Bristol city', 'Buena Vista city', 'Charlottesville city', 'Chesapeake city', 'Colonial Heights cit', 'Covington city', 'Danville city', 'Emporia city', 'Fairfax city', 'Falls Church city', 'Franklin city', 'Fredericksburg city', 'Galax city', 'Hampton city', 'Harrisonburg city', 'Hopewell city', 'Lexington city', 'Lynchburg city', 'Manassas city', 'Manassas Park city', 'Martinsville city', 'Newport News city', 'Norfolk city', 'Norton city', 'Petersburg city', 'Poquoson city', 'Portsmouth city', 'Radford city', 'Richmond city', 'Roanoke city', 'Salem city', 'Staunton city', 'Suffolk city', 'Virginia Beach city', 'Waynesboro city', 'Williamsburg city', 'Winchester city']\n",
      "King and Queen Count in irs_count_2017_f is not in base data\n",
      "Northumberland Count in irs_count_2017_f is not in base data\n",
      "Prince William Count in irs_count_2017_f is not in base data\n",
      "Colonial Heights cit in irs_count_2017_f is not in base data\n",
      "King and Queen County is not in irs_count_2017_f\n",
      "Northumberland County is not in irs_count_2017_f\n",
      "Prince William County is not in irs_count_2017_f\n",
      "Bedford city is not in irs_count_2017_f\n",
      "Colonial Heights city is not in irs_count_2017_f\n",
      "There is a mismatch in irs_count_2018_f for the State VA\n",
      "['Virginia', 'Accomack County', 'Albemarle County', 'Alleghany County', 'Amelia County', 'Amherst County', 'Appomattox County', 'Arlington County', 'Augusta County', 'Bath County', 'Bedford County', 'Bland County', 'Botetourt County', 'Brunswick County', 'Buchanan County', 'Buckingham County', 'Campbell County', 'Caroline County', 'Carroll County', 'Charles City County', 'Charlotte County', 'Chesterfield County', 'Clarke County', 'Craig County', 'Culpeper County', 'Cumberland County', 'Dickenson County', 'Dinwiddie County', 'Essex County', 'Fairfax County', 'Fauquier County', 'Floyd County', 'Fluvanna County', 'Franklin County', 'Frederick County', 'Giles County', 'Gloucester County', 'Goochland County', 'Grayson County', 'Greene County', 'Greensville County', 'Halifax County', 'Hanover County', 'Henrico County', 'Henry County', 'Highland County', 'Isle of Wight County', 'James City County', 'King and Queen Count', 'King George County', 'King William County', 'Lancaster County', 'Lee County', 'Loudoun County', 'Louisa County', 'Lunenburg County', 'Madison County', 'Mathews County', 'Mecklenburg County', 'Middlesex County', 'Montgomery County', 'Nelson County', 'New Kent County', 'Northampton County', 'Northumberland Count', 'Nottoway County', 'Orange County', 'Page County', 'Patrick County', 'Pittsylvania County', 'Powhatan County', 'Prince Edward County', 'Prince George County', 'Prince William Count', 'Pulaski County', 'Rappahannock County', 'Richmond County', 'Roanoke County', 'Rockbridge County', 'Rockingham County', 'Russell County', 'Scott County', 'Shenandoah County', 'Smyth County', 'Southampton County', 'Spotsylvania County', 'Stafford County', 'Surry County', 'Sussex County', 'Tazewell County', 'Warren County', 'Washington County', 'Westmoreland County', 'Wise County', 'Wythe County', 'York County', 'Alexandria city', 'Bristol city', 'Buena Vista city', 'Charlottesville city', 'Chesapeake city', 'Colonial Heights cit', 'Covington city', 'Danville city', 'Emporia city', 'Fairfax city', 'Falls Church city', 'Franklin city', 'Fredericksburg city', 'Galax city', 'Hampton city', 'Harrisonburg city', 'Hopewell city', 'Lexington city', 'Lynchburg city', 'Manassas city', 'Manassas Park city', 'Martinsville city', 'Newport News city', 'Norfolk city', 'Norton city', 'Petersburg city', 'Poquoson city', 'Portsmouth city', 'Radford city', 'Richmond city', 'Roanoke city', 'Salem city', 'Staunton city', 'Suffolk city', 'Virginia Beach city', 'Waynesboro city', 'Williamsburg city', 'Winchester city']\n",
      "King and Queen Count in irs_count_2018_f is not in base data\n",
      "Northumberland Count in irs_count_2018_f is not in base data\n",
      "Prince William Count in irs_count_2018_f is not in base data\n",
      "Colonial Heights cit in irs_count_2018_f is not in base data\n",
      "King and Queen County is not in irs_count_2018_f\n",
      "Northumberland County is not in irs_count_2018_f\n",
      "Prince William County is not in irs_count_2018_f\n",
      "Bedford city is not in irs_count_2018_f\n",
      "Colonial Heights city is not in irs_count_2018_f\n",
      "There is a mismatch in irs_count_2019_f for the State AK\n",
      "['Alaska', 'Aleutians East Borou', 'Aleutians West Censu', 'Anchorage Municipali', 'Bethel Census Area', 'Bristol Bay Borough', 'Chugach Census Area', 'Copper River Census Area', 'Denali Borough', 'Dillingham Census Ar', 'Fairbanks North Star', 'Haines Borough', 'Hoonah-Angoon Census', 'Juneau City and Boro', 'Kenai Peninsula Boro', 'Ketchikan Gateway Bo', 'Kodiak Island Boroug', 'Kusilvak Census Area', 'Lake and Peninsula B', 'Matanuska-Susitna Bo', 'Nome Census Area', 'North Slope Borough', 'Northwest Arctic Bor', 'Petersburg Census Ar', 'Prince of Wales-Hyde', 'Sitka City and Borou', 'Skagway Municipality', 'Southeast Fairbanks', 'Wrangell City and Bo', 'Yakutat City and Bor', 'Yukon-Koyukuk Census']\n",
      "Aleutians East Borou in irs_count_2019_f is not in base data\n",
      "Aleutians West Censu in irs_count_2019_f is not in base data\n",
      "Anchorage Municipali in irs_count_2019_f is not in base data\n",
      "Chugach Census Area in irs_count_2019_f is not in base data\n",
      "Copper River Census Area in irs_count_2019_f is not in base data\n",
      "Dillingham Census Ar in irs_count_2019_f is not in base data\n",
      "Fairbanks North Star in irs_count_2019_f is not in base data\n",
      "Hoonah-Angoon Census in irs_count_2019_f is not in base data\n",
      "Juneau City and Boro in irs_count_2019_f is not in base data\n",
      "Kenai Peninsula Boro in irs_count_2019_f is not in base data\n",
      "Ketchikan Gateway Bo in irs_count_2019_f is not in base data\n",
      "Kodiak Island Boroug in irs_count_2019_f is not in base data\n",
      "Kusilvak Census Area in irs_count_2019_f is not in base data\n",
      "Lake and Peninsula B in irs_count_2019_f is not in base data\n",
      "Matanuska-Susitna Bo in irs_count_2019_f is not in base data\n",
      "Northwest Arctic Bor in irs_count_2019_f is not in base data\n",
      "Petersburg Census Ar in irs_count_2019_f is not in base data\n",
      "Prince of Wales-Hyde in irs_count_2019_f is not in base data\n",
      "Sitka City and Borou in irs_count_2019_f is not in base data\n",
      "Southeast Fairbanks in irs_count_2019_f is not in base data\n",
      "Wrangell City and Bo in irs_count_2019_f is not in base data\n",
      "Yakutat City and Bor in irs_count_2019_f is not in base data\n",
      "Yukon-Koyukuk Census in irs_count_2019_f is not in base data\n",
      "Aleutians East Borough is not in irs_count_2019_f\n",
      "Aleutians West Census Area is not in irs_count_2019_f\n",
      "Anchorage Municipality is not in irs_count_2019_f\n",
      "Dillingham Census Area is not in irs_count_2019_f\n",
      "Fairbanks North Star Borough is not in irs_count_2019_f\n",
      "Hoonah-Angoon Census Area is not in irs_count_2019_f\n",
      "Juneau City and Borough is not in irs_count_2019_f\n",
      "Kenai Peninsula Borough is not in irs_count_2019_f\n",
      "Ketchikan Gateway Borough is not in irs_count_2019_f\n",
      "Kodiak Island Borough is not in irs_count_2019_f\n",
      "Lake and Peninsula Borough is not in irs_count_2019_f\n",
      "Matanuska-Susitna Borough is not in irs_count_2019_f\n",
      "Northwest Arctic Borough is not in irs_count_2019_f\n",
      "Petersburg Census Area is not in irs_count_2019_f\n",
      "Prince of Wales-Hyder Census Area is not in irs_count_2019_f\n",
      "Sitka City and Borough is not in irs_count_2019_f\n",
      "Southeast Fairbanks Census Area is not in irs_count_2019_f\n",
      "Valdez-Cordova Census Area is not in irs_count_2019_f\n",
      "Wade Hampton Census Area is not in irs_count_2019_f\n",
      "Wrangell City and Borough is not in irs_count_2019_f\n",
      "Yakutat City and Borough is not in irs_count_2019_f\n",
      "Yukon-Koyukuk Census Area is not in irs_count_2019_f\n",
      "There is a mismatch in irs_count_2019_f for the State VA\n",
      "['Virginia', 'Accomack County', 'Albemarle County', 'Alleghany County', 'Amelia County', 'Amherst County', 'Appomattox County', 'Arlington County', 'Augusta County', 'Bath County', 'Bedford County', 'Bland County', 'Botetourt County', 'Brunswick County', 'Buchanan County', 'Buckingham County', 'Campbell County', 'Caroline County', 'Carroll County', 'Charles City County', 'Charlotte County', 'Chesterfield County', 'Clarke County', 'Craig County', 'Culpeper County', 'Cumberland County', 'Dickenson County', 'Dinwiddie County', 'Essex County', 'Fairfax County', 'Fauquier County', 'Floyd County', 'Fluvanna County', 'Franklin County', 'Frederick County', 'Giles County', 'Gloucester County', 'Goochland County', 'Grayson County', 'Greene County', 'Greensville County', 'Halifax County', 'Hanover County', 'Henrico County', 'Henry County', 'Highland County', 'Isle of Wight County', 'James City County', 'King and Queen Count', 'King George County', 'King William County', 'Lancaster County', 'Lee County', 'Loudoun County', 'Louisa County', 'Lunenburg County', 'Madison County', 'Mathews County', 'Mecklenburg County', 'Middlesex County', 'Montgomery County', 'Nelson County', 'New Kent County', 'Northampton County', 'Northumberland Count', 'Nottoway County', 'Orange County', 'Page County', 'Patrick County', 'Pittsylvania County', 'Powhatan County', 'Prince Edward County', 'Prince George County', 'Prince William Count', 'Pulaski County', 'Rappahannock County', 'Richmond County', 'Roanoke County', 'Rockbridge County', 'Rockingham County', 'Russell County', 'Scott County', 'Shenandoah County', 'Smyth County', 'Southampton County', 'Spotsylvania County', 'Stafford County', 'Surry County', 'Sussex County', 'Tazewell County', 'Warren County', 'Washington County', 'Westmoreland County', 'Wise County', 'Wythe County', 'York County', 'Alexandria city', 'Bristol city', 'Buena Vista city', 'Charlottesville city', 'Chesapeake city', 'Colonial Heights cit', 'Covington city', 'Danville city', 'Emporia city', 'Fairfax city', 'Falls Church city', 'Franklin city', 'Fredericksburg city', 'Galax city', 'Hampton city', 'Harrisonburg city', 'Hopewell city', 'Lexington city', 'Lynchburg city', 'Manassas city', 'Manassas Park city', 'Martinsville city', 'Newport News city', 'Norfolk city', 'Norton city', 'Petersburg city', 'Poquoson city', 'Portsmouth city', 'Radford city', 'Richmond city', 'Roanoke city', 'Salem city', 'Staunton city', 'Suffolk city', 'Virginia Beach city', 'Waynesboro city', 'Williamsburg city', 'Winchester city']\n",
      "King and Queen Count in irs_count_2019_f is not in base data\n",
      "Northumberland Count in irs_count_2019_f is not in base data\n",
      "Prince William Count in irs_count_2019_f is not in base data\n",
      "Colonial Heights cit in irs_count_2019_f is not in base data\n",
      "King and Queen County is not in irs_count_2019_f\n",
      "Northumberland County is not in irs_count_2019_f\n",
      "Prince William County is not in irs_count_2019_f\n",
      "Bedford city is not in irs_count_2019_f\n",
      "Colonial Heights city is not in irs_count_2019_f\n",
      "There is a mismatch in irs_count_2020_f for the State AK\n",
      "['Alaska', 'Aleutians East Borou', 'Aleutians West Censu', 'Anchorage Municipali', 'Bethel Census Area', 'Bristol Bay Borough', 'Chugach Census Area', 'Copper River Census', 'Denali Borough', 'Dillingham Census Ar', 'Fairbanks North Star', 'Haines Borough', 'Hoonah-Angoon Census', 'Juneau City and Boro', 'Kenai Peninsula Boro', 'Ketchikan Gateway Bo', 'Kodiak Island Boroug', 'Kusilvak Census Area', 'Lake and Peninsula B', 'Matanuska-Susitna Bo', 'Nome Census Area', 'North Slope Borough', 'Northwest Arctic Bor', 'Petersburg Borough', 'Prince of Wales-Hyde', 'Sitka City and Borou', 'Skagway Municipality', 'Southeast Fairbanks', 'Wrangell City and Bo', 'Yakutat City and Bor', 'Yukon-Koyukuk Census']\n",
      "Aleutians East Borou in irs_count_2020_f is not in base data\n",
      "Aleutians West Censu in irs_count_2020_f is not in base data\n",
      "Anchorage Municipali in irs_count_2020_f is not in base data\n",
      "Chugach Census Area in irs_count_2020_f is not in base data\n",
      "Copper River Census in irs_count_2020_f is not in base data\n",
      "Dillingham Census Ar in irs_count_2020_f is not in base data\n",
      "Fairbanks North Star in irs_count_2020_f is not in base data\n",
      "Hoonah-Angoon Census in irs_count_2020_f is not in base data\n",
      "Juneau City and Boro in irs_count_2020_f is not in base data\n",
      "Kenai Peninsula Boro in irs_count_2020_f is not in base data\n",
      "Ketchikan Gateway Bo in irs_count_2020_f is not in base data\n",
      "Kodiak Island Boroug in irs_count_2020_f is not in base data\n",
      "Kusilvak Census Area in irs_count_2020_f is not in base data\n",
      "Lake and Peninsula B in irs_count_2020_f is not in base data\n",
      "Matanuska-Susitna Bo in irs_count_2020_f is not in base data\n",
      "Northwest Arctic Bor in irs_count_2020_f is not in base data\n",
      "Petersburg Borough in irs_count_2020_f is not in base data\n",
      "Prince of Wales-Hyde in irs_count_2020_f is not in base data\n",
      "Sitka City and Borou in irs_count_2020_f is not in base data\n",
      "Southeast Fairbanks in irs_count_2020_f is not in base data\n",
      "Wrangell City and Bo in irs_count_2020_f is not in base data\n",
      "Yakutat City and Bor in irs_count_2020_f is not in base data\n",
      "Yukon-Koyukuk Census in irs_count_2020_f is not in base data\n",
      "Aleutians East Borough is not in irs_count_2020_f\n",
      "Aleutians West Census Area is not in irs_count_2020_f\n",
      "Anchorage Municipality is not in irs_count_2020_f\n",
      "Dillingham Census Area is not in irs_count_2020_f\n",
      "Fairbanks North Star Borough is not in irs_count_2020_f\n",
      "Hoonah-Angoon Census Area is not in irs_count_2020_f\n",
      "Juneau City and Borough is not in irs_count_2020_f\n",
      "Kenai Peninsula Borough is not in irs_count_2020_f\n",
      "Ketchikan Gateway Borough is not in irs_count_2020_f\n",
      "Kodiak Island Borough is not in irs_count_2020_f\n",
      "Lake and Peninsula Borough is not in irs_count_2020_f\n",
      "Matanuska-Susitna Borough is not in irs_count_2020_f\n",
      "Northwest Arctic Borough is not in irs_count_2020_f\n",
      "Petersburg Census Area is not in irs_count_2020_f\n",
      "Prince of Wales-Hyder Census Area is not in irs_count_2020_f\n",
      "Sitka City and Borough is not in irs_count_2020_f\n",
      "Southeast Fairbanks Census Area is not in irs_count_2020_f\n",
      "Valdez-Cordova Census Area is not in irs_count_2020_f\n",
      "Wade Hampton Census Area is not in irs_count_2020_f\n",
      "Wrangell City and Borough is not in irs_count_2020_f\n",
      "Yakutat City and Borough is not in irs_count_2020_f\n",
      "Yukon-Koyukuk Census Area is not in irs_count_2020_f\n",
      "There is a mismatch in irs_count_2020_f for the State VA\n",
      "['Virginia', 'Accomack County', 'Albemarle County', 'Alleghany County', 'Amelia County', 'Amherst County', 'Appomattox County', 'Arlington County', 'Augusta County', 'Bath County', 'Bedford County', 'Bland County', 'Botetourt County', 'Brunswick County', 'Buchanan County', 'Buckingham County', 'Campbell County', 'Caroline County', 'Carroll County', 'Charles City County', 'Charlotte County', 'Chesterfield County', 'Clarke County', 'Craig County', 'Culpeper County', 'Cumberland County', 'Dickenson County', 'Dinwiddie County', 'Essex County', 'Fairfax County', 'Fauquier County', 'Floyd County', 'Fluvanna County', 'Franklin County', 'Frederick County', 'Giles County', 'Gloucester County', 'Goochland County', 'Grayson County', 'Greene County', 'Greensville County', 'Halifax County', 'Hanover County', 'Henrico County', 'Henry County', 'Highland County', 'Isle of Wight County', 'James City County', 'King and Queen Count', 'King George County', 'King William County', 'Lancaster County', 'Lee County', 'Loudoun County', 'Louisa County', 'Lunenburg County', 'Madison County', 'Mathews County', 'Mecklenburg County', 'Middlesex County', 'Montgomery County', 'Nelson County', 'New Kent County', 'Northampton County', 'Northumberland Count', 'Nottoway County', 'Orange County', 'Page County', 'Patrick County', 'Pittsylvania County', 'Powhatan County', 'Prince Edward County', 'Prince George County', 'Prince William Count', 'Pulaski County', 'Rappahannock County', 'Richmond County', 'Roanoke County', 'Rockbridge County', 'Rockingham County', 'Russell County', 'Scott County', 'Shenandoah County', 'Smyth County', 'Southampton County', 'Spotsylvania County', 'Stafford County', 'Surry County', 'Sussex County', 'Tazewell County', 'Warren County', 'Washington County', 'Westmoreland County', 'Wise County', 'Wythe County', 'York County', 'Alexandria city', 'Bristol city', 'Buena Vista city', 'Charlottesville city', 'Chesapeake city', 'Colonial Heights cit', 'Covington city', 'Danville city', 'Emporia city', 'Fairfax city', 'Falls Church city', 'Franklin city', 'Fredericksburg city', 'Galax city', 'Hampton city', 'Harrisonburg city', 'Hopewell city', 'Lexington city', 'Lynchburg city', 'Manassas city', 'Manassas Park city', 'Martinsville city', 'Newport News city', 'Norfolk city', 'Norton city', 'Petersburg city', 'Poquoson city', 'Portsmouth city', 'Radford city', 'Richmond city', 'Roanoke city', 'Salem city', 'Staunton city', 'Suffolk city', 'Virginia Beach city', 'Waynesboro city', 'Williamsburg city', 'Winchester city']\n",
      "King and Queen Count in irs_count_2020_f is not in base data\n",
      "Northumberland Count in irs_count_2020_f is not in base data\n",
      "Prince William Count in irs_count_2020_f is not in base data\n",
      "Colonial Heights cit in irs_count_2020_f is not in base data\n",
      "King and Queen County is not in irs_count_2020_f\n",
      "Northumberland County is not in irs_count_2020_f\n",
      "Prince William County is not in irs_count_2020_f\n",
      "Bedford city is not in irs_count_2020_f\n",
      "Colonial Heights city is not in irs_count_2020_f\n"
     ]
    }
   ],
   "source": [
    "# Iterate through the rest of the dataframes and compare with the expected pairs\n",
    "for i, (name, df) in enumerate(list_irs_files[1:], start=2):\n",
    "    # Extract unique pairs from the current dataframe\n",
    "    current_state_counties = df.groupby('STATE')['COUNTYNAME'].agg(list).to_dict()\n",
    "    \n",
    "    for state in states:\n",
    "        if len(current_state_counties[state]) != len(base_state_county_pairs[state]):\n",
    "            print(f\"There is a mismatch in {name} for the State {state}\")\n",
    "            print(f\"{current_state_counties[state]}\")\n",
    "            for county in current_state_counties[state]:\n",
    "                if county not in base_state_county_pairs[state]:\n",
    "                    print(f\"{county} in {name} is not in base data\")\n",
    "            for county_base in base_state_county_pairs[state]:\n",
    "                if county_base not in current_state_counties[state]:\n",
    "                    print(f\"{county_base} is not in {name}\")\n"
   ]
  },
  {
   "cell_type": "code",
   "execution_count": 11,
   "id": "59a87bab-ea4d-4a81-9ef4-c05dd79b97a7",
   "metadata": {},
   "outputs": [],
   "source": [
    "# Hey! This shows that for the data for 2014-2018, Virginia is missing a row (as shown when we checked the shape above), and for 2019 and 2020 Virgina is (likely) missing a row, but Alaska has an extra one (bringing the shapes in line), "
   ]
  },
  {
   "cell_type": "code",
   "execution_count": 12,
   "id": "7680bb08-7900-4e4a-8be9-bc48ca296968",
   "metadata": {
    "tags": []
   },
   "outputs": [
    {
     "name": "stdout",
     "output_type": "stream",
     "text": [
      "There is a mismatch in irs_count_2014_f for the State VA\n",
      "Charles City Count in irs_count_2014_f is not in base data\n",
      "Chesterfield Count in irs_count_2014_f is not in base data\n",
      "Isle of Wight Coun in irs_count_2014_f is not in base data\n",
      "King and Queen Cou in irs_count_2014_f is not in base data\n",
      "King William Count in irs_count_2014_f is not in base data\n",
      "Northumberland Cou in irs_count_2014_f is not in base data\n",
      "Pittsylvania Count in irs_count_2014_f is not in base data\n",
      "Prince Edward Coun in irs_count_2014_f is not in base data\n",
      "Prince George Coun in irs_count_2014_f is not in base data\n",
      "Prince William Cou in irs_count_2014_f is not in base data\n",
      "Rappahannock Count in irs_count_2014_f is not in base data\n",
      "Spotsylvania Count in irs_count_2014_f is not in base data\n",
      "Westmoreland Count in irs_count_2014_f is not in base data\n",
      "Charlottesville ci in irs_count_2014_f is not in base data\n",
      "Colonial Heights c in irs_count_2014_f is not in base data\n",
      "Fredericksburg cit in irs_count_2014_f is not in base data\n",
      "Virginia Beach cit in irs_count_2014_f is not in base data\n",
      "Charles City County is not in irs_count_2014_f\n",
      "Chesterfield County is not in irs_count_2014_f\n",
      "Isle of Wight County is not in irs_count_2014_f\n",
      "King and Queen County is not in irs_count_2014_f\n",
      "King William County is not in irs_count_2014_f\n",
      "Northumberland County is not in irs_count_2014_f\n",
      "Pittsylvania County is not in irs_count_2014_f\n",
      "Prince Edward County is not in irs_count_2014_f\n",
      "Prince George County is not in irs_count_2014_f\n",
      "Prince William County is not in irs_count_2014_f\n",
      "Rappahannock County is not in irs_count_2014_f\n",
      "Spotsylvania County is not in irs_count_2014_f\n",
      "Westmoreland County is not in irs_count_2014_f\n",
      "Bedford city is not in irs_count_2014_f\n",
      "Charlottesville city is not in irs_count_2014_f\n",
      "Colonial Heights city is not in irs_count_2014_f\n",
      "Fredericksburg city is not in irs_count_2014_f\n",
      "Virginia Beach city is not in irs_count_2014_f\n",
      "There is a mismatch in irs_count_2015_f for the State VA\n",
      "King and Queen Count in irs_count_2015_f is not in base data\n",
      "Northumberland Count in irs_count_2015_f is not in base data\n",
      "Prince William Count in irs_count_2015_f is not in base data\n",
      "Colonial Heights cit in irs_count_2015_f is not in base data\n",
      "King and Queen County is not in irs_count_2015_f\n",
      "Northumberland County is not in irs_count_2015_f\n",
      "Prince William County is not in irs_count_2015_f\n",
      "Bedford city is not in irs_count_2015_f\n",
      "Colonial Heights city is not in irs_count_2015_f\n",
      "There is a mismatch in irs_count_2016_f for the State VA\n",
      "King and Queen Count in irs_count_2016_f is not in base data\n",
      "Northumberland Count in irs_count_2016_f is not in base data\n",
      "Prince William Count in irs_count_2016_f is not in base data\n",
      "Colonial Heights cit in irs_count_2016_f is not in base data\n",
      "King and Queen County is not in irs_count_2016_f\n",
      "Northumberland County is not in irs_count_2016_f\n",
      "Prince William County is not in irs_count_2016_f\n",
      "Bedford city is not in irs_count_2016_f\n",
      "Colonial Heights city is not in irs_count_2016_f\n",
      "There is a mismatch in irs_count_2017_f for the State VA\n",
      "King and Queen Count in irs_count_2017_f is not in base data\n",
      "Northumberland Count in irs_count_2017_f is not in base data\n",
      "Prince William Count in irs_count_2017_f is not in base data\n",
      "Colonial Heights cit in irs_count_2017_f is not in base data\n",
      "King and Queen County is not in irs_count_2017_f\n",
      "Northumberland County is not in irs_count_2017_f\n",
      "Prince William County is not in irs_count_2017_f\n",
      "Bedford city is not in irs_count_2017_f\n",
      "Colonial Heights city is not in irs_count_2017_f\n",
      "There is a mismatch in irs_count_2018_f for the State VA\n",
      "King and Queen Count in irs_count_2018_f is not in base data\n",
      "Northumberland Count in irs_count_2018_f is not in base data\n",
      "Prince William Count in irs_count_2018_f is not in base data\n",
      "Colonial Heights cit in irs_count_2018_f is not in base data\n",
      "King and Queen County is not in irs_count_2018_f\n",
      "Northumberland County is not in irs_count_2018_f\n",
      "Prince William County is not in irs_count_2018_f\n",
      "Bedford city is not in irs_count_2018_f\n",
      "Colonial Heights city is not in irs_count_2018_f\n",
      "There is a mismatch in irs_count_2019_f for the State AK\n",
      "Aleutians East Borou in irs_count_2019_f is not in base data\n",
      "Aleutians West Censu in irs_count_2019_f is not in base data\n",
      "Anchorage Municipali in irs_count_2019_f is not in base data\n",
      "Chugach Census Area in irs_count_2019_f is not in base data\n",
      "Copper River Census Area in irs_count_2019_f is not in base data\n",
      "Dillingham Census Ar in irs_count_2019_f is not in base data\n",
      "Fairbanks North Star in irs_count_2019_f is not in base data\n",
      "Hoonah-Angoon Census in irs_count_2019_f is not in base data\n",
      "Juneau City and Boro in irs_count_2019_f is not in base data\n",
      "Kenai Peninsula Boro in irs_count_2019_f is not in base data\n",
      "Ketchikan Gateway Bo in irs_count_2019_f is not in base data\n",
      "Kodiak Island Boroug in irs_count_2019_f is not in base data\n",
      "Kusilvak Census Area in irs_count_2019_f is not in base data\n",
      "Lake and Peninsula B in irs_count_2019_f is not in base data\n",
      "Matanuska-Susitna Bo in irs_count_2019_f is not in base data\n",
      "Northwest Arctic Bor in irs_count_2019_f is not in base data\n",
      "Petersburg Census Ar in irs_count_2019_f is not in base data\n",
      "Prince of Wales-Hyde in irs_count_2019_f is not in base data\n",
      "Sitka City and Borou in irs_count_2019_f is not in base data\n",
      "Southeast Fairbanks in irs_count_2019_f is not in base data\n",
      "Wrangell City and Bo in irs_count_2019_f is not in base data\n",
      "Yakutat City and Bor in irs_count_2019_f is not in base data\n",
      "Yukon-Koyukuk Census in irs_count_2019_f is not in base data\n",
      "Aleutians East Borough is not in irs_count_2019_f\n",
      "Aleutians West Census Area is not in irs_count_2019_f\n",
      "Anchorage Municipality is not in irs_count_2019_f\n",
      "Dillingham Census Area is not in irs_count_2019_f\n",
      "Fairbanks North Star Borough is not in irs_count_2019_f\n",
      "Hoonah-Angoon Census Area is not in irs_count_2019_f\n",
      "Juneau City and Borough is not in irs_count_2019_f\n",
      "Kenai Peninsula Borough is not in irs_count_2019_f\n",
      "Ketchikan Gateway Borough is not in irs_count_2019_f\n",
      "Kodiak Island Borough is not in irs_count_2019_f\n",
      "Lake and Peninsula Borough is not in irs_count_2019_f\n",
      "Matanuska-Susitna Borough is not in irs_count_2019_f\n",
      "Northwest Arctic Borough is not in irs_count_2019_f\n",
      "Petersburg Census Area is not in irs_count_2019_f\n",
      "Prince of Wales-Hyder Census Area is not in irs_count_2019_f\n",
      "Sitka City and Borough is not in irs_count_2019_f\n",
      "Southeast Fairbanks Census Area is not in irs_count_2019_f\n",
      "Valdez-Cordova Census Area is not in irs_count_2019_f\n",
      "Wade Hampton Census Area is not in irs_count_2019_f\n",
      "Wrangell City and Borough is not in irs_count_2019_f\n",
      "Yakutat City and Borough is not in irs_count_2019_f\n",
      "Yukon-Koyukuk Census Area is not in irs_count_2019_f\n",
      "There is a mismatch in irs_count_2019_f for the State VA\n",
      "King and Queen Count in irs_count_2019_f is not in base data\n",
      "Northumberland Count in irs_count_2019_f is not in base data\n",
      "Prince William Count in irs_count_2019_f is not in base data\n",
      "Colonial Heights cit in irs_count_2019_f is not in base data\n",
      "King and Queen County is not in irs_count_2019_f\n",
      "Northumberland County is not in irs_count_2019_f\n",
      "Prince William County is not in irs_count_2019_f\n",
      "Bedford city is not in irs_count_2019_f\n",
      "Colonial Heights city is not in irs_count_2019_f\n",
      "There is a mismatch in irs_count_2020_f for the State AK\n",
      "Aleutians East Borou in irs_count_2020_f is not in base data\n",
      "Aleutians West Censu in irs_count_2020_f is not in base data\n",
      "Anchorage Municipali in irs_count_2020_f is not in base data\n",
      "Chugach Census Area in irs_count_2020_f is not in base data\n",
      "Copper River Census in irs_count_2020_f is not in base data\n",
      "Dillingham Census Ar in irs_count_2020_f is not in base data\n",
      "Fairbanks North Star in irs_count_2020_f is not in base data\n",
      "Hoonah-Angoon Census in irs_count_2020_f is not in base data\n",
      "Juneau City and Boro in irs_count_2020_f is not in base data\n",
      "Kenai Peninsula Boro in irs_count_2020_f is not in base data\n",
      "Ketchikan Gateway Bo in irs_count_2020_f is not in base data\n",
      "Kodiak Island Boroug in irs_count_2020_f is not in base data\n",
      "Kusilvak Census Area in irs_count_2020_f is not in base data\n",
      "Lake and Peninsula B in irs_count_2020_f is not in base data\n",
      "Matanuska-Susitna Bo in irs_count_2020_f is not in base data\n",
      "Northwest Arctic Bor in irs_count_2020_f is not in base data\n",
      "Petersburg Borough in irs_count_2020_f is not in base data\n",
      "Prince of Wales-Hyde in irs_count_2020_f is not in base data\n",
      "Sitka City and Borou in irs_count_2020_f is not in base data\n",
      "Southeast Fairbanks in irs_count_2020_f is not in base data\n",
      "Wrangell City and Bo in irs_count_2020_f is not in base data\n",
      "Yakutat City and Bor in irs_count_2020_f is not in base data\n",
      "Yukon-Koyukuk Census in irs_count_2020_f is not in base data\n",
      "Aleutians East Borough is not in irs_count_2020_f\n",
      "Aleutians West Census Area is not in irs_count_2020_f\n",
      "Anchorage Municipality is not in irs_count_2020_f\n",
      "Dillingham Census Area is not in irs_count_2020_f\n",
      "Fairbanks North Star Borough is not in irs_count_2020_f\n",
      "Hoonah-Angoon Census Area is not in irs_count_2020_f\n",
      "Juneau City and Borough is not in irs_count_2020_f\n",
      "Kenai Peninsula Borough is not in irs_count_2020_f\n",
      "Ketchikan Gateway Borough is not in irs_count_2020_f\n",
      "Kodiak Island Borough is not in irs_count_2020_f\n",
      "Lake and Peninsula Borough is not in irs_count_2020_f\n",
      "Matanuska-Susitna Borough is not in irs_count_2020_f\n",
      "Northwest Arctic Borough is not in irs_count_2020_f\n",
      "Petersburg Census Area is not in irs_count_2020_f\n",
      "Prince of Wales-Hyder Census Area is not in irs_count_2020_f\n",
      "Sitka City and Borough is not in irs_count_2020_f\n",
      "Southeast Fairbanks Census Area is not in irs_count_2020_f\n",
      "Valdez-Cordova Census Area is not in irs_count_2020_f\n",
      "Wade Hampton Census Area is not in irs_count_2020_f\n",
      "Wrangell City and Borough is not in irs_count_2020_f\n",
      "Yakutat City and Borough is not in irs_count_2020_f\n",
      "Yukon-Koyukuk Census Area is not in irs_count_2020_f\n",
      "There is a mismatch in irs_count_2020_f for the State VA\n",
      "King and Queen Count in irs_count_2020_f is not in base data\n",
      "Northumberland Count in irs_count_2020_f is not in base data\n",
      "Prince William Count in irs_count_2020_f is not in base data\n",
      "Colonial Heights cit in irs_count_2020_f is not in base data\n",
      "King and Queen County is not in irs_count_2020_f\n",
      "Northumberland County is not in irs_count_2020_f\n",
      "Prince William County is not in irs_count_2020_f\n",
      "Bedford city is not in irs_count_2020_f\n",
      "Colonial Heights city is not in irs_count_2020_f\n"
     ]
    }
   ],
   "source": [
    "# Let's see if we can locate these differences, before expanding our search:\n",
    "\n",
    "# We will alter the codeblock above to also print out the list of missing (or extra) counties in States where the number of counties differs from the group\n",
    "for i, (name, df) in enumerate(list_irs_files[1:], start=2):\n",
    "    # Extract unique pairs from the current dataframe\n",
    "    current_state_counties = df.groupby('STATE')['COUNTYNAME'].agg(list).to_dict()\n",
    "    \n",
    "    for state in states:\n",
    "        if len(current_state_counties[state]) != len(base_state_county_pairs[state]):\n",
    "            print(f\"There is a mismatch in {name} for the State {state}\")\n",
    "            for county in current_state_counties[state]:\n",
    "                if county not in base_state_county_pairs[state]:\n",
    "                    print(f\"{county} in {name} is not in base data\")\n",
    "            for county_base in base_state_county_pairs[state]:\n",
    "                if county_base not in current_state_counties[state]:\n",
    "                    print(f\"{county_base} is not in {name}\")"
   ]
  },
  {
   "cell_type": "code",
   "execution_count": 13,
   "id": "a2a72752-f41f-46f2-93d8-aa8df813623e",
   "metadata": {
    "tags": []
   },
   "outputs": [],
   "source": [
    "# That makes a lot of noise..\n",
    "# A quick look at the data here suggests that for some years there is a character limit for County Names and that is contributing to our mismatches  "
   ]
  },
  {
   "cell_type": "code",
   "execution_count": 14,
   "id": "973baee9-404e-4f94-9625-09098045be21",
   "metadata": {
    "tags": []
   },
   "outputs": [],
   "source": [
    "# Well! This raises a number of issues with this data and is a LOT more than we were hoping for\n",
    "# While the data from 2011, 2012, and 2013 all seems to agree, we find mismatched county names across the other data"
   ]
  },
  {
   "cell_type": "code",
   "execution_count": 15,
   "id": "8c5bf982-00af-47ae-a4c3-3677141b1e5e",
   "metadata": {
    "tags": []
   },
   "outputs": [],
   "source": [
    "# Goals for this initial attempt to homogenize the County Names data:L\n",
    "## ensure common typographic formatting (reduce all strings to lower case)\n",
    "## remove non-distinct category names from teh strings ('County' and it's varients, city, Borough, etc.)\n",
    "### This will have the added effect of (hopefully) reducing the mismatches when the length of strings has been trimmed in the original data\n",
    "## At the same time, we should consider elliminating the statewide data, as many states have counties named for the State, which when we trim 'County' from them could produce errors\n",
    "### (or another State, there are 31 Washington counties, which highlights another issue: Data must be grouped by County AND State to avoid contamination)\n",
    "\n",
    "# See https://en.wikipedia.org/wiki/List_of_United_States_counties_and_county_equivalents for additional details\n"
   ]
  },
  {
   "cell_type": "code",
   "execution_count": 16,
   "id": "b93181c3-d644-4cb1-ad9b-c681778681e8",
   "metadata": {
    "tags": []
   },
   "outputs": [],
   "source": [
    "\n",
    "#Let's re-do the original function reading in the IRS data, including code to remove unneeded data and edit the list of counties to better harmonize across the years\n",
    "#Create an empty list to hold filenames and dataframes\n",
    "\n",
    "formatted_irs_files = []\n",
    "\n",
    "# These states with two-word names will not fit our filter condition in the block below and must be removed by another means\n",
    "two_word_states = ['New Hampshire', 'New Jersey', 'New York', 'New Mexico', 'North Carolina', 'North Dakota', 'Rhode Island', 'South Carolina', 'South Dakota', 'West Virginia']\n",
    "\n",
    "for i in irs_raw_files:\n",
    "    file = pd.read_csv(f'{irs_raw_folder_path}/{i}', encoding='latin-1') #the original; irs formatting requires this encoding, better to keep this in mind rather than reformatting each CSV file individually\n",
    "    file = file.drop(['STATEFIPS','AGI_STUB','COUNTYFIPS'],axis=1).reset_index(drop=True) # drop columns not used for the current analysis, but raw files are presevered for future use.\n",
    "        \n",
    "    # Lambda function to generate a boolian mask filtering 'COUNTYNAME' values with a single word, \n",
    "    # removing all single name counties and counties from the two_name_state list (should be aggegated state data, rather than County or other sub-division) \n",
    "    file = file[~file['COUNTYNAME'].isin(two_word_states)]\n",
    "    filter_counties = lambda row: len(row['COUNTYNAME'].split()) >=2\n",
    "    data_counties = file[file.apply(filter_counties, axis=1)]\n",
    "    \n",
    "    # As seen in the EDA for our State election data, we should choose a format for the data that will be consistent, opting here for all lower case for counties\n",
    "    # Here we are splitting the COUNTYNAME at each whitespace and then joining everything except the final word\n",
    "    lower_countynames = [' '.join(i.lower().split()[:-1]) for i in data_counties['COUNTYNAME']] # As seen in the EDA for our State election data, we should choose a format for the data that will be consistent, opting here for all lower case for counties\n",
    "    \n",
    "    # To avoid working on a slice of the dataframe, we will substitute a copy of the original\n",
    "    data_copy = data_counties.reset_index().copy()\n",
    "    data_copy['COUNTYNAME'] = lower_countynames\n",
    "    \n",
    "    # Generate a name for each dataframe based on the filename without the file extension\n",
    "    name = f'{i}' \n",
    "    name = name[:-4]+'_f' \n",
    "    \n",
    "    # Assign the dataframe to the variable name\n",
    "    \n",
    "    # Append both to the empty list\n",
    "    formatted_irs_files.append((name, data_copy))\n"
   ]
  },
  {
   "cell_type": "code",
   "execution_count": 17,
   "id": "2b2a86b8-4eca-414f-a733-375a1f45097e",
   "metadata": {
    "tags": []
   },
   "outputs": [],
   "source": [
    "# from this formatted data, let's rebuild our base\n",
    "base_state_county_pairs = formatted_irs_files[0][1].groupby('STATE')['COUNTYNAME'].agg(list).to_dict()\n",
    "\n",
    "states = list(formatted_irs_files[0][1]['STATE'].unique())"
   ]
  },
  {
   "cell_type": "code",
   "execution_count": 18,
   "id": "69c095bc-db1d-4576-bf46-8a5628a97d38",
   "metadata": {
    "tags": []
   },
   "outputs": [
    {
     "name": "stdout",
     "output_type": "stream",
     "text": [
      "There is a mismatch in irs_count_2014_f for the State AK\n",
      "aleutians west in irs_count_2014_f is not in base data\n",
      "dillingham in irs_count_2014_f is not in base data\n",
      "fairbanks north in irs_count_2014_f is not in base data\n",
      "hoonah-angoon in irs_count_2014_f is not in base data\n",
      "ketchikan in irs_count_2014_f is not in base data\n",
      "kusilvak census in irs_count_2014_f is not in base data\n",
      "lake and in irs_count_2014_f is not in base data\n",
      "petersburg in irs_count_2014_f is not in base data\n",
      "prince of in irs_count_2014_f is not in base data\n",
      "southeast in irs_count_2014_f is not in base data\n",
      "valdez-cordova in irs_count_2014_f is not in base data\n",
      "wrangell city in irs_count_2014_f is not in base data\n",
      "yukon-koyukuk in irs_count_2014_f is not in base data\n",
      "aleutians west census is not in irs_count_2014_f\n",
      "dillingham census is not in irs_count_2014_f\n",
      "fairbanks north star is not in irs_count_2014_f\n",
      "hoonah-angoon census is not in irs_count_2014_f\n",
      "ketchikan gateway is not in irs_count_2014_f\n",
      "lake and peninsula is not in irs_count_2014_f\n",
      "matanuska-susitna is not in irs_count_2014_f\n",
      "petersburg census is not in irs_count_2014_f\n",
      "prince of wales-hyder census is not in irs_count_2014_f\n",
      "southeast fairbanks census is not in irs_count_2014_f\n",
      "valdez-cordova census is not in irs_count_2014_f\n",
      "wade hampton census is not in irs_count_2014_f\n",
      "wrangell city and is not in irs_count_2014_f\n",
      "yukon-koyukuk census is not in irs_count_2014_f\n",
      "There is a mismatch in irs_count_2014_f for the State VA\n",
      "There is a mismatch in irs_count_2015_f for the State VA\n",
      "There is a mismatch in irs_count_2016_f for the State VA\n",
      "There is a mismatch in irs_count_2017_f for the State VA\n",
      "There is a mismatch in irs_count_2018_f for the State VA\n",
      "There is a mismatch in irs_count_2019_f for the State AK\n",
      "aleutians west in irs_count_2019_f is not in base data\n",
      "chugach census in irs_count_2019_f is not in base data\n",
      "copper river census in irs_count_2019_f is not in base data\n",
      "fairbanks north in irs_count_2019_f is not in base data\n",
      "hoonah-angoon in irs_count_2019_f is not in base data\n",
      "kusilvak census in irs_count_2019_f is not in base data\n",
      "prince of in irs_count_2019_f is not in base data\n",
      "southeast in irs_count_2019_f is not in base data\n",
      "yukon-koyukuk in irs_count_2019_f is not in base data\n",
      "aleutians west census is not in irs_count_2019_f\n",
      "fairbanks north star is not in irs_count_2019_f\n",
      "hoonah-angoon census is not in irs_count_2019_f\n",
      "prince of wales-hyder census is not in irs_count_2019_f\n",
      "southeast fairbanks census is not in irs_count_2019_f\n",
      "valdez-cordova census is not in irs_count_2019_f\n",
      "wade hampton census is not in irs_count_2019_f\n",
      "yukon-koyukuk census is not in irs_count_2019_f\n",
      "There is a mismatch in irs_count_2019_f for the State VA\n",
      "There is a mismatch in irs_count_2020_f for the State AK\n",
      "aleutians west in irs_count_2020_f is not in base data\n",
      "chugach census in irs_count_2020_f is not in base data\n",
      "copper river in irs_count_2020_f is not in base data\n",
      "fairbanks north in irs_count_2020_f is not in base data\n",
      "hoonah-angoon in irs_count_2020_f is not in base data\n",
      "kusilvak census in irs_count_2020_f is not in base data\n",
      "petersburg in irs_count_2020_f is not in base data\n",
      "prince of in irs_count_2020_f is not in base data\n",
      "southeast in irs_count_2020_f is not in base data\n",
      "yukon-koyukuk in irs_count_2020_f is not in base data\n",
      "aleutians west census is not in irs_count_2020_f\n",
      "fairbanks north star is not in irs_count_2020_f\n",
      "hoonah-angoon census is not in irs_count_2020_f\n",
      "petersburg census is not in irs_count_2020_f\n",
      "prince of wales-hyder census is not in irs_count_2020_f\n",
      "southeast fairbanks census is not in irs_count_2020_f\n",
      "valdez-cordova census is not in irs_count_2020_f\n",
      "wade hampton census is not in irs_count_2020_f\n",
      "yukon-koyukuk census is not in irs_count_2020_f\n",
      "There is a mismatch in irs_count_2020_f for the State VA\n"
     ]
    }
   ],
   "source": [
    "# Let's see if we can locate these differences, before expanding our search:\n",
    "\n",
    "# We will alter the codeblock above to also print out the list of missing (or extra) counties in States where the number of counties differs from the group\n",
    "for i, (name, df) in enumerate(formatted_irs_files[1:], start=2):\n",
    "    # Extract unique pairs from the current dataframe\n",
    "    current_state_counties = df.groupby('STATE')['COUNTYNAME'].agg(list).to_dict()\n",
    "    \n",
    "    for state in states:\n",
    "        if len(current_state_counties[state]) != len(base_state_county_pairs[state]):\n",
    "            print(f\"There is a mismatch in {name} for the State {state}\")\n",
    "            for county in current_state_counties[state]:\n",
    "                if county not in base_state_county_pairs[state]:\n",
    "                    print(f\"{county} in {name} is not in base data\")\n",
    "            for county_base in base_state_county_pairs[state]:\n",
    "                if county_base not in current_state_counties[state]:\n",
    "                    print(f\"{county_base} is not in {name}\")"
   ]
  },
  {
   "cell_type": "code",
   "execution_count": 19,
   "id": "27bf3680-00ac-4266-84db-1f8d40774d86",
   "metadata": {
    "tags": []
   },
   "outputs": [],
   "source": [
    "# So, the Virginia data accounts for the difference in the size of our dataframes, but this does not produce any extra countynames, only a note that the lengths disagree \n",
    "# The only reason this should be is if the extra row in the 2011-2013 data has the same name as another row in the Virginia data\n",
    "# A closer read of some of the outputs above shows a 'Bedford City' missing from the 2014-2020 data, which when we apply the filter removing final words will match 'Bedford County'\n",
    "# \n",
    "# We can also see that Alaska is flagged for the 2019 and 2020 data, suggesting that an extra county-level tax division is included in the data for those years.\n",
    "#\n",
    "# We will need to be diligent when adding the election data for these States, which we had already flagged when noting the complexities of their reporting as noted in the Wiki article linked above00"
   ]
  },
  {
   "cell_type": "code",
   "execution_count": 20,
   "id": "f71e0b5a-045b-4a4a-9375-811de91ccf50",
   "metadata": {
    "tags": []
   },
   "outputs": [
    {
     "name": "stdout",
     "output_type": "stream",
     "text": [
      "There is a mismatch in irs_count_2014_f for the State AK\n",
      "Missing counties in irs_count_2014_f: wrangell city and, aleutians west census, matanuska-susitna, hoonah-angoon census, ketchikan gateway, lake and peninsula, petersburg census, yukon-koyukuk census, prince of wales-hyder census, southeast fairbanks census, valdez-cordova census, fairbanks north star, wade hampton census, dillingham census\n",
      "Extra counties in irs_count_2014_f: dillingham, fairbanks north, petersburg, lake and, ketchikan, prince of, valdez-cordova, hoonah-angoon, kusilvak census, southeast, yukon-koyukuk, wrangell city, aleutians west\n",
      "There is a mismatch in irs_count_2014_f for the State LA\n",
      "Missing counties in irs_count_2014_f: la salle, st. john the baptist\n",
      "Extra counties in irs_count_2014_f: lasalle, st. john the\n",
      "There is a mismatch in irs_count_2014_f for the State MN\n",
      "Missing counties in irs_count_2014_f: lake of the woods\n",
      "Extra counties in irs_count_2014_f: lake of the\n",
      "There is a mismatch in irs_count_2014_f for the State NM\n",
      "Missing counties in irs_count_2014_f: doña ana\n",
      "Extra counties in irs_count_2014_f: dona ana\n",
      "There is a mismatch in irs_count_2014_f for the State SD\n",
      "Missing counties in irs_count_2014_f: shannon\n",
      "Extra counties in irs_count_2014_f: oglala lakota\n",
      "There is a mismatch in irs_count_2015_f for the State AK\n",
      "Missing counties in irs_count_2015_f: aleutians west census, hoonah-angoon census, valdez-cordova census, prince of wales-hyder census, yukon-koyukuk census, southeast fairbanks census, fairbanks north star, wade hampton census\n",
      "Extra counties in irs_count_2015_f: fairbanks north, prince of, valdez-cordova, hoonah-angoon, kusilvak census, southeast, yukon-koyukuk, aleutians west\n",
      "There is a mismatch in irs_count_2015_f for the State LA\n",
      "Missing counties in irs_count_2015_f: la salle, st. john the baptist\n",
      "Extra counties in irs_count_2015_f: lasalle, st. john the\n",
      "There is a mismatch in irs_count_2015_f for the State NM\n",
      "Missing counties in irs_count_2015_f: doña ana\n",
      "Extra counties in irs_count_2015_f: dona ana\n",
      "There is a mismatch in irs_count_2015_f for the State SD\n",
      "Missing counties in irs_count_2015_f: shannon\n",
      "Extra counties in irs_count_2015_f: oglala lakota\n",
      "There is a mismatch in irs_count_2016_f for the State AK\n",
      "Missing counties in irs_count_2016_f: aleutians west census, hoonah-angoon census, valdez-cordova census, prince of wales-hyder census, yukon-koyukuk census, southeast fairbanks census, fairbanks north star, wade hampton census\n",
      "Extra counties in irs_count_2016_f: fairbanks north, prince of, valdez-cordova, hoonah-angoon, kusilvak census, southeast, yukon-koyukuk, aleutians west\n",
      "There is a mismatch in irs_count_2016_f for the State LA\n",
      "Missing counties in irs_count_2016_f: la salle, st. john the baptist\n",
      "Extra counties in irs_count_2016_f: lasalle, st. john the\n",
      "There is a mismatch in irs_count_2016_f for the State NM\n",
      "Missing counties in irs_count_2016_f: doña ana\n",
      "Extra counties in irs_count_2016_f: dona ana\n",
      "There is a mismatch in irs_count_2016_f for the State SD\n",
      "Missing counties in irs_count_2016_f: shannon\n",
      "Extra counties in irs_count_2016_f: oglala lakota\n",
      "There is a mismatch in irs_count_2017_f for the State AK\n",
      "Missing counties in irs_count_2017_f: aleutians west census, hoonah-angoon census, valdez-cordova census, prince of wales-hyder census, yukon-koyukuk census, southeast fairbanks census, fairbanks north star, wade hampton census\n",
      "Extra counties in irs_count_2017_f: fairbanks north, prince of, valdez-cordova, hoonah-angoon, kusilvak census, southeast, yukon-koyukuk, aleutians west\n",
      "There is a mismatch in irs_count_2017_f for the State LA\n",
      "Missing counties in irs_count_2017_f: la salle, st. john the baptist\n",
      "Extra counties in irs_count_2017_f: lasalle, st. john the\n",
      "There is a mismatch in irs_count_2017_f for the State NM\n",
      "Missing counties in irs_count_2017_f: doña ana\n",
      "Extra counties in irs_count_2017_f: dona ana\n",
      "There is a mismatch in irs_count_2017_f for the State SD\n",
      "Missing counties in irs_count_2017_f: shannon\n",
      "Extra counties in irs_count_2017_f: oglala lakota\n",
      "There is a mismatch in irs_count_2018_f for the State AK\n",
      "Missing counties in irs_count_2018_f: aleutians west census, hoonah-angoon census, valdez-cordova census, prince of wales-hyder census, yukon-koyukuk census, southeast fairbanks census, fairbanks north star, wade hampton census\n",
      "Extra counties in irs_count_2018_f: fairbanks north, prince of, valdez-cordova, hoonah-angoon, kusilvak census, southeast, yukon-koyukuk, aleutians west\n",
      "There is a mismatch in irs_count_2018_f for the State LA\n",
      "Missing counties in irs_count_2018_f: la salle, st. john the baptist\n",
      "Extra counties in irs_count_2018_f: lasalle, st. john the\n",
      "There is a mismatch in irs_count_2018_f for the State NM\n",
      "Missing counties in irs_count_2018_f: doña ana\n",
      "Extra counties in irs_count_2018_f: dona ana\n",
      "There is a mismatch in irs_count_2018_f for the State SD\n",
      "Missing counties in irs_count_2018_f: shannon\n",
      "Extra counties in irs_count_2018_f: oglala lakota\n",
      "There is a mismatch in irs_count_2019_f for the State AK\n",
      "Missing counties in irs_count_2019_f: aleutians west census, hoonah-angoon census, valdez-cordova census, prince of wales-hyder census, yukon-koyukuk census, southeast fairbanks census, fairbanks north star, wade hampton census\n",
      "Extra counties in irs_count_2019_f: chugach census, fairbanks north, copper river census, prince of, hoonah-angoon, kusilvak census, southeast, yukon-koyukuk, aleutians west\n",
      "There is a mismatch in irs_count_2019_f for the State LA\n",
      "Missing counties in irs_count_2019_f: la salle, st. john the baptist\n",
      "Extra counties in irs_count_2019_f: lasalle, st. john the\n",
      "There is a mismatch in irs_count_2019_f for the State NM\n",
      "Missing counties in irs_count_2019_f: doña ana\n",
      "Extra counties in irs_count_2019_f: dona ana\n",
      "There is a mismatch in irs_count_2019_f for the State SD\n",
      "Missing counties in irs_count_2019_f: shannon\n",
      "Extra counties in irs_count_2019_f: oglala lakota\n",
      "There is a mismatch in irs_count_2020_f for the State AK\n",
      "Missing counties in irs_count_2020_f: aleutians west census, hoonah-angoon census, valdez-cordova census, petersburg census, yukon-koyukuk census, prince of wales-hyder census, southeast fairbanks census, fairbanks north star, wade hampton census\n",
      "Extra counties in irs_count_2020_f: chugach census, fairbanks north, petersburg, prince of, hoonah-angoon, kusilvak census, southeast, yukon-koyukuk, copper river, aleutians west\n",
      "There is a mismatch in irs_count_2020_f for the State LA\n",
      "Missing counties in irs_count_2020_f: la salle, st. john the baptist\n",
      "Extra counties in irs_count_2020_f: lasalle, st. john the\n",
      "There is a mismatch in irs_count_2020_f for the State NM\n",
      "Missing counties in irs_count_2020_f: doña ana\n",
      "Extra counties in irs_count_2020_f: do??a ana\n",
      "There is a mismatch in irs_count_2020_f for the State SD\n",
      "Missing counties in irs_count_2020_f: shannon\n",
      "Extra counties in irs_count_2020_f: oglala lakota\n"
     ]
    }
   ],
   "source": [
    "#### FROM CHATGPT\n",
    "\n",
    "\n",
    "# from this formatted data, let's rebuild our base\n",
    "base_state_county_pairs = formatted_irs_files[0][1].groupby('STATE')['COUNTYNAME'].agg(list).to_dict()\n",
    "\n",
    "states = list(formatted_irs_files[0][1]['STATE'].unique())\n",
    "\n",
    "# Let's see if we can locate these differences, before expanding our search:\n",
    "\n",
    "# We will alter the codeblock above to also print out the list of missing (or extra) counties in States where the number of counties differs from the group\n",
    "for i, (name, df) in enumerate(formatted_irs_files[1:], start=2):\n",
    "    # Extract unique pairs from the current dataframe\n",
    "    current_state_counties = df.groupby('STATE')['COUNTYNAME'].agg(list).to_dict()\n",
    "    \n",
    "    for state in states:\n",
    "        if set(current_state_counties[state]) != set(base_state_county_pairs[state]):\n",
    "            print(f\"There is a mismatch in {name} for the State {state}\")\n",
    "            missing_counties = set(base_state_county_pairs[state]) - set(current_state_counties[state])\n",
    "            extra_counties = set(current_state_counties[state]) - set(base_state_county_pairs[state])\n",
    "            \n",
    "            if missing_counties:\n",
    "                print(f\"Missing counties in {name}: {', '.join(missing_counties)}\")\n",
    "                \n",
    "            if extra_counties:\n",
    "                print(f\"Extra counties in {name}: {', '.join(extra_counties)}\")"
   ]
  },
  {
   "cell_type": "code",
   "execution_count": 21,
   "id": "99b2662b-6425-4b03-94e8-60e10954bf84",
   "metadata": {
    "tags": []
   },
   "outputs": [],
   "source": [
    "\n",
    "#Let's re-do the original function reading in the IRS data, including code to remove unneeded data and edit the list of counties to better harmonize across the years\n",
    "#Create an empty list to hold filenames and dataframes\n",
    "\n",
    "formatted_irs_files = []\n",
    "\n",
    "# These states with two-word names will not fit our filter condition in the block below and must be removed by another means\n",
    "two_word_states = ['New Hampshire', 'New Jersey', 'New York', 'New Mexico', 'North Carolina', 'North Dakota', 'Rhode Island', 'South Carolina', 'South Dakota', 'West Virginia']\n",
    "\n",
    "# IRS misnamed contains a dictionary corresponding to misnamed counties which are to be homogenized across years\n",
    "irs_misnamed = {'Matanuska-Susitna':'Matanuska-Susitna Borough'}\n",
    "sd_misnamed = {'shannon':'oglala lakota'}\n",
    "nm_misnamed = {'dona ana':'doña ana'}\n",
    "la_misnamed = {'lasalle':'la salle','st. john the':'st. john the baptist'} \n",
    "mn_misnamed = {'lake of the':'lake of the woods'}\n",
    "\n",
    "for i in irs_raw_files:\n",
    "    file = pd.read_csv(f'{irs_raw_folder_path}/{i}', encoding='latin-1') #the original; irs formatting requires this encoding, better to keep this in mind rather than reformatting each CSV file individually\n",
    "    file = file.drop(['STATEFIPS','AGI_STUB','COUNTYFIPS'],axis=1).reset_index(drop=True) # drop columns not used for the current analysis, but raw files are presevered for future use.\n",
    "        \n",
    "    # Since Matanuska-Susitna is misnamed in the 2014 data, we should rename it\n",
    "    # We will also most likely need to build this out further as additional misnamed counties are found:\n",
    "    if 'SD' in file['STATE'].values:\n",
    "        file['COUNTYNAME'] = file['COUNTYNAME'].replace(sd_misnamed, regex=True)\n",
    "    elif 'NM' in file['STATE'].values:\n",
    "        file['COUNTYNAME'] = file['COUNTYNAME'].replace(nm_misnamed, regex=True)\n",
    "    elif 'LA' in file['STATE'].values:\n",
    "        file['COUNTYNAME'] = file['COUNTYNAME'].replace(la_misnamed, regex=True)\n",
    "    elif 'MN' in file['STATE'].values:\n",
    "        file['COUNTYNAME'] = file['COUNTYNAME'].replace(mn_misnamed, regex=True)    \n",
    "    \n",
    "    file['COUNTYNAME'] = file['COUNTYNAME'].replace(irs_misnamed)\n",
    "    \n",
    "    # Drop the 'Bedford City' row, which only appears in the pre-2014 data, now:\n",
    "    file = file[file['COUNTYNAME'] != 'Bedford city']\n",
    "  \n",
    "    # Lambda function to generate a boolian mask filtering 'COUNTYNAME' values with a single word, \n",
    "    # removing all single name counties and counties from the two_name_state list (should be aggegated state data) \n",
    "    file = file[~file['COUNTYNAME'].isin(two_word_states)]\n",
    "    filter_counties = lambda row: len(row['COUNTYNAME'].split()) >=2\n",
    "    data_counties = file[file.apply(filter_counties, axis=1)]\n",
    "    \n",
    "    # As seen in the EDA for our State election data, we should choose a format for the data that will be consistent, opting here for all lower case for counties\n",
    "    # Here we are splitting the COUNTYNAME at each whitespace and then joining everything except the final word\n",
    "    lower_countynames = [' '.join(i.lower().split()[:-1]) for i in data_counties['COUNTYNAME']] # As seen in the EDA for our State election data, we should choose a format for the data that will be consistent, opting here for all lower case for counties\n",
    "    \n",
    "    # To avoid working on a slice of the dataframe, we will substitute a copy of the original\n",
    "    data_copy = data_counties.reset_index().copy()\n",
    "    data_copy['COUNTYNAME'] = lower_countynames\n",
    "    \n",
    "    # Generate a name for each dataframe based on the filename without the file extension\n",
    "    name = f'{i}' \n",
    "    name = name[:-4]+'_f' \n",
    "    \n",
    "    # Assign the dataframe to the variable name\n",
    "    \n",
    "    # Append both to the empty list\n",
    "    formatted_irs_files.append((name, data_copy))\n"
   ]
  },
  {
   "cell_type": "code",
   "execution_count": 22,
   "id": "e27a29bb-54ae-4d42-a9bf-9c385b284fe2",
   "metadata": {
    "tags": []
   },
   "outputs": [
    {
     "name": "stdout",
     "output_type": "stream",
     "text": [
      "irs_count_2011_f has a shape of (3142, 72)\n",
      "irs_count_2012_f has a shape of (3142, 75)\n",
      "irs_count_2013_f has a shape of (3142, 113)\n",
      "irs_count_2014_f has a shape of (3142, 126)\n",
      "irs_count_2015_f has a shape of (3142, 130)\n",
      "irs_count_2016_f has a shape of (3142, 146)\n",
      "irs_count_2017_f has a shape of (3142, 152)\n",
      "irs_count_2018_f has a shape of (3142, 152)\n",
      "irs_count_2019_f has a shape of (3143, 151)\n",
      "irs_count_2020_f has a shape of (3143, 164)\n"
     ]
    }
   ],
   "source": [
    "# check the shape of our data, if the number of rows differ, we will need to investigate further\n",
    "for i in formatted_irs_files:\n",
    "    print(f\"{i[0]} has a shape of {i[1].shape}\")"
   ]
  },
  {
   "cell_type": "code",
   "execution_count": 23,
   "id": "d1a9ab12-56db-4b4b-af7b-790734a38430",
   "metadata": {
    "tags": []
   },
   "outputs": [],
   "source": [
    "# from this formatted data, let's rebuild our base\n",
    "base_state_county_pairs = formatted_irs_files[0][1].groupby('STATE')['COUNTYNAME'].agg(list).to_dict()\n",
    "\n",
    "states = list(formatted_irs_files[0][1]['STATE'].unique())"
   ]
  },
  {
   "cell_type": "code",
   "execution_count": 24,
   "id": "0bde64fb-c8d5-4c1a-a111-d75946476ee7",
   "metadata": {
    "tags": []
   },
   "outputs": [
    {
     "name": "stdout",
     "output_type": "stream",
     "text": [
      "There is a mismatch in irs_count_2019_f for the State AK\n",
      "aleutians west in irs_count_2019_f is not in base data\n",
      "chugach census in irs_count_2019_f is not in base data\n",
      "copper river census in irs_count_2019_f is not in base data\n",
      "fairbanks north in irs_count_2019_f is not in base data\n",
      "hoonah-angoon in irs_count_2019_f is not in base data\n",
      "kusilvak census in irs_count_2019_f is not in base data\n",
      "prince of in irs_count_2019_f is not in base data\n",
      "southeast in irs_count_2019_f is not in base data\n",
      "yukon-koyukuk in irs_count_2019_f is not in base data\n",
      "aleutians west census is not in irs_count_2019_f\n",
      "fairbanks north star is not in irs_count_2019_f\n",
      "hoonah-angoon census is not in irs_count_2019_f\n",
      "prince of wales-hyder census is not in irs_count_2019_f\n",
      "southeast fairbanks census is not in irs_count_2019_f\n",
      "valdez-cordova census is not in irs_count_2019_f\n",
      "wade hampton census is not in irs_count_2019_f\n",
      "yukon-koyukuk census is not in irs_count_2019_f\n",
      "There is a mismatch in irs_count_2020_f for the State AK\n",
      "aleutians west in irs_count_2020_f is not in base data\n",
      "chugach census in irs_count_2020_f is not in base data\n",
      "copper river in irs_count_2020_f is not in base data\n",
      "fairbanks north in irs_count_2020_f is not in base data\n",
      "hoonah-angoon in irs_count_2020_f is not in base data\n",
      "kusilvak census in irs_count_2020_f is not in base data\n",
      "petersburg in irs_count_2020_f is not in base data\n",
      "prince of in irs_count_2020_f is not in base data\n",
      "southeast in irs_count_2020_f is not in base data\n",
      "yukon-koyukuk in irs_count_2020_f is not in base data\n",
      "aleutians west census is not in irs_count_2020_f\n",
      "fairbanks north star is not in irs_count_2020_f\n",
      "hoonah-angoon census is not in irs_count_2020_f\n",
      "petersburg census is not in irs_count_2020_f\n",
      "prince of wales-hyder census is not in irs_count_2020_f\n",
      "southeast fairbanks census is not in irs_count_2020_f\n",
      "valdez-cordova census is not in irs_count_2020_f\n",
      "wade hampton census is not in irs_count_2020_f\n",
      "yukon-koyukuk census is not in irs_count_2020_f\n"
     ]
    }
   ],
   "source": [
    "# Let's see if we can locate these differences, before expanding our search:\n",
    "\n",
    "# We will alter the codeblock above to also print out the list of missing (or extra) counties in States where the number of counties differs from the group\n",
    "for i, (name, df) in enumerate(formatted_irs_files[1:], start=2):\n",
    "    # Extract unique pairs from the current dataframe\n",
    "    current_state_counties = df.groupby('STATE')['COUNTYNAME'].agg(list).to_dict()\n",
    "    \n",
    "    for state in states:\n",
    "        if len(current_state_counties[state]) != len(base_state_county_pairs[state]):\n",
    "            print(f\"There is a mismatch in {name} for the State {state}\")\n",
    "            for county in current_state_counties[state]:\n",
    "                if county not in base_state_county_pairs[state]:\n",
    "                    print(f\"{county} in {name} is not in base data\")\n",
    "            for county_base in base_state_county_pairs[state]:\n",
    "                if county_base not in current_state_counties[state]:\n",
    "                    print(f\"{county_base} is not in {name}\")"
   ]
  },
  {
   "cell_type": "code",
   "execution_count": null,
   "id": "4bb278c1-ae6a-4cb1-8d95-0d3e28609147",
   "metadata": {},
   "outputs": [],
   "source": []
  },
  {
   "cell_type": "code",
   "execution_count": null,
   "id": "0061c7f4-244d-47f4-ba07-c6c38a13a770",
   "metadata": {
    "tags": []
   },
   "outputs": [],
   "source": [
    "for i in formatted_irs_files:\n",
    "    va_counties = i[1].loc[i[1]['STATE']=='VA']['COUNTYNAME'].dropna().tolist()\n",
    "    print(len(va_counties))"
   ]
  },
  {
   "cell_type": "code",
   "execution_count": null,
   "id": "48beccc1-5023-472e-b0aa-6635c00dbe3f",
   "metadata": {
    "tags": []
   },
   "outputs": [],
   "source": [
    "base_va_counties = formatted_irs_files[-1][1].loc[formatted_irs_files[-1][1]['STATE']=='VA']['COUNTYNAME'].tolist()\n",
    "for i in formatted_irs_files[:-1]:\n",
    "    va_counties = i[1].loc[i[1]['STATE']=='VA']['COUNTYNAME'].tolist()\n",
    "    for i in va_counties:\n",
    "        if i not in base_va_counties:\n",
    "            print(i)"
   ]
  },
  {
   "cell_type": "code",
   "execution_count": null,
   "id": "3da29f25-b0dc-4f97-a1e3-4b8ce0674904",
   "metadata": {
    "tags": []
   },
   "outputs": [],
   "source": [
    "base_va_counties = formatted_irs_files[-1][1].loc[formatted_irs_files[-1][1]['STATE']=='VA']['COUNTYNAME'].tolist()\n",
    "for i in formatted_irs_files[:-1]:\n",
    "    va_counties = i[1].loc[i[1]['STATE']=='VA']['COUNTYNAME'].tolist()\n",
    "    print(va_counties)"
   ]
  },
  {
   "cell_type": "code",
   "execution_count": null,
   "id": "417f93b4-d91c-449c-a954-0294980f20ce",
   "metadata": {
    "tags": []
   },
   "outputs": [],
   "source": [
    "# Extract county lists for each dataframe\n",
    "county_lists = [i[1].loc[i[1]['STATE']=='VA']['COUNTYNAME'].tolist() for i in formatted_irs_files]\n",
    "\n",
    "# Find the set difference to identify the specific county causing the discrepancy\n",
    "set_difference = set(county_lists[0])\n",
    "for county_list in county_lists[1:]:\n",
    "    set_difference.symmetric_difference_update(county_list)\n",
    "\n",
    "print(set_difference)\n"
   ]
  },
  {
   "cell_type": "code",
   "execution_count": null,
   "id": "b94d2c18-ca86-41ca-bb6b-7c9530980ffa",
   "metadata": {
    "tags": []
   },
   "outputs": [],
   "source": [
    "base_va_counties = set(formatted_irs_files[-1][1].loc[formatted_irs_files[-1][1]['STATE']=='VA']['COUNTYNAME'].dropna().tolist())\n",
    "\n",
    "for i in formatted_irs_files[:-1]:\n",
    "    va_counties = set(i[1].loc[i[1]['STATE']=='VA']['COUNTYNAME'].dropna().tolist())\n",
    "    set_difference = va_counties.symmetric_difference(base_va_counties)\n",
    "\n",
    "    if set_difference:\n",
    "        print(f\"Differences in {i[0]} for the state VA:\")\n",
    "        print(set_difference)\n"
   ]
  },
  {
   "cell_type": "code",
   "execution_count": null,
   "id": "013b84b8-3fb6-49bd-a192-1436f34e34d0",
   "metadata": {
    "tags": []
   },
   "outputs": [],
   "source": [
    "# Iterate through the rest of the dataframes and compare with the expected pairs\n",
    "for i, (name, df) in enumerate(list_irs_files[1:], start=2):\n",
    "    # Extract unique pairs from the current dataframe\n",
    "    current_state_counties = df.groupby('STATE')['COUNTYNAME'].agg(list).to_dict()\n",
    "\n",
    "    # Identify missing or extra pairs\n",
    "    missing_pairs = {state: set(base_state_county_pairs.get(state, [])) - set(current_state_counties.get(state, [])) for state in base_state_county_pairs.keys()}\n",
    "    extra_pairs = {state: set(current_state_counties.get(state, [])) - set(base_state_county_pairs.get(state, [])) for state in current_state_counties.keys()}\n",
    "\n",
    "    # Print information about missing or extra pairs\n",
    "    for state, counties in missing_pairs.items():\n",
    "        if counties:\n",
    "            print(f\"Missing pairs in dataframe {name} for state {state}:\\n{counties}\")\n",
    "\n",
    "    for state, counties in extra_pairs.items():\n",
    "        if counties:\n",
    "            print(f\"Extra pairs in dataframe {name} for state {state}:\\n{counties}\")"
   ]
  },
  {
   "cell_type": "code",
   "execution_count": null,
   "id": "c53666c2-3c6a-4fb2-944d-c273959b6229",
   "metadata": {
    "tags": []
   },
   "outputs": [],
   "source": [
    "# First, let's get a list of all the common columns across all of our data\n",
    "ne\n",
    "\n",
    "# The columns in the first dataframe will for the base we will compare all other dataframes to\n",
    "# Since we will only be keeping columns common to all dataframes, this starting point is arbitrary\n",
    "\n",
    "common_col = set(list_irs_files[0][1].columns) \n",
    "\n",
    "for i in list_irs_files[1:]:\n",
    "    # for each dataframe after the first, create a set of the column names and use that to update the original set\n",
    "    new_col_list = set(i[1].columns) \n",
    "    common_col = common_col & new_col_list\n",
    "    \n",
    "# Since we might be altering and ordering this, let's transform it into a list\n",
    "\n",
    "common_col = list(common_col)"
   ]
  },
  {
   "cell_type": "code",
   "execution_count": null,
   "id": "f92bcf09-c673-458a-acb9-687e21996597",
   "metadata": {
    "tags": []
   },
   "outputs": [],
   "source": [
    "print(common_col)\n",
    "len(common_col)"
   ]
  },
  {
   "cell_type": "code",
   "execution_count": null,
   "id": "2e3c2e17-edb0-4362-90b3-99f1d791be94",
   "metadata": {},
   "outputs": [],
   "source": [
    "# If we retain all of these common columns except for the data origin and non-metric ones (State and county names, AGI (tax bracket), and FIPS numbers), we will be adding 62 independent variables to any ML algorith, which... is a lot"
   ]
  },
  {
   "cell_type": "code",
   "execution_count": null,
   "id": "842b3341-df29-4aeb-a069-aa152af4e24d",
   "metadata": {
    "tags": []
   },
   "outputs": [],
   "source": [
    "# While we don't expect county names top change year-to-year, we should check both to ensure they are formatted identically over years and otherwise remain consistent\n",
    "\n",
    "base_counties = list_irs_files[-1][1]['COUNTYNAME'].to_list()\n",
    "for i in list_irs_files[0:-1]:\n",
    "    unmatched_counties = [county for county in i[1]['COUNTYNAME'].tolist() if county not in base_counties]\n",
    "    if len(unmatched_counties) > 0:\n",
    "        print(f\"Counties mismatch in {i[0]}\")\n",
    "        print(unmatched_counties)\n",
    "    else:\n",
    "        print(f\"Counties in base list match {i[0]}\")"
   ]
  },
  {
   "cell_type": "code",
   "execution_count": null,
   "id": "fadb3033-a1cb-4078-aaa4-511c1eb214e5",
   "metadata": {},
   "outputs": [],
   "source": [
    "# Many of these mismatches appear to be a result of different maximum character counts truncating the length of the data, we can try to resolve this by removing the final word, so that if 'County' has been rendered as 'Co', 'Count', or something similar\n",
    "# the resulting string will match.\n",
    "# At the same time, we should consider elliminating the statewide data, as many states have counties named for the State, which when we trim 'County' from them could produce errors\n",
    "# (or another State, there are 31 Washington counties, which highlights another issue: Data must be grouped by County AND State to avoid contamination)\n",
    "\n",
    "# See https://en.wikipedia.org/wiki/List_of_United_States_counties_and_county_equivalents for additional details"
   ]
  },
  {
   "cell_type": "markdown",
   "id": "cae2f60a-e4fd-4f61-baf7-7b6fd5b64448",
   "metadata": {},
   "source": [
    "#### ####NOTE for future data - Virginia, Maryland, Missouri and Nevada data will contain county and city data (seen above in cases like 'Petersburg Census Area'), so relying on 'County' or similar to be the final word of 'COUNTYNAME' will not hold.\n",
    "As well, Louisianna uses 'Parishes',\n",
    "A brief examination of this data appears below\n",
    "####"
   ]
  },
  {
   "cell_type": "code",
   "execution_count": null,
   "id": "8b9f4f0d-d821-4b68-8e0d-1b0201026c71",
   "metadata": {
    "tags": []
   },
   "outputs": [],
   "source": [
    "IRS_2012_data = list_irs_files[1][1]"
   ]
  },
  {
   "cell_type": "code",
   "execution_count": null,
   "id": "02bbf29e-5a62-43b8-b593-7d1bab5c5744",
   "metadata": {
    "tags": []
   },
   "outputs": [],
   "source": [
    "print(IRS_2012_data.loc[IRS_2012_data['STATE'] == 'VA']['COUNTYNAME'].to_list())"
   ]
  },
  {
   "cell_type": "code",
   "execution_count": null,
   "id": "eb096541-ff25-4af6-9f03-54e681257435",
   "metadata": {
    "tags": []
   },
   "outputs": [],
   "source": [
    "print(IRS_2012_data.loc[IRS_2012_data['STATE'] == 'MO']['COUNTYNAME'].to_list())"
   ]
  },
  {
   "cell_type": "code",
   "execution_count": null,
   "id": "0b61a8c4-0d7a-4f28-9811-e21b61a5bc2f",
   "metadata": {
    "tags": []
   },
   "outputs": [],
   "source": [
    "print(IRS_2012_data.loc[IRS_2012_data['STATE'] == 'NV']['COUNTYNAME'].to_list())"
   ]
  },
  {
   "cell_type": "code",
   "execution_count": null,
   "id": "95da1b1e-7c10-4c08-b7d1-458d05ecbbee",
   "metadata": {
    "tags": []
   },
   "outputs": [],
   "source": [
    "print(IRS_2012_data.loc[IRS_2012_data['STATE'] == 'MD']['COUNTYNAME'].to_list())"
   ]
  },
  {
   "cell_type": "code",
   "execution_count": null,
   "id": "31f9d88c-a0c7-4f81-972c-960a2b6f4695",
   "metadata": {
    "tags": []
   },
   "outputs": [],
   "source": [
    "print(IRS_2012_data.loc[IRS_2012_data['STATE'] == 'AK']['COUNTYNAME'].to_list())"
   ]
  },
  {
   "cell_type": "code",
   "execution_count": null,
   "id": "e093b476-fa17-4603-94cd-e115afded40e",
   "metadata": {
    "tags": []
   },
   "outputs": [],
   "source": [
    "\n",
    "#Let's re-do the original function reading in the IRS data, including code to remove unneeded data and edit the list of counties to better harmonize across the years\n",
    "#Create an empty list to hold filenames and dataframes\n",
    "\n",
    "formatted_irs_files = []\n",
    "\n",
    "# These states with two-word names will not fit our filter condition in the block below and must be removed by another means\n",
    "two_word_states = ['New Hampshire', 'New Jersey', 'New York', 'New Mexico', 'North Carolina', 'North Dakota', 'Rhode Island', 'South Carolina', 'South Dakota', 'West Virginia']\n",
    "\n",
    "for i in irs_raw_files:\n",
    "    file = pd.read_csv(f'{irs_raw_folder_path}/{i}', encoding='latin-1') #the original; irs formatting requires this encoding, better to keep this in mind rather than reformatting each CSV file individually\n",
    "    file = file.drop(['STATEFIPS','AGI_STUB','COUNTYFIPS'],axis=1).reset_index(drop=True) # drop columns not used for the current analysis, but raw files are presevered for future use.\n",
    "        \n",
    "    # Lambda function to generate a boolian mask filtering 'COUNTYNAME' values with a single word, \n",
    "    # removing all single name counties and counties from the two_name_state list (should be aggegated state data) \n",
    "    file = file[~file['COUNTYNAME'].isin(two_word_states)]\n",
    "    filter_counties = lambda row: len(row['COUNTYNAME'].split()) >=2\n",
    "    data_counties = file[file.apply(filter_counties, axis=1)]\n",
    "    \n",
    "    # As seen in the EDA for our State election data, we should choose a format for the data that will be consistent, opting here for all lower case for counties\n",
    "    # Here we are splitting the COUNTYNAME at each whitespace and then joining everything except the final word\n",
    "    lower_countynames = [' '.join(i.lower().split()[:-1]) for i in data_counties['COUNTYNAME']] # As seen in the EDA for our State election data, we should choose a format for the data that will be consistent, opting here for all lower case for counties\n",
    "    \n",
    "    # To avoid working on a slice of the dataframe, we will substitute a copy of the original\n",
    "    data_copy = data_counties.reset_index().copy()\n",
    "    data_copy['COUNTYNAME'] = lower_countynames\n",
    "    \n",
    "    # Generate a name for each dataframe based on the filename without the file extension\n",
    "    name = f'{i}' \n",
    "    name = name[:-4]+'_f' \n",
    "    \n",
    "    # Assign the dataframe to the variable name\n",
    "    \n",
    "    # Append both to the empty list\n",
    "    formatted_irs_files.append((name, data_copy))\n"
   ]
  },
  {
   "cell_type": "code",
   "execution_count": null,
   "id": "fe3aae83-e427-434c-8c0d-4c8d54ed7078",
   "metadata": {
    "tags": []
   },
   "outputs": [],
   "source": [
    "for i in formatted_irs_files:\n",
    "    print(i[1].shape)"
   ]
  },
  {
   "cell_type": "code",
   "execution_count": null,
   "id": "8e56a476-8e56-4428-98e2-d8ad2d418e6c",
   "metadata": {
    "tags": []
   },
   "outputs": [],
   "source": [
    "# The differences here compared to above: If every state has the aggregate data included in the IRS sheets, we would expect the number of lines to be reduced by 50\n",
    "# Since we see an anomanlous drop of 51 in the 2014 data, we should query the original data to see what exactly is happening"
   ]
  },
  {
   "cell_type": "code",
   "execution_count": null,
   "id": "f715d886-466c-4fc3-be88-6b03181b1c6c",
   "metadata": {
    "tags": []
   },
   "outputs": [],
   "source": [
    "two_word_states = ['New Hampshire', 'New Jersey', 'New York', 'New Mexico', 'North Carolina', 'North Dakota', 'Rhode Island', 'South Carolina', 'South Dakota', 'West Virginia']\n",
    "\n",
    "# Iterate through the dataframes\n",
    "for name, df in list_irs_files:\n",
    "    # Filter rows where 'COUNTYNAME' has fewer than 2 words or is in the list of two-word states\n",
    "    filtered_rows = df[df['COUNTYNAME'].apply(lambda x: len(str(x).split()) < 2 or x in two_word_states)][['STATE','COUNTYNAME']]\n",
    "\n",
    "    # Print all items which we belive should correspond to aggregate State data\n",
    "    \n",
    "    if not filtered_rows.empty:\n",
    "        print(f\"Filtered rows in dataframe {name}:\\n{filtered_rows}\")\n",
    "        print(f\"number of rows:{len(filtered_rows)}\")"
   ]
  },
  {
   "cell_type": "code",
   "execution_count": null,
   "id": "1a7a43fc-41fa-424f-9817-6128edaf79cf",
   "metadata": {},
   "outputs": [],
   "source": [
    "# Here we can see above that 'Matanuska-Susitna' in the 2014 data was being selected by the filter removing all single-word COUNTYNAME\n",
    "# We can correct that by either creating an exception for that name, or altering the countyname in the dataframe so that 'Matanuska-Susitna' matches the other years' data"
   ]
  },
  {
   "cell_type": "code",
   "execution_count": null,
   "id": "c95667d3-207e-4047-b356-444da175a28e",
   "metadata": {
    "tags": []
   },
   "outputs": [],
   "source": [
    "# let's run the block of code looking for missing or misformatted COUNTNAME data in our dataframes:\n",
    "\n",
    "# Extract unique pairs of 'STATE' and 'COUNTYNAME' from the first dataframe\n",
    "expected_pairs = formatted_irs_files[0][1].groupby('STATE')['COUNTYNAME'].agg(list).to_dict()\n",
    "\n",
    "# Iterate through the rest of the dataframes and compare with the expected pairs\n",
    "for i, (name, df) in enumerate(formatted_irs_files[1:], start=2):\n",
    "    # Extract unique pairs from the current dataframe\n",
    "    current_pairs = df.groupby('STATE')['COUNTYNAME'].agg(list).to_dict()\n",
    "\n",
    "    # Identify missing or extra pairs\n",
    "    missing_pairs = {state: set(expected_pairs.get(state, [])) - set(current_pairs.get(state, [])) for state in expected_pairs.keys()}\n",
    "    extra_pairs = {state: set(current_pairs.get(state, [])) - set(expected_pairs.get(state, [])) for state in current_pairs.keys()}\n",
    "\n",
    "    # Print information about missing or extra pairs\n",
    "    for state, counties in missing_pairs.items():\n",
    "        if counties:\n",
    "            print(f\"Missing pairs in dataframe {name} for state {state}:\\n{counties}\")\n",
    "\n",
    "    for state, counties in extra_pairs.items():\n",
    "        if counties:\n",
    "            print(f\"Extra pairs in dataframe {name} for state {state}:\\n{counties}\")"
   ]
  },
  {
   "cell_type": "code",
   "execution_count": null,
   "id": "cb79cea7-95e2-49d6-a4c8-aab4d4057360",
   "metadata": {},
   "outputs": [],
   "source": [
    "# Let's build up our dictionary of county names to replace\n",
    "    irs_misnamed = {'Matanuska-Susitna':'Matanuska-Susitna Borough','dona ana':'doña ana'}"
   ]
  },
  {
   "cell_type": "code",
   "execution_count": null,
   "id": "75d66080-620f-4c4d-9946-c02dce5ceea7",
   "metadata": {
    "tags": []
   },
   "outputs": [],
   "source": [
    "# Let's continue exploring though, before \n",
    "# While we don't expect county names top change year-to-year, we should check both to ensure they are formatted identically over years and otherwise remain consistent\n",
    "\n",
    "base_counties = formatted_irs_files[-1][1]['COUNTYNAME'].to_list()\n",
    "for i in formatted_irs_files[0:-1]:\n",
    "    unmatched_counties = [county for county in i[1]['COUNTYNAME'].tolist() if county not in base_counties]\n",
    "    if len(unmatched_counties) > 0:\n",
    "        print(f\"Counties mismatch in {i[0]}\")\n",
    "        print(i[1].loc[i[1]['COUNTYNAME'].isin(unmatched_counties)][['STATE','COUNTYNAME']])\n",
    "    else:\n",
    "        print(f\"Counties in base list match {i[0]}\")"
   ]
  },
  {
   "cell_type": "code",
   "execution_count": null,
   "id": "542c806e-d9d9-4d79-8856-31518aac73ad",
   "metadata": {
    "tags": []
   },
   "outputs": [],
   "source": [
    "# First, let's get a list of all the common columns across all of our data\n",
    "# This will give us an idea of how large the final datasets we will be adding to the election data might be and allow us to anticipate issues and better imagine solutions down the line\n",
    "\n",
    "# The columns in the first dataframe will for the base we will compare all other dataframes to\n",
    "# Since we will only be keeping columns common to all dataframes, this starting point is arbitrary\n",
    "\n",
    "common_col = set(formatted_irs_files[0][1].columns) \n",
    "\n",
    "for i in formatted_irs_files[1:]:\n",
    "    # for each dataframe after the first, create a set of the column names and use that to update the original set\n",
    "    new_col_list = set(i[1].columns) \n",
    "    common_col = common_col & new_col_list\n",
    "    \n",
    "# Since we might be altering and ordering this, let's transform it into a list\n",
    "\n",
    "common_col = list(common_col)"
   ]
  },
  {
   "cell_type": "code",
   "execution_count": null,
   "id": "4b6c00ae-5019-4846-97d9-f15a03cbfa37",
   "metadata": {
    "tags": []
   },
   "outputs": [],
   "source": [
    "print(common_col)\n",
    "len(common_col)"
   ]
  },
  {
   "cell_type": "code",
   "execution_count": null,
   "id": "5b99a756-ebd1-4254-a69d-e325c1445597",
   "metadata": {
    "tags": []
   },
   "outputs": [],
   "source": [
    "# If we retain all of these common columns except for the data origin and non-metric ones (State and county names, AGI (tax bracket), and FIPS numbers), we will be adding 62 independent variables to any ML algorith, which... is a lot"
   ]
  },
  {
   "cell_type": "code",
   "execution_count": null,
   "id": "68573e4a-7896-4992-98f5-afeafb6f6610",
   "metadata": {},
   "outputs": [],
   "source": [
    "formatted_irs_files[-1][1].loc[formatted_irs_files[-1][1]['STATE']=='AK'][['STATE', 'COUNTYNAME']]"
   ]
  },
  {
   "cell_type": "code",
   "execution_count": null,
   "id": "08289e0b-435c-44b7-89d1-78fb1b272926",
   "metadata": {},
   "outputs": [],
   "source": []
  }
 ],
 "metadata": {
  "kernelspec": {
   "display_name": "Python 3 (ipykernel)",
   "language": "python",
   "name": "python3"
  },
  "language_info": {
   "codemirror_mode": {
    "name": "ipython",
    "version": 3
   },
   "file_extension": ".py",
   "mimetype": "text/x-python",
   "name": "python",
   "nbconvert_exporter": "python",
   "pygments_lexer": "ipython3",
   "version": "3.11.5"
  }
 },
 "nbformat": 4,
 "nbformat_minor": 5
}
