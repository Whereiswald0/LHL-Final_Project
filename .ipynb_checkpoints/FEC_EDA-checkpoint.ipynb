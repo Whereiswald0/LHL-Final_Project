{
 "cells": [
  {
   "cell_type": "code",
   "execution_count": 1,
   "id": "139e17b3-de06-4678-99f4-ccc725d67b0a",
   "metadata": {
    "tags": []
   },
   "outputs": [],
   "source": [
    "import numpy as np\n",
    "import pandas as pd\n",
    "from src.modules import *\n",
    "import os "
   ]
  },
  {
   "cell_type": "code",
   "execution_count": null,
   "id": "b2f27a49-a844-4e86-aaba-8266494868e2",
   "metadata": {},
   "outputs": [],
   "source": [
    "# Why would we be using a third dataset to group our election data by party?\n",
    "# Rather than attempting to account for every possible abbr. and spelling of US political parties across all 50 States, \n",
    "# using a single database and joining it on the Candidate names (which are less likely to show variance between the State and Federal data) \n",
    "\n",
    "# Including the FEC data will also allow the incumbancy status to be included, giving another dimension to examine the impact of the IRS data on turnout"
   ]
  },
  {
   "cell_type": "code",
   "execution_count": 3,
   "id": "3892ee76-a48e-4a89-a21c-4845f8db8079",
   "metadata": {
    "tags": []
   },
   "outputs": [],
   "source": [
    "fec_folder_path = 'data/FEC/'\n",
    "\n",
    "fec_files_list = [file for file in os.listdir(fec_folder_path) if os.path.isfile(os.path.join(fec_folder_path, file))]"
   ]
  },
  {
   "cell_type": "code",
   "execution_count": 4,
   "id": "9d76c1e8-f971-4be3-a4f3-32c6b41d1989",
   "metadata": {
    "tags": []
   },
   "outputs": [
    {
     "name": "stdout",
     "output_type": "stream",
     "text": [
      "Formatting FEC data\n"
     ]
    }
   ],
   "source": [
    "# Empty list to hold FEC files\n",
    "fec_files = []\n",
    "\n",
    "# format FEC data\n",
    "print('Formatting FEC data')\n",
    "for i in fec_files_list: # Call item in the file list\n",
    "    \n",
    "    # Read each file from the FEC file list\n",
    "    file = pd.read_csv(fr'{fec_folder_path}{i}', index_col=0)\n",
    "    \n",
    "    \n",
    "    # Generate a name for each dataframe based on the filename without the file extension\n",
    "    name = f'{i}' \n",
    "    name = name[:-4] \n",
    "    \n",
    "    # Assign the dataframe to the variable name\n",
    "    globals()[name] = file # from the documentation: 'the globals() function is a built-in function that returns a dictionary representing the current global symbol table' only half understand this, but it works (#programming)\n",
    "    \n",
    "    # Append both to the empty list\n",
    "    fec_files.append(file)"
   ]
  },
  {
   "cell_type": "code",
   "execution_count": 6,
   "id": "3919824c-a740-4033-9304-9233eb6e7681",
   "metadata": {
    "tags": []
   },
   "outputs": [
    {
     "name": "stdout",
     "output_type": "stream",
     "text": [
      "Index(['D', 'CANDIDATE NAME (First)', 'CANDIDATE NAME (Last)',\n",
      "       'CANDIDATE NAME(f)', 'CANDIDATE NAME', 'PARTY', '(I)',\n",
      "       'GENERAL VOTES '],\n",
      "      dtype='object')\n",
      "Index(['D', 'CANDIDATE NAME (First)', 'CANDIDATE NAME (Last)',\n",
      "       'CANDIDATE NAME(f)', 'CANDIDATE NAME', 'PARTY', '(I)',\n",
      "       'GENERAL VOTES '],\n",
      "      dtype='object')\n",
      "Index(['D', 'CANDIDATE NAME (First)', 'CANDIDATE NAME (Last)',\n",
      "       'CANDIDATE NAME(f)', 'CANDIDATE NAME', 'PARTY', '(I)',\n",
      "       'GENERAL VOTES '],\n",
      "      dtype='object')\n",
      "Index(['D', 'CANDIDATE NAME (First)', 'CANDIDATE NAME (Last)',\n",
      "       'CANDIDATE NAME(f)', 'CANDIDATE NAME', 'PARTY', '(I)',\n",
      "       'GENERAL VOTES '],\n",
      "      dtype='object')\n",
      "Index(['D', 'CANDIDATE NAME (First)', 'CANDIDATE NAME (Last)',\n",
      "       'CANDIDATE NAME(f)', 'CANDIDATE NAME', 'PARTY', '(I)',\n",
      "       'GENERAL VOTES '],\n",
      "      dtype='object')\n"
     ]
    }
   ],
   "source": [
    "for i in fec_files:\n",
    "    print(i.columns)"
   ]
  },
  {
   "cell_type": "code",
   "execution_count": 7,
   "id": "91ca123f-98ad-44e7-90c5-5812651c6899",
   "metadata": {
    "tags": []
   },
   "outputs": [],
   "source": [
    "# How nice to have data that is consistent over the years examined!"
   ]
  },
  {
   "cell_type": "code",
   "execution_count": null,
   "id": "f58dc619-898a-4312-bec1-8f60ab6e70ae",
   "metadata": {},
   "outputs": [],
   "source": [
    "# In terms of the structure, remember that the shape of our final data for analysis will be:\n",
    "## rows of counties with\n",
    "## columns for each party\n",
    "## columns for each IRS datafield\n",
    "\n",
    "## we will need format the FEC data so that it can be used to replace the candidate names and allow the data to be grouped by party and incumbancy "
   ]
  }
 ],
 "metadata": {
  "kernelspec": {
   "display_name": "Python 3 (ipykernel)",
   "language": "python",
   "name": "python3"
  },
  "language_info": {
   "codemirror_mode": {
    "name": "ipython",
    "version": 3
   },
   "file_extension": ".py",
   "mimetype": "text/x-python",
   "name": "python",
   "nbconvert_exporter": "python",
   "pygments_lexer": "ipython3",
   "version": "3.11.5"
  }
 },
 "nbformat": 4,
 "nbformat_minor": 5
}
