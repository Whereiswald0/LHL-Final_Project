{
 "cells": [
  {
   "cell_type": "code",
   "execution_count": 1,
   "id": "a84ee975-6c51-415d-a309-579f715b7449",
   "metadata": {
    "tags": []
   },
   "outputs": [],
   "source": [
    "import numpy as np\n",
    "import pandas as pd\n",
    "from src.modules import *"
   ]
  },
  {
   "cell_type": "code",
   "execution_count": 2,
   "id": "90c57bc8-4832-494e-a535-ecb590139f02",
   "metadata": {
    "tags": []
   },
   "outputs": [],
   "source": [
    "import os #Used when reading/writing csv files programatically"
   ]
  },
  {
   "cell_type": "code",
   "execution_count": 3,
   "id": "84305d1b-a997-4315-9355-7e1e14cfa159",
   "metadata": {
    "tags": []
   },
   "outputs": [],
   "source": [
    "fed_folder_path = '../data/irs_data/raw' \n",
    "irs_folder_path = '../data/irs_data/'\n",
    "\n",
    "irs_raw_files = [file for file in os.listdir(irs_raw_folder_path ) if os.path.isfile(os.path.join(irs_raw_folder_path , file))]"
   ]
  },
  {
   "cell_type": "code",
   "execution_count": null,
   "id": "a3558b4b-c27f-4b3d-94ba-b52a0d0f071b",
   "metadata": {
    "tags": []
   },
   "outputs": [],
   "source": [
    "# ohio_2012_path = 'data/ohio 2012precinct.xlsx'\n",
    "# excel_2012 = pd.ExcelFile(ohio_2012_path)\n",
    "# sheet_names_2012 = excel_2012.sheet_names\n",
    "\n",
    "# ohio_2014_path = 'data/ohio 2014precinct.xlsx'\n",
    "# excel_2014 = pd.ExcelFile(ohio_2014_path)\n",
    "# sheet_names_2014 = excel_2014.sheet_names\n",
    "\n",
    "# ohio_2016_path = 'data/ohio 2016precinct.xlsx'\n",
    "# excel_2016 = pd.ExcelFile(ohio_2016_path)\n",
    "# sheet_names_2016 = excel_2016.sheet_names\n",
    "\n",
    "# ohio_2018_path = 'data/ohio 2018precinct.xlsx'\n",
    "# excel_2018 = pd.ExcelFile(ohio_2018_path)\n",
    "# sheet_names_2018 = excel_2018.sheet_names\n",
    "\n",
    "# ohio_2020_path = 'data/ohio 2020precinct.xlsx'\n",
    "# excel_2020 = pd.ExcelFile(ohio_2020_path)\n",
    "# sheet_names_2020 = excel_2020.sheet_names"
   ]
  },
  {
   "cell_type": "code",
   "execution_count": null,
   "id": "2391785b-4bdb-42aa-a351-e30ed90df7a3",
   "metadata": {
    "tags": []
   },
   "outputs": [],
   "source": [
    "# Get Ohio data taken from OH SoS page\n",
    "ohio_2012_path = 'data/raw_elec_totals/ohio 2012precinct.xlsx'\n",
    "excel_2012 = pd.ExcelFile(ohio_2012_path)\n",
    "sheet_names_2012 = excel_2012.sheet_names\n",
    "\n",
    "ohio_2014_path = 'data/raw_elec_totals/ohio 2014precinct.xlsx'\n",
    "excel_2014 = pd.ExcelFile(ohio_2014_path)\n",
    "sheet_names_2014 = excel_2014.sheet_names\n",
    "\n",
    "ohio_2016_path = 'data/raw_elec_totals/ohio 2016precinct.xlsx'\n",
    "excel_2016 = pd.ExcelFile(ohio_2016_path)\n",
    "sheet_names_2016 = excel_2016.sheet_names\n",
    "\n",
    "ohio_2018_path = 'data/raw_elec_totals/ohio 2018precinct.xlsx'\n",
    "excel_2018 = pd.ExcelFile(ohio_2018_path)\n",
    "sheet_names_2018 = excel_2018.sheet_names\n",
    "\n",
    "ohio_2020_path = 'data/raw_elec_totals/ohio 2020precinct.xlsx'\n",
    "excel_2020 = pd.ExcelFile(ohio_2020_path)\n",
    "sheet_names_2020 = excel_2020.sheet_names"
   ]
  },
  {
   "cell_type": "code",
   "execution_count": null,
   "id": "0d5836f3-48d6-488b-89ac-4df0d5192545",
   "metadata": {
    "tags": []
   },
   "outputs": [],
   "source": [
    "sheet_names = [sheet_names_2012, sheet_names_2014, sheet_names_2016, sheet_names_2018,sheet_names_2020]"
   ]
  },
  {
   "cell_type": "code",
   "execution_count": null,
   "id": "50ed4212-f870-40c6-b68e-e3ec1d019b92",
   "metadata": {
    "tags": []
   },
   "outputs": [],
   "source": [
    "for i in sheet_names:\n",
    "    print(i)"
   ]
  },
  {
   "cell_type": "code",
   "execution_count": null,
   "id": "3dd7c2f0-e076-4b49-b37c-baa7e44d83d9",
   "metadata": {
    "tags": []
   },
   "outputs": [],
   "source": [
    "cong_OH_2012 = pd.read_excel(ohio_2012_path, sheet_name='U.S. Congress', header=1)\n",
    "cong_OH_2014 = pd.read_excel(ohio_2014_path, sheet_name='U.S. Congress', header=1)\n",
    "cong_OH_2016 = pd.read_excel(ohio_2016_path, sheet_name='U.S. Congress', header=1)\n",
    "cong_OH_2018 = pd.read_excel(ohio_2018_path, sheet_name='U.S. Congress', header=1)\n",
    "cong_OH_2020 = pd.read_excel(ohio_2020_path, sheet_name='U.S. Congress', header=1)"
   ]
  },
  {
   "cell_type": "code",
   "execution_count": null,
   "id": "ca544cde-3575-4303-ae95-168c72dfd8c9",
   "metadata": {
    "tags": []
   },
   "outputs": [],
   "source": [
    "data1 = cong_OH_2012.copy()\n",
    "data2 = cong_OH_2014.copy()\n",
    "data3 = cong_OH_2016.copy()\n",
    "data4 = cong_OH_2018.copy()\n",
    "data5 = cong_OH_2020.copy()"
   ]
  },
  {
   "cell_type": "code",
   "execution_count": null,
   "id": "dccf3b74-7d27-4fa7-a677-83a19a9601b4",
   "metadata": {
    "tags": []
   },
   "outputs": [],
   "source": [
    "data1 = format_OH(data1)\n",
    "data2 = format_OH(data2)\n",
    "data3 = format_OH(data3)\n",
    "data4 = format_OH(data4)\n",
    "data5 = format_OH(data5)"
   ]
  },
  {
   "cell_type": "code",
   "execution_count": null,
   "id": "52c492b2-0654-4066-bba7-4f691c5cfc47",
   "metadata": {
    "tags": []
   },
   "outputs": [],
   "source": [
    "fec_2020 = pd.read_csv(r'data\\FEC\\candidates_2020.csv', index_col=0)\n",
    "fec_2018 = pd.read_csv(r'data\\FEC\\candidates_2018.csv', index_col=0)\n",
    "fec_2016 = pd.read_csv(r'data\\FEC\\candidates_2016.csv', index_col=0)\n",
    "fec_2014 = pd.read_csv(r'data\\FEC\\candidates_2014.csv', index_col=0)\n",
    "fec_2012 = pd.read_csv(r'data\\FEC\\candidates_2012.csv', index_col=0)"
   ]
  },
  {
   "cell_type": "code",
   "execution_count": null,
   "id": "df62267a-cb54-4fbc-b778-b190fa939115",
   "metadata": {
    "tags": []
   },
   "outputs": [],
   "source": [
    "# OH_2012_f, county_2012 = OH_join_FEC2(data1, fec_2012)\n",
    "# OH_2014_f, county_2012 = OH_join_FEC2(data2, fec_2014)\n",
    "# OH_2016_f, county_2012 = OH_join_FEC2(data3, fec_2016)\n",
    "# OH_2018_f, county_2012 = OH_join_FEC2(data4, fec_2018)\n",
    "# OH_2020_f, county_2012 = OH_join_FEC2(data5, fec_2020)"
   ]
  },
  {
   "cell_type": "code",
   "execution_count": null,
   "id": "a789bcb4-dc1f-458a-bc91-4d037829497b",
   "metadata": {
    "tags": []
   },
   "outputs": [],
   "source": [
    "OH_2012_f, county_2012 = state_join_FEC(data1, fec_2012)\n",
    "OH_2014_f, county_2012 = state_join_FEC(data2, fec_2014)\n",
    "OH_2016_f, county_2012 = state_join_FEC(data3, fec_2016)\n",
    "OH_2018_f, county_2012 = state_join_FEC(data4, fec_2018)\n",
    "OH_2020_f, county_2012 = state_join_FEC(data5, fec_2020)"
   ]
  },
  {
   "cell_type": "code",
   "execution_count": null,
   "id": "c186ba65-8e1e-4b26-bbbc-c0a48c540b25",
   "metadata": {
    "tags": []
   },
   "outputs": [],
   "source": [
    "# OH_12, county1 = OH_join_FEC(data1, fec_2012)"
   ]
  },
  {
   "cell_type": "code",
   "execution_count": null,
   "id": "746f7f0d-32b0-41a2-93ff-d0d54440bb08",
   "metadata": {
    "tags": []
   },
   "outputs": [],
   "source": [
    "OH_2012_t = state_trans(OH_2012_f,county_2012)\n",
    "OH_2014_t = state_trans(OH_2014_f,county_2012)\n",
    "OH_2016_t = state_trans(OH_2016_f,county_2012)\n",
    "OH_2018_t = state_trans(OH_2018_f,county_2012)\n",
    "OH_2020_t = state_trans(OH_2020_f,county_2012)"
   ]
  },
  {
   "cell_type": "code",
   "execution_count": null,
   "id": "9564cff1-7d6a-4e1c-9600-cfe7f2dd234d",
   "metadata": {},
   "outputs": [],
   "source": [
    "\n",
    "OH_2012_t.to_csv(r'data\\formatted_house_totals\\OH_House_12.csv', index=False)\n",
    "OH_2014_t.to_csv(r'data\\formatted_house_totals\\OH_House_14.csv', index=False)\n",
    "OH_2016_t.to_csv(r'data\\formatted_house_totals\\OH_House_16.csv', index=False)\n",
    "OH_2018_t.to_csv(r'data\\formatted_house_totals\\OH_House_18.csv', index=False)\n",
    "OH_2020_t.to_csv(r'data\\formatted_house_totals\\OH_House_20.csv', index=False)"
   ]
  },
  {
   "cell_type": "code",
   "execution_count": null,
   "id": "a76cfb4b-e7ae-4030-b340-44cb66b33363",
   "metadata": {
    "tags": []
   },
   "outputs": [],
   "source": [
    "OH_2012_t = OH_2012_t[['County','D0','D1','OTHER0','R0','R1']]"
   ]
  },
  {
   "cell_type": "code",
   "execution_count": null,
   "id": "e0199333-1536-4c35-b6e9-63177eef7988",
   "metadata": {
    "tags": []
   },
   "outputs": [],
   "source": [
    "OH_2012_t"
   ]
  },
  {
   "cell_type": "code",
   "execution_count": null,
   "id": "2cd53b9a-873e-4ef9-b0d6-0da2efb42902",
   "metadata": {
    "tags": []
   },
   "outputs": [],
   "source": [
    "def OH_join_FEC2(data, fec_data):\n",
    "    \"\"\" \n",
    "    This function prepares and joins FEC data to the Ohio election data\n",
    "    \"\"\"\n",
    "    #for OH, first column is always County names\n",
    "    county_col = data.columns[0]\n",
    "    \n",
    "    #county names will be reinserted later for the merger with IRS data\n",
    "    counties = data[county_col].tolist()\n",
    "    data_t = data.drop(county_col, axis=1).copy()\n",
    "    \n",
    "    # Transpose the dataframe so that our columns are the county vote totals and candidates are rows\n",
    "    # This is done to aid the transformation and grouping of candidates by party\n",
    "    data_t=data_t.transpose()\n",
    "    cand_list = list(data_t.index)\n",
    "    \n",
    "    # Render candidate names in lowercase to match FEC data\n",
    "    cand_list = [i.lower() for i in cand_list]\n",
    "    data_t.index = cand_list\n",
    "    \n",
    "    # Merge FEC data, associating each candidate with their party and incumbancy\n",
    "    data_t = pd.merge(data_t, fec_data, left_index=True, right_on='CANDIDATE NAME(f)').reset_index(drop=True)\n",
    "    \n",
    "    # return dataframe of candidates and list of counties\n",
    "    return data_t, counties"
   ]
  },
  {
   "cell_type": "code",
   "execution_count": null,
   "id": "fdda9be5-35e8-4677-81c5-96ea633d3320",
   "metadata": {
    "tags": []
   },
   "outputs": [],
   "source": []
  },
  {
   "cell_type": "code",
   "execution_count": null,
   "id": "41f45592-f961-4ad5-8dee-86c3e18f07c5",
   "metadata": {
    "tags": []
   },
   "outputs": [],
   "source": [
    "test2, county_names2 = OH_join_FEC2(data1, fec_2012)"
   ]
  },
  {
   "cell_type": "code",
   "execution_count": null,
   "id": "db19c7e7-babc-45a8-be9c-07c1bd08933c",
   "metadata": {
    "tags": []
   },
   "outputs": [],
   "source": [
    "test = OH_trans(OH_2012_f)"
   ]
  },
  {
   "cell_type": "code",
   "execution_count": null,
   "id": "a9a247ae-2cde-41d6-8269-4756ac3f9ec2",
   "metadata": {
    "tags": []
   },
   "outputs": [],
   "source": [
    "OH_2014_t.columns"
   ]
  },
  {
   "cell_type": "code",
   "execution_count": null,
   "id": "24b24ad5-d8d1-4e8e-8a59-7598b525a239",
   "metadata": {
    "tags": []
   },
   "outputs": [],
   "source": [
    "dataframe_names = ['cong_OH_2012', 'cong_OH_2014', 'cong_OH_2016', 'cong_OH_2018', 'cong_OH_2020']\n",
    "dataframes_list = [cong_OH_2012, cong_OH_2014, cong_OH_2016, cong_OH_2018, cong_OH_2020]\n",
    "fec_list = [fec_2012, fec_2014, fec_2016, fec_2018, fec_2020]"
   ]
  },
  {
   "cell_type": "code",
   "execution_count": null,
   "id": "3691956b-bdc7-47e0-b2e8-c972a45e66ed",
   "metadata": {
    "tags": []
   },
   "outputs": [],
   "source": [
    "\n",
    "for i, df in zip(dataframe_names, dataframes_list):\n",
    "    formatted_names_list = []\n",
    "    formatted_name = i+'_f'\n",
    "    formatted_names_list.append(formatted_name)\n",
    "    globals()[formatted_name] = format_OH(df)\n",
    "    for i in formatted_names_list:\n",
    "        i,x = "
   ]
  },
  {
   "cell_type": "code",
   "execution_count": null,
   "id": "59e3f205-9317-4755-9924-0fc60d01f3f8",
   "metadata": {
    "tags": []
   },
   "outputs": [],
   "source": [
    "cong_OH_2012_f,county_names = OH_join_FEC2(cong_OH_2012_f,fec_2012)"
   ]
  },
  {
   "cell_type": "code",
   "execution_count": null,
   "id": "e4cee995-38ad-4500-aa5c-c978be7e1a61",
   "metadata": {
    "tags": []
   },
   "outputs": [],
   "source": [
    "fec_2012"
   ]
  },
  {
   "cell_type": "code",
   "execution_count": null,
   "id": "32525eec-fedf-4782-97c9-d6777027106d",
   "metadata": {
    "tags": []
   },
   "outputs": [],
   "source": [
    "c_names = []\n",
    "for df1, df2 in zip(dataframes_list, fec_list):\n",
    "    df1 = format_OH(df1)\n",
    "    df1, c_names = OH_join_FEC(df1, df2)\n",
    "    df1 = OH_trans(df1)"
   ]
  },
  {
   "cell_type": "code",
   "execution_count": null,
   "id": "a3e755ca-df75-4e51-a9ac-a27f62f9103e",
   "metadata": {
    "tags": []
   },
   "outputs": [],
   "source": [
    "formatted_names_list"
   ]
  },
  {
   "cell_type": "code",
   "execution_count": null,
   "id": "03c444ab-0724-41a1-a9a6-1ec27e9dd84e",
   "metadata": {
    "tags": []
   },
   "outputs": [],
   "source": [
    "cong_OH_2012_f.columns"
   ]
  },
  {
   "cell_type": "code",
   "execution_count": null,
   "id": "8e5ee8f6-c2d0-4cb5-98a4-15f9631a814f",
   "metadata": {
    "tags": []
   },
   "outputs": [],
   "source": [
    "# candidates = [i for i in data.columns if i.endswith(')') or i.endswith('*')] #this will remove general information about the election, we only want the details about each canddidate\n",
    "# col_dic = {'County Name':'County'}\n",
    "# data = data.rename(columns=col_dic)\n",
    "# bad_counties = ['Total','Percentage']\n",
    "# data = data[~data['County'].isin(bad_counties)].copy()\n",
    "# candidates.insert(0, data.columns[0])\n",
    "# data_copy = data[candidates]\n",
    "# data_copy.columns = trim_party(data_copy.columns) #apply trim_party to get just candidate names\n",
    "# l = remove_middle_name(list(data_copy.columns))\n",
    "# data_copy.columns = l\n",
    "# data_copy = data_copy.groupby('County').sum()\n",
    "# # new_cols = candidates.insert(0, data.columns[0])\n",
    "# # data_copy = data[candidates]"
   ]
  },
  {
   "cell_type": "code",
   "execution_count": null,
   "id": "2690ecc2-d776-4f8c-9432-823bd2f1e137",
   "metadata": {
    "tags": []
   },
   "outputs": [],
   "source": [
    "# def format_OH(data):\n",
    "#     candidates = [i for i in data.columns if i.endswith(')') or i.endswith('*')] #this will remove general information about the election, we only want the details about each canddidate\n",
    "#     col_dic = {'County Name':'County'}\n",
    "#     data = data.rename(columns=col_dic)\n",
    "#     bad_counties = ['Total','Percentage']\n",
    "#     data = data[~data['County'].isin(bad_counties)].copy()\n",
    "#     candidates.insert(0, data.columns[0])\n",
    "#     data_copy = data[candidates].copy()\n",
    "#     data_copy.columns = trim_party(data_copy.columns) #apply trim_party to get just candidate names\n",
    "#     l = remove_middle_name(list(data_copy.columns))\n",
    "#     data_copy.columns = l\n",
    "#     data_copy = data_copy.groupby('County').sum()\n",
    "#     return data_copy"
   ]
  },
  {
   "cell_type": "code",
   "execution_count": null,
   "id": "b7a45d0f-e5bd-4898-af44-634d4b58e9d6",
   "metadata": {
    "tags": []
   },
   "outputs": [],
   "source": [
    "# def format_OH2(data):\n",
    "#     col_dic = {'County Name':'County'} #column names to reformat\n",
    "#     bad_counties = ['Total','Percentage'] #rows with totals rather than county data\n",
    "    \n",
    "#     #remove general information about the election, we only want the details about each canddidate, OH marks candidates by party or * if write-in\n",
    "#     candidates = [i for i in data.columns if i.endswith(')') or i.endswith('*')] #gets list of candidates\n",
    "#     data = data.rename(columns=col_dic) \n",
    "    \n",
    "#     #Add the renamed 'County' column (always 1st column) to our list of candidates\n",
    "#     candidates.insert(0, data.columns[0])\n",
    "    \n",
    "#     #use defined \"bad terms\" to remove unneeded information from the table\n",
    "#     data = data[~data['County'].isin(bad_counties)].copy()\n",
    "    \n",
    "#     #future cases may want to split the flow here, to evauluate other races than House races\n",
    "#     data_copy = data[candidates].copy()\n",
    "    \n",
    "#      #apply trim_party to get just candidate names w/o party designation\n",
    "#     data_copy.columns = trim_party(data_copy.columns)\n",
    "    \n",
    "#     #ensure all column names will be compatable with the FEC data for future mergers\n",
    "#     ###\n",
    "#     ### NOTE - this step will be complicated for states that have candidates with the same first and last name running - edge cases, but must be accounted for in the future\n",
    "#     ###\n",
    "#     data_copy.columns = remove_middle_name(list(data_copy.columns))\n",
    "#     #OH reports by precinct, we only need data by 'County'\n",
    "#     data_copy = data_copy.groupby('County').sum().reset_index()\n",
    "#     return data_copy"
   ]
  },
  {
   "cell_type": "code",
   "execution_count": null,
   "id": "77eadd67-3484-44cc-bbff-6034c24e47b4",
   "metadata": {
    "tags": []
   },
   "outputs": [],
   "source": [
    "# col_dic = {'County Name':'County'} #column names to reformat\n",
    "# bad_counties = ['Total','Percentage'] #rows with totals rather than county data\n",
    "\n",
    "# #remove general information about the election, we only want the details about each canddidate, OH marks candidates by party or * if write-in\n",
    "# candidates = [i for i in data.columns if i.endswith(')') or i.endswith('*')] #gets list of candidates\n",
    "# data = data.rename(columns=col_dic) \n",
    "\n",
    "# #Add the renamed 'County' column (always 1st column) to our list of candidates\n",
    "# candidates.insert(0, data.columns[0])\n",
    "\n",
    "# #use defined \"bad terms\" to remove unneeded information from the table\n",
    "# data = data[~data['County'].isin(bad_counties)].copy()\n",
    "\n",
    "# #future cases may want to split the flow here, to evauluate other races than House races\n",
    "# data_copy = data[candidates].copy()\n",
    "\n",
    "#  #apply trim_party to get just candidate names w/o party designation\n",
    "# data_copy.columns = trim_party(data_copy.columns)\n"
   ]
  },
  {
   "cell_type": "code",
   "execution_count": null,
   "id": "66dd077d-cde0-4956-8d48-964bb0c2f6bd",
   "metadata": {
    "tags": []
   },
   "outputs": [],
   "source": [
    "# def remove_middle_name2(data):\n",
    "#     \"\"\"this will return the start and end of a split item,\n",
    "#     built to remove middle names and titles from full name columns \"\"\"\n",
    "#     no_middle = []\n",
    "#     for i in data:\n",
    "#         if len(i.split()) > 1:\n",
    "#             if i.split()[-1][-1] == '.':\n",
    "#                 no_middle.append(i.split()[0] + ' ' + i.split()[-2])\n",
    "#             elif i.split()[-1] == 'Jr':\n",
    "#                 no_middle.append(i.split()[0] + ' ' + i.split()[-2])\n",
    "#             elif i.split()[-1] == 'Sr':\n",
    "#                 no_middle.append(i.split()[0] + ' ' + i.split()[-2])\n",
    "#             else:\n",
    "#                 no_middle.append(i.split()[0] + ' ' + i.split()[-1])\n",
    "#         else:\n",
    "#             no_middle.append(i)\n",
    "#     return no_middle"
   ]
  },
  {
   "cell_type": "code",
   "execution_count": null,
   "id": "fce8e4b9-0bc4-4a2b-9270-d8715fa4425d",
   "metadata": {
    "tags": []
   },
   "outputs": [],
   "source": [
    "# data_copy_col = list(data_copy.columns)"
   ]
  },
  {
   "cell_type": "code",
   "execution_count": null,
   "id": "8d755f74-3966-46a6-b8db-51799106fca8",
   "metadata": {
    "tags": []
   },
   "outputs": [],
   "source": [
    "# data_copy.columns = remove_middle_name2(data_copy_col)"
   ]
  },
  {
   "cell_type": "code",
   "execution_count": null,
   "id": "44c7cbf1-7d24-4759-b1ec-bf05a834cace",
   "metadata": {
    "tags": []
   },
   "outputs": [],
   "source": [
    "# data_copy"
   ]
  },
  {
   "cell_type": "code",
   "execution_count": null,
   "id": "1e1536ec-60eb-4daf-8638-6c881989dec8",
   "metadata": {
    "tags": []
   },
   "outputs": [],
   "source": [
    "OH_2020_f = format_OH(data)\n",
    "OH_2012_f = format_OH(data2)"
   ]
  },
  {
   "cell_type": "code",
   "execution_count": null,
   "id": "b3d7e390-f116-467f-b3ef-479fbf59c3a3",
   "metadata": {
    "tags": []
   },
   "outputs": [],
   "source": [
    "OH_2012_f"
   ]
  },
  {
   "cell_type": "code",
   "execution_count": null,
   "id": "0f84a052-35e4-4fa7-a546-155c6c5d776f",
   "metadata": {
    "tags": []
   },
   "outputs": [],
   "source": [
    "OH_2020_f"
   ]
  },
  {
   "cell_type": "code",
   "execution_count": null,
   "id": "720d8c59-30e9-433f-a894-2a7dfa7b7161",
   "metadata": {
    "tags": []
   },
   "outputs": [],
   "source": [
    "fec_OH_2020 = fec_2020.loc[(fec_2020['STATE ABBREVIATION']=='OH')&(fec_2020['D']!='S')] #get only house races in OH"
   ]
  },
  {
   "cell_type": "code",
   "execution_count": null,
   "id": "6dc00ea1-63af-4e6f-85f9-f1ff37a4f8e8",
   "metadata": {
    "tags": []
   },
   "outputs": [],
   "source": [
    "# do not use\n",
    "\n",
    "#def OH_join_FEC(data, fec_data):\n",
    "#     #for OH, first column is always County names\n",
    "#     county_names = data.columns[0]\n",
    "#     data_t = data.drop(county_names, axis=1).copy()\n",
    "#     data_t=data_t.transpose()\n",
    "#     cand_list = list(data_t.index)\n",
    "#     cand_list = [i.lower() for i in cand_list]\n",
    "#     data_t.index = cand_list\n",
    "#     data_t = pd.merge(data_t, fec_data, left_index=True, right_on='CANDIDATE NAME(f)').reset_index(drop=True)\n",
    "#     # data_t = data_t.reset_index()\n",
    "#     return data_t"
   ]
  },
  {
   "cell_type": "code",
   "execution_count": null,
   "id": "8058e92c-d27e-40b8-88e7-03d06838e0b5",
   "metadata": {
    "tags": []
   },
   "outputs": [],
   "source": [
    "# def OH_trans(data):\n",
    "#     grouped_data = data.groupby(['PARTY','(I)']).sum()\n",
    "#     drop_cols = [i for i in grouped_data.columns.tolist() if str(i).isnumeric()]\n",
    "#     fit_data = grouped_data[drop_cols]\n",
    "#     result_data = fit_data.apply(lambda x: x.droplevel(1).T.reset_index(drop=True)).reset_index(drop=True)\n",
    "#     result_data['index'] = grouped_data.index.get_level_values('PARTY')+grouped_data.index.get_level_values('(I)').astype(str)\n",
    "#     reset_data = result_data.T\n",
    "#     reset_data.columns = reset_data.iloc[-1]\n",
    "#     reset_data = reset_data[:-1]\n",
    "#     return reset_data"
   ]
  },
  {
   "cell_type": "code",
   "execution_count": null,
   "id": "1638ccd5-1121-41d4-b301-7f82be235fbe",
   "metadata": {
    "tags": []
   },
   "outputs": [],
   "source": [
    "# def OH_join_FEC2(data, fec_data):\n",
    "#     #for OH, first column is always County names\n",
    "#     county_col = data.columns[0]\n",
    "#     counties = data[county_col].tolist()\n",
    "#     data_t = data.drop(county_col, axis=1).copy()\n",
    "#     data_t=data_t.transpose()\n",
    "#     cand_list = list(data_t.index)\n",
    "#     cand_list = [i.lower() for i in cand_list]\n",
    "#     data_t.index = cand_list\n",
    "#     data_t = pd.merge(data_t, fec_data, left_index=True, right_on='CANDIDATE NAME(f)').reset_index(drop=True)\n",
    "#     # data_t = data_t.reset_index()\n",
    "#     return data_t, counties"
   ]
  },
  {
   "cell_type": "code",
   "execution_count": null,
   "id": "ef8c7212-143d-41e5-b55a-f0cc8884c299",
   "metadata": {
    "tags": []
   },
   "outputs": [],
   "source": [
    "OH_2020_t = OH_join_FEC(OH_2020_f,fec_OH_2020)"
   ]
  },
  {
   "cell_type": "code",
   "execution_count": null,
   "id": "390d6b0e-f095-4df1-8321-dd6604179275",
   "metadata": {
    "tags": []
   },
   "outputs": [],
   "source": [
    "grouped_data = OH_2020_t.groupby(['PARTY','(I)']).sum()"
   ]
  },
  {
   "cell_type": "code",
   "execution_count": null,
   "id": "9988d696-e2b3-43ca-93fa-1976b0181765",
   "metadata": {
    "tags": []
   },
   "outputs": [],
   "source": [
    "county_names = OH_2020_f['County']\n",
    "data_t = OH_2020_f.drop('County', axis=1)\n"
   ]
  },
  {
   "cell_type": "code",
   "execution_count": null,
   "id": "dd970403-43d9-4ee8-8096-f65d111bb3c4",
   "metadata": {
    "tags": []
   },
   "outputs": [],
   "source": [
    "grouped_data"
   ]
  },
  {
   "cell_type": "code",
   "execution_count": null,
   "id": "6fb5709d-9285-4753-b9dd-1de069f610a9",
   "metadata": {
    "tags": []
   },
   "outputs": [],
   "source": [
    "drop_cols = grouped_data.columns.tolist()"
   ]
  },
  {
   "cell_type": "code",
   "execution_count": null,
   "id": "dd151823-1e16-4772-9988-6f47a9acec6c",
   "metadata": {
    "tags": []
   },
   "outputs": [],
   "source": [
    "drop_cols = [i for i in grouped_data.columns.tolist() if str(i).isnumeric()]"
   ]
  },
  {
   "cell_type": "code",
   "execution_count": null,
   "id": "43a7f9ad-9590-4c69-bf6f-a9814c96bb95",
   "metadata": {
    "tags": []
   },
   "outputs": [],
   "source": [
    "fit_data = grouped_data[drop_cols]"
   ]
  },
  {
   "cell_type": "code",
   "execution_count": null,
   "id": "f67e360d-cd71-4b79-8bd3-663ecb83c486",
   "metadata": {
    "tags": []
   },
   "outputs": [],
   "source": [
    "fit_data"
   ]
  },
  {
   "cell_type": "code",
   "execution_count": null,
   "id": "f6dffc46-0af1-4e5a-87b8-0026a2f6394b",
   "metadata": {
    "tags": []
   },
   "outputs": [],
   "source": [
    "result_data = fit_data.apply(lambda x: x.droplevel(1).T.reset_index(drop=True)).reset_index(drop=True)\n",
    "result_data"
   ]
  },
  {
   "cell_type": "code",
   "execution_count": null,
   "id": "8a391bd9-a01f-4839-a007-71de4350bc79",
   "metadata": {
    "tags": []
   },
   "outputs": [],
   "source": [
    "result_data['index'] = grouped_data.index.get_level_values('PARTY')+grouped_data.index.get_level_values('(I)').astype(str)"
   ]
  },
  {
   "cell_type": "code",
   "execution_count": null,
   "id": "a2981c02-e6a8-4389-8e59-80f61bb69f57",
   "metadata": {
    "tags": []
   },
   "outputs": [],
   "source": [
    "reset_data = result_data.T\n",
    "reset_data.columns = reset_data.iloc[-1]\n",
    "reset_data = reset_data[:-1]"
   ]
  },
  {
   "cell_type": "code",
   "execution_count": null,
   "id": "308c350b-c810-465c-acb4-8cfb84156488",
   "metadata": {
    "tags": []
   },
   "outputs": [],
   "source": [
    "reset_data"
   ]
  },
  {
   "cell_type": "code",
   "execution_count": null,
   "id": "d74af50a-190a-455e-8c27-c71203680aef",
   "metadata": {
    "tags": []
   },
   "outputs": [],
   "source": [
    "data_t=data_t.transpose()"
   ]
  },
  {
   "cell_type": "code",
   "execution_count": null,
   "id": "dab88af2-c776-4476-b955-2de68c131f6f",
   "metadata": {
    "tags": []
   },
   "outputs": [],
   "source": [
    "cand_list = list(data_t.index)\n",
    "cand_list = [i.lower() for i in cand_list]\n",
    "data_t.index = cand_list"
   ]
  },
  {
   "cell_type": "code",
   "execution_count": null,
   "id": "f5611472-3099-4c76-a51b-1e0e6132360e",
   "metadata": {
    "tags": []
   },
   "outputs": [],
   "source": [
    "cand_list"
   ]
  },
  {
   "cell_type": "code",
   "execution_count": null,
   "id": "14533753-288b-49da-af6e-2edd3eed07a7",
   "metadata": {
    "tags": []
   },
   "outputs": [],
   "source": [
    "data_t = pd.merge(data_t, fec_OH_2020, left_index=True, right_on='CANDIDATE NAME(f)')"
   ]
  },
  {
   "cell_type": "code",
   "execution_count": null,
   "id": "416ef12b-3442-4a1f-b3ae-8ad0f79bf7b9",
   "metadata": {
    "tags": []
   },
   "outputs": [],
   "source": [
    "def remove_middle_name(data):\n",
    "    no_middle = []\n",
    "    for i in data:\n",
    "        if len(i.split()) > 1:\n",
    "            if i.split()[-1][-1] == '.' or i.split()[-1] == 'Jr' or i.split()[-1]== 'Sr':\n",
    "                no_middle.append(i.split()[0] + ' ' + i.split()[-2])\n",
    "            else:\n",
    "                no_middle.append(i.split()[0] + ' ' + i.split()[-1])\n",
    "        else:\n",
    "            no_middle.append(i)\n",
    "    return no_middle"
   ]
  },
  {
   "cell_type": "code",
   "execution_count": null,
   "id": "a7a8cd21-fe4a-44ba-86eb-21bd87ecbfbe",
   "metadata": {
    "tags": []
   },
   "outputs": [],
   "source": [
    "l = remove_middle_name(list(data_copy.columns))"
   ]
  },
  {
   "cell_type": "code",
   "execution_count": null,
   "id": "2a2756e0-6ef6-4517-b7a8-8cce778d94c9",
   "metadata": {
    "tags": []
   },
   "outputs": [],
   "source": [
    "data_copy.columns = l"
   ]
  },
  {
   "cell_type": "code",
   "execution_count": null,
   "id": "b3039c2e-b0b0-48f1-a1a0-354f0a1ff7af",
   "metadata": {
    "tags": []
   },
   "outputs": [],
   "source": [
    "data_copy.columns"
   ]
  },
  {
   "cell_type": "code",
   "execution_count": null,
   "id": "8d654931-7d2f-40f4-bbdc-a4117097ece1",
   "metadata": {
    "tags": []
   },
   "outputs": [],
   "source": [
    "candidates.insert(0, data.columns[0])\n",
    "candidates\n",
    "# data_copy = data[new_cols]"
   ]
  },
  {
   "cell_type": "code",
   "execution_count": null,
   "id": "3a3cb524-6806-4218-979f-889016fd4198",
   "metadata": {
    "tags": []
   },
   "outputs": [],
   "source": [
    "new_cols"
   ]
  },
  {
   "cell_type": "code",
   "execution_count": null,
   "id": "d0e5e1b8-3a1a-44ed-bf7e-48e3e0c10a2a",
   "metadata": {
    "tags": []
   },
   "outputs": [],
   "source": [
    "len(candidates)"
   ]
  },
  {
   "cell_type": "code",
   "execution_count": null,
   "id": "e1b5f572-6cc8-462b-8fa2-deefcaf30c05",
   "metadata": {},
   "outputs": [],
   "source": []
  }
 ],
 "metadata": {
  "kernelspec": {
   "display_name": "Python 3 (ipykernel)",
   "language": "python",
   "name": "python3"
  },
  "language_info": {
   "codemirror_mode": {
    "name": "ipython",
    "version": 3
   },
   "file_extension": ".py",
   "mimetype": "text/x-python",
   "name": "python",
   "nbconvert_exporter": "python",
   "pygments_lexer": "ipython3",
   "version": "3.11.5"
  }
 },
 "nbformat": 4,
 "nbformat_minor": 5
}
