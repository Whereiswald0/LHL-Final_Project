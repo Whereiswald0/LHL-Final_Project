{
 "cells": [
  {
   "cell_type": "code",
   "execution_count": 1,
   "id": "ece69273-e78d-44de-b483-8fea56454144",
   "metadata": {
    "tags": []
   },
   "outputs": [],
   "source": [
    "import numpy as np\n",
    "import pandas as pd"
   ]
  },
  {
   "cell_type": "code",
   "execution_count": 3,
   "id": "8cf04127-e9c8-49ba-a64d-306304fae58e",
   "metadata": {
    "tags": []
   },
   "outputs": [],
   "source": [
    "ohio_2014_path = 'data/ohio 2014precinct.xlsx'\n",
    "excel_2014 = pd.ExcelFile(ohio_2014_path)\n",
    "sheet_names = excel_2014.sheet_names"
   ]
  },
  {
   "cell_type": "code",
   "execution_count": 4,
   "id": "fefd943b-f4b2-4c96-8615-48ced83c75db",
   "metadata": {
    "tags": []
   },
   "outputs": [
    {
     "name": "stdout",
     "output_type": "stream",
     "text": [
      "Precinct-by-Precinct Results\n"
     ]
    }
   ],
   "source": [
    "for i in sheet_names:\n",
    "    print(i)"
   ]
  },
  {
   "cell_type": "code",
   "execution_count": 5,
   "id": "754a5b25-b981-4f60-b922-de4b657652a7",
   "metadata": {
    "tags": []
   },
   "outputs": [],
   "source": [
    "data = pd.read_excel(ohio_2014_path, sheet_name='Precinct-by-Precinct Results', header=1)"
   ]
  },
  {
   "cell_type": "code",
   "execution_count": 8,
   "id": "a6baf9d0-5a08-467c-bfac-b5fecf3345d7",
   "metadata": {
    "tags": []
   },
   "outputs": [
    {
     "data": {
      "text/html": [
       "<div>\n",
       "<style scoped>\n",
       "    .dataframe tbody tr th:only-of-type {\n",
       "        vertical-align: middle;\n",
       "    }\n",
       "\n",
       "    .dataframe tbody tr th {\n",
       "        vertical-align: top;\n",
       "    }\n",
       "\n",
       "    .dataframe thead th {\n",
       "        text-align: right;\n",
       "    }\n",
       "</style>\n",
       "<table border=\"1\" class=\"dataframe\">\n",
       "  <thead>\n",
       "    <tr style=\"text-align: right;\">\n",
       "      <th></th>\n",
       "      <th>County</th>\n",
       "      <th>Precinct Code</th>\n",
       "      <th>Precinct Name</th>\n",
       "      <th>Region</th>\n",
       "      <th>Media Market</th>\n",
       "      <th>Registered Voters</th>\n",
       "      <th>Total Voters</th>\n",
       "      <th>Edward FitzGerald (D)</th>\n",
       "      <th>John Kasich (R)</th>\n",
       "      <th>Anita Rios (G)</th>\n",
       "      <th>...</th>\n",
       "      <th>Anthony Kendell (R)</th>\n",
       "      <th>Patricia A. Myers (R)</th>\n",
       "      <th>Donnie Barrera (R)</th>\n",
       "      <th>Lawrence A. Dordea (R)</th>\n",
       "      <th>George T. Maier (D)</th>\n",
       "      <th>Rachael S. Gilroy (R)</th>\n",
       "      <th>Angela S. McQuillen (R)</th>\n",
       "      <th>Pam Ferrell (D)</th>\n",
       "      <th>James N. Bahnsen (R)</th>\n",
       "      <th>Char Lee (R)</th>\n",
       "    </tr>\n",
       "  </thead>\n",
       "  <tbody>\n",
       "    <tr>\n",
       "      <th>1</th>\n",
       "      <td>Adams</td>\n",
       "      <td>AAA</td>\n",
       "      <td>BRATTON TOWNSHIP</td>\n",
       "      <td>Southwest</td>\n",
       "      <td>Cincinnati</td>\n",
       "      <td>946</td>\n",
       "      <td>368</td>\n",
       "      <td>76</td>\n",
       "      <td>278</td>\n",
       "      <td>8</td>\n",
       "      <td>...</td>\n",
       "      <td>0</td>\n",
       "      <td>0</td>\n",
       "      <td>0</td>\n",
       "      <td>0</td>\n",
       "      <td>0</td>\n",
       "      <td>0</td>\n",
       "      <td>0</td>\n",
       "      <td>0</td>\n",
       "      <td>0</td>\n",
       "      <td>0</td>\n",
       "    </tr>\n",
       "    <tr>\n",
       "      <th>2</th>\n",
       "      <td>Adams</td>\n",
       "      <td>AAB</td>\n",
       "      <td>BRUSH CREEK TWP</td>\n",
       "      <td>Southwest</td>\n",
       "      <td>Cincinnati</td>\n",
       "      <td>827</td>\n",
       "      <td>283</td>\n",
       "      <td>61</td>\n",
       "      <td>209</td>\n",
       "      <td>7</td>\n",
       "      <td>...</td>\n",
       "      <td>0</td>\n",
       "      <td>0</td>\n",
       "      <td>0</td>\n",
       "      <td>0</td>\n",
       "      <td>0</td>\n",
       "      <td>0</td>\n",
       "      <td>0</td>\n",
       "      <td>0</td>\n",
       "      <td>0</td>\n",
       "      <td>0</td>\n",
       "    </tr>\n",
       "    <tr>\n",
       "      <th>3</th>\n",
       "      <td>Adams</td>\n",
       "      <td>AAE</td>\n",
       "      <td>GREEN TOWNSHIP</td>\n",
       "      <td>Southwest</td>\n",
       "      <td>Cincinnati</td>\n",
       "      <td>449</td>\n",
       "      <td>121</td>\n",
       "      <td>43</td>\n",
       "      <td>73</td>\n",
       "      <td>3</td>\n",
       "      <td>...</td>\n",
       "      <td>0</td>\n",
       "      <td>0</td>\n",
       "      <td>0</td>\n",
       "      <td>0</td>\n",
       "      <td>0</td>\n",
       "      <td>0</td>\n",
       "      <td>0</td>\n",
       "      <td>0</td>\n",
       "      <td>0</td>\n",
       "      <td>0</td>\n",
       "    </tr>\n",
       "    <tr>\n",
       "      <th>4</th>\n",
       "      <td>Adams</td>\n",
       "      <td>AAG</td>\n",
       "      <td>JEFFERSON TWP</td>\n",
       "      <td>Southwest</td>\n",
       "      <td>Cincinnati</td>\n",
       "      <td>576</td>\n",
       "      <td>184</td>\n",
       "      <td>46</td>\n",
       "      <td>132</td>\n",
       "      <td>5</td>\n",
       "      <td>...</td>\n",
       "      <td>0</td>\n",
       "      <td>0</td>\n",
       "      <td>0</td>\n",
       "      <td>0</td>\n",
       "      <td>0</td>\n",
       "      <td>0</td>\n",
       "      <td>0</td>\n",
       "      <td>0</td>\n",
       "      <td>0</td>\n",
       "      <td>0</td>\n",
       "    </tr>\n",
       "    <tr>\n",
       "      <th>5</th>\n",
       "      <td>Adams</td>\n",
       "      <td>ABI</td>\n",
       "      <td>LIBERTY NORTH</td>\n",
       "      <td>Southwest</td>\n",
       "      <td>Cincinnati</td>\n",
       "      <td>503</td>\n",
       "      <td>216</td>\n",
       "      <td>39</td>\n",
       "      <td>173</td>\n",
       "      <td>2</td>\n",
       "      <td>...</td>\n",
       "      <td>0</td>\n",
       "      <td>0</td>\n",
       "      <td>0</td>\n",
       "      <td>0</td>\n",
       "      <td>0</td>\n",
       "      <td>0</td>\n",
       "      <td>0</td>\n",
       "      <td>0</td>\n",
       "      <td>0</td>\n",
       "      <td>0</td>\n",
       "    </tr>\n",
       "  </tbody>\n",
       "</table>\n",
       "<p>5 rows × 902 columns</p>\n",
       "</div>"
      ],
      "text/plain": [
       "  County Precinct Code     Precinct Name     Region Media Market  \\\n",
       "1  Adams           AAA  BRATTON TOWNSHIP  Southwest   Cincinnati   \n",
       "2  Adams           AAB   BRUSH CREEK TWP  Southwest   Cincinnati   \n",
       "3  Adams           AAE    GREEN TOWNSHIP  Southwest   Cincinnati   \n",
       "4  Adams           AAG     JEFFERSON TWP  Southwest   Cincinnati   \n",
       "5  Adams           ABI     LIBERTY NORTH  Southwest   Cincinnati   \n",
       "\n",
       "   Registered Voters  Total Voters  Edward FitzGerald (D)  John Kasich (R)  \\\n",
       "1                946           368                     76              278   \n",
       "2                827           283                     61              209   \n",
       "3                449           121                     43               73   \n",
       "4                576           184                     46              132   \n",
       "5                503           216                     39              173   \n",
       "\n",
       "   Anita Rios (G)  ...  Anthony Kendell (R)  Patricia A. Myers (R)  \\\n",
       "1               8  ...                    0                      0   \n",
       "2               7  ...                    0                      0   \n",
       "3               3  ...                    0                      0   \n",
       "4               5  ...                    0                      0   \n",
       "5               2  ...                    0                      0   \n",
       "\n",
       "   Donnie Barrera (R)  Lawrence A. Dordea (R)  George T. Maier (D)  \\\n",
       "1                   0                       0                    0   \n",
       "2                   0                       0                    0   \n",
       "3                   0                       0                    0   \n",
       "4                   0                       0                    0   \n",
       "5                   0                       0                    0   \n",
       "\n",
       "   Rachael S. Gilroy (R)  Angela S. McQuillen (R)  Pam Ferrell (D)  \\\n",
       "1                      0                        0                0   \n",
       "2                      0                        0                0   \n",
       "3                      0                        0                0   \n",
       "4                      0                        0                0   \n",
       "5                      0                        0                0   \n",
       "\n",
       "   James N. Bahnsen (R)  Char Lee (R)  \n",
       "1                     0             0  \n",
       "2                     0             0  \n",
       "3                     0             0  \n",
       "4                     0             0  \n",
       "5                     0             0  \n",
       "\n",
       "[5 rows x 902 columns]"
      ]
     },
     "execution_count": 8,
     "metadata": {},
     "output_type": "execute_result"
    }
   ],
   "source": [
    "data.head()"
   ]
  },
  {
   "cell_type": "code",
   "execution_count": 7,
   "id": "1ec0f98b-c8af-422a-96dc-1d9802276bb3",
   "metadata": {
    "tags": []
   },
   "outputs": [],
   "source": [
    "data = data.drop([0]).copy()"
   ]
  },
  {
   "cell_type": "code",
   "execution_count": 9,
   "id": "2c77ae72-b65c-4830-80f2-60ee22668947",
   "metadata": {
    "tags": []
   },
   "outputs": [],
   "source": [
    "candidates = [i for i in data.columns if i.endswith(')')] #this will remove general information about the election, we only want the details about each canddidate"
   ]
  },
  {
   "cell_type": "code",
   "execution_count": 10,
   "id": "2d52fa2f-30e5-4fd4-b3d7-7f390a26a006",
   "metadata": {
    "tags": []
   },
   "outputs": [],
   "source": [
    "keep_cols = [data.columns[0]] + candidates #add in the column for the county names to the columns for candidates"
   ]
  },
  {
   "cell_type": "code",
   "execution_count": null,
   "id": "381c40d4-a62f-455b-919b-6f36871bcca6",
   "metadata": {},
   "outputs": [],
   "source": []
  }
 ],
 "metadata": {
  "kernelspec": {
   "display_name": "Python 3 (ipykernel)",
   "language": "python",
   "name": "python3"
  },
  "language_info": {
   "codemirror_mode": {
    "name": "ipython",
    "version": 3
   },
   "file_extension": ".py",
   "mimetype": "text/x-python",
   "name": "python",
   "nbconvert_exporter": "python",
   "pygments_lexer": "ipython3",
   "version": "3.11.5"
  }
 },
 "nbformat": 4,
 "nbformat_minor": 5
}
