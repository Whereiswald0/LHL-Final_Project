{
 "cells": [
  {
   "cell_type": "code",
   "execution_count": 2,
   "id": "b5bb24d5-cdd0-456b-80b6-cab8001f3e7a",
   "metadata": {
    "tags": []
   },
   "outputs": [],
   "source": [
    "import numpy as np\n",
    "import pandas as pd\n",
    "from src.modules import *"
   ]
  },
  {
   "cell_type": "code",
   "execution_count": 4,
   "id": "f3960044-6ef0-4402-88e4-70ae78995779",
   "metadata": {
    "tags": []
   },
   "outputs": [
    {
     "name": "stdout",
     "output_type": "stream",
     "text": [
      "Publication Information\n",
      "Table 5. P&G VotesCastforCong\n",
      "Table 6. Senate by Party\n",
      "Table 7. House by Party\n",
      "2012 US House & Senate Results\n",
      "CT, UT, OR Party Conventions\n",
      "2012 Party Labels\n",
      "2012 Primary Dates\n"
     ]
    }
   ],
   "source": [
    "results_2012_path = 'data/FEC/raw/FEC_2012_cong_results.xls'\n",
    "results_2012 = pd.ExcelFile(results_2012_path)\n",
    "sheet_names_2012 = results_2012.sheet_names\n",
    "for i in sheet_names_2012:\n",
    "    print(i)"
   ]
  },
  {
   "cell_type": "code",
   "execution_count": 5,
   "id": "57dfae25-0108-457e-942d-504a7dfc651f",
   "metadata": {
    "tags": []
   },
   "outputs": [],
   "source": [
    "data_2012 = pd.read_excel(results_2012_path, sheet_name='2012 US House & Senate Results', header=0)"
   ]
  },
  {
   "cell_type": "code",
   "execution_count": 6,
   "id": "c9ee9198-c27b-4b21-a30e-085f5c3af496",
   "metadata": {
    "tags": []
   },
   "outputs": [
    {
     "name": "stdout",
     "output_type": "stream",
     "text": [
      "Publication Information\n",
      "Table 1. GE Votes Cast\n",
      "Table 2. GE Votes Cast by Party\n",
      "Table 3. P&G VotesCastforCong\n",
      "Table 4. Senate by Party\n",
      "Table 5. House by Party\n",
      "2014 US Senate Results by State\n",
      "2014 US House Results by State\n",
      "CT, IA, UT Party Conventions\n",
      "2014 Party Labels\n",
      "2014 Primary Dates\n"
     ]
    }
   ],
   "source": [
    "results_2014_path = 'data/FEC/raw/FEC_2014_cong_results.xls'\n",
    "results_2014 = pd.ExcelFile(results_2014_path)\n",
    "sheet_names_2014 = results_2014.sheet_names\n",
    "for i in sheet_names_2014:\n",
    "    print(i)"
   ]
  },
  {
   "cell_type": "code",
   "execution_count": 7,
   "id": "8dce1955-b811-4237-a220-170747882dcd",
   "metadata": {
    "tags": []
   },
   "outputs": [],
   "source": [
    "data_2014 = pd.read_excel(results_2014_path, sheet_name='2014 US House Results by State', header=0)"
   ]
  },
  {
   "cell_type": "code",
   "execution_count": 8,
   "id": "0258bdc3-a719-447b-a416-d7528f48a113",
   "metadata": {
    "tags": []
   },
   "outputs": [
    {
     "name": "stdout",
     "output_type": "stream",
     "text": [
      "Publication Information\n",
      "Table 1. 2016 Pres Popular Vote\n",
      "Table 2. Electoral &  Pop Vote\n",
      "Table 3. GEVotes for Pres, H, S\n",
      "Table 4. GE Votes Cast by Party\n",
      "Table 5. P&G VotesCastforCong\n",
      "Table 6. Senate by Party\n",
      "Table 7. House by Party\n",
      "2016 Pres General Results\n",
      "2016 Pres Primary Results\n",
      "2016 Pres Primary Party Summary\n",
      "2016 US Senate Results by State\n",
      "2016 US House Results by State\n",
      "2016 Party Labels\n",
      "2016 Primary Dates\n",
      "Appendix A\n",
      "Appendix B\n",
      "Appendix C\n"
     ]
    }
   ],
   "source": [
    "results_2016_path = 'data/FEC/raw/FEC_2016_cong_results.xlsx'\n",
    "results_2016 = pd.ExcelFile(results_2016_path)\n",
    "sheet_names_2016 = results_2016.sheet_names\n",
    "for i in sheet_names_2016:\n",
    "    print(i)"
   ]
  },
  {
   "cell_type": "code",
   "execution_count": 9,
   "id": "4798839b-38f8-473f-baed-b8822c676f82",
   "metadata": {
    "tags": []
   },
   "outputs": [],
   "source": [
    "data_2016 = pd.read_excel(results_2016_path, sheet_name='2016 US House Results by State', header=0)"
   ]
  },
  {
   "cell_type": "code",
   "execution_count": 10,
   "id": "38fb5cb3-b17c-4fb8-950a-b4934d834050",
   "metadata": {
    "tags": []
   },
   "outputs": [
    {
     "name": "stdout",
     "output_type": "stream",
     "text": [
      "Publication Information\n",
      "Table 1. GE Votes Cast\n",
      "Table 2. GE Votes Cast by Party\n",
      "Table 3. P&G VotesCastforCong\n",
      "Table 4. Senate by Party\n",
      "Table 5. House by Party\n",
      "2018 US Senate Results by State\n",
      "2018 US House Results by State\n",
      "2019 NC 09 New Election\n",
      "2018 Party Labels\n",
      "2018 Primary Dates\n"
     ]
    }
   ],
   "source": [
    "results_2018_path = 'data/FEC/raw/FEC_2018_cong_results.xlsx'\n",
    "results_2018 = pd.ExcelFile(results_2018_path)\n",
    "sheet_names_2018 = results_2018.sheet_names\n",
    "for i in sheet_names_2018:\n",
    "    print(i)"
   ]
  },
  {
   "cell_type": "code",
   "execution_count": 11,
   "id": "1921cb71-5958-4569-a2ed-46d10a352fa1",
   "metadata": {
    "tags": []
   },
   "outputs": [],
   "source": [
    "data_2018 = pd.read_excel(results_2018_path, sheet_name='2018 US House Results by State', header=0)"
   ]
  },
  {
   "cell_type": "code",
   "execution_count": 12,
   "id": "beb0a2d0-9f0b-45da-ac2b-e1d2d405f758",
   "metadata": {
    "tags": []
   },
   "outputs": [
    {
     "name": "stdout",
     "output_type": "stream",
     "text": [
      "1. 2020 Publication Information\n",
      "2. Table 1 Pres Popular Vote\n",
      "3. Table 2 Electoral & Pop Vote\n",
      "4. Table 3 GEVotefor Pres, H, S\n",
      "5. Table 4 GE VotesCastbyParty\n",
      "6. Table 5 P&GVotesCastforCong\n",
      "7. Table 6 Senate by Party\n",
      "8. Table 7 House by Party\n",
      "9. 2020 Pres General Results\n",
      "10. 2020 Pres Primary Results\n",
      "11.  Pres Primary Party Summary\n",
      "12. US Senate Results by State\n",
      "13. US House Results by State\n",
      "14. 2020 Party Labels\n",
      "15. 2020 Primary Dates\n",
      "16. Appendix 1A\n",
      "17. Appendix 1B\n",
      "18. Appendix 1C\n",
      "19. Special Elections 2019-2021\n"
     ]
    }
   ],
   "source": [
    "results_2020_path = 'data/FEC/raw/FEC_2020_cong_results.xlsx'\n",
    "results_2020 = pd.ExcelFile(results_2020_path)\n",
    "sheet_names_2020 = results_2020.sheet_names\n",
    "for i in sheet_names_2020:\n",
    "    print(i)"
   ]
  },
  {
   "cell_type": "code",
   "execution_count": 13,
   "id": "6f7960fb-6ce3-4aac-97ac-1292702e7078",
   "metadata": {
    "tags": []
   },
   "outputs": [],
   "source": [
    "data_2020 = pd.read_excel(results_2020_path, sheet_name='13. US House Results by State', header=0)"
   ]
  },
  {
   "cell_type": "code",
   "execution_count": 14,
   "id": "f7939001-f033-4a3e-9200-f54fb0a3fab1",
   "metadata": {
    "tags": []
   },
   "outputs": [],
   "source": [
    "FEC_data_list = [data_2012, data_2014, data_2016, data_2018, data_2020]"
   ]
  },
  {
   "cell_type": "code",
   "execution_count": 13,
   "id": "3bb41ef8-7295-4e15-914f-3c7789a6f3fc",
   "metadata": {
    "tags": []
   },
   "outputs": [],
   "source": [
    "# for i in FEC_data_list:\n",
    "#     print(i.columns)"
   ]
  },
  {
   "cell_type": "code",
   "execution_count": 14,
   "id": "a588c028-f68d-43b6-92ed-a523840aa276",
   "metadata": {
    "tags": []
   },
   "outputs": [],
   "source": [
    "# for i in FEC_data_list:\n",
    "#     i = i.dropna(subset=['GENERAL VOTES ','CANDIDATE NAME (First)']) #drop all rows that received no votes in the general election, or do not have a first name\n",
    "#     i = i.reset_index(drop=True)\n",
    "#     if '(I)' in i.columns and 'D' in i.columns:\n",
    "#         keep_cols = ['STATE ABBREVIATION','D','CANDIDATE NAME (First)','CANDIDATE NAME (Last)','CANDIDATE NAME','PARTY','(I)','GENERAL VOTES ']\n",
    "#         i_copy = i[keep_cols].copy()\n",
    "#         i_copy['(I)'] = i['(I)'].notna().astype(int)\n",
    "#         i_copy['PARTY'] = i.apply(two_party,axis=1)\n",
    "#         i_copy['SIMPLE_FIRST'] = trim_party(i['CANDIDATE NAME (First)'],' ')\n",
    "#         i_copy['CANDIDATE NAME(f)'] = i_copy['SIMPLE_FIRST']+' '+i_copy['CANDIDATE NAME (Last)']\n",
    "#         i = i_copy"
   ]
  },
  {
   "cell_type": "code",
   "execution_count": 15,
   "id": "5c1faebc-3945-40f7-8909-2a0515fb1664",
   "metadata": {
    "tags": []
   },
   "outputs": [],
   "source": [
    "# def FEC_simplifier(i):\n",
    "#     new_col_dic = {'(I) Incumbent Indicator':'(I)','District':'D'}\n",
    "#     i = i.dropna(subset=['GENERAL VOTES ','CANDIDATE NAME (First)']) #drop all rows that received no votes in the general election, or do not have a first name\n",
    "#     i = i.reset_index(drop=True)\n",
    "#     i.rename(columns=new_col_dic)\n",
    "#     keep_cols = ['STATE ABBREVIATION','D','CANDIDATE NAME (First)','CANDIDATE NAME (Last)','CANDIDATE NAME','PARTY','(I)','GENERAL VOTES ']\n",
    "#     i_copy = i.copy()\n",
    "#     i_copy['(I)'] = i['(I)'].notna().astype(int)\n",
    "#     i_copy['PARTY'] = i.apply(two_party,axis=1)\n",
    "#     i_copy['SIMPLE_FIRST'] = trim_party(i['CANDIDATE NAME (First)'],' ')\n",
    "#     i_copy['CANDIDATE NAME(f)'] = i_copy['SIMPLE_FIRST']+' '+i_copy['CANDIDATE NAME (Last)']\n",
    "#     i_copy = i_copy[keep_cols].copy()\n",
    "#     i = i_copy\n",
    "#     return i"
   ]
  },
  {
   "cell_type": "code",
   "execution_count": 15,
   "id": "1b43874b-ac2b-41aa-9aa5-86f86fce4a70",
   "metadata": {
    "tags": []
   },
   "outputs": [],
   "source": [
    "def FEC_simplifier(i):\n",
    "    new_col_dic = {'(I) Incumbent Indicator':'(I)','District':'D', 'DISTRICT':'D'}\n",
    "    i = i.dropna(subset=['GENERAL VOTES ','CANDIDATE NAME (First)']) #drop all rows that received no votes in the general election, or do not have a first name\n",
    "    i = i.reset_index(drop=True)\n",
    "    keep_cols = ['STATE ABBREVIATION','D','CANDIDATE NAME (First)','CANDIDATE NAME (Last)','CANDIDATE NAME(f)','CANDIDATE NAME','PARTY','(I)','GENERAL VOTES ']\n",
    "    i_copy = i.rename(columns=new_col_dic).copy()\n",
    "    if '(I) Incumbent Indicator' in i.columns:\n",
    "        i['(I)'] = i[['(I) Incumbent Indicator']]\n",
    "    else:\n",
    "        i = i.copy()\n",
    "    i_copy['(I)'] = i['(I)'].notna().astype(int)\n",
    "    i_copy['PARTY'] = i.apply(two_party,axis=1)\n",
    "    i_copy['SIMPLE_FIRST'] = trim_party(i['CANDIDATE NAME (First)'],' ')\n",
    "    i_copy['CANDIDATE NAME(f)'] = i_copy['SIMPLE_FIRST']+' '+i_copy['CANDIDATE NAME (Last)']\n",
    "    i_copy['CANDIDATE NAME(f)'] = i_copy['CANDIDATE NAME(f)'].astype(str).str.lower()\n",
    "    i_copy = i_copy[keep_cols].copy()\n",
    "    i = i_copy\n",
    "    return i"
   ]
  },
  {
   "cell_type": "code",
   "execution_count": 16,
   "id": "b6df0f3d-0cd8-43ac-b0e2-e277e0e5758f",
   "metadata": {
    "tags": []
   },
   "outputs": [],
   "source": [
    "####WORKS@@\n",
    "\n",
    "# def FEC_simplifier(i):\n",
    "#     new_col_dic = {'(I) Incumbent Indicator':'(I)','District':'D', 'DISTRICT':'D'}\n",
    "#     i = i.dropna(subset=['GENERAL VOTES ','CANDIDATE NAME (First)']) #drop all rows that received no votes in the general election, or do not have a first name\n",
    "#     i = i.reset_index(drop=True)\n",
    "#     keep_cols = ['STATE ABBREVIATION','D','CANDIDATE NAME (First)','CANDIDATE NAME (Last)','CANDIDATE NAME(f)','CANDIDATE NAME','PARTY','(I)','GENERAL VOTES ']\n",
    "#     i_copy = i.rename(columns=new_col_dic).copy()\n",
    "#     if '(I) Incumbent Indicator' in i.columns:\n",
    "#         i['(I)'] = i[['(I) Incumbent Indicator']]\n",
    "#     else:\n",
    "#         i = i.copy()\n",
    "#     i_copy['(I)'] = i['(I)'].notna().astype(int)\n",
    "#     i_copy['PARTY'] = i.apply(two_party,axis=1)\n",
    "#     i_copy['SIMPLE_FIRST'] = trim_party(i['CANDIDATE NAME (First)'],' ')\n",
    "#     i_copy['CANDIDATE NAME(f)'] = i_copy['SIMPLE_FIRST']+' '+i_copy['CANDIDATE NAME (Last)']\n",
    "#     i_copy['CANDIDATE NAME(f)'] = i_copy['CANDIDATE NAME(f)'].astype(str).str.lower()\n",
    "#     i_copy = i_copy[keep_cols].copy()\n",
    "#     i = i_copy\n",
    "#     return i"
   ]
  },
  {
   "cell_type": "code",
   "execution_count": 17,
   "id": "2a3088ef-e63d-4290-9853-5a87e78c0eb0",
   "metadata": {
    "tags": []
   },
   "outputs": [],
   "source": [
    "# for i in FEC_data_list:\n",
    "#     i = FEC_simplifier(i)"
   ]
  },
  {
   "cell_type": "code",
   "execution_count": 18,
   "id": "b6961dda-f1d8-4ef2-9f9e-023bcc254a5b",
   "metadata": {
    "tags": []
   },
   "outputs": [],
   "source": [
    "simple_data_2012 = FEC_simplifier(data_2012)\n",
    "simple_data_2014 = FEC_simplifier(data_2014)\n",
    "simple_data_2016 = FEC_simplifier(data_2016)\n",
    "simple_data_2018 = FEC_simplifier(data_2018)\n",
    "simple_data_2020 = FEC_simplifier(data_2020)"
   ]
  },
  {
   "cell_type": "code",
   "execution_count": 20,
   "id": "f3df5232-c59f-4ec8-9a27-411eddfd034a",
   "metadata": {
    "tags": []
   },
   "outputs": [],
   "source": [
    "# simple_data_2012 = FEC_simplifier(data_2012)"
   ]
  },
  {
   "cell_type": "code",
   "execution_count": 21,
   "id": "6a80dcce-287b-415c-84fc-639b2c4d367f",
   "metadata": {
    "tags": []
   },
   "outputs": [],
   "source": [
    "# simple_data_2014 = FEC_simplifier(data_2014)"
   ]
  },
  {
   "cell_type": "code",
   "execution_count": 22,
   "id": "bd46c0ae-55b7-4e9d-872f-d38d4f626b0c",
   "metadata": {
    "tags": []
   },
   "outputs": [],
   "source": [
    "# simple_data_2016 = FEC_simplifier(data_2016)"
   ]
  },
  {
   "cell_type": "code",
   "execution_count": 23,
   "id": "c3124c71-d040-44c9-afb7-b616eabf3c22",
   "metadata": {
    "tags": []
   },
   "outputs": [],
   "source": [
    "# simple_data_2018 = FEC_simplifier(data_2018)"
   ]
  },
  {
   "cell_type": "code",
   "execution_count": 24,
   "id": "04307055-01cc-4d15-bfbf-bbcd20f6c2f7",
   "metadata": {
    "tags": []
   },
   "outputs": [],
   "source": [
    "# simple_data_2020 = FEC_simplifier(data_2020)"
   ]
  },
  {
   "cell_type": "code",
   "execution_count": 25,
   "id": "94cb982f-6c65-4d7b-b290-f3147a64b2f4",
   "metadata": {
    "tags": []
   },
   "outputs": [],
   "source": [
    "# # for i in FEC_data_list:\n",
    "#     i = FEC_simplifier(i)"
   ]
  },
  {
   "cell_type": "code",
   "execution_count": 26,
   "id": "ebed07d8-cbcb-4607-88e0-4c1fa5d4260c",
   "metadata": {
    "tags": []
   },
   "outputs": [],
   "source": [
    "# data_copy.dropna(subset=['GENERAL '], inplace=True) #removes all candidates who did not record any (even '0') votes in the general election\n",
    "\n",
    "# data_copy.reset_index(drop=True, inplace=True) # data_copy.set_index('CANDIDATE NAME (Last, First)')\n",
    "\n",
    "# house_cand_2010 = data_copy.loc[(data_copy['DISTRICT']!='S')] #removes all Senate candidates\n",
    "\n",
    "# house_cand_2010.to_csv('house_cand_2010.csv') #save as a csv"
   ]
  },
  {
   "cell_type": "code",
   "execution_count": 27,
   "id": "d8bf45ca-c49d-4050-93a0-7b42385fc0a5",
   "metadata": {
    "tags": []
   },
   "outputs": [],
   "source": [
    "# data_copy.reset_index(drop=True, inplace=True)\n",
    "# # data_copy.set_index('CANDIDATE NAME (Last, First)')"
   ]
  },
  {
   "cell_type": "code",
   "execution_count": 28,
   "id": "5bb68ffb-4616-4c3e-a820-3b2a4283e84a",
   "metadata": {
    "tags": []
   },
   "outputs": [],
   "source": [
    "# def party_inc(data):\n",
    "#     parties = ['DEM', 'REP']\n",
    "    \n",
    "#     party_mask = data['PARTY'].isin(parties)\n",
    "    \n",
    "#     data['PARTY_INC'] = 'OTHER'+'_'+data['INCUMBENT INDICATOR (I)']\n",
    "    \n",
    "#     data.loc[party_mask, 'PARTY_INC'] = data.loc[party_mask, 'PARTY']+'_'+data.loc[party_mask, 'INCUMBENT INDICATOR (I)']\n",
    "    \n",
    "#     return data"
   ]
  },
  {
   "cell_type": "code",
   "execution_count": 29,
   "id": "0a72dba0-7143-42db-94fb-f931d63a6785",
   "metadata": {
    "tags": []
   },
   "outputs": [],
   "source": [
    "def party_inc2(data):\n",
    "    if data['PARTY'] in ['REP', 'DEM']:\n",
    "        return f\"{data['PARTY']}_{data['INCUMBENT INDICATOR (I)']}\"\n",
    "    else:\n",
    "        return f\"OTHER_{data['INCUMBENT INDICATOR (I)']}\""
   ]
  },
  {
   "cell_type": "code",
   "execution_count": 30,
   "id": "e14b69a4-fbde-4329-b09a-5e944e912f63",
   "metadata": {
    "tags": []
   },
   "outputs": [],
   "source": [
    "# house_cand_2010['PARTY_INC'] = house_cand_2010.apply(party_inc2, axis=1)"
   ]
  },
  {
   "cell_type": "code",
   "execution_count": 20,
   "id": "72b3599c-f3d0-4c32-91fd-d95a4cf1df25",
   "metadata": {
    "tags": []
   },
   "outputs": [],
   "source": [
    "simple_data_2012.to_csv(r'data\\FEC\\candidates_2012.csv')\n",
    "simple_data_2014.to_csv(r'data\\FEC\\candidates_2014.csv')\n",
    "simple_data_2016.to_csv(r'data\\FEC\\candidates_2016.csv')\n",
    "simple_data_2018.to_csv(r'data\\FEC\\candidates_2018.csv')\n",
    "simple_data_2020.to_csv(r'data\\FEC\\candidates_2020.csv')"
   ]
  },
  {
   "cell_type": "code",
   "execution_count": 19,
   "id": "1be86038-0ffa-4fba-bb85-a2b83a330c75",
   "metadata": {},
   "outputs": [
    {
     "data": {
      "text/html": [
       "<div>\n",
       "<style scoped>\n",
       "    .dataframe tbody tr th:only-of-type {\n",
       "        vertical-align: middle;\n",
       "    }\n",
       "\n",
       "    .dataframe tbody tr th {\n",
       "        vertical-align: top;\n",
       "    }\n",
       "\n",
       "    .dataframe thead th {\n",
       "        text-align: right;\n",
       "    }\n",
       "</style>\n",
       "<table border=\"1\" class=\"dataframe\">\n",
       "  <thead>\n",
       "    <tr style=\"text-align: right;\">\n",
       "      <th></th>\n",
       "      <th>STATE ABBREVIATION</th>\n",
       "      <th>D</th>\n",
       "      <th>CANDIDATE NAME (First)</th>\n",
       "      <th>CANDIDATE NAME (Last)</th>\n",
       "      <th>CANDIDATE NAME(f)</th>\n",
       "      <th>CANDIDATE NAME</th>\n",
       "      <th>PARTY</th>\n",
       "      <th>(I)</th>\n",
       "      <th>GENERAL VOTES</th>\n",
       "    </tr>\n",
       "  </thead>\n",
       "  <tbody>\n",
       "    <tr>\n",
       "      <th>0</th>\n",
       "      <td>AL</td>\n",
       "      <td>01</td>\n",
       "      <td>Jerry</td>\n",
       "      <td>Carl</td>\n",
       "      <td>jerry carl</td>\n",
       "      <td>Carl, Jerry</td>\n",
       "      <td>R</td>\n",
       "      <td>0</td>\n",
       "      <td>211825</td>\n",
       "    </tr>\n",
       "    <tr>\n",
       "      <th>1</th>\n",
       "      <td>AL</td>\n",
       "      <td>01</td>\n",
       "      <td>James</td>\n",
       "      <td>Averhart</td>\n",
       "      <td>james averhart</td>\n",
       "      <td>Averhart, James</td>\n",
       "      <td>D</td>\n",
       "      <td>0</td>\n",
       "      <td>116949</td>\n",
       "    </tr>\n",
       "    <tr>\n",
       "      <th>2</th>\n",
       "      <td>AL</td>\n",
       "      <td>02</td>\n",
       "      <td>Barry</td>\n",
       "      <td>Moore</td>\n",
       "      <td>barry moore</td>\n",
       "      <td>Moore, Barry</td>\n",
       "      <td>R</td>\n",
       "      <td>0</td>\n",
       "      <td>197996</td>\n",
       "    </tr>\n",
       "    <tr>\n",
       "      <th>3</th>\n",
       "      <td>AL</td>\n",
       "      <td>02</td>\n",
       "      <td>Phyllis</td>\n",
       "      <td>Harvey-Hall</td>\n",
       "      <td>phyllis harvey-hall</td>\n",
       "      <td>Harvey-Hall, Phyllis</td>\n",
       "      <td>D</td>\n",
       "      <td>0</td>\n",
       "      <td>105286</td>\n",
       "    </tr>\n",
       "    <tr>\n",
       "      <th>4</th>\n",
       "      <td>AL</td>\n",
       "      <td>03</td>\n",
       "      <td>Mike</td>\n",
       "      <td>Rogers</td>\n",
       "      <td>mike rogers</td>\n",
       "      <td>Rogers, Mike</td>\n",
       "      <td>R</td>\n",
       "      <td>1</td>\n",
       "      <td>217384</td>\n",
       "    </tr>\n",
       "    <tr>\n",
       "      <th>...</th>\n",
       "      <td>...</td>\n",
       "      <td>...</td>\n",
       "      <td>...</td>\n",
       "      <td>...</td>\n",
       "      <td>...</td>\n",
       "      <td>...</td>\n",
       "      <td>...</td>\n",
       "      <td>...</td>\n",
       "      <td>...</td>\n",
       "    </tr>\n",
       "    <tr>\n",
       "      <th>1273</th>\n",
       "      <td>WI</td>\n",
       "      <td>08</td>\n",
       "      <td>Amanda</td>\n",
       "      <td>Stuck</td>\n",
       "      <td>amanda stuck</td>\n",
       "      <td>Stuck, Amanda</td>\n",
       "      <td>D</td>\n",
       "      <td>0</td>\n",
       "      <td>149558</td>\n",
       "    </tr>\n",
       "    <tr>\n",
       "      <th>1274</th>\n",
       "      <td>WY</td>\n",
       "      <td>00</td>\n",
       "      <td>Liz</td>\n",
       "      <td>Cheney</td>\n",
       "      <td>liz cheney</td>\n",
       "      <td>Cheney, Liz</td>\n",
       "      <td>R</td>\n",
       "      <td>1</td>\n",
       "      <td>185732</td>\n",
       "    </tr>\n",
       "    <tr>\n",
       "      <th>1275</th>\n",
       "      <td>WY</td>\n",
       "      <td>00</td>\n",
       "      <td>Lynnette</td>\n",
       "      <td>Grey Bull</td>\n",
       "      <td>lynnette grey bull</td>\n",
       "      <td>Grey Bull, Lynnette</td>\n",
       "      <td>D</td>\n",
       "      <td>0</td>\n",
       "      <td>66576</td>\n",
       "    </tr>\n",
       "    <tr>\n",
       "      <th>1276</th>\n",
       "      <td>WY</td>\n",
       "      <td>00</td>\n",
       "      <td>Richard</td>\n",
       "      <td>Brubaker</td>\n",
       "      <td>richard brubaker</td>\n",
       "      <td>Brubaker, Richard</td>\n",
       "      <td>OTHER</td>\n",
       "      <td>0</td>\n",
       "      <td>10154</td>\n",
       "    </tr>\n",
       "    <tr>\n",
       "      <th>1277</th>\n",
       "      <td>WY</td>\n",
       "      <td>00</td>\n",
       "      <td>Jeff</td>\n",
       "      <td>Haggit</td>\n",
       "      <td>jeff haggit</td>\n",
       "      <td>Haggit, Jeff</td>\n",
       "      <td>OTHER</td>\n",
       "      <td>0</td>\n",
       "      <td>7905</td>\n",
       "    </tr>\n",
       "  </tbody>\n",
       "</table>\n",
       "<p>1278 rows × 9 columns</p>\n",
       "</div>"
      ],
      "text/plain": [
       "     STATE ABBREVIATION   D CANDIDATE NAME (First) CANDIDATE NAME (Last)  \\\n",
       "0                    AL  01                  Jerry                  Carl   \n",
       "1                    AL  01                  James              Averhart   \n",
       "2                    AL  02                  Barry                 Moore   \n",
       "3                    AL  02                Phyllis           Harvey-Hall   \n",
       "4                    AL  03                   Mike                Rogers   \n",
       "...                 ...  ..                    ...                   ...   \n",
       "1273                 WI  08                 Amanda                 Stuck   \n",
       "1274                 WY  00                    Liz                Cheney   \n",
       "1275                 WY  00               Lynnette             Grey Bull   \n",
       "1276                 WY  00                Richard              Brubaker   \n",
       "1277                 WY  00                   Jeff                Haggit   \n",
       "\n",
       "        CANDIDATE NAME(f)        CANDIDATE NAME  PARTY  (I) GENERAL VOTES   \n",
       "0              jerry carl           Carl, Jerry      R    0         211825  \n",
       "1          james averhart       Averhart, James      D    0         116949  \n",
       "2             barry moore          Moore, Barry      R    0         197996  \n",
       "3     phyllis harvey-hall  Harvey-Hall, Phyllis      D    0         105286  \n",
       "4             mike rogers          Rogers, Mike      R    1         217384  \n",
       "...                   ...                   ...    ...  ...            ...  \n",
       "1273         amanda stuck         Stuck, Amanda      D    0         149558  \n",
       "1274           liz cheney           Cheney, Liz      R    1         185732  \n",
       "1275   lynnette grey bull   Grey Bull, Lynnette      D    0          66576  \n",
       "1276     richard brubaker     Brubaker, Richard  OTHER    0          10154  \n",
       "1277          jeff haggit          Haggit, Jeff  OTHER    0           7905  \n",
       "\n",
       "[1278 rows x 9 columns]"
      ]
     },
     "execution_count": 19,
     "metadata": {},
     "output_type": "execute_result"
    }
   ],
   "source": [
    "simple_data_2020"
   ]
  },
  {
   "cell_type": "code",
   "execution_count": 42,
   "id": "d2210209-9b6c-4634-8c05-f7428fe3ebe2",
   "metadata": {
    "tags": []
   },
   "outputs": [
    {
     "data": {
      "text/plain": [
       "44"
      ]
     },
     "execution_count": 42,
     "metadata": {},
     "output_type": "execute_result"
    }
   ],
   "source": [
    "len(simple_data_2020.loc[simple_data_2020['STATE ABBREVIATION']=='OH']['CANDIDATE NAME (Last)'])"
   ]
  },
  {
   "cell_type": "code",
   "execution_count": 3,
   "id": "57e61b3c-7e88-4099-9aa2-cd84de757430",
   "metadata": {},
   "outputs": [],
   "source": [
    "simple_data_2016 = pd.read_csv(r'data\\FEC\\candidates_2016.csv')"
   ]
  },
  {
   "cell_type": "code",
   "execution_count": 11,
   "id": "6a3c4ade-1768-4911-8666-e03a983a0bc9",
   "metadata": {
    "tags": []
   },
   "outputs": [
    {
     "data": {
      "text/plain": [
       "23"
      ]
     },
     "execution_count": 11,
     "metadata": {},
     "output_type": "execute_result"
    }
   ],
   "source": [
    "len(simple_data_2016.loc[(simple_data_2016['STATE ABBREVIATION']=='WI')]['CANDIDATE NAME(f)'].to_list())"
   ]
  },
  {
   "cell_type": "code",
   "execution_count": 12,
   "id": "fc75c73b-b018-4334-8318-30f9f9d213d6",
   "metadata": {
    "tags": []
   },
   "outputs": [],
   "source": [
    "simple_data_2012 = pd.read_csv(r'data\\FEC\\candidates_2012.csv')"
   ]
  },
  {
   "cell_type": "code",
   "execution_count": 22,
   "id": "3e7ecf51-fda4-4909-83a1-a87b0266737d",
   "metadata": {
    "tags": []
   },
   "outputs": [],
   "source": [
    "WI_2012 = simple_data_2012.loc[(simple_data_2012['STATE ABBREVIATION']=='WI')&(simple_data_2012['D']!='S')].reset_index(drop=True)"
   ]
  },
  {
   "cell_type": "code",
   "execution_count": 23,
   "id": "b23b6b48-8409-4010-8ffb-48e9baa925ed",
   "metadata": {
    "tags": []
   },
   "outputs": [
    {
     "data": {
      "text/html": [
       "<div>\n",
       "<style scoped>\n",
       "    .dataframe tbody tr th:only-of-type {\n",
       "        vertical-align: middle;\n",
       "    }\n",
       "\n",
       "    .dataframe tbody tr th {\n",
       "        vertical-align: top;\n",
       "    }\n",
       "\n",
       "    .dataframe thead th {\n",
       "        text-align: right;\n",
       "    }\n",
       "</style>\n",
       "<table border=\"1\" class=\"dataframe\">\n",
       "  <thead>\n",
       "    <tr style=\"text-align: right;\">\n",
       "      <th></th>\n",
       "      <th>Unnamed: 0</th>\n",
       "      <th>STATE ABBREVIATION</th>\n",
       "      <th>D</th>\n",
       "      <th>CANDIDATE NAME (First)</th>\n",
       "      <th>CANDIDATE NAME (Last)</th>\n",
       "      <th>CANDIDATE NAME(f)</th>\n",
       "      <th>CANDIDATE NAME</th>\n",
       "      <th>PARTY</th>\n",
       "      <th>(I)</th>\n",
       "      <th>GENERAL VOTES</th>\n",
       "    </tr>\n",
       "  </thead>\n",
       "  <tbody>\n",
       "    <tr>\n",
       "      <th>0</th>\n",
       "      <td>1503</td>\n",
       "      <td>WI</td>\n",
       "      <td>01</td>\n",
       "      <td>Paul</td>\n",
       "      <td>Ryan</td>\n",
       "      <td>paul ryan</td>\n",
       "      <td>Ryan, Paul</td>\n",
       "      <td>R</td>\n",
       "      <td>1</td>\n",
       "      <td>200423</td>\n",
       "    </tr>\n",
       "    <tr>\n",
       "      <th>1</th>\n",
       "      <td>1504</td>\n",
       "      <td>WI</td>\n",
       "      <td>01</td>\n",
       "      <td>Rob</td>\n",
       "      <td>Zerban</td>\n",
       "      <td>rob zerban</td>\n",
       "      <td>Zerban, Rob</td>\n",
       "      <td>D</td>\n",
       "      <td>0</td>\n",
       "      <td>158414</td>\n",
       "    </tr>\n",
       "    <tr>\n",
       "      <th>2</th>\n",
       "      <td>1505</td>\n",
       "      <td>WI</td>\n",
       "      <td>01</td>\n",
       "      <td>Keith</td>\n",
       "      <td>Deschler</td>\n",
       "      <td>keith deschler</td>\n",
       "      <td>Deschler, Keith</td>\n",
       "      <td>OTHER</td>\n",
       "      <td>0</td>\n",
       "      <td>6054</td>\n",
       "    </tr>\n",
       "    <tr>\n",
       "      <th>3</th>\n",
       "      <td>1506</td>\n",
       "      <td>WI</td>\n",
       "      <td>02</td>\n",
       "      <td>Mark</td>\n",
       "      <td>Pocan</td>\n",
       "      <td>mark pocan</td>\n",
       "      <td>Pocan, Mark</td>\n",
       "      <td>D</td>\n",
       "      <td>0</td>\n",
       "      <td>265422</td>\n",
       "    </tr>\n",
       "    <tr>\n",
       "      <th>4</th>\n",
       "      <td>1507</td>\n",
       "      <td>WI</td>\n",
       "      <td>02</td>\n",
       "      <td>Chad</td>\n",
       "      <td>Lee</td>\n",
       "      <td>chad lee</td>\n",
       "      <td>Lee, Chad</td>\n",
       "      <td>R</td>\n",
       "      <td>0</td>\n",
       "      <td>124683</td>\n",
       "    </tr>\n",
       "    <tr>\n",
       "      <th>5</th>\n",
       "      <td>1508</td>\n",
       "      <td>WI</td>\n",
       "      <td>02</td>\n",
       "      <td>Joe</td>\n",
       "      <td>Kopsick</td>\n",
       "      <td>joe kopsick</td>\n",
       "      <td>Kopsick, Joe</td>\n",
       "      <td>OTHER</td>\n",
       "      <td>0</td>\n",
       "      <td>6</td>\n",
       "    </tr>\n",
       "    <tr>\n",
       "      <th>6</th>\n",
       "      <td>1509</td>\n",
       "      <td>WI</td>\n",
       "      <td>03</td>\n",
       "      <td>Ron</td>\n",
       "      <td>Kind</td>\n",
       "      <td>ron kind</td>\n",
       "      <td>Kind, Ron</td>\n",
       "      <td>D</td>\n",
       "      <td>1</td>\n",
       "      <td>217712</td>\n",
       "    </tr>\n",
       "    <tr>\n",
       "      <th>7</th>\n",
       "      <td>1510</td>\n",
       "      <td>WI</td>\n",
       "      <td>03</td>\n",
       "      <td>Ray</td>\n",
       "      <td>Boland</td>\n",
       "      <td>ray boland</td>\n",
       "      <td>Boland, Ray</td>\n",
       "      <td>R</td>\n",
       "      <td>0</td>\n",
       "      <td>121713</td>\n",
       "    </tr>\n",
       "    <tr>\n",
       "      <th>8</th>\n",
       "      <td>1511</td>\n",
       "      <td>WI</td>\n",
       "      <td>04</td>\n",
       "      <td>Gwen</td>\n",
       "      <td>Moore</td>\n",
       "      <td>gwen moore</td>\n",
       "      <td>Moore, Gwen</td>\n",
       "      <td>D</td>\n",
       "      <td>1</td>\n",
       "      <td>235257</td>\n",
       "    </tr>\n",
       "    <tr>\n",
       "      <th>9</th>\n",
       "      <td>1512</td>\n",
       "      <td>WI</td>\n",
       "      <td>04</td>\n",
       "      <td>Dan</td>\n",
       "      <td>Sebring</td>\n",
       "      <td>dan sebring</td>\n",
       "      <td>Sebring, Dan</td>\n",
       "      <td>R</td>\n",
       "      <td>0</td>\n",
       "      <td>80787</td>\n",
       "    </tr>\n",
       "    <tr>\n",
       "      <th>10</th>\n",
       "      <td>1513</td>\n",
       "      <td>WI</td>\n",
       "      <td>04</td>\n",
       "      <td>Robert R.</td>\n",
       "      <td>Raymond</td>\n",
       "      <td>robert raymond</td>\n",
       "      <td>Raymond, Robert R.</td>\n",
       "      <td>OTHER</td>\n",
       "      <td>0</td>\n",
       "      <td>9277</td>\n",
       "    </tr>\n",
       "    <tr>\n",
       "      <th>11</th>\n",
       "      <td>1514</td>\n",
       "      <td>WI</td>\n",
       "      <td>05</td>\n",
       "      <td>F. James, Jr.</td>\n",
       "      <td>Sensenbrenner</td>\n",
       "      <td>f. sensenbrenner</td>\n",
       "      <td>Sensenbrenner, F. James, Jr.</td>\n",
       "      <td>R</td>\n",
       "      <td>1</td>\n",
       "      <td>250335</td>\n",
       "    </tr>\n",
       "    <tr>\n",
       "      <th>12</th>\n",
       "      <td>1515</td>\n",
       "      <td>WI</td>\n",
       "      <td>05</td>\n",
       "      <td>Dave</td>\n",
       "      <td>Heaster</td>\n",
       "      <td>dave heaster</td>\n",
       "      <td>Heaster, Dave</td>\n",
       "      <td>D</td>\n",
       "      <td>0</td>\n",
       "      <td>118478</td>\n",
       "    </tr>\n",
       "    <tr>\n",
       "      <th>13</th>\n",
       "      <td>1516</td>\n",
       "      <td>WI</td>\n",
       "      <td>06</td>\n",
       "      <td>Tom</td>\n",
       "      <td>Petri</td>\n",
       "      <td>tom petri</td>\n",
       "      <td>Petri, Tom</td>\n",
       "      <td>R</td>\n",
       "      <td>1</td>\n",
       "      <td>223460</td>\n",
       "    </tr>\n",
       "    <tr>\n",
       "      <th>14</th>\n",
       "      <td>1517</td>\n",
       "      <td>WI</td>\n",
       "      <td>06</td>\n",
       "      <td>Joe</td>\n",
       "      <td>Kallas</td>\n",
       "      <td>joe kallas</td>\n",
       "      <td>Kallas, Joe</td>\n",
       "      <td>D</td>\n",
       "      <td>0</td>\n",
       "      <td>135921</td>\n",
       "    </tr>\n",
       "    <tr>\n",
       "      <th>15</th>\n",
       "      <td>1518</td>\n",
       "      <td>WI</td>\n",
       "      <td>07</td>\n",
       "      <td>Sean</td>\n",
       "      <td>Duffy</td>\n",
       "      <td>sean duffy</td>\n",
       "      <td>Duffy, Sean</td>\n",
       "      <td>R</td>\n",
       "      <td>1</td>\n",
       "      <td>201720</td>\n",
       "    </tr>\n",
       "    <tr>\n",
       "      <th>16</th>\n",
       "      <td>1519</td>\n",
       "      <td>WI</td>\n",
       "      <td>07</td>\n",
       "      <td>Pat</td>\n",
       "      <td>Kreitlow</td>\n",
       "      <td>pat kreitlow</td>\n",
       "      <td>Kreitlow, Pat</td>\n",
       "      <td>D</td>\n",
       "      <td>0</td>\n",
       "      <td>157524</td>\n",
       "    </tr>\n",
       "    <tr>\n",
       "      <th>17</th>\n",
       "      <td>1520</td>\n",
       "      <td>WI</td>\n",
       "      <td>07</td>\n",
       "      <td>Dale C.</td>\n",
       "      <td>Lehner</td>\n",
       "      <td>dale lehner</td>\n",
       "      <td>Lehner, Dale C.</td>\n",
       "      <td>OTHER</td>\n",
       "      <td>0</td>\n",
       "      <td>20</td>\n",
       "    </tr>\n",
       "    <tr>\n",
       "      <th>18</th>\n",
       "      <td>1521</td>\n",
       "      <td>WI</td>\n",
       "      <td>08</td>\n",
       "      <td>Reid J.</td>\n",
       "      <td>Ribble</td>\n",
       "      <td>reid ribble</td>\n",
       "      <td>Ribble, Reid J.</td>\n",
       "      <td>R</td>\n",
       "      <td>1</td>\n",
       "      <td>198874</td>\n",
       "    </tr>\n",
       "    <tr>\n",
       "      <th>19</th>\n",
       "      <td>1522</td>\n",
       "      <td>WI</td>\n",
       "      <td>08</td>\n",
       "      <td>Jamie</td>\n",
       "      <td>Wall</td>\n",
       "      <td>jamie wall</td>\n",
       "      <td>Wall, Jamie</td>\n",
       "      <td>D</td>\n",
       "      <td>0</td>\n",
       "      <td>156287</td>\n",
       "    </tr>\n",
       "  </tbody>\n",
       "</table>\n",
       "</div>"
      ],
      "text/plain": [
       "    Unnamed: 0 STATE ABBREVIATION   D CANDIDATE NAME (First)  \\\n",
       "0         1503                 WI  01                   Paul   \n",
       "1         1504                 WI  01                    Rob   \n",
       "2         1505                 WI  01                  Keith   \n",
       "3         1506                 WI  02                 Mark     \n",
       "4         1507                 WI  02                   Chad   \n",
       "5         1508                 WI  02                    Joe   \n",
       "6         1509                 WI  03                    Ron   \n",
       "7         1510                 WI  03                    Ray   \n",
       "8         1511                 WI  04                   Gwen   \n",
       "9         1512                 WI  04                    Dan   \n",
       "10        1513                 WI  04              Robert R.   \n",
       "11        1514                 WI  05          F. James, Jr.   \n",
       "12        1515                 WI  05                   Dave   \n",
       "13        1516                 WI  06                   Tom    \n",
       "14        1517                 WI  06                    Joe   \n",
       "15        1518                 WI  07                   Sean   \n",
       "16        1519                 WI  07                    Pat   \n",
       "17        1520                 WI  07                Dale C.   \n",
       "18        1521                 WI  08                Reid J.   \n",
       "19        1522                 WI  08                  Jamie   \n",
       "\n",
       "   CANDIDATE NAME (Last) CANDIDATE NAME(f)                CANDIDATE NAME  \\\n",
       "0                   Ryan         paul ryan                    Ryan, Paul   \n",
       "1                 Zerban        rob zerban                   Zerban, Rob   \n",
       "2               Deschler    keith deschler              Deschler, Keith    \n",
       "3                  Pocan        mark pocan                 Pocan, Mark     \n",
       "4                    Lee          chad lee                     Lee, Chad   \n",
       "5                Kopsick       joe kopsick                  Kopsick, Joe   \n",
       "6                   Kind          ron kind                     Kind, Ron   \n",
       "7                 Boland        ray boland                   Boland, Ray   \n",
       "8                  Moore        gwen moore                   Moore, Gwen   \n",
       "9                Sebring       dan sebring                  Sebring, Dan   \n",
       "10               Raymond    robert raymond            Raymond, Robert R.   \n",
       "11         Sensenbrenner  f. sensenbrenner  Sensenbrenner, F. James, Jr.   \n",
       "12               Heaster      dave heaster                 Heaster, Dave   \n",
       "13                 Petri         tom petri                   Petri, Tom    \n",
       "14                Kallas        joe kallas                   Kallas, Joe   \n",
       "15                 Duffy        sean duffy                   Duffy, Sean   \n",
       "16              Kreitlow      pat kreitlow                 Kreitlow, Pat   \n",
       "17                Lehner       dale lehner               Lehner, Dale C.   \n",
       "18                Ribble       reid ribble               Ribble, Reid J.   \n",
       "19                  Wall        jamie wall                   Wall, Jamie   \n",
       "\n",
       "    PARTY  (I) GENERAL VOTES   \n",
       "0       R    1         200423  \n",
       "1       D    0         158414  \n",
       "2   OTHER    0           6054  \n",
       "3       D    0         265422  \n",
       "4       R    0         124683  \n",
       "5   OTHER    0              6  \n",
       "6       D    1         217712  \n",
       "7       R    0         121713  \n",
       "8       D    1         235257  \n",
       "9       R    0          80787  \n",
       "10  OTHER    0           9277  \n",
       "11      R    1         250335  \n",
       "12      D    0         118478  \n",
       "13      R    1         223460  \n",
       "14      D    0         135921  \n",
       "15      R    1         201720  \n",
       "16      D    0         157524  \n",
       "17  OTHER    0             20  \n",
       "18      R    1         198874  \n",
       "19      D    0         156287  "
      ]
     },
     "execution_count": 23,
     "metadata": {},
     "output_type": "execute_result"
    }
   ],
   "source": [
    "WI_2012"
   ]
  },
  {
   "cell_type": "code",
   "execution_count": null,
   "id": "8810e4a4-2237-4ab4-ae43-65c31697b09a",
   "metadata": {},
   "outputs": [],
   "source": []
  }
 ],
 "metadata": {
  "kernelspec": {
   "display_name": "Python 3 (ipykernel)",
   "language": "python",
   "name": "python3"
  },
  "language_info": {
   "codemirror_mode": {
    "name": "ipython",
    "version": 3
   },
   "file_extension": ".py",
   "mimetype": "text/x-python",
   "name": "python",
   "nbconvert_exporter": "python",
   "pygments_lexer": "ipython3",
   "version": "3.11.5"
  }
 },
 "nbformat": 4,
 "nbformat_minor": 5
}
