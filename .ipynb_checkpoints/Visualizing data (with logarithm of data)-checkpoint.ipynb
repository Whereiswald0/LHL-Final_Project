{
 "cells": [
  {
   "cell_type": "code",
   "execution_count": 3,
   "id": "2d7acb03-3938-46f6-b060-e2de0cfb87a3",
   "metadata": {
    "tags": []
   },
   "outputs": [],
   "source": [
    "# Libraries for getting the data\n",
    "import numpy as np\n",
    "import pandas as pd\n",
    "from src.modules import * #contains functions used in common with processing election and IRS data\n",
    "import os"
   ]
  },
  {
   "cell_type": "code",
   "execution_count": null,
   "id": "28d689d9-4f18-48b6-85a1-d89d07357c88",
   "metadata": {
    "tags": []
   },
   "outputs": [],
   "source": [
    "# Let's begin the process of determining a model to use. Since the data we have has a good number of outliers, we will be using the log of the data for this process"
   ]
  },
  {
   "cell_type": "code",
   "execution_count": 5,
   "id": "e80bf7a0-4448-418f-b282-0c788081f10c",
   "metadata": {
    "tags": []
   },
   "outputs": [],
   "source": [
    "# Load data, these files are the np.log of the files created in 'merge_State_IRS_data.py', see 'transform_with_log' file for details\n",
    "house_IRS_f = pd.read_csv(r'data/logarithm_of_joined_data/house_IRS_f_log.csv')\n",
    "house_IRS_d = pd.read_csv(r'data/logarithm_of_joined_data/house_IRS_d_log.csv')"
   ]
  },
  {
   "cell_type": "code",
   "execution_count": null,
   "id": "33ea6176-8519-4f10-8351-fa94a4e363b2",
   "metadata": {
    "tags": []
   },
   "outputs": [],
   "source": [
    "house_IRS_f.describe()"
   ]
  },
  {
   "cell_type": "code",
   "execution_count": null,
   "id": "68d997e2-d3d3-4935-be66-f26b7dc97eb3",
   "metadata": {
    "tags": []
   },
   "outputs": [],
   "source": [
    "### Create columns for incumbant voteshare and challenger voteshare\n",
    "# Load data, these files are the np.log of the files created in 'merge_State_IRS_data.py', see 'transform_with_log' file for details\n",
    "house_IRS_diff = pd.read_csv('data/logarithm_of_joined_data/house_IRS_d_log.csv')\n",
    "house_IRS_diff['Inc'] = (house_IRS_diff['R1'] + house_IRS_diff['D1'])\n",
    "house_IRS_diff['Challenger'] = (house_IRS_diff['R0'] + house_IRS_diff['D0'])"
   ]
  },
  {
   "cell_type": "code",
   "execution_count": null,
   "id": "26e17d90-a766-4c09-bbaf-52bf9e0a8559",
   "metadata": {
    "tags": []
   },
   "outputs": [],
   "source": [
    "# Load Libraries for visualizing the dfs\n",
    "\n",
    "import matplotlib.pyplot as plt\n",
    "import seaborn as sns\n",
    "from sklearn.preprocessing import MinMaxScaler, StandardScaler\n",
    "from sklearn.ensemble import IsolationForest"
   ]
  },
  {
   "cell_type": "code",
   "execution_count": null,
   "id": "87724aa8-5a42-4d98-9590-203b1154441f",
   "metadata": {
    "tags": []
   },
   "outputs": [],
   "source": [
    "# Scale the data\n",
    "# Opting for MinMax here, but run with StandardScaler() as well, see if it produces different results\n",
    "scaler_MM = MinMaxScaler()\n",
    "data_scaled_MM = pd.DataFrame(scaler_MM.fit_transform(house_IRS_diff), columns=house_IRS_diff.columns)\n"
   ]
  },
  {
   "cell_type": "code",
   "execution_count": null,
   "id": "b05c01bc-7175-4d98-a07a-188b67750afb",
   "metadata": {
    "tags": []
   },
   "outputs": [],
   "source": [
    "# # Detect outliers using Isolation Forest \n",
    "# ### This was recommended, but has not been deployed yet as I do not fully understand it\n",
    "# isolation_forest = IsolationForest(contamination=0.05, random_state=12)\n",
    "# is_inlier = isolation_forest.fit_predict(f2_data_scaled_MM)\n"
   ]
  },
  {
   "cell_type": "code",
   "execution_count": null,
   "id": "d5cd96c6-d2fc-42d8-8667-7aad9112b5d7",
   "metadata": {
    "tags": []
   },
   "outputs": [],
   "source": [
    "# Create histograms for each feature\n",
    "### NOTE, running this is... less helfpul, because of the number of columns \n",
    "for c in house_IRS_diff.columns:\n",
    "    plt.figure(figsize=(8, 4))\n",
    "    sns.histplot(data_scaled_MM[c], bins=30, kde=True)\n",
    "    plt.title(f'Histogram for {c}')\n",
    "    plt.show()"
   ]
  },
  {
   "cell_type": "code",
   "execution_count": null,
   "id": "276d9caf-7e72-49b4-b8ea-f70b57dd669f",
   "metadata": {
    "tags": []
   },
   "outputs": [],
   "source": [
    "# Create box plots for each feature\n",
    "plt.figure(figsize=(16, 8))\n",
    "sns.boxplot(data=data_scaled_MM)\n",
    "plt.title('Box Plot for Each Variable')\n",
    "plt.xticks(rotation=90)\n",
    "plt.show()"
   ]
  },
  {
   "cell_type": "code",
   "execution_count": null,
   "id": "1e4da415-5f64-44bf-810a-5eaeb5e9b979",
   "metadata": {
    "tags": []
   },
   "outputs": [],
   "source": [
    "# Scale the data\n",
    "# Opting for MinMax here, but run with StandardScaler() as well, see if it produces different results\n",
    "scaler_ss = StandardScaler()\n",
    "data_scaled_S = pd.DataFrame(scaler_ss.fit_transform(house_IRS_diff), columns=house_IRS_diff.columns)\n"
   ]
  },
  {
   "cell_type": "code",
   "execution_count": null,
   "id": "4cc9341f-6f45-4a75-a0b6-3309ebc33d08",
   "metadata": {
    "tags": []
   },
   "outputs": [],
   "source": [
    "# Create histograms for each feature\n",
    "### NOTE, running this is... less helfpul, because of the number of columns \n",
    "for c in house_IRS_diff.columns:\n",
    "    plt.figure(figsize=(8, 4))\n",
    "    sns.histplot(data_scaled_S[c], bins=30, kde=True)\n",
    "    plt.title(f'Histogram for {c}')\n",
    "    plt.show()"
   ]
  },
  {
   "cell_type": "code",
   "execution_count": null,
   "id": "ec0ac037-ff04-41f1-b86d-949b986d2de9",
   "metadata": {
    "tags": []
   },
   "outputs": [],
   "source": [
    "# Create box plots for each feature\n",
    "plt.figure(figsize=(16, 8))\n",
    "sns.boxplot(data=data_scaled_S)\n",
    "plt.title('Box Plot for Each Variable')\n",
    "plt.xticks(rotation=90)\n",
    "plt.show()"
   ]
  },
  {
   "cell_type": "code",
   "execution_count": null,
   "id": "9b97d281-c7dd-473e-b743-a474dd030173",
   "metadata": {
    "tags": []
   },
   "outputs": [],
   "source": [
    "### Sooooo that looks like a lot of outliers"
   ]
  },
  {
   "cell_type": "code",
   "execution_count": null,
   "id": "d631073c-afd3-4493-af5e-e4d7dc10db48",
   "metadata": {
    "tags": []
   },
   "outputs": [],
   "source": [
    "### Let's at least try a basic Gridsearch and random forest modeling\n",
    "\n",
    "from sklearn.model_selection import train_test_split, GridSearchCV\n",
    "from sklearn.decomposition import PCA # There are a LOT of features, so using PCA to reduce them seems like a good idea\n",
    "from sklearn.ensemble import RandomForestRegressor\n",
    "from sklearn.metrics import mean_squared_error, r2_score #using MSE at first, remember to try other error metrics"
   ]
  },
  {
   "cell_type": "code",
   "execution_count": null,
   "id": "f06c6d9b-f61a-4583-80e4-17990a300433",
   "metadata": {
    "tags": []
   },
   "outputs": [],
   "source": [
    "# Assign X and y\n",
    "X = house_IRS_diff.drop(['D0', 'D1', 'OTHER0', 'R0', 'R1','Inc','Challenger'],axis=1)\n",
    "### Our dependent variables for this model will just be 'Inc' and 'Challenger'\n",
    "y = house_IRS_diff[['Inc','Challenger']]"
   ]
  },
  {
   "cell_type": "code",
   "execution_count": null,
   "id": "aa4f7cd6-f117-496b-8f12-96a81e8fcb19",
   "metadata": {
    "tags": []
   },
   "outputs": [],
   "source": [
    "# Scale the data with StandardScaler\n",
    "X_scaled = scaler_ss.fit_transform(X)\n",
    "\n",
    "\n",
    "# Perform PCA to reduce features\n",
    "num_components = 15  # Consider adjusting this value if results are unsatisfactory\n",
    "pca = PCA(n_components=num_components)\n",
    "X_pca = pca.fit_transform(X_scaled)\n",
    "\n",
    "\n",
    "# Split into train and test sets  \n",
    "X_train, X_test, y_train, y_test = train_test_split(X_pca, y, test_size=0.2, random_state=12)\n",
    "\n",
    "# Assign model\n",
    "model = RandomForestRegressor()\n",
    "\n",
    "# first pass at guessing hyperparameters\n",
    "param_grid = {\n",
    "    'n_estimators': [50, 100, 200],\n",
    "    'max_depth': [None, 10, 20],\n",
    "    'min_samples_split': [2, 5, 10],\n",
    "    'min_samples_leaf': [1, 2, 4]\n",
    "}\n",
    "\n",
    "# build grid search\n",
    "grid_search = GridSearchCV(model, param_grid, cv=5, scoring='neg_mean_squared_error', n_jobs=-1)\n",
    "\n",
    "# Fit the model\n",
    "grid_search.fit(X_train, y_train)\n",
    "\n",
    "best_params = grid_search.best_params_\n",
    "print(f\"Best Hyperparameters: {best_params}\")\n",
    "\n",
    "best_model = grid_search.best_estimator_\n",
    "y_pred = best_model.predict(X_test)\n",
    "\n",
    "mse = mean_squared_error(y_test, y_pred)\n",
    "\n",
    "print(f\"Mean Squared Error on Test Set: {mse}\")"
   ]
  },
  {
   "cell_type": "code",
   "execution_count": null,
   "id": "c55e7193-7da2-4440-9fc9-16453a0eac9a",
   "metadata": {
    "tags": []
   },
   "outputs": [],
   "source": [
    "### Check with min-max Scaling as well\n",
    "\n",
    "# Scale data with Min-Max and re-run\n",
    "X_scaled_MM = scaler_MM.fit_transform(X)\n",
    "\n",
    "# Perform PCA to reduce features\n",
    "num_components = 15  # Consider adjusting this value if results are unsatisfactory\n",
    "pca = PCA(n_components=num_components)\n",
    "X_pca = pca.fit_transform(X_scaled_MM)\n",
    "\n",
    "\n",
    "# Split into train and test sets  \n",
    "X_train, X_test, y_train, y_test = train_test_split(X_pca, y, test_size=0.2, random_state=12)\n",
    "\n",
    "# Assign model\n",
    "model = RandomForestRegressor()\n",
    "\n",
    "# first pass at guessing hyperparameters\n",
    "param_grid = {\n",
    "    'n_estimators': [50, 100, 200],\n",
    "    'max_depth': [None, 10, 20],\n",
    "    'min_samples_split': [2, 5, 10],\n",
    "    'min_samples_leaf': [1, 2, 4]\n",
    "}\n",
    "\n",
    "# build grid search\n",
    "grid_search = GridSearchCV(model, param_grid, cv=5, scoring='neg_mean_squared_error', n_jobs=-1)\n",
    "\n",
    "# Fit the model\n",
    "grid_search.fit(X_train, y_train)\n",
    "\n",
    "best_params = grid_search.best_params_\n",
    "print(f\"Best Hyperparameters: {best_params}\")\n",
    "\n",
    "best_model = grid_search.best_estimator_\n",
    "y_pred = best_model.predict(X_test)\n",
    "\n",
    "mse = mean_squared_error(y_test, y_pred)\n",
    "\n",
    "print(f\"Mean Squared Error on Test Set: {mse}\")"
   ]
  },
  {
   "cell_type": "code",
   "execution_count": null,
   "id": "efd2c6f1-fc04-4dee-b7dc-67244c4e4de8",
   "metadata": {},
   "outputs": [],
   "source": [
    "\n",
    "### Let's build a more robust gridsearch"
   ]
  },
  {
   "cell_type": "code",
   "execution_count": null,
   "id": "b955ec02-c54f-4a52-bcdf-86d366404c59",
   "metadata": {
    "tags": []
   },
   "outputs": [],
   "source": [
    "from sklearn.linear_model import Ridge, Lasso\n",
    "from xgboost import XGBRegressor"
   ]
  },
  {
   "cell_type": "code",
   "execution_count": null,
   "id": "85315557-c9df-4078-b7dc-5c5fda3c9021",
   "metadata": {
    "tags": []
   },
   "outputs": [],
   "source": [
    "# Assign X and y\n",
    "X = house_IRS_diff.drop(['D0', 'D1', 'OTHER0', 'R0', 'R1','Inc','Challenger'],axis=1)\n",
    "### Our dependent variables for this model will just be 'Inc' and 'Challenger'\n",
    "y = house_IRS_diff[['Inc','Challenger']]\n",
    "\n",
    "### Reminder - if StandardScaler() is used, consider re-running with Min-Max\n",
    "X_scaled = scaler_ss.fit_transform(X)\n",
    "\n",
    "# PCA to reduce the number of features\n",
    "pca = PCA(n_components=15)\n",
    "X_pca = pca.fit_transform(X_scaled)\n",
    "\n",
    "# Split into train and test sets  \n",
    "X_train, X_test, y_train, y_test = train_test_split(X_pca, y, test_size=0.2, random_state=12)\n",
    "\n",
    "# List Models and their respective hyperparameter grids \n",
    "### THESE will likely require more tuning\n",
    "models = {\n",
    "    'XGBoost': (XGBRegressor(), {'learning_rate': [0.1, 0.01, 0.001], 'n_estimators': [25, 50, 75, 150], 'max_depth': [3, 5, 7]}),\n",
    "    'Ridge': (Ridge(), {'alpha': [0.1, 1.0, 10.0, 25]}),\n",
    "    'Lasso': (Lasso(), {'alpha': [0.1, 1.0, 10.0, 25]}),\n",
    "    'RandomForest': (RandomForestRegressor(), {'n_estimators': [50, 100, 150], 'max_depth': [None, 10, 20], 'min_samples_split': [2, 5, 10], 'min_samples_leaf': [1, 2, 4]})\n",
    "}\n",
    "\n",
    "# Perform GridSearchCV for each model\n",
    "for model_name, (model, param_grid) in models.items():\n",
    "    grid_search = GridSearchCV(model, param_grid, cv=5, scoring='neg_mean_squared_error', n_jobs=-1)\n",
    "    grid_search.fit(X_train, y_train)\n",
    "\n",
    "    # Access best hyperparameters and model for each model\n",
    "    best_params = grid_search.best_params_\n",
    "    best_model = grid_search.best_estimator_\n",
    "\n",
    "    # Evaluate on the test set\n",
    "    y_pred = best_model.predict(X_test)\n",
    "    mse = mean_squared_error(y_test, y_pred)\n",
    "\n",
    "    print(f\"Best hyperparameters for {model_name}: {best_params}\")\n",
    "    print(f\"Best model for {model_name}: {best_model}\")\n",
    "    print(f\"Mean Squared Error on Test Set: {mse}\\n\")"
   ]
  },
  {
   "cell_type": "code",
   "execution_count": null,
   "id": "5a592e8f-dd67-478c-9609-361138ef27cc",
   "metadata": {},
   "outputs": [],
   "source": [
    "\n",
    "### Re-run with Min-max\n",
    "X_scaled = scaler_ss.fit_transform(X)\n",
    "\n",
    "# PCA to reduce the number of features\n",
    "pca = PCA(n_components=15)\n",
    "X_pca = pca.fit_transform(X_scaled)\n",
    "\n",
    "# Split into train and test sets  \n",
    "X_train, X_test, y_train, y_test = train_test_split(X_pca, y, test_size=0.2, random_state=12)\n",
    "\n",
    "# List Models and their respective hyperparameter grids \n",
    "### THESE will likely require more tuning\n",
    "models = {\n",
    "    'XGBoost': (XGBRegressor(), {'learning_rate': [0.1, 0.01, 0.001], 'n_estimators': [25, 50, 75, 150], 'max_depth': [3, 5, 7]}),\n",
    "    'Ridge': (Ridge(), {'alpha': [0.1, 1.0, 10.0, 25]}),\n",
    "    'Lasso': (Lasso(), {'alpha': [0.1, 1.0, 10.0, 25]}),\n",
    "    'RandomForest': (RandomForestRegressor(), {'n_estimators': [50, 100, 150], 'max_depth': [None, 10, 20], 'min_samples_split': [2, 5, 10], 'min_samples_leaf': [1, 2, 4]})\n",
    "}\n",
    "\n",
    "# Perform GridSearchCV for each model\n",
    "for model_name, (model, param_grid) in models.items():\n",
    "    grid_search = GridSearchCV(model, param_grid, cv=5, scoring='neg_mean_squared_error', n_jobs=-1)\n",
    "    grid_search.fit(X_train, y_train)\n",
    "\n",
    "    # Access best hyperparameters and model for each model\n",
    "    best_params = grid_search.best_params_\n",
    "    best_model = grid_search.best_estimator_\n",
    "\n",
    "    # Evaluate on the test set\n",
    "    y_pred = best_model.predict(X_test)\n",
    "    mse = mean_squared_error(y_test, y_pred)\n",
    "\n",
    "    print(f\"Best hyperparameters for {model_name}: {best_params}\")\n",
    "    print(f\"Best model for {model_name}: {best_model}\")\n",
    "    print(f\"Mean Squared Error on Test Set: {mse}\\n\")"
   ]
  },
  {
   "cell_type": "code",
   "execution_count": null,
   "id": "47268fbc-5ff1-4b9e-bfc2-72dde8d8eb24",
   "metadata": {},
   "outputs": [],
   "source": [
    "best_model = RandomForestRegressor(max_depth = 20, min_samples_leaf = 4, min_samples_split = 10, n_estimators = 100, random_state=12)"
   ]
  },
  {
   "cell_type": "code",
   "execution_count": null,
   "id": "c9e0e9bb-94e3-4f64-977b-cb75a8e2ed7a",
   "metadata": {
    "tags": []
   },
   "outputs": [],
   "source": [
    "best_model.fit(X_train, y_train)"
   ]
  },
  {
   "cell_type": "code",
   "execution_count": null,
   "id": "1f3227c2-15e0-4088-ba56-8010a1e18e63",
   "metadata": {
    "tags": []
   },
   "outputs": [],
   "source": [
    "y_pred = best_model.predict(X_test)\n",
    "\n",
    "mse = mean_squared_error(y_test, y_pred)\n",
    "\n",
    "r2 = r2_score(y_test, y_pred)\n",
    "\n",
    "print(f'r2 = {r2} \\n and mse = {mse}')\n",
    "\n",
    "plt.scatter(y_test, y_pred)\n",
    "plt.xlabel(\"Actual Values\")\n",
    "plt.ylabel(\"Predicted Values\")\n",
    "plt.title(\"Actual vs. Predicted Values\")\n",
    "plt.show()"
   ]
  },
  {
   "cell_type": "code",
   "execution_count": null,
   "id": "9a926d0b-5cde-42b0-bf57-2ee082a5d362",
   "metadata": {},
   "outputs": [],
   "source": [
    "# Soooo that's not the best"
   ]
  }
 ],
 "metadata": {
  "kernelspec": {
   "display_name": "Python 3 (ipykernel)",
   "language": "python",
   "name": "python3"
  },
  "language_info": {
   "codemirror_mode": {
    "name": "ipython",
    "version": 3
   },
   "file_extension": ".py",
   "mimetype": "text/x-python",
   "name": "python",
   "nbconvert_exporter": "python",
   "pygments_lexer": "ipython3",
   "version": "3.11.5"
  }
 },
 "nbformat": 4,
 "nbformat_minor": 5
}
