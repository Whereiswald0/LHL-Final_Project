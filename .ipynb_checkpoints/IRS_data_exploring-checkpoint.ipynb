{
 "cells": [
  {
   "cell_type": "code",
   "execution_count": 1,
   "id": "fb3f5e2b-dcda-46ef-8a47-c9970206609d",
   "metadata": {
    "tags": []
   },
   "outputs": [],
   "source": [
    "import numpy as np\n",
    "import pandas as pd\n",
    "from src.modules import *"
   ]
  },
  {
   "cell_type": "code",
   "execution_count": 2,
   "id": "c99bcc82-ba67-4d8e-9fa0-baabe1e2f0b8",
   "metadata": {
    "tags": []
   },
   "outputs": [],
   "source": [
    "import os"
   ]
  },
  {
   "cell_type": "code",
   "execution_count": 3,
   "id": "07495079-729b-470b-9de6-f3736e8bb32a",
   "metadata": {
    "tags": []
   },
   "outputs": [],
   "source": [
    "irs_raw_folder_path = 'data/irs_data/raw' \n",
    "irs_folder_path = 'data/irs_data/'"
   ]
  },
  {
   "cell_type": "code",
   "execution_count": 4,
   "id": "7116b6f5-6c04-4f92-8474-608bc9bf071c",
   "metadata": {
    "tags": []
   },
   "outputs": [],
   "source": [
    "irs_raw_files = [file for file in os.listdir(irs_raw_folder_path ) if os.path.isfile(os.path.join(irs_raw_folder_path , file))]"
   ]
  },
  {
   "cell_type": "code",
   "execution_count": 5,
   "id": "b2e8e06e-17ee-48c0-982c-1346cb1c99c9",
   "metadata": {
    "tags": []
   },
   "outputs": [],
   "source": [
    "# reverse the order, so the newest data is at the front of this list \n",
    "# No real need for this, but it helps with thinking about the values we're examining\n",
    "# We want growth to be positive and loss to be negative to keep with the common understanding\n",
    "irs_raw_files = irs_raw_files[::-1]"
   ]
  },
  {
   "cell_type": "code",
   "execution_count": 6,
   "id": "7e4566d3-2270-4fee-8430-39a79138e52e",
   "metadata": {
    "tags": []
   },
   "outputs": [
    {
     "data": {
      "text/plain": [
       "['irs_count_2020.csv',\n",
       " 'irs_count_2019.csv',\n",
       " 'irs_count_2018.csv',\n",
       " 'irs_count_2017.csv',\n",
       " 'irs_count_2016.csv',\n",
       " 'irs_count_2015.csv',\n",
       " 'irs_count_2014.csv',\n",
       " 'irs_count_2013.csv',\n",
       " 'irs_count_2012.csv',\n",
       " 'irs_count_2011.csv']"
      ]
     },
     "execution_count": 6,
     "metadata": {},
     "output_type": "execute_result"
    }
   ],
   "source": [
    "irs_raw_files # just checking..."
   ]
  },
  {
   "cell_type": "code",
   "execution_count": 7,
   "id": "57a1efb4-d4af-4a5f-9959-56bde960ca3f",
   "metadata": {
    "tags": []
   },
   "outputs": [],
   "source": [
    "\n",
    "# Create empty list to hold tuples of filenames|dataframes\n",
    "processed_irs_files = []\n",
    "\n",
    "for i in irs_raw_files: # Call item in the file list\n",
    "    file = pd.read_csv(f'{irs_raw_folder_path}/{i}', encoding='latin-1') #irs formatting requires this encoding\n",
    "    file = file.drop(['STATEFIPS','AGI_STUB','COUNTYFIPS'],axis=1).reset_index(drop=True) # not used for the current analysis, but raw files are presevered for future use.\n",
    "    \n",
    "    # Lambda function to apply the filter line, removing all single name counties (should be agg. state data)\n",
    "    filter_counties = lambda row: len(row['COUNTYNAME'].split()) >=2\n",
    "    data_counties = file[file.apply(filter_counties, axis=1)]\n",
    "    \n",
    "    # Generate a name for each dataframe based on the filename without the file extension\n",
    "    name = f'{i}' \n",
    "    name = name[:-4]+'_f' \n",
    "    \n",
    "    # Assign the dataframe to the variable name\n",
    "    globals()[name] = data_counties # from the documentation: 'the globals() function is a built-in function that returns a dictionary representing the current global symbol table' only half understand this, but it works (#programming)\n",
    "    \n",
    "    # Append both to the empty list\n",
    "    processed_irs_files.append((name, data_counties))"
   ]
  },
  {
   "cell_type": "code",
   "execution_count": null,
   "id": "89a24d31-afb5-4d92-9c2a-2c18b3a96844",
   "metadata": {
    "tags": []
   },
   "outputs": [],
   "source": [
    "# def prev_year_change(data1, data2):\n",
    "#     \"\"\"\n",
    "#     This function will substitute the difference between a year and the previous year's IRS records, \n",
    "#     Giving us the change-over-year and letting us use that as an indication of economic growth/loss\n",
    "    \n",
    "#     NOTE: data1 should be the more recent year, data2 should be the older year.\n",
    "#     \"\"\"\n",
    "    \n",
    "#     # Create a set containing columns common to both dataframes \n",
    "#     # Note for future use, the '&' here only keeps items that intersect both lists\n",
    "#     col_common = set(data1.columns) & set(data2.columns)\n",
    "    \n",
    "#     #merge the dataframes, keeping data1 if the datatype is 'Object' or if the column is not in the set (all columns held in column should appear in the set..)\n",
    "#     merged = pd.concat([\n",
    "#         data1[c] if c not in col_common or data1[c].dtype == 'O' else data1[c] - data2[c]\n",
    "#         for c in data1.columns\n",
    "#     ], axis=1)\n",
    "    \n",
    "#     return merged"
   ]
  },
  {
   "cell_type": "code",
   "execution_count": null,
   "id": "4a9217bc-a709-4b75-adaf-988e99004e12",
   "metadata": {
    "tags": []
   },
   "outputs": [],
   "source": [
    "formatted_irs_files = [i[0] for i in processed_irs_files]"
   ]
  },
  {
   "cell_type": "code",
   "execution_count": null,
   "id": "779e1351-5d95-4a03-85db-1598239d6df8",
   "metadata": {
    "tags": []
   },
   "outputs": [],
   "source": [
    "formatted_irs_dataframes = [i[1] for i in processed_irs_files]"
   ]
  },
  {
   "cell_type": "code",
   "execution_count": 9,
   "id": "aa39c8e2-1ec7-49a9-8df1-0d3ff8e7f8e1",
   "metadata": {
    "tags": []
   },
   "outputs": [],
   "source": [
    "for i in range(0, len(processed_irs_files), 2): # Call every-other item in the processed files list\n",
    "    \n",
    "    # Since these are from a list of tuples, we assign the dataframes to these variables, to be passed as arguments \n",
    "    arg1 = processed_irs_files[i][1] \n",
    "    arg2 = processed_irs_files[i + 1][1] if i + 1 < len(processed_irs_files) else None #if there is an odd number, it should throw an error, IMPLIMENT LATER\n",
    "\n",
    "    # get the formatted irs file names for each year\n",
    "    name = f'{processed_irs_files[i][0]}'\n",
    "    \n",
    "    # Run the function to subtract one year's data from the previous year's data\n",
    "    prev_year_change(arg1, arg2) \n",
    "    df_diff = prev_year_change(arg1, arg2) # Placeholder variable\n",
    "    new_df = f'{processed_irs_files[i][0]}_d' # Name of new variable\n",
    "    \n",
    "    # Create the directory if it doesn't exist\n",
    "    os.makedirs(irs_folder_path, exist_ok=True)\n",
    "    \n",
    "    # Save the DataFrames as CSV files\n",
    "    csv_filename_f = f'{name}.csv'\n",
    "    csv_filename_d = f'{new_df}.csv'\n",
    "    arg1.to_csv(os.path.join(irs_folder_path, csv_filename_f), index=False) #the 'original' formatted files\n",
    "    df_diff.to_csv(os.path.join(irs_folder_path, csv_filename_d), index=False) #the file processed by the prev_year_change function"
   ]
  },
  {
   "cell_type": "code",
   "execution_count": null,
   "id": "86588412-eec9-44c3-b108-daab9ba6562f",
   "metadata": {
    "tags": []
   },
   "outputs": [],
   "source": [
    "for i in range(0, len(processed_irs_files), 2): # Call every-other item in the processed files list\n",
    "    arg1 = processed_irs_files[i][1] # Since these are from a list of tuples, we assign the dataframe to these variables, to be passed as arguments \n",
    "    arg2 = processed_irs_files[i + 1][1] if i + 1 < len(processed_irs_files) else None #if there is an odd number, it should throw an error, IMPLIMENT LATER\n",
    "    prev_year_change(arg1, arg2) # Run the function to subtract one year's data from the previous year's data\n",
    "    df_diff = prev_year_change(arg1, arg2) # Placeholder variable\n",
    "    new_df = f'{processed_irs_files[i][0]}_d' # Name of new variable\n",
    "    \n",
    "    # Create the directory if it doesn't exist\n",
    "    os.makedirs(irs_folder_path, exist_ok=True)\n",
    "    \n",
    "    # Save the DataFrame as a CSV file\n",
    "    csv_filename = f'{new_df}.csv'\n",
    "    df_diff.to_csv(os.path.join(irs_folder_path, csv_filename), index=False)"
   ]
  },
  {
   "cell_type": "code",
   "execution_count": null,
   "id": "0558862e-6a47-46d3-b4f5-c894b126a501",
   "metadata": {
    "tags": []
   },
   "outputs": [],
   "source": [
    "irs_county_2012_d = prev_year_change2(filtered_irs_dataframes[0],filtered_irs_dataframes[1])\n",
    "irs_county_2012_d = irs_county_2012_d[irs_count_2011_f.columns.tolist()]"
   ]
  },
  {
   "cell_type": "code",
   "execution_count": null,
   "id": "3105a6a5-b126-4b1e-873f-17cd08fdbdc0",
   "metadata": {
    "tags": []
   },
   "outputs": [],
   "source": [
    "irs_county_2014_d = prev_year_change2(filtered_irs_dataframes[2],filtered_irs_dataframes[3])\n",
    "irs_county_2014_d = irs_county_2014_d[irs_count_2013_f.columns.tolist()]"
   ]
  },
  {
   "cell_type": "code",
   "execution_count": null,
   "id": "3ef90d6d-fcea-4842-8e1a-973c9e8fa784",
   "metadata": {
    "tags": []
   },
   "outputs": [],
   "source": [
    "irs_county_2016_d = prev_year_change2(filtered_irs_dataframes[4],filtered_irs_dataframes[5])\n",
    "irs_county_2016_d = irs_county_2016_d[irs_count_2015_f.columns.tolist()]"
   ]
  },
  {
   "cell_type": "code",
   "execution_count": null,
   "id": "db47f71f-a731-4b2a-a887-2816214332b3",
   "metadata": {
    "tags": []
   },
   "outputs": [],
   "source": [
    "irs_county_2018_d = prev_year_change2(filtered_irs_dataframes[6],filtered_irs_dataframes[7])\n",
    "irs_county_2018_d = irs_county_2018_d[irs_count_2017_f.columns.tolist()]"
   ]
  },
  {
   "cell_type": "code",
   "execution_count": null,
   "id": "25e9d12e-2b75-40a2-9ff4-4e4102b74706",
   "metadata": {
    "tags": []
   },
   "outputs": [],
   "source": [
    "irs_county_2020_d = prev_year_change2(filtered_irs_dataframes[8],filtered_irs_dataframes[9])\n",
    "irs_county_2020_d = irs_county_2020_d[irs_count_2019_f.columns.tolist()]"
   ]
  },
  {
   "cell_type": "code",
   "execution_count": null,
   "id": "8e85149b-1e8e-47e3-9612-f7204613af77",
   "metadata": {
    "tags": []
   },
   "outputs": [],
   "source": [
    "irs_county_2016_d"
   ]
  },
  {
   "cell_type": "code",
   "execution_count": null,
   "id": "667da598-0ed8-4df7-a3b4-94c98f6b3e39",
   "metadata": {
    "tags": []
   },
   "outputs": [],
   "source": [
    "filtered_irs_files"
   ]
  },
  {
   "cell_type": "code",
   "execution_count": null,
   "id": "fa2ec7b3-418f-499d-9a39-90ab15945c46",
   "metadata": {
    "tags": []
   },
   "outputs": [],
   "source": [
    "# Call the prev_year_chagne with consecutive pairs year data from IRS raw folder \n",
    "for i in range(0, len(filtered_irs_dataframes), 2): # Call every-other item in the file list\n",
    "    arg1 = filtered_irs_dataframes[i]\n",
    "    arg2 = filtered_irs_dataframes[i + 1] if i + 1 < len(filtered_irs_dataframes) else None #if there is an odd number, it should throw an error, IMPLIMENT LATER\n",
    "    prev_year_change2(arg1, arg2) # Run the function to subtract one year's data from the previous year's data\n",
    "    df_diff = prev_year_change(arg1, arg2) # Placeholder variable\n",
    "    new_df = f'{arg1}_d' #name of new variable\n",
    "    globals()[new_df] = df_diff \n",
    "    \n"
   ]
  },
  {
   "cell_type": "code",
   "execution_count": null,
   "id": "fcc26e9b-c041-491a-832f-a5ce54f971b8",
   "metadata": {
    "tags": []
   },
   "outputs": [],
   "source": [
    "irs_2012 = pd.read_csv(r'data/irs_data/raw/irs_count_2012.csv', encoding='latin-1')\n",
    "irs_2011 = pd.read_csv(r'data/irs_data/raw/irs_count_2011.csv', encoding='latin-1')"
   ]
  },
  {
   "cell_type": "code",
   "execution_count": null,
   "id": "ae17ea56-6019-44d7-a146-eed3d2363e6d",
   "metadata": {
    "tags": []
   },
   "outputs": [],
   "source": [
    "irs_2011 = irs_2011.drop(['STATEFIPS','AGI_STUB','COUNTYFIPS'],axis=1).reset_index(drop=True)\n",
    "irs_2012 = irs_2012.drop(['STATEFIPS','AGI_STUB','COUNTYFIPS'],axis=1).reset_index(drop=True)"
   ]
  },
  {
   "cell_type": "code",
   "execution_count": null,
   "id": "ee118938-b632-4764-bde6-3f3d3a505708",
   "metadata": {
    "tags": []
   },
   "outputs": [],
   "source": [
    "irs_2011_f = irs_2011[irs_2011.apply(filter_counties, axis=1)]\n",
    "irs_2012_f = irs_2012[irs_2012.apply(filter_counties, axis=1)]"
   ]
  },
  {
   "cell_type": "code",
   "execution_count": null,
   "id": "ab413e99-6656-4d13-8da9-18376dcf6207",
   "metadata": {
    "tags": []
   },
   "outputs": [],
   "source": [
    "irs_2012_f"
   ]
  },
  {
   "cell_type": "code",
   "execution_count": null,
   "id": "acdbb1e8-96db-445c-abe6-b0bb0996d7bd",
   "metadata": {
    "tags": []
   },
   "outputs": [],
   "source": [
    "col_order = irs_2011_f.columns.tolist()"
   ]
  },
  {
   "cell_type": "code",
   "execution_count": null,
   "id": "595adb52-964b-44cd-a78b-002345031f85",
   "metadata": {
    "tags": []
   },
   "outputs": [],
   "source": [
    "df_diff = prev_year_change(irs_2012_f, irs_2011_f)"
   ]
  },
  {
   "cell_type": "code",
   "execution_count": null,
   "id": "945fe9b3-9fc5-4be9-90ee-31f6900c8b07",
   "metadata": {
    "tags": []
   },
   "outputs": [],
   "source": [
    "df_diff = df_diff[col_order]"
   ]
  },
  {
   "cell_type": "code",
   "execution_count": null,
   "id": "833d98a4-2e83-4640-902b-dc74d634844f",
   "metadata": {
    "tags": []
   },
   "outputs": [],
   "source": [
    "df_diff"
   ]
  },
  {
   "cell_type": "code",
   "execution_count": null,
   "id": "50808dd2-cdd0-4373-85c5-5e659898d5f7",
   "metadata": {
    "tags": []
   },
   "outputs": [],
   "source": [
    "# for i in irs_raw_files: # Call item in the file list\n",
    "#     file = pd.read_csv('{irs_raw_folder_path}/{i}', encoding='latin-1')\n",
    "#     file = file.drop(['STATEFIPS','AGI_STUB','COUNTYFIPS'],axis=1).reset_index(drop=True)\n",
    "#     filter_counties = lambda row: len(row['COUNTYNAME'].split()) >=2\n",
    "#     data_counties = file[file.apply(filter_counties, axis=1)]\n",
    "#     name = f'{i}'\n",
    "#     name = name[:-3]+'_f'\n",
    "#     globals()[name] = data_counties"
   ]
  },
  {
   "cell_type": "code",
   "execution_count": null,
   "id": "e6bdcaea-489d-4951-98ed-ecf0f8e87ecf",
   "metadata": {},
   "outputs": [],
   "source": [
    "# for i in range(0, len(irs_raw_files), 2): # Call every-other item in the file list\n",
    "#     arg1 = irs_raw_files[i]\n",
    "#     arg2 = irs_raw_files[i + 1] if i + 1 < len(irs_raw_files) else None #if there is an odd number, it should throw an error, IMPLIMENT LATER\n",
    "#     prev_year_change(arg1, arg2) # Run the function to subtract one year's data from the previous year's data\n",
    "#     df_diff = prev_year_change(arg1, arg2) # Placeholder variable\n",
    "#     new_df = f'{arg1}_d' #name of new variable\n",
    "#     globals()[new_df] = df_diff # from the documentation: 'the globals() function is a built-in function that returns a dictionary representing the current global symbol table' only half understand this, but it works (#programming)\n",
    "    \n"
   ]
  },
  {
   "cell_type": "code",
   "execution_count": null,
   "id": "78aea265-81a2-4ea8-9864-a462c72fd987",
   "metadata": {
    "tags": []
   },
   "outputs": [],
   "source": [
    "irs_2012.columns"
   ]
  },
  {
   "cell_type": "code",
   "execution_count": null,
   "id": "94c78bfc-5325-477f-935e-8b4fc6fea3a3",
   "metadata": {
    "tags": []
   },
   "outputs": [],
   "source": [
    "il_irs_2012 = irs_2012.loc[irs_2012['STATE']=='IL'].copy()"
   ]
  },
  {
   "cell_type": "code",
   "execution_count": null,
   "id": "c54fb1c0-113c-4124-9d2a-754aff5296bc",
   "metadata": {
    "tags": []
   },
   "outputs": [],
   "source": [
    "len(il_irs_2012)"
   ]
  },
  {
   "cell_type": "code",
   "execution_count": null,
   "id": "8d2202bd-bc1a-4881-9e22-04b7247c326f",
   "metadata": {
    "tags": []
   },
   "outputs": [],
   "source": [
    "# il_irs_2012['COUNTYNAME'] = remove_keyword(il_irs_2012['COUNTYNAME'],'County')"
   ]
  },
  {
   "cell_type": "code",
   "execution_count": null,
   "id": "6a72743a-d348-4c9b-a312-12b6d78facbd",
   "metadata": {
    "tags": []
   },
   "outputs": [],
   "source": [
    "il_irs_2012 = il_irs_2012.drop(['STATEFIPS','AGI_STUB','COUNTYFIPS'],axis=1).reset_index(drop=True)"
   ]
  },
  {
   "cell_type": "code",
   "execution_count": null,
   "id": "b8833bbf-1c30-42f1-82f0-9d4b2a8d2599",
   "metadata": {
    "tags": []
   },
   "outputs": [],
   "source": [
    "il_irs_2012"
   ]
  },
  {
   "cell_type": "code",
   "execution_count": null,
   "id": "fa85a392-942a-422e-8888-ca48fb18b926",
   "metadata": {
    "tags": []
   },
   "outputs": [],
   "source": [
    "filter_counties = lambda row: len(row['COUNTYNAME'].split()) >=2"
   ]
  },
  {
   "cell_type": "code",
   "execution_count": null,
   "id": "a01a9c46-3f7f-4ac7-9612-48bce3c9ff51",
   "metadata": {
    "tags": []
   },
   "outputs": [],
   "source": [
    "data_counties = irs_2012[irs_2012.apply(filter_counties, axis=1)]"
   ]
  },
  {
   "cell_type": "code",
   "execution_count": null,
   "id": "dd247a96-0c97-4423-a87b-f33be274fdb9",
   "metadata": {
    "tags": []
   },
   "outputs": [],
   "source": [
    "data_counties"
   ]
  },
  {
   "cell_type": "code",
   "execution_count": null,
   "id": "81431f4b-52c6-42b5-b966-68cad0f1b897",
   "metadata": {
    "tags": []
   },
   "outputs": [],
   "source": [
    "irs_2012"
   ]
  },
  {
   "cell_type": "code",
   "execution_count": null,
   "id": "93dcb748-c409-4888-b1da-1a3863aff469",
   "metadata": {
    "tags": []
   },
   "outputs": [],
   "source": [
    "irs_2012['STATE'].unique()"
   ]
  },
  {
   "cell_type": "code",
   "execution_count": null,
   "id": "80826ad2-f023-4992-a45e-5e1330878c8c",
   "metadata": {
    "tags": []
   },
   "outputs": [],
   "source": [
    "data_counties['STATE'].unique()"
   ]
  },
  {
   "cell_type": "code",
   "execution_count": null,
   "id": "12b55751-8691-414d-8930-717c117daea9",
   "metadata": {},
   "outputs": [],
   "source": [
    "# merge dfs, get col = col-col where they match\n",
    "\n",
    "# Sample dataframes\n",
    "data1 = {'ID': [1, 2, 3], 'Value': [10, 20, 30]}\n",
    "data2 = {'ID': [1, 2, 3], 'Value': [5, 10, 15]}\n",
    "\n",
    "df1 = pd.DataFrame(data1)\n",
    "df2 = pd.DataFrame(data2)\n",
    "\n",
    "# Merge dataframes on the 'ID' column\n",
    "merged_df = pd.merge(df1, df2, on='ID', suffixes=('_df1', '_df2'))\n",
    "\n",
    "# Calculate the difference for matching columns\n",
    "for column in df1.columns.intersection(df2.columns):\n",
    "    merged_df[column] = merged_df[f'{column}_df1'] - merged_df[f'{column}_df2']\n",
    "\n",
    "# Drop the redundant columns\n",
    "merged_df = merged_df.drop(columns=['Value_df1', 'Value_df2'])\n",
    "\n",
    "print(merged_df)"
   ]
  },
  {
   "cell_type": "code",
   "execution_count": null,
   "id": "91c3fb49-2e55-4b57-ac0c-5dd36ec07bac",
   "metadata": {
    "tags": []
   },
   "outputs": [],
   "source": [
    "irs_raw_files"
   ]
  },
  {
   "cell_type": "code",
   "execution_count": null,
   "id": "6772b6f9-effd-4e0d-8b15-33aa3e01357d",
   "metadata": {
    "tags": []
   },
   "outputs": [],
   "source": [
    "irs_raw_files = irs_raw_files[::-1]"
   ]
  },
  {
   "cell_type": "code",
   "execution_count": null,
   "id": "cf4df777-4908-486d-920d-e13173d3a2be",
   "metadata": {
    "tags": []
   },
   "outputs": [],
   "source": [
    "# def prev_year_change(data1, data2):\n",
    "#     \"\"\"\n",
    "#     This function will substitute the difference between a year and the previous year's IRS records, \n",
    "#     Giving us the change-over-year and letting us use that as an indication of economic growth/loss\n",
    "    \n",
    "#     NOTE: data1 should be the more recent year, data2 should be the older year.\n",
    "#     \"\"\"\n",
    "    \n",
    "#     #merge the dataframes, for columns with common names add a suffix to denote the source\n",
    "#     data_diff = pd.merge(data1, data2, on='COUNTYNAME', suffixes=('_data1','_data2'))\n",
    "#     common_col = set(data1.columns) & set(data2.columns)\n",
    "#     for c in common_col:\n",
    "#         if data1[c].dtype == data2[c].dtype and pd.api.types.is_numeric_dtype(data1[c]): # Lucky me there's such as thing as this 'types.is_numeric_dtype'...\n",
    "#             data_diff = data_diff[f'{c}_data1']-data_diff[f'{c}_data2']\n",
    "#     data_diff = data_diff.drop(columns=[c + '_data1' for c in common_columns] + [c + '_data2' for c in common_columns], inplace=True)\n",
    "#     return data_diff"
   ]
  },
  {
   "cell_type": "code",
   "execution_count": null,
   "id": "4bc9affc-5a43-498a-af25-ed28a62aa21a",
   "metadata": {
    "tags": []
   },
   "outputs": [],
   "source": [
    "# def your_function(arg1, arg2):\n",
    "#     # Your function logic here\n",
    "#     print(f\"Function called with arguments: {arg1}, {arg2}\")\n",
    "\n",
    "# # Example list of filenames\n",
    "# filenames = ['file1.txt', 'file2.txt', 'file3.txt', 'file4.txt', 'file5.txt']\n",
    "\n"
   ]
  },
  {
   "cell_type": "code",
   "execution_count": null,
   "id": "d6eb15f0-e993-46c5-8127-674f80a8dbb1",
   "metadata": {},
   "outputs": [],
   "source": [
    "prev_year_change()"
   ]
  }
 ],
 "metadata": {
  "kernelspec": {
   "display_name": "Python 3 (ipykernel)",
   "language": "python",
   "name": "python3"
  },
  "language_info": {
   "codemirror_mode": {
    "name": "ipython",
    "version": 3
   },
   "file_extension": ".py",
   "mimetype": "text/x-python",
   "name": "python",
   "nbconvert_exporter": "python",
   "pygments_lexer": "ipython3",
   "version": "3.11.5"
  }
 },
 "nbformat": 4,
 "nbformat_minor": 5
}
