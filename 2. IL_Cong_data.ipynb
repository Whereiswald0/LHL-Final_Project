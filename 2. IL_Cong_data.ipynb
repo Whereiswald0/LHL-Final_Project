{
 "cells": [
  {
   "cell_type": "code",
   "execution_count": 1,
   "id": "7562f562-6c13-4d56-91f6-c6f4f2d8e203",
   "metadata": {
    "tags": []
   },
   "outputs": [],
   "source": [
    "import numpy as np\n",
    "import pandas as pd\n",
    "from src.modules import *"
   ]
  },
  {
   "cell_type": "code",
   "execution_count": 2,
   "id": "3c9c7581-d993-464f-8a27-012e4464799f",
   "metadata": {
    "tags": []
   },
   "outputs": [],
   "source": [
    "il_2012_path = 'data/raw_elec_totals/IL_Gen_2012.xlsx'\n",
    "excel_2012 = pd.ExcelFile(il_2012_path)\n",
    "sheet_names_2012 = excel_2012.sheet_names\n",
    "\n",
    "il_2014_path = 'data/raw_elec_totals/IL_Gen_2014.xlsx'\n",
    "excel_2014 = pd.ExcelFile(il_2014_path)\n",
    "sheet_names_2014 = excel_2014.sheet_names\n",
    "\n",
    "il_2016_path = 'data/raw_elec_totals/IL_Gen_2016.xlsx'\n",
    "excel_2016 = pd.ExcelFile(il_2016_path)\n",
    "sheet_names_2016 = excel_2016.sheet_names\n",
    "\n",
    "il_2018_path = 'data/raw_elec_totals/IL_Gen_2018.xlsx'\n",
    "excel_2018 = pd.ExcelFile(il_2018_path)\n",
    "sheet_names_2018 = excel_2018.sheet_names\n",
    "\n",
    "il_2020_path = 'data/raw_elec_totals/IL_Gen_2020.xlsx'\n",
    "excel_2020 = pd.ExcelFile(il_2020_path)\n",
    "sheet_names_2020 = excel_2020.sheet_names"
   ]
  },
  {
   "cell_type": "code",
   "execution_count": 3,
   "id": "0d103efe-aa72-4d5b-afd2-a6204b16ab2b",
   "metadata": {
    "tags": []
   },
   "outputs": [
    {
     "name": "stdout",
     "output_type": "stream",
     "text": [
      "TotalsByCounty\n"
     ]
    }
   ],
   "source": [
    "for i in sheet_names_2012:\n",
    "    print(i)"
   ]
  },
  {
   "cell_type": "code",
   "execution_count": 4,
   "id": "40f8e4a7-c4bc-4590-a425-e238fc3b678f",
   "metadata": {
    "tags": []
   },
   "outputs": [
    {
     "name": "stderr",
     "output_type": "stream",
     "text": [
      "C:\\Users\\joshu\\anaconda3\\Lib\\site-packages\\openpyxl\\worksheet\\header_footer.py:48: UserWarning: Cannot parse header or footer so it will be ignored\n",
      "  warn(\"\"\"Cannot parse header or footer so it will be ignored\"\"\")\n",
      "C:\\Users\\joshu\\anaconda3\\Lib\\site-packages\\openpyxl\\worksheet\\header_footer.py:48: UserWarning: Cannot parse header or footer so it will be ignored\n",
      "  warn(\"\"\"Cannot parse header or footer so it will be ignored\"\"\")\n",
      "C:\\Users\\joshu\\anaconda3\\Lib\\site-packages\\openpyxl\\worksheet\\header_footer.py:48: UserWarning: Cannot parse header or footer so it will be ignored\n",
      "  warn(\"\"\"Cannot parse header or footer so it will be ignored\"\"\")\n",
      "C:\\Users\\joshu\\anaconda3\\Lib\\site-packages\\openpyxl\\worksheet\\header_footer.py:48: UserWarning: Cannot parse header or footer so it will be ignored\n",
      "  warn(\"\"\"Cannot parse header or footer so it will be ignored\"\"\")\n"
     ]
    }
   ],
   "source": [
    "cong_IL_2012 = pd.read_excel(il_2012_path, sheet_name='TotalsByCounty',index_col=0)\n",
    "cong_IL_2014 = pd.read_excel(il_2014_path, sheet_name='TotalsByCounty')\n",
    "cong_IL_2016 = pd.read_excel(il_2016_path, sheet_name='TotalsByCounty')\n",
    "cong_IL_2018 = pd.read_excel(il_2018_path, sheet_name='TotalsByCounty')\n",
    "cong_IL_2020 = pd.read_excel(il_2020_path, sheet_name='TotalsByCounty')"
   ]
  },
  {
   "cell_type": "code",
   "execution_count": null,
   "id": "e03cc447-032d-4bbc-ab86-57e278d9f6b7",
   "metadata": {
    "tags": []
   },
   "outputs": [],
   "source": [
    "cong_IL_2020.columns"
   ]
  },
  {
   "cell_type": "code",
   "execution_count": null,
   "id": "1c4b1534-4f15-464b-986f-722906d366b3",
   "metadata": {
    "tags": []
   },
   "outputs": [],
   "source": [
    "cong_IL_2014.columns"
   ]
  },
  {
   "cell_type": "code",
   "execution_count": null,
   "id": "91035e59-896d-4878-a80b-da814837f5b5",
   "metadata": {
    "tags": []
   },
   "outputs": [],
   "source": []
  },
  {
   "cell_type": "code",
   "execution_count": 5,
   "id": "9f3386bc-378b-48bf-b2f4-8d55682ea1d4",
   "metadata": {
    "tags": []
   },
   "outputs": [],
   "source": [
    "cong_IL_2012 = cong_IL_2012[cong_IL_2012['OfficeName'].str.contains('congress', case=False, na=False)]\n",
    "cong_IL_2014 = cong_IL_2014[cong_IL_2014['OfficeName'].str.contains('congress', case=False, na=False)]\n",
    "cong_IL_2016 = cong_IL_2016[cong_IL_2016['OfficeName'].str.contains('congress', case=False, na=False)]\n",
    "cong_IL_2018 = cong_IL_2018[cong_IL_2018['OfficeName'].str.contains('congress', case=False, na=False)]\n",
    "cong_IL_2020 = cong_IL_2020[cong_IL_2020['OfficeName'].str.contains('congress', case=False, na=False)]"
   ]
  },
  {
   "cell_type": "code",
   "execution_count": 6,
   "id": "ed28e664-61c8-4daf-ba78-52b85ee5f067",
   "metadata": {
    "tags": []
   },
   "outputs": [],
   "source": [
    "il_list = ['cong_IL_2012', 'cong_IL_2014','cong_IL_2016', 'cong_IL_2018', 'cong_IL_2020']\n",
    "il_df_list = [cong_IL_2012, cong_IL_2014,cong_IL_2016, cong_IL_2018, cong_IL_2020]"
   ]
  },
  {
   "cell_type": "code",
   "execution_count": 7,
   "id": "cfc5d4ef-edad-4f55-9524-eb93cfe99f1a",
   "metadata": {
    "tags": []
   },
   "outputs": [],
   "source": [
    "il_12_f = format_il(cong_IL_2012)\n",
    "il_14_f = format_il(cong_IL_2014)\n",
    "il_16_f = format_il(cong_IL_2016)\n",
    "il_18_f = format_il(cong_IL_2018)\n",
    "il_20_f = format_il(cong_IL_2020)"
   ]
  },
  {
   "cell_type": "code",
   "execution_count": 8,
   "id": "865114f3-bc26-4840-be83-9d3fd9c9e02d",
   "metadata": {
    "tags": []
   },
   "outputs": [],
   "source": [
    "fec_2012 = pd.read_csv(r'data\\FEC\\candidates_2012.csv', index_col=0)\n",
    "fec_2014 = pd.read_csv(r'data\\FEC\\candidates_2014.csv', index_col=0)\n",
    "fec_2016 = pd.read_csv(r'data\\FEC\\candidates_2016.csv', index_col=0)\n",
    "fec_2018 = pd.read_csv(r'data\\FEC\\candidates_2018.csv', index_col=0)\n",
    "fec_2020 = pd.read_csv(r'data\\FEC\\candidates_2020.csv', index_col=0)\n",
    "\n",
    "#Note - We only want FEC data from the State being read - this is to avoid complications from having candidates with the same name running in house races in other States. \n",
    "### A more robust solution should be found in the future\n",
    "fec_2012 = fec_2012.loc[fec_2012['STATE ABBREVIATION']=='IL']\n",
    "fec_2014 = fec_2014.loc[fec_2014['STATE ABBREVIATION']=='IL']\n",
    "fec_2016 = fec_2016.loc[fec_2016['STATE ABBREVIATION']=='IL']\n",
    "fec_2018 = fec_2018.loc[fec_2018['STATE ABBREVIATION']=='IL']\n",
    "fec_2020 = fec_2020.loc[fec_2020['STATE ABBREVIATION']=='IL']"
   ]
  },
  {
   "cell_type": "code",
   "execution_count": 9,
   "id": "6875957b-0c20-46f1-ae50-6e4833609314",
   "metadata": {
    "tags": []
   },
   "outputs": [
    {
     "name": "stdout",
     "output_type": "stream",
     "text": [
      "joining WI election and FEC data\n",
      "transforming dataframes\n"
     ]
    }
   ],
   "source": [
    "# Apply 'state_join_FEC' to each dataframe, producing a list of counties and the Election data with candidate party affiliation joined\n",
    "print(\"joining WI election and FEC data\")\n",
    "\n",
    "il_house_12_fec, il_counties_12 = state_join_FEC(il_12_f, fec_2012)\n",
    "il_house_14_fec, il_counties_14 = state_join_FEC(il_14_f, fec_2014)\n",
    "il_house_16_fec, il_counties_16 = state_join_FEC(il_16_f, fec_2016)\n",
    "il_house_18_fec, il_counties_18 = state_join_FEC(il_18_f, fec_2018)\n",
    "il_house_20_fec, il_counties_20 = state_join_FEC(il_20_f, fec_2020)\n",
    "\n",
    "# use 'state_trans' function to group election data by party affiliation, producing a dataframe with Counties as rows and party vote totals as columns\n",
    "print(\"transforming dataframes\")\n",
    "\n",
    "il_house_12_t = state_trans(il_house_12_fec, il_counties_12)\n",
    "il_house_14_t = state_trans(il_house_14_fec, il_counties_12)\n",
    "il_house_16_t = state_trans(il_house_16_fec, il_counties_12)\n",
    "il_house_18_t = state_trans(il_house_18_fec, il_counties_12)\n",
    "il_house_20_t = state_trans(il_house_20_fec, il_counties_12)\n",
    "\n",
    "# # Save those as CSVs\n",
    "# print(\"writing data to '..\\data\\formatted_house_totals'\")\n",
    "\n",
    "# il_house_12_t.to_csv(r'data\\formatted_house_totals\\IL_House_12.csv', index=False)\n",
    "# il_house_14_t.to_csv(r'data\\formatted_house_totals\\IL_House_14.csv', index=False)\n",
    "# il_house_16_t.to_csv(r'data\\formatted_house_totals\\IL_House_16.csv', index=False)\n",
    "# il_house_18_t.to_csv(r'data\\formatted_house_totals\\IL_House_18.csv', index=False)\n",
    "# il_house_20_t.to_csv(r'data\\formatted_house_totals\\IL_House_20.csv', index=False)"
   ]
  },
  {
   "cell_type": "code",
   "execution_count": 10,
   "id": "fbad0ce9-a071-43db-821e-d087025285f1",
   "metadata": {
    "tags": []
   },
   "outputs": [
    {
     "data": {
      "text/html": [
       "<div>\n",
       "<style scoped>\n",
       "    .dataframe tbody tr th:only-of-type {\n",
       "        vertical-align: middle;\n",
       "    }\n",
       "\n",
       "    .dataframe tbody tr th {\n",
       "        vertical-align: top;\n",
       "    }\n",
       "\n",
       "    .dataframe thead th {\n",
       "        text-align: right;\n",
       "    }\n",
       "</style>\n",
       "<table border=\"1\" class=\"dataframe\">\n",
       "  <thead>\n",
       "    <tr style=\"text-align: right;\">\n",
       "      <th>index</th>\n",
       "      <th>County</th>\n",
       "      <th>D0</th>\n",
       "      <th>D1</th>\n",
       "      <th>OTHER0</th>\n",
       "      <th>R0</th>\n",
       "      <th>R1</th>\n",
       "    </tr>\n",
       "  </thead>\n",
       "  <tbody>\n",
       "    <tr>\n",
       "      <th>0</th>\n",
       "      <td>cook</td>\n",
       "      <td>111158.0</td>\n",
       "      <td>1109781.0</td>\n",
       "      <td>86126.0</td>\n",
       "      <td>335037.0</td>\n",
       "      <td>106321.0</td>\n",
       "    </tr>\n",
       "    <tr>\n",
       "      <th>1</th>\n",
       "      <td>will</td>\n",
       "      <td>90973.0</td>\n",
       "      <td>31472.0</td>\n",
       "      <td>3075.0</td>\n",
       "      <td>59899.0</td>\n",
       "      <td>72222.0</td>\n",
       "    </tr>\n",
       "    <tr>\n",
       "      <th>2</th>\n",
       "      <td>kankakee</td>\n",
       "      <td>0.0</td>\n",
       "      <td>0.0</td>\n",
       "      <td>5165.0</td>\n",
       "      <td>27370.0</td>\n",
       "      <td>0.0</td>\n",
       "    </tr>\n",
       "    <tr>\n",
       "      <th>3</th>\n",
       "      <td>dupage</td>\n",
       "      <td>168250.0</td>\n",
       "      <td>12602.0</td>\n",
       "      <td>1141.0</td>\n",
       "      <td>16130.0</td>\n",
       "      <td>191617.0</td>\n",
       "    </tr>\n",
       "    <tr>\n",
       "      <th>4</th>\n",
       "      <td>kane</td>\n",
       "      <td>81574.0</td>\n",
       "      <td>0.0</td>\n",
       "      <td>0.0</td>\n",
       "      <td>0.0</td>\n",
       "      <td>94320.0</td>\n",
       "    </tr>\n",
       "    <tr>\n",
       "      <th>...</th>\n",
       "      <td>...</td>\n",
       "      <td>...</td>\n",
       "      <td>...</td>\n",
       "      <td>...</td>\n",
       "      <td>...</td>\n",
       "      <td>...</td>\n",
       "    </tr>\n",
       "    <tr>\n",
       "      <th>97</th>\n",
       "      <td>mcdonough</td>\n",
       "      <td>4536.0</td>\n",
       "      <td>0.0</td>\n",
       "      <td>0.0</td>\n",
       "      <td>0.0</td>\n",
       "      <td>7578.0</td>\n",
       "    </tr>\n",
       "    <tr>\n",
       "      <th>98</th>\n",
       "      <td>pike</td>\n",
       "      <td>1656.0</td>\n",
       "      <td>0.0</td>\n",
       "      <td>0.0</td>\n",
       "      <td>0.0</td>\n",
       "      <td>5522.0</td>\n",
       "    </tr>\n",
       "    <tr>\n",
       "      <th>99</th>\n",
       "      <td>schuyler</td>\n",
       "      <td>1069.0</td>\n",
       "      <td>0.0</td>\n",
       "      <td>0.0</td>\n",
       "      <td>0.0</td>\n",
       "      <td>2771.0</td>\n",
       "    </tr>\n",
       "    <tr>\n",
       "      <th>100</th>\n",
       "      <td>scott</td>\n",
       "      <td>617.0</td>\n",
       "      <td>0.0</td>\n",
       "      <td>0.0</td>\n",
       "      <td>0.0</td>\n",
       "      <td>1914.0</td>\n",
       "    </tr>\n",
       "    <tr>\n",
       "      <th>101</th>\n",
       "      <td>woodford</td>\n",
       "      <td>3602.0</td>\n",
       "      <td>0.0</td>\n",
       "      <td>0.0</td>\n",
       "      <td>0.0</td>\n",
       "      <td>15036.0</td>\n",
       "    </tr>\n",
       "  </tbody>\n",
       "</table>\n",
       "<p>102 rows × 6 columns</p>\n",
       "</div>"
      ],
      "text/plain": [
       "index     County        D0         D1   OTHER0        R0        R1\n",
       "0           cook  111158.0  1109781.0  86126.0  335037.0  106321.0\n",
       "1           will   90973.0    31472.0   3075.0   59899.0   72222.0\n",
       "2       kankakee       0.0        0.0   5165.0   27370.0       0.0\n",
       "3         dupage  168250.0    12602.0   1141.0   16130.0  191617.0\n",
       "4           kane   81574.0        0.0      0.0       0.0   94320.0\n",
       "..           ...       ...        ...      ...       ...       ...\n",
       "97     mcdonough    4536.0        0.0      0.0       0.0    7578.0\n",
       "98          pike    1656.0        0.0      0.0       0.0    5522.0\n",
       "99      schuyler    1069.0        0.0      0.0       0.0    2771.0\n",
       "100        scott     617.0        0.0      0.0       0.0    1914.0\n",
       "101     woodford    3602.0        0.0      0.0       0.0   15036.0\n",
       "\n",
       "[102 rows x 6 columns]"
      ]
     },
     "execution_count": 10,
     "metadata": {},
     "output_type": "execute_result"
    }
   ],
   "source": [
    "il_house_12_t"
   ]
  },
  {
   "cell_type": "code",
   "execution_count": 14,
   "id": "d169131e-1b14-4079-b5d3-88540f137671",
   "metadata": {
    "tags": []
   },
   "outputs": [],
   "source": [
    "il_house_12 = il_house_12_t.drop('County',axis=1)"
   ]
  },
  {
   "cell_type": "code",
   "execution_count": 18,
   "id": "0e237f57-7a06-40a1-a583-baad1f3fa3a3",
   "metadata": {
    "tags": []
   },
   "outputs": [
    {
     "data": {
      "text/html": [
       "<div>\n",
       "<style scoped>\n",
       "    .dataframe tbody tr th:only-of-type {\n",
       "        vertical-align: middle;\n",
       "    }\n",
       "\n",
       "    .dataframe tbody tr th {\n",
       "        vertical-align: top;\n",
       "    }\n",
       "\n",
       "    .dataframe thead th {\n",
       "        text-align: right;\n",
       "    }\n",
       "</style>\n",
       "<table border=\"1\" class=\"dataframe\">\n",
       "  <thead>\n",
       "    <tr style=\"text-align: right;\">\n",
       "      <th>index</th>\n",
       "      <th>D0</th>\n",
       "      <th>D1</th>\n",
       "      <th>OTHER0</th>\n",
       "      <th>R0</th>\n",
       "      <th>R1</th>\n",
       "    </tr>\n",
       "  </thead>\n",
       "  <tbody>\n",
       "    <tr>\n",
       "      <th>count</th>\n",
       "      <td>102.0</td>\n",
       "      <td>102.0</td>\n",
       "      <td>102.0</td>\n",
       "      <td>102.0</td>\n",
       "      <td>102.0</td>\n",
       "    </tr>\n",
       "    <tr>\n",
       "      <th>unique</th>\n",
       "      <td>102.0</td>\n",
       "      <td>4.0</td>\n",
       "      <td>35.0</td>\n",
       "      <td>30.0</td>\n",
       "      <td>81.0</td>\n",
       "    </tr>\n",
       "    <tr>\n",
       "      <th>top</th>\n",
       "      <td>111158.0</td>\n",
       "      <td>0.0</td>\n",
       "      <td>0.0</td>\n",
       "      <td>0.0</td>\n",
       "      <td>0.0</td>\n",
       "    </tr>\n",
       "    <tr>\n",
       "      <th>freq</th>\n",
       "      <td>1.0</td>\n",
       "      <td>99.0</td>\n",
       "      <td>67.0</td>\n",
       "      <td>73.0</td>\n",
       "      <td>21.0</td>\n",
       "    </tr>\n",
       "  </tbody>\n",
       "</table>\n",
       "</div>"
      ],
      "text/plain": [
       "index         D0     D1  OTHER0     R0     R1\n",
       "count      102.0  102.0   102.0  102.0  102.0\n",
       "unique     102.0    4.0    35.0   30.0   81.0\n",
       "top     111158.0    0.0     0.0    0.0    0.0\n",
       "freq         1.0   99.0    67.0   73.0   21.0"
      ]
     },
     "execution_count": 18,
     "metadata": {},
     "output_type": "execute_result"
    }
   ],
   "source": [
    "il_house_12.describe()"
   ]
  },
  {
   "cell_type": "code",
   "execution_count": null,
   "id": "822f8a20-5898-4d2f-a727-236e6ae1bceb",
   "metadata": {},
   "outputs": [],
   "source": [
    "for i in data:\n",
    "    i['CanFirstName'] = trim_party(i['CanFirstName'],' ')\n",
    "    i['Candidate Name(f)'] = i['CanFirstName']+' '+i['CanLastName']\n",
    "    i = i.reset_index()\n",
    "    cand_list = i['Candidate Name(f)'].unique()"
   ]
  },
  {
   "cell_type": "code",
   "execution_count": null,
   "id": "e5767e12-9fef-4154-ba4b-a8e21c55c624",
   "metadata": {
    "tags": []
   },
   "outputs": [],
   "source": [
    "cong_IL_2014['CanFirstName'] = trim_party(cong_IL_2014['CanFirstName'],' ')"
   ]
  },
  {
   "cell_type": "code",
   "execution_count": null,
   "id": "9cf54959-4460-4372-953a-07ad0af3392f",
   "metadata": {
    "tags": []
   },
   "outputs": [],
   "source": [
    "cong_IL_2014['Candidate Name(f)'] = cong_IL_2014['CanFirstName']+' '+cong_IL_2014['CanLastName']"
   ]
  },
  {
   "cell_type": "code",
   "execution_count": null,
   "id": "2e9c9eb4-0ecd-48a7-a2b9-3cfc7635c399",
   "metadata": {
    "tags": []
   },
   "outputs": [],
   "source": [
    "cong_IL_2014.reset_index(inplace=True)"
   ]
  },
  {
   "cell_type": "code",
   "execution_count": null,
   "id": "fe3848a8-12e4-46e9-85e8-d28b917c552b",
   "metadata": {
    "tags": []
   },
   "outputs": [],
   "source": [
    "cand_list = cong_IL_2014['Candidate Name(f)'].unique()"
   ]
  },
  {
   "cell_type": "code",
   "execution_count": null,
   "id": "fe1a03e3-6902-4fbd-ae87-0e42c4aacfce",
   "metadata": {
    "tags": []
   },
   "outputs": [],
   "source": [
    "cand_list"
   ]
  },
  {
   "cell_type": "code",
   "execution_count": null,
   "id": "090edf78-d97d-4e86-ade9-61946d466299",
   "metadata": {
    "tags": []
   },
   "outputs": [],
   "source": [
    "house_2014 = pd.read_csv(r'data/FEC/candidates_2014.csv',index_col=0)"
   ]
  },
  {
   "cell_type": "code",
   "execution_count": null,
   "id": "3e048ddd-b493-4cbf-89a8-9f36f6f7c932",
   "metadata": {
    "tags": []
   },
   "outputs": [],
   "source": [
    "il_cand_2014 = house_2014.loc[house_2014['STATE ABBREVIATION']=='IL']"
   ]
  },
  {
   "cell_type": "code",
   "execution_count": null,
   "id": "51b18524-fc8a-488c-b62a-4f65f0b250c2",
   "metadata": {
    "tags": []
   },
   "outputs": [],
   "source": [
    "il_cand_2014['CANDIDATE NAME(f)'].nunique()"
   ]
  },
  {
   "cell_type": "code",
   "execution_count": null,
   "id": "343eec92-7496-41f7-8cfd-a235d6c69245",
   "metadata": {
    "tags": []
   },
   "outputs": [],
   "source": [
    "# candidate_votes_dfs = [cong_IL_2014['County',f'{cand_list}]_votes']] for canidate in cand_list"
   ]
  },
  {
   "cell_type": "code",
   "execution_count": null,
   "id": "43148d6d-0dfb-40d0-9c47-c268bb17f33f",
   "metadata": {
    "tags": []
   },
   "outputs": [],
   "source": [
    "##THIS WORKS\n",
    "\n",
    "# def format_il(data):\n",
    "#     # Create tables for each candidate\n",
    "#     cand_tables = {}\n",
    "#     for i in cand_list:\n",
    "#         candidate_df = cong_IL_2014[cong_IL_2014['Candidate Name(f)'] == i][['County', 'Votes']]\n",
    "#         candidate_df = candidate_df.groupby('County').sum().reset_index()\n",
    "#         cand_tables[i] = candidate_df\n",
    "\n",
    "#     # Merge tables\n",
    "#     merged_df = cand_tables[cand_list[0]]\n",
    "#     for i in cand_list[1:]:\n",
    "#         merged_df = pd.merge(merged_df, cand_tables[i], on='County', how='outer', suffixes=('_' + i, ''))\n",
    "\n",
    "#     # Rename columns\n",
    "#     merged_df.columns = ['County'] + list(cand_list)\n",
    "\n",
    "#     # If candidate received zero votes, fill NaN\n",
    "#     merged_df = merged_df.fillna(0)\n",
    "#     return merged_df\n",
    "\n",
    "    # Format names using 'trim party' function, then concatinate so name matches FEC data"
   ]
  },
  {
   "cell_type": "code",
   "execution_count": null,
   "id": "df95003b-c5b4-41be-baa4-ae42313ad0da",
   "metadata": {
    "tags": []
   },
   "outputs": [],
   "source": []
  },
  {
   "cell_type": "code",
   "execution_count": null,
   "id": "625cee12-8050-4f46-b04e-c68fcfdc27dc",
   "metadata": {
    "tags": []
   },
   "outputs": [],
   "source": [
    "def format_il(data):\n",
    "    \"\"\"\n",
    "    This function is built to format election data \n",
    "    as recorded by the Illinois State Board of Elections\n",
    "    Illinois produces records for the election as a whole rather than for individual offices\n",
    "    \"\"\"\n",
    "    \n",
    "    # Format names using 'trim party' function to remove middle names and titles, then concatinate so name matches FEC data\n",
    "    data['CanFirstName'] = trim_party(data['CanFirstName'],' ') #removes middle names\n",
    "    data['CanLastName'] = trim_party(data['CanLastName'], ' ') #removes titles appended to last names\n",
    "    data['Candidate Name(f)'] = data['CanFirstName']+' '+data['CanLastName']\n",
    "    #format names as lower-case\n",
    "    data['Candidate Name(f)'] = data['Candidate Name(f)'].astype(str).str.lower()\n",
    "\n",
    "    # Create list of candidates\n",
    "    cand_list = data['Candidate Name(f)'].unique()\n",
    "\n",
    "    #reduce candidate list to just names, if any name-final punctuation remains after removing titles\n",
    "    cand_list = [''.join(char for char in i if char.isalpha() or char.isspace()) for i in cand_list] \n",
    "\n",
    "    # Since all races appear in a single sheet\n",
    "    # Create tables for each candidate\n",
    "    cand_tables = {}\n",
    "    for i in cand_list:\n",
    "        candidate_df = data[data['Candidate Name(f)'] == i][['County', 'Votes']]\n",
    "        candidate_df = candidate_df.groupby('County').sum().reset_index()\n",
    "        cand_tables[i] = candidate_df\n",
    "\n",
    "    # Merge tables\n",
    "    merged_df = cand_tables[cand_list[0]]\n",
    "    for i in cand_list[1:]:\n",
    "        merged_df = pd.merge(merged_df, cand_tables[i], on='County', how='outer', suffixes=('_' + i, ''))\n",
    "\n",
    "    # Rename columns\n",
    "    merged_df.columns = ['County'] + list(cand_list)\n",
    "\n",
    "    # If candidate received zero votes, fill NaN\n",
    "    merged_df = merged_df.fillna(0)\n",
    "    return merged_df\n"
   ]
  },
  {
   "cell_type": "code",
   "execution_count": null,
   "id": "b6c6ca32-c3f1-429c-86d6-5a2d80851fbb",
   "metadata": {
    "tags": []
   },
   "outputs": [],
   "source": [
    "# # Create tables for each candidate\n",
    "# cand_tables = {}\n",
    "# for i in cand_list:\n",
    "#     candidate_df = cong_IL_2014[cong_IL_2014['Candidate Name(f)'] == i][['County', 'Votes']]\n",
    "#     candidate_df = candidate_df.groupby('County').sum().reset_index()\n",
    "#     cand_tables[i] = candidate_df\n",
    "\n",
    "# # Merge tables\n",
    "# merged_df = cand_tables[cand_list[0]]\n",
    "# for i in cand_list[1:]:\n",
    "#     merged_df = pd.merge(merged_df, cand_tables[i], on='County', how='outer', suffixes=('_' + i, ''))\n",
    "\n",
    "# # Rename columns\n",
    "# merged_df.columns = ['County'] + list(cand_list)\n",
    "\n",
    "# # If candidate received zero votes, fill NaN\n",
    "# merged_df = merged_df.fillna(0)"
   ]
  },
  {
   "cell_type": "code",
   "execution_count": null,
   "id": "33d602af-850b-47c6-901c-e5638f124eaf",
   "metadata": {
    "tags": []
   },
   "outputs": [],
   "source": [
    "il_12_cong = format_il(cong_IL_2012)\n",
    "il_14_cong = format_il(cong_IL_2014)\n",
    "il_16_cong = format_il(cong_IL_2016)\n",
    "il_18_cong = format_il(cong_IL_2018)\n",
    "il_20_cong = format_il(cong_IL_2020) "
   ]
  },
  {
   "cell_type": "code",
   "execution_count": null,
   "id": "b71916e8-a2b9-4d7b-b8e6-6bb822888e78",
   "metadata": {
    "tags": []
   },
   "outputs": [],
   "source": [
    "il_12_cong"
   ]
  },
  {
   "cell_type": "code",
   "execution_count": null,
   "id": "343d509d-5671-4098-a916-32b976fd6284",
   "metadata": {},
   "outputs": [],
   "source": [
    "def OH_join_FEC(data, fec_data):\n",
    "    \"\"\" \n",
    "    This function prepares and joins FEC data to the Ohio election data\n",
    "    \"\"\"\n",
    "    #for OH, first column is always County names\n",
    "    county_col = data.columns[0]\n",
    "    \n",
    "    #county names will be reinserted later for the merger with IRS data\n",
    "    counties = data[county_col].tolist()\n",
    "    data_t = data.drop(county_col, axis=1).copy()\n",
    "    \n",
    "    # Transpose the dataframe so that our columns are the county vote totals and candidates are rows\n",
    "    # This is done to aid the transformation and grouping of candidates by party\n",
    "    data_t=data_t.transpose()\n",
    "    cand_list = list(data_t.index)\n",
    "    \n",
    "    # Render candidate names in lowercase to match FEC data\n",
    "    cand_list = [i.lower() for i in cand_list]\n",
    "    data_t.index = cand_list\n",
    "    \n",
    "    # Merge FEC data, associating each candidate with their party and incumbancy\n",
    "    data_t = pd.merge(data_t, fec_data, left_index=True, right_on='CANDIDATE NAME(f)').reset_index(drop=True)\n",
    "    \n",
    "    # return dataframe of candidates and list of counties\n",
    "    return data_t, counties"
   ]
  },
  {
   "cell_type": "code",
   "execution_count": null,
   "id": "62e26d63-cb53-4ced-978b-54e9d629ca2a",
   "metadata": {
    "tags": []
   },
   "outputs": [],
   "source": [
    "county_names = il_12_cong.columns[0]\n",
    "data_t = il_12_cong.drop(county_names, axis=1)\n",
    "data_t=data_t.transpose()"
   ]
  },
  {
   "cell_type": "code",
   "execution_count": null,
   "id": "111ea2f6-2160-4941-b2d3-745ae313c36b",
   "metadata": {
    "tags": []
   },
   "outputs": [],
   "source": [
    "fec_2012 = pd.read_csv(r'data\\FEC\\candidates_2012.csv', index_col=0)\n",
    "fec_2014 = pd.read_csv(r'data\\FEC\\candidates_2014.csv', index_col=0)\n",
    "fec_2016 = pd.read_csv(r'data\\FEC\\candidates_2016.csv', index_col=0)\n",
    "fec_2018 = pd.read_csv(r'data\\FEC\\candidates_2018.csv', index_col=0)\n",
    "fec_2020 = pd.read_csv(r'data\\FEC\\candidates_2020.csv', index_col=0)\n",
    "\n",
    "#Note - We only want FEC data from the State being read - this is to avoid complications from having candidates with the same name running in house races in other States. \n",
    "### A more robust solution should be found in the future\n",
    "fec_2012 = fec_2012.loc[fec_2012['STATE ABBREVIATION']=='IL']\n",
    "fec_2014 = fec_2014.loc[fec_2014['STATE ABBREVIATION']=='IL']\n",
    "fec_2016 = fec_2016.loc[fec_2016['STATE ABBREVIATION']=='IL']\n",
    "fec_2018 = fec_2018.loc[fec_2018['STATE ABBREVIATION']=='IL']\n",
    "fec_2020 = fec_2020.loc[fec_2020['STATE ABBREVIATION']=='IL']"
   ]
  },
  {
   "cell_type": "code",
   "execution_count": null,
   "id": "cfba5a1b-ef79-43e7-afc4-576dff7552b2",
   "metadata": {
    "tags": []
   },
   "outputs": [],
   "source": [
    "fec_il_2012 = fec_2012.loc[(fec_2012['STATE ABBREVIATION']=='IL')&(fec_2012['D']!='S')] #get only house races in IL"
   ]
  },
  {
   "cell_type": "code",
   "execution_count": null,
   "id": "445c26d5-8857-4f0a-9b4d-2c9399ce2770",
   "metadata": {
    "tags": []
   },
   "outputs": [],
   "source": [
    "il_2012,counties = state_join_FEC(il_12_cong, fec_2012)"
   ]
  },
  {
   "cell_type": "code",
   "execution_count": null,
   "id": "434f1a02-4ab6-481f-a16e-86fb73a76d45",
   "metadata": {
    "tags": []
   },
   "outputs": [],
   "source": [
    "test_t = state_trans(test,counties)"
   ]
  },
  {
   "cell_type": "code",
   "execution_count": null,
   "id": "2c043c04-2ef8-44fe-a231-535889330a7a",
   "metadata": {
    "tags": []
   },
   "outputs": [],
   "source": [
    "test_t"
   ]
  },
  {
   "cell_type": "code",
   "execution_count": null,
   "id": "2346b816-e46a-4765-b212-92764b1b2c26",
   "metadata": {
    "tags": []
   },
   "outputs": [],
   "source": [
    "data_t = pd.merge(data_t, fec_il_2012, left_index=True, right_on='CANDIDATE NAME(f)')"
   ]
  },
  {
   "cell_type": "code",
   "execution_count": null,
   "id": "f12743d8-053d-4fbe-94fa-5ed74ff81ae0",
   "metadata": {
    "tags": []
   },
   "outputs": [],
   "source": [
    "data_t"
   ]
  },
  {
   "cell_type": "code",
   "execution_count": null,
   "id": "f10238db-4d12-4c40-a5c4-f2cc90ac4b75",
   "metadata": {},
   "outputs": [],
   "source": [
    "for i, df in zip(il_list, il_df_list):\n",
    "    merged = format_il(df)\n",
    "    # filepath = f\"data/formatted_house_totals/{i}.csv\"\n",
    "    filename = f\"{i}.csv\"\n",
    "    merged.to_csv(filename,index=False)"
   ]
  }
 ],
 "metadata": {
  "kernelspec": {
   "display_name": "Python 3 (ipykernel)",
   "language": "python",
   "name": "python3"
  },
  "language_info": {
   "codemirror_mode": {
    "name": "ipython",
    "version": 3
   },
   "file_extension": ".py",
   "mimetype": "text/x-python",
   "name": "python",
   "nbconvert_exporter": "python",
   "pygments_lexer": "ipython3",
   "version": "3.11.5"
  }
 },
 "nbformat": 4,
 "nbformat_minor": 5
}
